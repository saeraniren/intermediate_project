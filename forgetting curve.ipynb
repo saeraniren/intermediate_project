{
 "cells": [
  {
   "cell_type": "code",
   "execution_count": 1,
   "metadata": {},
   "outputs": [],
   "source": [
    "# 필요한 라이브러리 생성란\n",
    "\n",
    "import json\n",
    "\n",
    "# 데이터 처리 라이브러리\n",
    "import numpy as np\n",
    "import pandas as pd\n",
    "import matplotlib.pyplot as plt\n",
    "import seaborn as sns\n",
    "\n",
    "# 머신러닝 라이브러리\n",
    "import scipy.optimize as opt\n",
    "from sklearn.linear_model import LinearRegression\n",
    "from sklearn.model_selection import train_test_split\n",
    "from sklearn.metrics import mean_squared_error\n",
    "\n",
    "# 데이터 불러오는 라이브러리\n",
    "from datasets import *"
   ]
  },
  {
   "cell_type": "markdown",
   "metadata": {},
   "source": [
    "# 에빙하우스의 망각 곡선을 이용한 회귀 분석"
   ]
  },
  {
   "cell_type": "markdown",
   "metadata": {},
   "source": [
    "[에빙하우스의 망각곡선 내용 바로가기](https://kangpro-safety.tistory.com/43)\n",
    "\n",
    "망각 곡선을 이용한 회귀분석을 진행하기 위해 다음과 같은 방식으로 진행하였다.\n",
    "\n",
    "망각 곡선의 간략식은 다음과 같다.<br/>\n",
    "\n",
    "$ R(t) = R_0e^{-kt} $\n",
    "- $R(t)$ : 시간 t초 후 기억 유지율\n",
    "- $R_0$ : 초기 기억수준\n",
    "- $k$ : 망각 속도 계수\n",
    "- $t$ : 시간"
   ]
  },
  {
   "cell_type": "markdown",
   "metadata": {},
   "source": [
    "---\n",
    "## 1. 시작하기 앞서"
   ]
  },
  {
   "cell_type": "markdown",
   "metadata": {},
   "source": [
    "위의 방정식을 이용하기 전 데이터 EDA를 통해서 알 수 있는 부분은 다음과 같다.\n",
    "- 각 유저 개인이 컨텐츠를 시작하고 완료하기 까지 걸린 시간\n",
    "- 각 유저 개인이 레슨을 시작하고 완료하기 까지 걸린 시간\n",
    "\n",
    "그리고 데이터EDA를 했음에도 알 수 없는 내용은 다음과 같았다.\n",
    "- 교육 플랫폼이 어떤 교육을 기반으로 운영하고 있는지"
   ]
  },
  {
   "cell_type": "markdown",
   "metadata": {},
   "source": [
    "---\n",
    "## 2. 망각 속도 계수 함수 정의"
   ]
  },
  {
   "cell_type": "markdown",
   "metadata": {},
   "source": [
    "에빙하우스의 망각 곡선 방정식에서 구할 수 있는 상수는 **망각 속도 계수** $k$로 지정하였다.<br/>\n",
    "다른 상수를 구할 수 없는 이유는 다음과 같다.\n",
    "- 초기 기억수준($R_0$)은 유저의 학습 후 테스트(시험)에 대한 데이터가 있어야 진행할 수 있는데 데이터가 존재하지 않아 사용할 수 없다.\n",
    "- 시간($t$)은 우리가 사용하고자 하는 총 걸린 시간을 이야기 하는 것이 아닌, 시간이 지남에 따른 연속적인 수치를 사용하므로, 값이 하나인 것에는 대응하기 어려울 수 있다고 생각한다."
   ]
  },
  {
   "cell_type": "code",
   "execution_count": 2,
   "metadata": {},
   "outputs": [],
   "source": [
    "# 망각 곡선 모델 정의\n",
    "def forgetting_curve(I, k0, alpha):\n",
    "    return k0 * np.exp(-alpha * I)"
   ]
  },
  {
   "cell_type": "markdown",
   "metadata": {},
   "source": [
    "망각 속도 계수를 구하는 방정식(모델)은 다음과 같이 정의할 수 있다.\n",
    "\n",
    "$k = k_0e^{-\\alpha I}$\n",
    "\n",
    "1. $k_0$ : **기본 망각 계수**\n",
    "    - 앞서 이야기한 교육 플랫폼이 어떤 교육을 기반으로 운영되고 있는지 데이터로 확인할 수 없었다.\n",
    "    - 각 컨텐츠 소비 시간 패턴인 학습 집중도 비율값인 $I$를 통해 해당 플랫폼이 어떤 교육을 기반으로 하는지 파악할 수 있다."
   ]
  },
  {
   "cell_type": "code",
   "execution_count": 3,
   "metadata": {},
   "outputs": [],
   "source": [
    "# 학습 집중도 비율\n",
    "def LCR(T_L,  T_C):\n",
    "    return T_L / T_C"
   ]
  },
  {
   "cell_type": "markdown",
   "metadata": {},
   "source": [
    "2. $I = \\frac {T_L} {T_C}$ : 학습 집중도 비율\n",
    "    - $I \\approx 1.0$ (거의 모든 시간을 레슨에 소비) → 집중 학습\n",
    "    - $I < 1.0$ (일부만 레슨 학습) → 실습 위주 학습 가능성\n",
    "        - $I \\approx 0.5$ (절반만 레슨 학습)\n",
    "        - $I \\approx 0.2$ (짧은 시간만 레슨 학습)\n",
    "    \n",
    "    이 값을 각 유저 개인마다 계산하여 다음과 같은 절차를 거친다.\n",
    "    1. K-means 으로 군집화를 통한 Clustering 적용\n",
    "    2. 클러스터를 분석하여 높은 $I$ 그룹이 실제 암기/개념 학습인지 검증<br/>\n",
    "        → 검증은 어떻게?\n",
    "\n",
    "        - 복습 빈도\n",
    "            - 암기/개념 이해 학습의 경우 짧은 간격으로 반복 학습하고, 같은 콘텐츠를 여러 번 조회\n",
    "            - 실습 학습의 경우 처음 학습 후 재방문이 적다. (즉 위의 말과 반대된다.)\n",
    "\n",
    "        - 콘텐츠 재방문 시간 간격\n",
    "            - Ebbinghaus 망각 곡선 이론에 따르면, 복습 패턴은 학습 유형과 관련이 있다.\n",
    "            - 복습이 빠르게 이루어지면 암기 가능성, 복습 없이 실습이 많다면 실습 가능성"
   ]
  },
  {
   "cell_type": "markdown",
   "metadata": {},
   "source": [
    "위의 내용을 통해 $k_0$값을 실제 데이터와 잘 맞게 하기 위해 다음과 같은 함수식을 사용하였다."
   ]
  },
  {
   "cell_type": "code",
   "execution_count": 4,
   "metadata": {},
   "outputs": [],
   "source": [
    "# 기본적인 망각 계수\n",
    "def k0_exponential(I):\n",
    "    return 0.3 - 0.2 * np.exp(-3 * I)"
   ]
  },
  {
   "cell_type": "markdown",
   "metadata": {},
   "source": [
    "3. $\\alpha$ : 학습 집중도에 따른 망각 속도 감소 계수<br/>\n",
    "    위의 학습 집중도 비율을 통해 Clustering한 군집들에 대해서 다음과 같은 값을 적용\n",
    "    - $I = 1.0$ → 3.0\n",
    "    - $I = 0$ → 1.5\n",
    "\n",
    "여기서 $\\alpha$값을 실제 학습 과정에서 $\\alpha$ 변화를 현실적인 패턴을  반영하기 위해 다음과 같은 함수식을 작성하였다."
   ]
  },
  {
   "cell_type": "code",
   "execution_count": 5,
   "metadata": {},
   "outputs": [],
   "source": [
    "# 학습 집중도에 따른 망각 속도 감소 계수\n",
    "def alpha_exponential(number):\n",
    "    return 3.0 - 1.5 * np.exp(-3 * number)"
   ]
  },
  {
   "cell_type": "markdown",
   "metadata": {},
   "source": [
    "---\n",
    "## 3. 데이터 전처리 및 데이터 준비"
   ]
  },
  {
   "cell_type": "code",
   "execution_count": 15,
   "metadata": {},
   "outputs": [
    {
     "name": "stderr",
     "output_type": "stream",
     "text": [
      "C:\\Users\\lento\\AppData\\Local\\Temp\\ipykernel_14660\\640150351.py:2: DtypeWarning: Columns (19) have mixed types. Specify dtype option on import or set low_memory=False.\n",
      "  df = pd.read_csv('./lwc_encoder/merged_encoded_data.csv')\n"
     ]
    }
   ],
   "source": [
    "# 인코딩된 데이터 불러오기 \n",
    "df = pd.read_csv('./lwc_encoder/merged_encoded_data.csv')\n",
    "\n",
    "# 디코딩을 위한 데이터 불러오기\n",
    "with open('./lwc_encoder/encoding_map.json', 'r') as f:\n",
    "    json_data = json.load(f)"
   ]
  },
  {
   "cell_type": "code",
   "execution_count": 16,
   "metadata": {},
   "outputs": [
    {
     "data": {
      "text/plain": [
       "Index(['os_name', 'language', 'client_event_time', 'country', 'device_family',\n",
       "       'user_id', 'event_type', 'city', 'content.id', 'button.name',\n",
       "       'button_name', 'lesson.id', 'question.id', 'type',\n",
       "       'coupon.discount_amount', 'pg.type', 'paid_amount', 'plan.price',\n",
       "       'is_free_trial', 'is_trial', 'content.difficulty', 'trial.type',\n",
       "       'plan.type'],\n",
       "      dtype='object')"
      ]
     },
     "execution_count": 16,
     "metadata": {},
     "output_type": "execute_result"
    }
   ],
   "source": [
    "# 회귀분석에 필요한 컬럼을 불러오기 위한 컬럼 이름 확인\n",
    "df.columns"
   ]
  },
  {
   "cell_type": "code",
   "execution_count": 17,
   "metadata": {},
   "outputs": [],
   "source": [
    "# 필요한 컬럼만 따로 불러오기\n",
    "df = df[['user_id', 'event_type', 'content.id', 'content.difficulty', 'lesson.id', 'client_event_time']]"
   ]
  },
  {
   "cell_type": "code",
   "execution_count": 18,
   "metadata": {},
   "outputs": [
    {
     "data": {
      "text/plain": [
       "33360653"
      ]
     },
     "execution_count": 18,
     "metadata": {},
     "output_type": "execute_result"
    }
   ],
   "source": [
    "# 전체 데이터 크기 확인\n",
    "df.shape[0]"
   ]
  },
  {
   "cell_type": "code",
   "execution_count": 19,
   "metadata": {},
   "outputs": [
    {
     "data": {
      "text/plain": [
       "user_id                 596829\n",
       "event_type                   0\n",
       "content.id             3120112\n",
       "content.difficulty    33235736\n",
       "lesson.id              5546741\n",
       "client_event_time            0\n",
       "dtype: int64"
      ]
     },
     "execution_count": 19,
     "metadata": {},
     "output_type": "execute_result"
    }
   ],
   "source": [
    "# 결측치 확인\n",
    "df.isnull().sum()"
   ]
  },
  {
   "cell_type": "code",
   "execution_count": 20,
   "metadata": {},
   "outputs": [],
   "source": [
    "# content.difficulty는 각 content.id에 맞는 값을 할당\n",
    "\n",
    "# 결측값이 있는 행만 업데이트\n",
    "mask = df['content.difficulty'].isna()\n",
    "df.loc[mask, 'content.difficulty'] = df.groupby('content.id')['content.difficulty'].transform(lambda x: x.ffill().bfill())[mask]"
   ]
  },
  {
   "cell_type": "code",
   "execution_count": 21,
   "metadata": {},
   "outputs": [
    {
     "data": {
      "text/plain": [
       "user_id                596829\n",
       "event_type                  0\n",
       "content.id            3120112\n",
       "content.difficulty    5938440\n",
       "lesson.id             5546741\n",
       "client_event_time           0\n",
       "dtype: int64"
      ]
     },
     "execution_count": 21,
     "metadata": {},
     "output_type": "execute_result"
    }
   ],
   "source": [
    "# 결측치 확인\n",
    "df.isnull().sum()"
   ]
  },
  {
   "cell_type": "markdown",
   "metadata": {},
   "source": [
    "결측치 추측은 다음과 같다.\n",
    "- user_id : 아이디가 없는 회원 (비회원)\n",
    "- content.id : content.id가 존재하지 않음\n",
    "- content.difficulty : content.id 내 난이도 내역이 존재하지 않음\n",
    "- lesson.id : lesson.id가 존재하지 않음"
   ]
  },
  {
   "cell_type": "code",
   "execution_count": null,
   "metadata": {},
   "outputs": [],
   "source": [
    "# 결측치가 존재하는 부분을 dropna 처리\n",
    "df = df.dropna(subset=['user_id'])"
   ]
  },
  {
   "cell_type": "code",
   "execution_count": 24,
   "metadata": {},
   "outputs": [
    {
     "data": {
      "text/plain": [
       "user_id               0\n",
       "event_type            0\n",
       "content.id            0\n",
       "content.difficulty    0\n",
       "lesson.id             0\n",
       "client_event_time     0\n",
       "dtype: int64"
      ]
     },
     "execution_count": 24,
     "metadata": {},
     "output_type": "execute_result"
    }
   ],
   "source": [
    "# 결측치 확인\n",
    "df.isnull().sum()"
   ]
  },
  {
   "cell_type": "code",
   "execution_count": 25,
   "metadata": {},
   "outputs": [
    {
     "data": {
      "text/plain": [
       "25681491"
      ]
     },
     "execution_count": 25,
     "metadata": {},
     "output_type": "execute_result"
    }
   ],
   "source": [
    "# 전체 데이터 크기 확인\n",
    "df.shape[0]"
   ]
  },
  {
   "cell_type": "code",
   "execution_count": 28,
   "metadata": {},
   "outputs": [
    {
     "data": {
      "text/html": [
       "<div>\n",
       "<style scoped>\n",
       "    .dataframe tbody tr th:only-of-type {\n",
       "        vertical-align: middle;\n",
       "    }\n",
       "\n",
       "    .dataframe tbody tr th {\n",
       "        vertical-align: top;\n",
       "    }\n",
       "\n",
       "    .dataframe thead th {\n",
       "        text-align: right;\n",
       "    }\n",
       "</style>\n",
       "<table border=\"1\" class=\"dataframe\">\n",
       "  <thead>\n",
       "    <tr style=\"text-align: right;\">\n",
       "      <th></th>\n",
       "      <th>content.difficulty</th>\n",
       "    </tr>\n",
       "  </thead>\n",
       "  <tbody>\n",
       "    <tr>\n",
       "      <th>count</th>\n",
       "      <td>2.568149e+07</td>\n",
       "    </tr>\n",
       "    <tr>\n",
       "      <th>mean</th>\n",
       "      <td>1.493191e+00</td>\n",
       "    </tr>\n",
       "    <tr>\n",
       "      <th>std</th>\n",
       "      <td>1.377789e+00</td>\n",
       "    </tr>\n",
       "    <tr>\n",
       "      <th>min</th>\n",
       "      <td>0.000000e+00</td>\n",
       "    </tr>\n",
       "    <tr>\n",
       "      <th>25%</th>\n",
       "      <td>0.000000e+00</td>\n",
       "    </tr>\n",
       "    <tr>\n",
       "      <th>50%</th>\n",
       "      <td>1.000000e+00</td>\n",
       "    </tr>\n",
       "    <tr>\n",
       "      <th>75%</th>\n",
       "      <td>3.000000e+00</td>\n",
       "    </tr>\n",
       "    <tr>\n",
       "      <th>max</th>\n",
       "      <td>3.000000e+00</td>\n",
       "    </tr>\n",
       "  </tbody>\n",
       "</table>\n",
       "</div>"
      ],
      "text/plain": [
       "       content.difficulty\n",
       "count        2.568149e+07\n",
       "mean         1.493191e+00\n",
       "std          1.377789e+00\n",
       "min          0.000000e+00\n",
       "25%          0.000000e+00\n",
       "50%          1.000000e+00\n",
       "75%          3.000000e+00\n",
       "max          3.000000e+00"
      ]
     },
     "execution_count": 28,
     "metadata": {},
     "output_type": "execute_result"
    }
   ],
   "source": [
    "# 난이도 데이터 분포 확인\n",
    "# 난이도를 제외한 데이터는 명목형 데이터에 속함\n",
    "# user_id, content.id, lesson.id, event_type - 명목형\n",
    "# content.difficulty - 순서형\n",
    "# 순서형의 분포가 어떻게 되어있는지 확인하기 위함\n",
    "df[['content.difficulty']].describe()"
   ]
  },
  {
   "cell_type": "code",
   "execution_count": 30,
   "metadata": {},
   "outputs": [],
   "source": [
    "# 시간 계산을 위한 데이터 타입 변경\n",
    "df['client_event_time'] = pd.to_datetime(df['client_event_time'])"
   ]
  },
  {
   "cell_type": "code",
   "execution_count": 29,
   "metadata": {},
   "outputs": [],
   "source": [
    "# event_type 중 다음 항목이 없으면 삭제\n",
    "# start.content, enter.lesson_page, complete.lesson, end.content\n",
    "\n",
    "event_list = [json_data['event_type']['start.content'],\n",
    "              json_data['event_type']['end.content'],\n",
    "              json_data['event_type']['enter.lesson_page'],\n",
    "              json_data['event_type']['complete.lesson']]\n",
    "\n",
    "df = df[df['event_type'].isin(event_list)]"
   ]
  },
  {
   "cell_type": "code",
   "execution_count": 31,
   "metadata": {},
   "outputs": [
    {
     "data": {
      "text/html": [
       "<div>\n",
       "<style scoped>\n",
       "    .dataframe tbody tr th:only-of-type {\n",
       "        vertical-align: middle;\n",
       "    }\n",
       "\n",
       "    .dataframe tbody tr th {\n",
       "        vertical-align: top;\n",
       "    }\n",
       "\n",
       "    .dataframe thead th {\n",
       "        text-align: right;\n",
       "    }\n",
       "</style>\n",
       "<table border=\"1\" class=\"dataframe\">\n",
       "  <thead>\n",
       "    <tr style=\"text-align: right;\">\n",
       "      <th></th>\n",
       "      <th>user_id</th>\n",
       "      <th>event_type</th>\n",
       "      <th>content.id</th>\n",
       "      <th>content.difficulty</th>\n",
       "      <th>lesson.id</th>\n",
       "      <th>client_event_time</th>\n",
       "    </tr>\n",
       "  </thead>\n",
       "  <tbody>\n",
       "    <tr>\n",
       "      <th>1663904</th>\n",
       "      <td>31951.0</td>\n",
       "      <td>4</td>\n",
       "      <td>96.0</td>\n",
       "      <td>1.0</td>\n",
       "      <td>3533.0</td>\n",
       "      <td>2023-04-05 21:55:51.836</td>\n",
       "    </tr>\n",
       "    <tr>\n",
       "      <th>1663905</th>\n",
       "      <td>14554.0</td>\n",
       "      <td>4</td>\n",
       "      <td>40.0</td>\n",
       "      <td>0.0</td>\n",
       "      <td>2095.0</td>\n",
       "      <td>2023-04-05 21:19:01.243</td>\n",
       "    </tr>\n",
       "    <tr>\n",
       "      <th>1663906</th>\n",
       "      <td>14554.0</td>\n",
       "      <td>4</td>\n",
       "      <td>40.0</td>\n",
       "      <td>0.0</td>\n",
       "      <td>3509.0</td>\n",
       "      <td>2023-04-05 21:20:27.939</td>\n",
       "    </tr>\n",
       "    <tr>\n",
       "      <th>1663907</th>\n",
       "      <td>14554.0</td>\n",
       "      <td>4</td>\n",
       "      <td>40.0</td>\n",
       "      <td>0.0</td>\n",
       "      <td>4069.0</td>\n",
       "      <td>2023-04-05 21:23:01.534</td>\n",
       "    </tr>\n",
       "    <tr>\n",
       "      <th>1663908</th>\n",
       "      <td>14554.0</td>\n",
       "      <td>4</td>\n",
       "      <td>40.0</td>\n",
       "      <td>0.0</td>\n",
       "      <td>3438.0</td>\n",
       "      <td>2023-04-05 21:28:34.965</td>\n",
       "    </tr>\n",
       "    <tr>\n",
       "      <th>...</th>\n",
       "      <td>...</td>\n",
       "      <td>...</td>\n",
       "      <td>...</td>\n",
       "      <td>...</td>\n",
       "      <td>...</td>\n",
       "      <td>...</td>\n",
       "    </tr>\n",
       "    <tr>\n",
       "      <th>30292936</th>\n",
       "      <td>173526.0</td>\n",
       "      <td>9</td>\n",
       "      <td>158.0</td>\n",
       "      <td>0.0</td>\n",
       "      <td>1822.0</td>\n",
       "      <td>2023-10-10 05:18:14.053</td>\n",
       "    </tr>\n",
       "    <tr>\n",
       "      <th>30292937</th>\n",
       "      <td>173526.0</td>\n",
       "      <td>9</td>\n",
       "      <td>158.0</td>\n",
       "      <td>0.0</td>\n",
       "      <td>2845.0</td>\n",
       "      <td>2023-10-10 05:18:58.648</td>\n",
       "    </tr>\n",
       "    <tr>\n",
       "      <th>30292938</th>\n",
       "      <td>127564.0</td>\n",
       "      <td>9</td>\n",
       "      <td>200.0</td>\n",
       "      <td>1.0</td>\n",
       "      <td>2073.0</td>\n",
       "      <td>2023-10-10 05:17:45.578</td>\n",
       "    </tr>\n",
       "    <tr>\n",
       "      <th>30292939</th>\n",
       "      <td>127564.0</td>\n",
       "      <td>9</td>\n",
       "      <td>200.0</td>\n",
       "      <td>1.0</td>\n",
       "      <td>3778.0</td>\n",
       "      <td>2023-10-10 05:18:05.629</td>\n",
       "    </tr>\n",
       "    <tr>\n",
       "      <th>30292940</th>\n",
       "      <td>45209.0</td>\n",
       "      <td>9</td>\n",
       "      <td>167.0</td>\n",
       "      <td>1.0</td>\n",
       "      <td>4964.0</td>\n",
       "      <td>2023-10-10 05:50:48.275</td>\n",
       "    </tr>\n",
       "  </tbody>\n",
       "</table>\n",
       "<p>24694480 rows × 6 columns</p>\n",
       "</div>"
      ],
      "text/plain": [
       "           user_id  event_type  content.id  content.difficulty  lesson.id  \\\n",
       "1663904    31951.0           4        96.0                 1.0     3533.0   \n",
       "1663905    14554.0           4        40.0                 0.0     2095.0   \n",
       "1663906    14554.0           4        40.0                 0.0     3509.0   \n",
       "1663907    14554.0           4        40.0                 0.0     4069.0   \n",
       "1663908    14554.0           4        40.0                 0.0     3438.0   \n",
       "...            ...         ...         ...                 ...        ...   \n",
       "30292936  173526.0           9       158.0                 0.0     1822.0   \n",
       "30292937  173526.0           9       158.0                 0.0     2845.0   \n",
       "30292938  127564.0           9       200.0                 1.0     2073.0   \n",
       "30292939  127564.0           9       200.0                 1.0     3778.0   \n",
       "30292940   45209.0           9       167.0                 1.0     4964.0   \n",
       "\n",
       "               client_event_time  \n",
       "1663904  2023-04-05 21:55:51.836  \n",
       "1663905  2023-04-05 21:19:01.243  \n",
       "1663906  2023-04-05 21:20:27.939  \n",
       "1663907  2023-04-05 21:23:01.534  \n",
       "1663908  2023-04-05 21:28:34.965  \n",
       "...                          ...  \n",
       "30292936 2023-10-10 05:18:14.053  \n",
       "30292937 2023-10-10 05:18:58.648  \n",
       "30292938 2023-10-10 05:17:45.578  \n",
       "30292939 2023-10-10 05:18:05.629  \n",
       "30292940 2023-10-10 05:50:48.275  \n",
       "\n",
       "[24694480 rows x 6 columns]"
      ]
     },
     "execution_count": 31,
     "metadata": {},
     "output_type": "execute_result"
    }
   ],
   "source": [
    "df"
   ]
  },
  {
   "cell_type": "code",
   "execution_count": null,
   "metadata": {},
   "outputs": [],
   "source": []
  },
  {
   "cell_type": "code",
   "execution_count": null,
   "metadata": {},
   "outputs": [],
   "source": []
  },
  {
   "cell_type": "code",
   "execution_count": null,
   "metadata": {},
   "outputs": [],
   "source": []
  },
  {
   "cell_type": "code",
   "execution_count": null,
   "metadata": {},
   "outputs": [],
   "source": []
  },
  {
   "cell_type": "code",
   "execution_count": null,
   "metadata": {},
   "outputs": [],
   "source": []
  },
  {
   "cell_type": "code",
   "execution_count": null,
   "metadata": {},
   "outputs": [],
   "source": []
  },
  {
   "cell_type": "code",
   "execution_count": null,
   "metadata": {},
   "outputs": [],
   "source": []
  },
  {
   "cell_type": "code",
   "execution_count": null,
   "metadata": {},
   "outputs": [],
   "source": []
  }
 ],
 "metadata": {
  "kernelspec": {
   "display_name": "Python 3",
   "language": "python",
   "name": "python3"
  },
  "language_info": {
   "codemirror_mode": {
    "name": "ipython",
    "version": 3
   },
   "file_extension": ".py",
   "mimetype": "text/x-python",
   "name": "python",
   "nbconvert_exporter": "python",
   "pygments_lexer": "ipython3",
   "version": "3.12.4"
  }
 },
 "nbformat": 4,
 "nbformat_minor": 2
}
