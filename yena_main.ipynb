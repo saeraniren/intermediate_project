{
 "cells": [
  {
   "cell_type": "code",
   "execution_count": 1,
   "metadata": {},
   "outputs": [],
   "source": [
    "import matplotlib.pyplot as plt\n",
    "import seaborn as sns\n",
    "import koreanize_matplotlib\n",
    "import pandas as pd\n",
    "import datetime\n",
    "import numpy as np\n",
    "import datasets"
   ]
  },
  {
   "cell_type": "code",
   "execution_count": 2,
   "metadata": {},
   "outputs": [],
   "source": [
    "main_page = datasets.enter.main_page()\n",
    "signup_page = datasets.enter.signup_page()\n",
    "complete_signup = datasets.complete.signup()"
   ]
  },
  {
   "cell_type": "markdown",
   "metadata": {},
   "source": [
    "- 시간대 설정             \n",
    " UTC 기준이므로 +9시간"
   ]
  },
  {
   "cell_type": "code",
   "execution_count": 3,
   "metadata": {},
   "outputs": [],
   "source": [
    "dataframes = [signup_page, complete_signup, main_page]\n",
    "dataframes = [df.assign(client_event_time=pd.to_datetime(df['client_event_time']) + datetime.timedelta(hours=9)) for df in dataframes]\n",
    "\n",
    "# 개별 데이터프레임 다시 할당\n",
    "signup_page, complete_signup, main_page = dataframes"
   ]
  },
  {
   "cell_type": "code",
   "execution_count": null,
   "metadata": {},
   "outputs": [],
   "source": []
  },
  {
   "cell_type": "markdown",
   "metadata": {},
   "source": [
    "# 2. enter.signup_page\n",
    "- 회원 가입 페이지 진입 "
   ]
  },
  {
   "cell_type": "code",
   "execution_count": 4,
   "metadata": {},
   "outputs": [
    {
     "data": {
      "text/html": [
       "<div>\n",
       "<style scoped>\n",
       "    .dataframe tbody tr th:only-of-type {\n",
       "        vertical-align: middle;\n",
       "    }\n",
       "\n",
       "    .dataframe tbody tr th {\n",
       "        vertical-align: top;\n",
       "    }\n",
       "\n",
       "    .dataframe thead th {\n",
       "        text-align: right;\n",
       "    }\n",
       "</style>\n",
       "<table border=\"1\" class=\"dataframe\">\n",
       "  <thead>\n",
       "    <tr style=\"text-align: right;\">\n",
       "      <th></th>\n",
       "      <th>city</th>\n",
       "      <th>client_event_time</th>\n",
       "      <th>country</th>\n",
       "      <th>device_carrier</th>\n",
       "      <th>device_family</th>\n",
       "      <th>device_type</th>\n",
       "      <th>event_type</th>\n",
       "      <th>language</th>\n",
       "      <th>os_name</th>\n",
       "      <th>os_version</th>\n",
       "      <th>platform</th>\n",
       "      <th>user_id</th>\n",
       "    </tr>\n",
       "  </thead>\n",
       "  <tbody>\n",
       "    <tr>\n",
       "      <th>0</th>\n",
       "      <td>Seoul</td>\n",
       "      <td>2023-04-06 06:30:42.557</td>\n",
       "      <td>South Korea</td>\n",
       "      <td>NaN</td>\n",
       "      <td>Samsung Phone</td>\n",
       "      <td>Samsung Galaxy A51 5G</td>\n",
       "      <td>enter.signup_page</td>\n",
       "      <td>Korean</td>\n",
       "      <td>Chrome</td>\n",
       "      <td>112.0.0.0</td>\n",
       "      <td>Web</td>\n",
       "      <td>NaN</td>\n",
       "    </tr>\n",
       "    <tr>\n",
       "      <th>1</th>\n",
       "      <td>Seoul</td>\n",
       "      <td>2023-04-06 06:37:41.467</td>\n",
       "      <td>South Korea</td>\n",
       "      <td>NaN</td>\n",
       "      <td>Samsung SM-S916N</td>\n",
       "      <td>NaN</td>\n",
       "      <td>enter.signup_page</td>\n",
       "      <td>Korean</td>\n",
       "      <td>Chrome</td>\n",
       "      <td>111.0.0.0</td>\n",
       "      <td>Web</td>\n",
       "      <td>NaN</td>\n",
       "    </tr>\n",
       "    <tr>\n",
       "      <th>2</th>\n",
       "      <td>Seoul</td>\n",
       "      <td>2023-04-06 06:05:53.237</td>\n",
       "      <td>South Korea</td>\n",
       "      <td>NaN</td>\n",
       "      <td>Apple iPhone</td>\n",
       "      <td>Apple iPhone</td>\n",
       "      <td>enter.signup_page</td>\n",
       "      <td>Korean</td>\n",
       "      <td>Mobile Safari</td>\n",
       "      <td>16.4</td>\n",
       "      <td>Web</td>\n",
       "      <td>NaN</td>\n",
       "    </tr>\n",
       "    <tr>\n",
       "      <th>3</th>\n",
       "      <td>Gangnam-gu</td>\n",
       "      <td>2023-04-06 06:41:58.269</td>\n",
       "      <td>South Korea</td>\n",
       "      <td>NaN</td>\n",
       "      <td>Mac</td>\n",
       "      <td>Mac</td>\n",
       "      <td>enter.signup_page</td>\n",
       "      <td>Korean</td>\n",
       "      <td>Safari</td>\n",
       "      <td>16.3</td>\n",
       "      <td>Web</td>\n",
       "      <td>NaN</td>\n",
       "    </tr>\n",
       "    <tr>\n",
       "      <th>4</th>\n",
       "      <td>Seoul</td>\n",
       "      <td>2023-04-06 06:44:53.294</td>\n",
       "      <td>South Korea</td>\n",
       "      <td>NaN</td>\n",
       "      <td>Mac</td>\n",
       "      <td>Mac</td>\n",
       "      <td>enter.signup_page</td>\n",
       "      <td>Korean</td>\n",
       "      <td>Safari</td>\n",
       "      <td>15.6.1</td>\n",
       "      <td>Web</td>\n",
       "      <td>NaN</td>\n",
       "    </tr>\n",
       "    <tr>\n",
       "      <th>...</th>\n",
       "      <td>...</td>\n",
       "      <td>...</td>\n",
       "      <td>...</td>\n",
       "      <td>...</td>\n",
       "      <td>...</td>\n",
       "      <td>...</td>\n",
       "      <td>...</td>\n",
       "      <td>...</td>\n",
       "      <td>...</td>\n",
       "      <td>...</td>\n",
       "      <td>...</td>\n",
       "      <td>...</td>\n",
       "    </tr>\n",
       "    <tr>\n",
       "      <th>596824</th>\n",
       "      <td>Dalseo-gu</td>\n",
       "      <td>2023-10-10 14:32:53.865</td>\n",
       "      <td>South Korea</td>\n",
       "      <td>NaN</td>\n",
       "      <td>Windows</td>\n",
       "      <td>Windows</td>\n",
       "      <td>enter.signup_page</td>\n",
       "      <td>Korean</td>\n",
       "      <td>Edge</td>\n",
       "      <td>114.0.1823.51</td>\n",
       "      <td>Web</td>\n",
       "      <td>NaN</td>\n",
       "    </tr>\n",
       "    <tr>\n",
       "      <th>596825</th>\n",
       "      <td>Hanam</td>\n",
       "      <td>2023-10-10 14:33:14.433</td>\n",
       "      <td>South Korea</td>\n",
       "      <td>NaN</td>\n",
       "      <td>Windows</td>\n",
       "      <td>Windows</td>\n",
       "      <td>enter.signup_page</td>\n",
       "      <td>Korean</td>\n",
       "      <td>Chrome</td>\n",
       "      <td>116.0.0.0</td>\n",
       "      <td>Web</td>\n",
       "      <td>NaN</td>\n",
       "    </tr>\n",
       "    <tr>\n",
       "      <th>596826</th>\n",
       "      <td>Seoul</td>\n",
       "      <td>2023-10-10 14:49:45.856</td>\n",
       "      <td>South Korea</td>\n",
       "      <td>NaN</td>\n",
       "      <td>Windows</td>\n",
       "      <td>Windows</td>\n",
       "      <td>enter.signup_page</td>\n",
       "      <td>Korean</td>\n",
       "      <td>Edge</td>\n",
       "      <td>117.0.2045.47</td>\n",
       "      <td>Web</td>\n",
       "      <td>NaN</td>\n",
       "    </tr>\n",
       "    <tr>\n",
       "      <th>596827</th>\n",
       "      <td>Dongjak-gu</td>\n",
       "      <td>2023-10-10 14:57:02.640</td>\n",
       "      <td>South Korea</td>\n",
       "      <td>NaN</td>\n",
       "      <td>Windows</td>\n",
       "      <td>Windows</td>\n",
       "      <td>enter.signup_page</td>\n",
       "      <td>Korean</td>\n",
       "      <td>Edge</td>\n",
       "      <td>117.0.2045.60</td>\n",
       "      <td>Web</td>\n",
       "      <td>NaN</td>\n",
       "    </tr>\n",
       "    <tr>\n",
       "      <th>596828</th>\n",
       "      <td>Seoul</td>\n",
       "      <td>2023-10-10 14:54:18.285</td>\n",
       "      <td>South Korea</td>\n",
       "      <td>NaN</td>\n",
       "      <td>Apple iPhone</td>\n",
       "      <td>Apple iPhone</td>\n",
       "      <td>enter.signup_page</td>\n",
       "      <td>Korean</td>\n",
       "      <td>Mobile Safari</td>\n",
       "      <td>17.0.1</td>\n",
       "      <td>Web</td>\n",
       "      <td>NaN</td>\n",
       "    </tr>\n",
       "  </tbody>\n",
       "</table>\n",
       "<p>596829 rows × 12 columns</p>\n",
       "</div>"
      ],
      "text/plain": [
       "              city       client_event_time      country  device_carrier  \\\n",
       "0            Seoul 2023-04-06 06:30:42.557  South Korea             NaN   \n",
       "1            Seoul 2023-04-06 06:37:41.467  South Korea             NaN   \n",
       "2            Seoul 2023-04-06 06:05:53.237  South Korea             NaN   \n",
       "3       Gangnam-gu 2023-04-06 06:41:58.269  South Korea             NaN   \n",
       "4            Seoul 2023-04-06 06:44:53.294  South Korea             NaN   \n",
       "...            ...                     ...          ...             ...   \n",
       "596824   Dalseo-gu 2023-10-10 14:32:53.865  South Korea             NaN   \n",
       "596825       Hanam 2023-10-10 14:33:14.433  South Korea             NaN   \n",
       "596826       Seoul 2023-10-10 14:49:45.856  South Korea             NaN   \n",
       "596827  Dongjak-gu 2023-10-10 14:57:02.640  South Korea             NaN   \n",
       "596828       Seoul 2023-10-10 14:54:18.285  South Korea             NaN   \n",
       "\n",
       "           device_family            device_type         event_type language  \\\n",
       "0          Samsung Phone  Samsung Galaxy A51 5G  enter.signup_page   Korean   \n",
       "1       Samsung SM-S916N                    NaN  enter.signup_page   Korean   \n",
       "2           Apple iPhone           Apple iPhone  enter.signup_page   Korean   \n",
       "3                    Mac                    Mac  enter.signup_page   Korean   \n",
       "4                    Mac                    Mac  enter.signup_page   Korean   \n",
       "...                  ...                    ...                ...      ...   \n",
       "596824           Windows                Windows  enter.signup_page   Korean   \n",
       "596825           Windows                Windows  enter.signup_page   Korean   \n",
       "596826           Windows                Windows  enter.signup_page   Korean   \n",
       "596827           Windows                Windows  enter.signup_page   Korean   \n",
       "596828      Apple iPhone           Apple iPhone  enter.signup_page   Korean   \n",
       "\n",
       "              os_name     os_version platform  user_id  \n",
       "0              Chrome      112.0.0.0      Web      NaN  \n",
       "1              Chrome      111.0.0.0      Web      NaN  \n",
       "2       Mobile Safari           16.4      Web      NaN  \n",
       "3              Safari           16.3      Web      NaN  \n",
       "4              Safari         15.6.1      Web      NaN  \n",
       "...               ...            ...      ...      ...  \n",
       "596824           Edge  114.0.1823.51      Web      NaN  \n",
       "596825         Chrome      116.0.0.0      Web      NaN  \n",
       "596826           Edge  117.0.2045.47      Web      NaN  \n",
       "596827           Edge  117.0.2045.60      Web      NaN  \n",
       "596828  Mobile Safari         17.0.1      Web      NaN  \n",
       "\n",
       "[596829 rows x 12 columns]"
      ]
     },
     "execution_count": 4,
     "metadata": {},
     "output_type": "execute_result"
    }
   ],
   "source": [
    "signup_page"
   ]
  },
  {
   "cell_type": "code",
   "execution_count": 5,
   "metadata": {},
   "outputs": [
    {
     "name": "stdout",
     "output_type": "stream",
     "text": [
      "<class 'pandas.core.frame.DataFrame'>\n",
      "RangeIndex: 596829 entries, 0 to 596828\n",
      "Data columns (total 12 columns):\n",
      " #   Column             Non-Null Count   Dtype         \n",
      "---  ------             --------------   -----         \n",
      " 0   city               581024 non-null  object        \n",
      " 1   client_event_time  596829 non-null  datetime64[ns]\n",
      " 2   country            596315 non-null  object        \n",
      " 3   device_carrier     0 non-null       float64       \n",
      " 4   device_family      596747 non-null  object        \n",
      " 5   device_type        567387 non-null  object        \n",
      " 6   event_type         596829 non-null  object        \n",
      " 7   language           596829 non-null  object        \n",
      " 8   os_name            596754 non-null  object        \n",
      " 9   os_version         594650 non-null  object        \n",
      " 10  platform           596829 non-null  object        \n",
      " 11  user_id            0 non-null       float64       \n",
      "dtypes: datetime64[ns](1), float64(2), object(9)\n",
      "memory usage: 54.6+ MB\n"
     ]
    }
   ],
   "source": [
    "signup_page.info()"
   ]
  },
  {
   "cell_type": "code",
   "execution_count": 6,
   "metadata": {},
   "outputs": [
    {
     "data": {
      "text/plain": [
       "city                  15805\n",
       "client_event_time         0\n",
       "country                 514\n",
       "device_carrier       596829\n",
       "device_family            82\n",
       "device_type           29442\n",
       "event_type                0\n",
       "language                  0\n",
       "os_name                  75\n",
       "os_version             2179\n",
       "platform                  0\n",
       "user_id              596829\n",
       "dtype: int64"
      ]
     },
     "execution_count": 6,
     "metadata": {},
     "output_type": "execute_result"
    }
   ],
   "source": [
    "signup_page.isnull().sum()"
   ]
  },
  {
   "cell_type": "code",
   "execution_count": null,
   "metadata": {},
   "outputs": [
    {
     "data": {
      "text/plain": [
       "city                   2471\n",
       "client_event_time    596728\n",
       "country                 180\n",
       "device_carrier            0\n",
       "device_family           849\n",
       "device_type             552\n",
       "event_type                1\n",
       "language                 59\n",
       "os_name                  34\n",
       "os_version             1995\n",
       "platform                  1\n",
       "user_id                   0\n",
       "dtype: int64"
      ]
     },
     "execution_count": 7,
     "metadata": {},
     "output_type": "execute_result"
    }
   ],
   "source": [
    "signup_page.nunique() "
   ]
  },
  {
   "cell_type": "markdown",
   "metadata": {},
   "source": [
    "- client_event_time : 596728 -> 회원가입 페이지 방문 수는 총 596728번 있었던 것으로 확인됨\n",
    "- 전체 행 대비 client_event_time 유니크 값을 비교했을 때, 동일한 시점에 방문한 경우가 101건 있는 것으로 확인됨\n",
    "- user_id가 전부 null값 -> 회원 가입을 안 했으므로 null값 처리가 된듯함"
   ]
  },
  {
   "cell_type": "code",
   "execution_count": 44,
   "metadata": {},
   "outputs": [
    {
     "name": "stdout",
     "output_type": "stream",
     "text": [
      "2022-01-18 13:11:29.644    3\n",
      "2022-01-18 13:12:06.995    3\n",
      "2023-11-11 01:30:30.962    2\n",
      "2022-06-11 20:08:33.130    2\n",
      "2022-03-04 20:19:42.119    2\n",
      "2023-03-08 18:16:07.726    2\n",
      "2023-10-26 01:29:04.468    2\n",
      "2023-02-12 21:03:03.170    2\n",
      "2023-09-10 17:47:37.607    2\n",
      "2022-10-17 22:59:08.951    2\n",
      "2023-06-24 07:05:48.817    2\n",
      "2022-10-17 22:58:39.535    2\n",
      "2023-09-05 16:29:37.948    2\n",
      "2023-01-17 21:30:41.794    2\n",
      "2023-03-08 10:43:35.322    2\n",
      "2022-08-12 21:14:27.729    2\n",
      "2023-05-30 18:54:37.202    2\n",
      "2023-01-23 11:10:34.023    2\n",
      "2022-05-16 01:41:33.586    2\n",
      "2022-11-18 02:20:53.326    2\n",
      "2022-01-04 10:17:04.260    2\n",
      "2023-11-08 23:24:18.618    2\n",
      "2022-12-14 16:33:10.110    2\n",
      "2023-04-12 18:00:50.309    2\n",
      "2022-04-14 13:09:35.057    2\n",
      "2022-02-18 13:26:01.566    2\n",
      "2022-01-27 17:34:19.156    2\n",
      "2023-01-06 04:25:01.688    2\n",
      "2022-03-22 00:09:47.643    2\n",
      "2023-11-02 00:10:50.832    2\n",
      "2023-02-28 14:17:56.638    2\n",
      "2022-03-20 21:15:45.125    2\n",
      "2022-12-09 02:34:40.825    2\n",
      "2023-01-16 18:36:08.167    2\n",
      "2022-12-16 13:02:18.554    2\n",
      "2023-05-24 15:25:13.771    2\n",
      "2022-04-25 22:34:13.508    2\n",
      "2023-01-15 09:41:02.522    2\n",
      "2023-02-19 02:04:05.016    2\n",
      "2022-12-16 11:13:43.211    2\n",
      "2022-12-27 12:14:35.506    2\n",
      "2023-01-09 21:07:37.136    2\n",
      "2023-08-07 10:45:23.853    2\n",
      "2023-12-19 12:44:14.345    2\n",
      "2023-01-01 17:35:03.087    2\n",
      "2023-04-26 20:19:51.725    2\n",
      "2022-03-17 22:36:58.191    2\n",
      "2023-08-10 22:11:39.316    2\n",
      "2023-01-17 09:02:53.929    2\n",
      "2022-05-30 11:53:57.263    2\n",
      "2023-07-16 12:58:38.901    2\n",
      "2023-08-29 12:17:37.248    2\n",
      "2023-09-04 04:15:21.995    2\n",
      "2023-07-04 17:09:24.089    2\n",
      "2023-09-17 13:08:25.519    2\n",
      "2022-11-26 13:01:50.107    2\n",
      "2022-12-28 12:42:39.104    2\n",
      "2023-07-01 23:08:54.055    2\n",
      "2023-07-04 19:26:03.828    2\n",
      "2022-04-14 18:22:07.114    2\n",
      "2023-02-16 16:52:29.534    2\n",
      "2023-04-29 15:03:48.605    2\n",
      "2022-09-05 02:09:09.389    2\n",
      "2023-06-04 22:28:49.492    2\n",
      "2023-03-25 20:19:46.846    2\n",
      "2023-03-12 19:10:33.042    2\n",
      "2023-09-21 08:45:03.157    2\n",
      "2023-05-12 15:38:46.441    2\n",
      "2023-11-23 12:59:29.835    2\n",
      "2023-06-04 22:47:58.249    2\n",
      "2023-03-30 13:23:57.956    2\n",
      "2023-01-16 17:13:06.778    2\n",
      "2023-07-15 07:38:57.946    2\n",
      "2022-11-19 16:30:15.878    2\n",
      "2023-05-01 20:26:28.980    2\n",
      "2023-03-16 11:51:47.374    2\n",
      "2022-04-11 08:19:40.538    2\n",
      "2022-12-13 00:04:21.426    2\n",
      "2023-07-20 14:57:20.792    2\n",
      "2022-07-06 22:01:50.702    2\n",
      "2022-05-11 15:36:30.837    2\n",
      "2022-03-02 16:38:45.640    2\n",
      "2022-04-06 05:11:21.299    2\n",
      "2023-04-10 15:44:11.817    2\n",
      "2023-07-24 12:05:37.597    2\n",
      "2022-12-27 13:28:37.683    2\n",
      "2023-07-20 22:39:34.099    2\n",
      "2022-03-18 17:08:10.824    2\n",
      "2023-01-19 14:00:42.217    2\n",
      "2023-05-25 20:55:20.727    2\n",
      "2023-08-13 13:28:09.342    2\n",
      "2022-12-04 13:46:51.511    2\n",
      "2023-06-07 05:37:44.480    2\n",
      "2022-01-21 10:20:08.876    2\n",
      "2023-07-20 05:57:48.709    2\n",
      "2022-01-12 14:38:33.362    2\n",
      "2022-05-06 17:39:37.013    2\n",
      "2022-03-14 17:01:52.585    2\n",
      "2022-02-03 15:19:02.618    2\n",
      "총 중복 발생 횟수: 101회\n"
     ]
    }
   ],
   "source": [
    "duplicated_counts = signup_page['client_event_time'].value_counts()\n",
    "duplicated_counts = duplicated_counts[duplicated_counts > 1]  \n",
    "print(duplicated_counts.to_string())  \n",
    "total_duplicates = duplicated_counts.sum() - len(duplicated_counts)\n",
    "print(f\"총 중복 발생 횟수: {total_duplicates}회\")"
   ]
  },
  {
   "cell_type": "code",
   "execution_count": null,
   "metadata": {},
   "outputs": [
    {
     "name": "stdout",
     "output_type": "stream",
     "text": [
      "=== City ===\n",
      "Seoul                     125164\n",
      "Gangnam-gu                 20419\n",
      "Suwon                      15216\n",
      "Seongnam-si                15124\n",
      "Yongin-si                  12004\n",
      "                           ...  \n",
      "Yamanashi                      1\n",
      "Sao Sebastiao do Passe         1\n",
      "Hagerstown                     1\n",
      "Annandale                      1\n",
      "Haldwani                       1\n",
      "Name: city, Length: 2471, dtype: int64\n",
      "\n",
      "=== Language ===\n",
      "Korean         567173\n",
      "English         25156\n",
      "Arabic            720\n",
      "Japanese          653\n",
      "Chinese           593\n",
      "French            421\n",
      "Spanish           335\n",
      "Russian           334\n",
      "Vietnamese        272\n",
      "Indonesian        189\n",
      "Persian           181\n",
      "Hindi             155\n",
      "German            130\n",
      "Uzbek              90\n",
      "Thai               73\n",
      "Portuguese         60\n",
      "Turkish            28\n",
      "Khmer              27\n",
      "Mongolian          25\n",
      "Bengali            19\n",
      "Italian            14\n",
      "Azerbaijani        14\n",
      "Polish             11\n",
      "Norwegian          10\n",
      "Burmese            10\n",
      "Dutch              10\n",
      "Marathi             9\n",
      "Gujarati            8\n",
      "Danish              8\n",
      "Lao                 7\n",
      "Bulgarian           7\n",
      "Hungarian           6\n",
      "Albanian            6\n",
      "Lithuanian          6\n",
      "Ukrainian           6\n",
      "Croatian            5\n",
      "Romanian            5\n",
      "Kannada             5\n",
      "Afrikaans           5\n",
      "Slovak              4\n",
      "Finnish             3\n",
      "Swedish             3\n",
      "Punjabi             3\n",
      "Slovenian           3\n",
      "Czech               3\n",
      "Kanuri              2\n",
      "Hebrew              2\n",
      "Greek               2\n",
      "Urdu                2\n",
      "Tamil               2\n",
      "Galician            2\n",
      "Filipino            2\n",
      "Serbian             2\n",
      "Icelandic           2\n",
      "Malayalam           2\n",
      "Georgian            1\n",
      "Tagalog             1\n",
      "Malay               1\n",
      "Telugu              1\n",
      "Name: language, dtype: int64\n",
      "\n",
      "=== Device Type ===\n",
      "Windows                              236839\n",
      "Apple iPhone                          79784\n",
      "Mac                                   49078\n",
      "Android                               44397\n",
      "Samsung Galaxy S21 5G                  7557\n",
      "                                      ...  \n",
      "Samsung Galaxy A02                        1\n",
      "Realme X2                                 1\n",
      "Samsung Galaxy J1                         1\n",
      "OnePlus 6T                                1\n",
      "Xiaomi Redmi K30 Pro Zoom Edition         1\n",
      "Name: device_type, Length: 552, dtype: int64\n",
      "\n",
      "=== Os Name ===\n",
      "Chrome                  267672\n",
      "Instagram                64244\n",
      "Mobile Safari            49255\n",
      "Samsung Browser          43128\n",
      "Edge                     41455\n",
      "Chrome WebView           34685\n",
      "Whale                    26675\n",
      "WebKit                   23531\n",
      "Safari                   15952\n",
      "Chrome Mobile            15116\n",
      "Facebook                  9814\n",
      "GSA                       2505\n",
      "Firefox                   1324\n",
      "Opera                      429\n",
      "Chrome Headless            273\n",
      "Android Browser            199\n",
      "MIUI Browser               117\n",
      "Avast Secure Browser       107\n",
      "WeChat                      67\n",
      "QQBrowser                   45\n",
      "Yandex                      30\n",
      "Quark                       29\n",
      "baiduboxapp                 25\n",
      "AVG Secure Browser          18\n",
      "UCBrowser                   14\n",
      "Line                        10\n",
      "Electron                     9\n",
      "QQ                           8\n",
      "Opera Touch                  5\n",
      "Puffin                       4\n",
      "Silk                         3\n",
      "Chromium                     3\n",
      "IE                           2\n",
      "Maxthon                      1\n",
      "Name: os_name, dtype: int64\n",
      "\n",
      "=== User Id ===\n",
      "Series([], Name: user_id, dtype: int64)\n",
      "\n"
     ]
    }
   ],
   "source": [
    "counts = {'City': signup_page['city'].value_counts().sort_values(ascending=False),\n",
    "\t\t\t\t\t'Language': signup_page['language'].value_counts().sort_values(ascending=False),\n",
    "\t\t\t\t\t'Device Type': signup_page['device_type'].value_counts().sort_values(ascending=False),\n",
    "\t\t\t\t\t'Os Name': signup_page['os_name'].value_counts().sort_values(ascending=False),\n",
    "\t\t\t\t\t'User Id': signup_page['user_id'].value_counts().sort_values(ascending=False)\n",
    "}\n",
    "\n",
    "for key, value in counts.items():\n",
    "\tprint(f\"=== {key} ===\")\n",
    "\tprint(value, end=\"\\n\\n\")"
   ]
  },
  {
   "cell_type": "markdown",
   "metadata": {},
   "source": [
    "- 회원 가입 페이지 방문자의 접속 기기는 윈도우가 236839건으로 가장 높게 나타났다.\n",
    "- 회원 가입 페이지 방문자 브라우저의 경우 인스타가 64244건으로 두번째로 많게 나타났다. -> 인스타 광고의 효과도 있는 것으로 추측됨"
   ]
  },
  {
   "cell_type": "code",
   "execution_count": null,
   "metadata": {},
   "outputs": [
    {
     "name": "stdout",
     "output_type": "stream",
     "text": [
      "처음 content_page 이벤트 발생일 : 2021-11-25 09:08:17.825000\n",
      "마지막 content_page 이벤트 발생일 : 2024-01-01 08:59:22.267000\n"
     ]
    }
   ],
   "source": [
    "first_signup_page = signup_page['client_event_time'].min()\n",
    "last_signup_page = signup_page['client_event_time'].max()\n",
    "\n",
    "print(f\"처음 content_page 이벤트 발생일 : {first_signup_page}\")\n",
    "print(f\"마지막 content_page 이벤트 발생일 : {last_signup_page}\")"
   ]
  },
  {
   "cell_type": "code",
   "execution_count": null,
   "metadata": {},
   "outputs": [],
   "source": []
  },
  {
   "cell_type": "markdown",
   "metadata": {},
   "source": [
    "# 3. complete.signup\n",
    "- 회원가입 완료"
   ]
  },
  {
   "cell_type": "code",
   "execution_count": null,
   "metadata": {},
   "outputs": [
    {
     "data": {
      "text/html": [
       "<div>\n",
       "<style scoped>\n",
       "    .dataframe tbody tr th:only-of-type {\n",
       "        vertical-align: middle;\n",
       "    }\n",
       "\n",
       "    .dataframe tbody tr th {\n",
       "        vertical-align: top;\n",
       "    }\n",
       "\n",
       "    .dataframe thead th {\n",
       "        text-align: right;\n",
       "    }\n",
       "</style>\n",
       "<table border=\"1\" class=\"dataframe\">\n",
       "  <thead>\n",
       "    <tr style=\"text-align: right;\">\n",
       "      <th></th>\n",
       "      <th>city</th>\n",
       "      <th>client_event_time</th>\n",
       "      <th>country</th>\n",
       "      <th>device_carrier</th>\n",
       "      <th>device_family</th>\n",
       "      <th>device_type</th>\n",
       "      <th>event_type</th>\n",
       "      <th>language</th>\n",
       "      <th>os_name</th>\n",
       "      <th>os_version</th>\n",
       "      <th>platform</th>\n",
       "      <th>user_id</th>\n",
       "      <th>type</th>\n",
       "    </tr>\n",
       "  </thead>\n",
       "  <tbody>\n",
       "    <tr>\n",
       "      <th>0</th>\n",
       "      <td>NaN</td>\n",
       "      <td>2023-04-06 06:33:26.068</td>\n",
       "      <td>NaN</td>\n",
       "      <td>NaN</td>\n",
       "      <td>NaN</td>\n",
       "      <td>NaN</td>\n",
       "      <td>complete.signup</td>\n",
       "      <td>NaN</td>\n",
       "      <td>NaN</td>\n",
       "      <td>NaN</td>\n",
       "      <td>NaN</td>\n",
       "      <td>74d17c27a41656e7788b0c81d9f76cda</td>\n",
       "      <td>kakao</td>\n",
       "    </tr>\n",
       "    <tr>\n",
       "      <th>1</th>\n",
       "      <td>NaN</td>\n",
       "      <td>2023-04-06 06:45:18.672</td>\n",
       "      <td>NaN</td>\n",
       "      <td>NaN</td>\n",
       "      <td>NaN</td>\n",
       "      <td>NaN</td>\n",
       "      <td>complete.signup</td>\n",
       "      <td>NaN</td>\n",
       "      <td>NaN</td>\n",
       "      <td>NaN</td>\n",
       "      <td>NaN</td>\n",
       "      <td>06b6868000a5d576180aca47896d6cce</td>\n",
       "      <td>kakao</td>\n",
       "    </tr>\n",
       "    <tr>\n",
       "      <th>2</th>\n",
       "      <td>Seo-gu</td>\n",
       "      <td>2023-04-10 23:47:56.424</td>\n",
       "      <td>South Korea</td>\n",
       "      <td>NaN</td>\n",
       "      <td>Windows</td>\n",
       "      <td>Windows</td>\n",
       "      <td>complete.signup</td>\n",
       "      <td>Korean</td>\n",
       "      <td>Chrome</td>\n",
       "      <td>111.0.0.0</td>\n",
       "      <td>Web</td>\n",
       "      <td>e131c319972bd580146c5a2faba26613</td>\n",
       "      <td>kakao</td>\n",
       "    </tr>\n",
       "    <tr>\n",
       "      <th>3</th>\n",
       "      <td>Suwon</td>\n",
       "      <td>2023-04-10 23:25:45.920</td>\n",
       "      <td>South Korea</td>\n",
       "      <td>NaN</td>\n",
       "      <td>Apple iPhone</td>\n",
       "      <td>Apple iPhone</td>\n",
       "      <td>complete.signup</td>\n",
       "      <td>Korean</td>\n",
       "      <td>Mobile Safari</td>\n",
       "      <td>16.3</td>\n",
       "      <td>Web</td>\n",
       "      <td>e3b8bfa80d866f296aad139e09023ef3</td>\n",
       "      <td>naver</td>\n",
       "    </tr>\n",
       "    <tr>\n",
       "      <th>4</th>\n",
       "      <td>NaN</td>\n",
       "      <td>2023-04-10 23:09:50.698</td>\n",
       "      <td>NaN</td>\n",
       "      <td>NaN</td>\n",
       "      <td>NaN</td>\n",
       "      <td>NaN</td>\n",
       "      <td>complete.signup</td>\n",
       "      <td>NaN</td>\n",
       "      <td>NaN</td>\n",
       "      <td>NaN</td>\n",
       "      <td>NaN</td>\n",
       "      <td>5208a60918f18562ac9d668a35b20303</td>\n",
       "      <td>kakao</td>\n",
       "    </tr>\n",
       "    <tr>\n",
       "      <th>...</th>\n",
       "      <td>...</td>\n",
       "      <td>...</td>\n",
       "      <td>...</td>\n",
       "      <td>...</td>\n",
       "      <td>...</td>\n",
       "      <td>...</td>\n",
       "      <td>...</td>\n",
       "      <td>...</td>\n",
       "      <td>...</td>\n",
       "      <td>...</td>\n",
       "      <td>...</td>\n",
       "      <td>...</td>\n",
       "      <td>...</td>\n",
       "    </tr>\n",
       "    <tr>\n",
       "      <th>145128</th>\n",
       "      <td>NaN</td>\n",
       "      <td>2023-10-10 14:10:04.854</td>\n",
       "      <td>NaN</td>\n",
       "      <td>NaN</td>\n",
       "      <td>NaN</td>\n",
       "      <td>NaN</td>\n",
       "      <td>complete.signup</td>\n",
       "      <td>NaN</td>\n",
       "      <td>NaN</td>\n",
       "      <td>NaN</td>\n",
       "      <td>NaN</td>\n",
       "      <td>0117038cc69fe8a40388ec19bb0a495e</td>\n",
       "      <td>kakao</td>\n",
       "    </tr>\n",
       "    <tr>\n",
       "      <th>145129</th>\n",
       "      <td>NaN</td>\n",
       "      <td>2023-10-10 14:16:31.995</td>\n",
       "      <td>NaN</td>\n",
       "      <td>NaN</td>\n",
       "      <td>NaN</td>\n",
       "      <td>NaN</td>\n",
       "      <td>complete.signup</td>\n",
       "      <td>NaN</td>\n",
       "      <td>NaN</td>\n",
       "      <td>NaN</td>\n",
       "      <td>NaN</td>\n",
       "      <td>bc1a28ff902daba9399e7f602cc86285</td>\n",
       "      <td>kakao</td>\n",
       "    </tr>\n",
       "    <tr>\n",
       "      <th>145130</th>\n",
       "      <td>NaN</td>\n",
       "      <td>2023-10-10 14:27:53.140</td>\n",
       "      <td>NaN</td>\n",
       "      <td>NaN</td>\n",
       "      <td>NaN</td>\n",
       "      <td>NaN</td>\n",
       "      <td>complete.signup</td>\n",
       "      <td>NaN</td>\n",
       "      <td>NaN</td>\n",
       "      <td>NaN</td>\n",
       "      <td>NaN</td>\n",
       "      <td>0d507104136f139cbc9f6fa1db365162</td>\n",
       "      <td>google</td>\n",
       "    </tr>\n",
       "    <tr>\n",
       "      <th>145131</th>\n",
       "      <td>NaN</td>\n",
       "      <td>2023-10-10 14:33:30.471</td>\n",
       "      <td>NaN</td>\n",
       "      <td>NaN</td>\n",
       "      <td>NaN</td>\n",
       "      <td>NaN</td>\n",
       "      <td>complete.signup</td>\n",
       "      <td>NaN</td>\n",
       "      <td>NaN</td>\n",
       "      <td>NaN</td>\n",
       "      <td>NaN</td>\n",
       "      <td>298e200203472e5bc0f9a14053e1dfe1</td>\n",
       "      <td>google</td>\n",
       "    </tr>\n",
       "    <tr>\n",
       "      <th>145132</th>\n",
       "      <td>NaN</td>\n",
       "      <td>2023-10-10 14:50:07.380</td>\n",
       "      <td>NaN</td>\n",
       "      <td>NaN</td>\n",
       "      <td>NaN</td>\n",
       "      <td>NaN</td>\n",
       "      <td>complete.signup</td>\n",
       "      <td>NaN</td>\n",
       "      <td>NaN</td>\n",
       "      <td>NaN</td>\n",
       "      <td>NaN</td>\n",
       "      <td>4252b7d6d08c1ba797ec2f5d0b244963</td>\n",
       "      <td>kakao</td>\n",
       "    </tr>\n",
       "  </tbody>\n",
       "</table>\n",
       "<p>145133 rows × 13 columns</p>\n",
       "</div>"
      ],
      "text/plain": [
       "          city       client_event_time      country  device_carrier  \\\n",
       "0          NaN 2023-04-06 06:33:26.068          NaN             NaN   \n",
       "1          NaN 2023-04-06 06:45:18.672          NaN             NaN   \n",
       "2       Seo-gu 2023-04-10 23:47:56.424  South Korea             NaN   \n",
       "3        Suwon 2023-04-10 23:25:45.920  South Korea             NaN   \n",
       "4          NaN 2023-04-10 23:09:50.698          NaN             NaN   \n",
       "...        ...                     ...          ...             ...   \n",
       "145128     NaN 2023-10-10 14:10:04.854          NaN             NaN   \n",
       "145129     NaN 2023-10-10 14:16:31.995          NaN             NaN   \n",
       "145130     NaN 2023-10-10 14:27:53.140          NaN             NaN   \n",
       "145131     NaN 2023-10-10 14:33:30.471          NaN             NaN   \n",
       "145132     NaN 2023-10-10 14:50:07.380          NaN             NaN   \n",
       "\n",
       "       device_family   device_type       event_type language        os_name  \\\n",
       "0                NaN           NaN  complete.signup      NaN            NaN   \n",
       "1                NaN           NaN  complete.signup      NaN            NaN   \n",
       "2            Windows       Windows  complete.signup   Korean         Chrome   \n",
       "3       Apple iPhone  Apple iPhone  complete.signup   Korean  Mobile Safari   \n",
       "4                NaN           NaN  complete.signup      NaN            NaN   \n",
       "...              ...           ...              ...      ...            ...   \n",
       "145128           NaN           NaN  complete.signup      NaN            NaN   \n",
       "145129           NaN           NaN  complete.signup      NaN            NaN   \n",
       "145130           NaN           NaN  complete.signup      NaN            NaN   \n",
       "145131           NaN           NaN  complete.signup      NaN            NaN   \n",
       "145132           NaN           NaN  complete.signup      NaN            NaN   \n",
       "\n",
       "       os_version platform                           user_id    type  \n",
       "0             NaN      NaN  74d17c27a41656e7788b0c81d9f76cda   kakao  \n",
       "1             NaN      NaN  06b6868000a5d576180aca47896d6cce   kakao  \n",
       "2       111.0.0.0      Web  e131c319972bd580146c5a2faba26613   kakao  \n",
       "3            16.3      Web  e3b8bfa80d866f296aad139e09023ef3   naver  \n",
       "4             NaN      NaN  5208a60918f18562ac9d668a35b20303   kakao  \n",
       "...           ...      ...                               ...     ...  \n",
       "145128        NaN      NaN  0117038cc69fe8a40388ec19bb0a495e   kakao  \n",
       "145129        NaN      NaN  bc1a28ff902daba9399e7f602cc86285   kakao  \n",
       "145130        NaN      NaN  0d507104136f139cbc9f6fa1db365162  google  \n",
       "145131        NaN      NaN  298e200203472e5bc0f9a14053e1dfe1  google  \n",
       "145132        NaN      NaN  4252b7d6d08c1ba797ec2f5d0b244963   kakao  \n",
       "\n",
       "[145133 rows x 13 columns]"
      ]
     },
     "execution_count": 10,
     "metadata": {},
     "output_type": "execute_result"
    }
   ],
   "source": [
    "complete_signup"
   ]
  },
  {
   "cell_type": "code",
   "execution_count": null,
   "metadata": {},
   "outputs": [
    {
     "name": "stdout",
     "output_type": "stream",
     "text": [
      "<class 'pandas.core.frame.DataFrame'>\n",
      "RangeIndex: 145133 entries, 0 to 145132\n",
      "Data columns (total 13 columns):\n",
      " #   Column             Non-Null Count   Dtype         \n",
      "---  ------             --------------   -----         \n",
      " 0   city               44774 non-null   object        \n",
      " 1   client_event_time  145133 non-null  datetime64[ns]\n",
      " 2   country            45756 non-null   object        \n",
      " 3   device_carrier     0 non-null       float64       \n",
      " 4   device_family      45767 non-null   object        \n",
      " 5   device_type        44659 non-null   object        \n",
      " 6   event_type         145133 non-null  object        \n",
      " 7   language           45767 non-null   object        \n",
      " 8   os_name            45745 non-null   object        \n",
      " 9   os_version         45651 non-null   object        \n",
      " 10  platform           45767 non-null   object        \n",
      " 11  user_id            145133 non-null  object        \n",
      " 12  type               144958 non-null  object        \n",
      "dtypes: datetime64[ns](1), float64(1), object(11)\n",
      "memory usage: 14.4+ MB\n"
     ]
    }
   ],
   "source": [
    "complete_signup.info()"
   ]
  },
  {
   "cell_type": "code",
   "execution_count": null,
   "metadata": {},
   "outputs": [
    {
     "data": {
      "text/plain": [
       "city                 100359\n",
       "client_event_time         0\n",
       "country               99377\n",
       "device_carrier       145133\n",
       "device_family         99366\n",
       "device_type          100474\n",
       "event_type                0\n",
       "language              99366\n",
       "os_name               99388\n",
       "os_version            99482\n",
       "platform              99366\n",
       "user_id                   0\n",
       "type                    175\n",
       "dtype: int64"
      ]
     },
     "execution_count": 12,
     "metadata": {},
     "output_type": "execute_result"
    }
   ],
   "source": [
    "complete_signup.isnull().sum()"
   ]
  },
  {
   "cell_type": "code",
   "execution_count": null,
   "metadata": {},
   "outputs": [
    {
     "data": {
      "text/plain": [
       "city                    543\n",
       "client_event_time    145132\n",
       "country                  56\n",
       "device_carrier            0\n",
       "device_family            67\n",
       "device_type             167\n",
       "event_type                1\n",
       "language                 16\n",
       "os_name                  19\n",
       "os_version              844\n",
       "platform                  1\n",
       "user_id              145133\n",
       "type                      6\n",
       "dtype: int64"
      ]
     },
     "execution_count": 13,
     "metadata": {},
     "output_type": "execute_result"
    }
   ],
   "source": [
    "complete_signup.nunique()"
   ]
  },
  {
   "cell_type": "code",
   "execution_count": null,
   "metadata": {},
   "outputs": [
    {
     "name": "stdout",
     "output_type": "stream",
     "text": [
      "=== City ===\n",
      "Seoul              8564\n",
      "Gangnam-gu         1311\n",
      "Suwon              1264\n",
      "Seongnam-si        1181\n",
      "Yongin-si           975\n",
      "                   ... \n",
      "New Brunswick         1\n",
      "North Vancouver       1\n",
      "Danyang               1\n",
      "Mountain View         1\n",
      "Redwood City          1\n",
      "Name: city, Length: 543, dtype: int64\n",
      "\n",
      "=== Language ===\n",
      "Korean        44163\n",
      "English        1466\n",
      "Japanese         50\n",
      "Chinese          23\n",
      "Vietnamese       16\n",
      "French           12\n",
      "Russian          12\n",
      "German            7\n",
      "Spanish           6\n",
      "Uzbek             4\n",
      "Indonesian        3\n",
      "Ukrainian         1\n",
      "Turkish           1\n",
      "Arabic            1\n",
      "Galician          1\n",
      "Portuguese        1\n",
      "Name: language, dtype: int64\n",
      "\n",
      "=== Device Type ===\n",
      "Windows                         21981\n",
      "Apple iPhone                     5920\n",
      "Android                          5280\n",
      "Mac                              3822\n",
      "Samsung Galaxy S21 5G             366\n",
      "                                ...  \n",
      "Apple iPad Mini 5th Gen             1\n",
      "Samsung Galaxy S10 Plus             1\n",
      "Apple iPhone 15 Plus                1\n",
      "BlackBerry KEY2                     1\n",
      "Huawei HUAWEI Mate 20 X (5G)        1\n",
      "Name: device_type, Length: 167, dtype: int64\n",
      "\n",
      "=== Os Name ===\n",
      "Chrome                  23024\n",
      "Instagram                4116\n",
      "Edge                     3389\n",
      "Mobile Safari            2907\n",
      "Chrome WebView           2694\n",
      "WebKit                   2448\n",
      "Samsung Browser          2158\n",
      "Chrome Mobile            1834\n",
      "Whale                    1219\n",
      "Safari                   1020\n",
      "Facebook                  571\n",
      "GSA                       182\n",
      "Firefox                   129\n",
      "Opera                      37\n",
      "Avast Secure Browser        9\n",
      "MIUI Browser                4\n",
      "Chromium                    2\n",
      "AVG Secure Browser          1\n",
      "Android Browser             1\n",
      "Name: os_name, dtype: int64\n",
      "\n",
      "=== User Id ===\n",
      "74d17c27a41656e7788b0c81d9f76cda    1\n",
      "43264caf4d797e1c485a8b1f588dc5ce    1\n",
      "8c39957728955da86fae4b8812cd34b0    1\n",
      "3ca6bdf9a279c5a05c2f1f7452a6b731    1\n",
      "e131c319972bd580146c5a2faba26613    1\n",
      "                                   ..\n",
      "c7ecf95d4f1d4c5fae23384919752bb6    1\n",
      "0ed00eb8092cec75f9626ec5507729dd    1\n",
      "e3437d1e1cbdaec01b09a617dd02a1f1    1\n",
      "b0663cab9303d3f102bcd4ffc7756461    1\n",
      "4252b7d6d08c1ba797ec2f5d0b244963    1\n",
      "Name: user_id, Length: 145133, dtype: int64\n",
      "\n",
      "=== Type ===\n",
      "kakao       89484\n",
      "google      21465\n",
      "naver       19440\n",
      "email       14126\n",
      "facebook      442\n",
      "test            1\n",
      "Name: type, dtype: int64\n",
      "\n"
     ]
    }
   ],
   "source": [
    "counts = {'City': complete_signup ['city'].value_counts().sort_values(ascending=False),\n",
    "\t\t\t\t\t'Language': complete_signup ['language'].value_counts().sort_values(ascending=False),\n",
    "\t\t\t\t\t'Device Type': complete_signup ['device_type'].value_counts().sort_values(ascending=False),\n",
    "\t\t\t\t\t'Os Name': complete_signup ['os_name'].value_counts().sort_values(ascending=False),\n",
    "\t\t\t\t\t'User Id': complete_signup ['user_id'].value_counts().sort_values(ascending=False),\n",
    "\t\t\t\t\t'Type': complete_signup ['type'].value_counts().sort_values(ascending=False),\n",
    "}\n",
    "\n",
    "for key, value in counts.items():\n",
    "\t\tprint(f\"=== {key} ===\")\n",
    "\t\tprint(value, end=\"\\n\\n\")"
   ]
  },
  {
   "cell_type": "markdown",
   "metadata": {},
   "source": [
    "- 총 145133 유저id -> 145133명이 회원 가입을 완료한 것으로 확인됨\n",
    "- test는 개발 단계 필터가 안된 것으로 보임 -> 전처리 필요"
   ]
  },
  {
   "cell_type": "code",
   "execution_count": null,
   "metadata": {},
   "outputs": [
    {
     "name": "stdout",
     "output_type": "stream",
     "text": [
      "처음 content_page 이벤트 발생일 : 2022-01-01 09:06:31.232000\n",
      "마지막 content_page 이벤트 발생일 : 2024-01-01 08:51:53.728000\n"
     ]
    }
   ],
   "source": [
    "first_complete_signup = complete_signup['client_event_time'].min()\n",
    "last_complete_signup = complete_signup['client_event_time'].max()\n",
    "\n",
    "print(f\"처음 content_page 이벤트 발생일 : {first_complete_signup}\")\n",
    "print(f\"마지막 content_page 이벤트 발생일 : {last_complete_signup}\")"
   ]
  },
  {
   "cell_type": "code",
   "execution_count": null,
   "metadata": {},
   "outputs": [],
   "source": []
  },
  {
   "cell_type": "markdown",
   "metadata": {},
   "source": [
    "# enter.main_page\n",
    "- 메인 페이지 진입"
   ]
  },
  {
   "cell_type": "code",
   "execution_count": null,
   "metadata": {},
   "outputs": [
    {
     "data": {
      "text/html": [
       "<div>\n",
       "<style scoped>\n",
       "    .dataframe tbody tr th:only-of-type {\n",
       "        vertical-align: middle;\n",
       "    }\n",
       "\n",
       "    .dataframe tbody tr th {\n",
       "        vertical-align: top;\n",
       "    }\n",
       "\n",
       "    .dataframe thead th {\n",
       "        text-align: right;\n",
       "    }\n",
       "</style>\n",
       "<table border=\"1\" class=\"dataframe\">\n",
       "  <thead>\n",
       "    <tr style=\"text-align: right;\">\n",
       "      <th></th>\n",
       "      <th>city</th>\n",
       "      <th>client_event_time</th>\n",
       "      <th>country</th>\n",
       "      <th>device_carrier</th>\n",
       "      <th>device_family</th>\n",
       "      <th>device_type</th>\n",
       "      <th>event_type</th>\n",
       "      <th>language</th>\n",
       "      <th>os_name</th>\n",
       "      <th>os_version</th>\n",
       "      <th>platform</th>\n",
       "      <th>user_id</th>\n",
       "    </tr>\n",
       "  </thead>\n",
       "  <tbody>\n",
       "    <tr>\n",
       "      <th>0</th>\n",
       "      <td>Seongnam-si</td>\n",
       "      <td>2023-04-05 21:55:06.140000</td>\n",
       "      <td>South Korea</td>\n",
       "      <td>NaN</td>\n",
       "      <td>Samsung Phone</td>\n",
       "      <td>Samsung Galaxy S21 5G</td>\n",
       "      <td>enter.main_page</td>\n",
       "      <td>Korean</td>\n",
       "      <td>Whale</td>\n",
       "      <td>1.0.0.0</td>\n",
       "      <td>Web</td>\n",
       "      <td>NaN</td>\n",
       "    </tr>\n",
       "    <tr>\n",
       "      <th>1</th>\n",
       "      <td>Dongdaemun-gu</td>\n",
       "      <td>2023-04-05 21:04:28.967000</td>\n",
       "      <td>South Korea</td>\n",
       "      <td>NaN</td>\n",
       "      <td>Mac</td>\n",
       "      <td>Mac</td>\n",
       "      <td>enter.main_page</td>\n",
       "      <td>Korean</td>\n",
       "      <td>Chrome</td>\n",
       "      <td>111.0.0.0</td>\n",
       "      <td>Web</td>\n",
       "      <td>b2b31f00b82edc6419b25324a7ae41a4</td>\n",
       "    </tr>\n",
       "    <tr>\n",
       "      <th>2</th>\n",
       "      <td>Hwaseong-si</td>\n",
       "      <td>2023-04-05 21:01:31.258000</td>\n",
       "      <td>South Korea</td>\n",
       "      <td>NaN</td>\n",
       "      <td>Samsung Galaxy Note</td>\n",
       "      <td>Samsung Galaxy Note10+ 5G</td>\n",
       "      <td>enter.main_page</td>\n",
       "      <td>Korean</td>\n",
       "      <td>Chrome</td>\n",
       "      <td>111.0.0.0</td>\n",
       "      <td>Web</td>\n",
       "      <td>NaN</td>\n",
       "    </tr>\n",
       "    <tr>\n",
       "      <th>3</th>\n",
       "      <td>Hwaseong-si</td>\n",
       "      <td>2023-04-05 21:02:50.374000</td>\n",
       "      <td>South Korea</td>\n",
       "      <td>NaN</td>\n",
       "      <td>Samsung Galaxy Note</td>\n",
       "      <td>Samsung Galaxy Note10+ 5G</td>\n",
       "      <td>enter.main_page</td>\n",
       "      <td>Korean</td>\n",
       "      <td>Chrome</td>\n",
       "      <td>111.0.0.0</td>\n",
       "      <td>Web</td>\n",
       "      <td>NaN</td>\n",
       "    </tr>\n",
       "    <tr>\n",
       "      <th>4</th>\n",
       "      <td>Seoul</td>\n",
       "      <td>2023-04-05 21:30:33.727000</td>\n",
       "      <td>South Korea</td>\n",
       "      <td>NaN</td>\n",
       "      <td>Samsung Phone</td>\n",
       "      <td>Samsung Galaxy A51 5G</td>\n",
       "      <td>enter.main_page</td>\n",
       "      <td>Korean</td>\n",
       "      <td>Chrome</td>\n",
       "      <td>112.0.0.0</td>\n",
       "      <td>Web</td>\n",
       "      <td>NaN</td>\n",
       "    </tr>\n",
       "    <tr>\n",
       "      <th>...</th>\n",
       "      <td>...</td>\n",
       "      <td>...</td>\n",
       "      <td>...</td>\n",
       "      <td>...</td>\n",
       "      <td>...</td>\n",
       "      <td>...</td>\n",
       "      <td>...</td>\n",
       "      <td>...</td>\n",
       "      <td>...</td>\n",
       "      <td>...</td>\n",
       "      <td>...</td>\n",
       "      <td>...</td>\n",
       "    </tr>\n",
       "    <tr>\n",
       "      <th>2133543</th>\n",
       "      <td>Jeongeup</td>\n",
       "      <td>2023-10-10 05:53:29.283000</td>\n",
       "      <td>South Korea</td>\n",
       "      <td>NaN</td>\n",
       "      <td>Windows</td>\n",
       "      <td>Windows</td>\n",
       "      <td>enter.main_page</td>\n",
       "      <td>Korean</td>\n",
       "      <td>Chrome</td>\n",
       "      <td>117.0.0.0</td>\n",
       "      <td>Web</td>\n",
       "      <td>NaN</td>\n",
       "    </tr>\n",
       "    <tr>\n",
       "      <th>2133544</th>\n",
       "      <td>Jeongeup</td>\n",
       "      <td>2023-10-10 05:54:17.572000</td>\n",
       "      <td>South Korea</td>\n",
       "      <td>NaN</td>\n",
       "      <td>Windows</td>\n",
       "      <td>Windows</td>\n",
       "      <td>enter.main_page</td>\n",
       "      <td>Korean</td>\n",
       "      <td>Chrome</td>\n",
       "      <td>117.0.0.0</td>\n",
       "      <td>Web</td>\n",
       "      <td>NaN</td>\n",
       "    </tr>\n",
       "    <tr>\n",
       "      <th>2133545</th>\n",
       "      <td>Gangnam-gu</td>\n",
       "      <td>2023-10-10 05:54:33.164000</td>\n",
       "      <td>South Korea</td>\n",
       "      <td>NaN</td>\n",
       "      <td>Windows</td>\n",
       "      <td>Windows</td>\n",
       "      <td>enter.main_page</td>\n",
       "      <td>Korean</td>\n",
       "      <td>Chrome</td>\n",
       "      <td>117.0.0.0</td>\n",
       "      <td>Web</td>\n",
       "      <td>NaN</td>\n",
       "    </tr>\n",
       "    <tr>\n",
       "      <th>2133546</th>\n",
       "      <td>Saha-gu</td>\n",
       "      <td>2023-10-10 05:58:15.175000</td>\n",
       "      <td>South Korea</td>\n",
       "      <td>NaN</td>\n",
       "      <td>Samsung Phone</td>\n",
       "      <td>Samsung Galaxy S23+</td>\n",
       "      <td>enter.main_page</td>\n",
       "      <td>Korean</td>\n",
       "      <td>Instagram</td>\n",
       "      <td>303.0.0.40.109</td>\n",
       "      <td>Web</td>\n",
       "      <td>NaN</td>\n",
       "    </tr>\n",
       "    <tr>\n",
       "      <th>2133547</th>\n",
       "      <td>Seoul</td>\n",
       "      <td>2023-10-10 05:58:45.857000</td>\n",
       "      <td>South Korea</td>\n",
       "      <td>NaN</td>\n",
       "      <td>Mac</td>\n",
       "      <td>Mac</td>\n",
       "      <td>enter.main_page</td>\n",
       "      <td>Korean</td>\n",
       "      <td>Safari</td>\n",
       "      <td>16.3</td>\n",
       "      <td>Web</td>\n",
       "      <td>NaN</td>\n",
       "    </tr>\n",
       "  </tbody>\n",
       "</table>\n",
       "<p>2133548 rows × 12 columns</p>\n",
       "</div>"
      ],
      "text/plain": [
       "                  city           client_event_time      country  \\\n",
       "0          Seongnam-si  2023-04-05 21:55:06.140000  South Korea   \n",
       "1        Dongdaemun-gu  2023-04-05 21:04:28.967000  South Korea   \n",
       "2          Hwaseong-si  2023-04-05 21:01:31.258000  South Korea   \n",
       "3          Hwaseong-si  2023-04-05 21:02:50.374000  South Korea   \n",
       "4                Seoul  2023-04-05 21:30:33.727000  South Korea   \n",
       "...                ...                         ...          ...   \n",
       "2133543       Jeongeup  2023-10-10 05:53:29.283000  South Korea   \n",
       "2133544       Jeongeup  2023-10-10 05:54:17.572000  South Korea   \n",
       "2133545     Gangnam-gu  2023-10-10 05:54:33.164000  South Korea   \n",
       "2133546        Saha-gu  2023-10-10 05:58:15.175000  South Korea   \n",
       "2133547          Seoul  2023-10-10 05:58:45.857000  South Korea   \n",
       "\n",
       "         device_carrier        device_family                device_type  \\\n",
       "0                   NaN        Samsung Phone      Samsung Galaxy S21 5G   \n",
       "1                   NaN                  Mac                        Mac   \n",
       "2                   NaN  Samsung Galaxy Note  Samsung Galaxy Note10+ 5G   \n",
       "3                   NaN  Samsung Galaxy Note  Samsung Galaxy Note10+ 5G   \n",
       "4                   NaN        Samsung Phone      Samsung Galaxy A51 5G   \n",
       "...                 ...                  ...                        ...   \n",
       "2133543             NaN              Windows                    Windows   \n",
       "2133544             NaN              Windows                    Windows   \n",
       "2133545             NaN              Windows                    Windows   \n",
       "2133546             NaN        Samsung Phone        Samsung Galaxy S23+   \n",
       "2133547             NaN                  Mac                        Mac   \n",
       "\n",
       "              event_type language    os_name      os_version platform  \\\n",
       "0        enter.main_page   Korean      Whale         1.0.0.0      Web   \n",
       "1        enter.main_page   Korean     Chrome       111.0.0.0      Web   \n",
       "2        enter.main_page   Korean     Chrome       111.0.0.0      Web   \n",
       "3        enter.main_page   Korean     Chrome       111.0.0.0      Web   \n",
       "4        enter.main_page   Korean     Chrome       112.0.0.0      Web   \n",
       "...                  ...      ...        ...             ...      ...   \n",
       "2133543  enter.main_page   Korean     Chrome       117.0.0.0      Web   \n",
       "2133544  enter.main_page   Korean     Chrome       117.0.0.0      Web   \n",
       "2133545  enter.main_page   Korean     Chrome       117.0.0.0      Web   \n",
       "2133546  enter.main_page   Korean  Instagram  303.0.0.40.109      Web   \n",
       "2133547  enter.main_page   Korean     Safari            16.3      Web   \n",
       "\n",
       "                                  user_id  \n",
       "0                                     NaN  \n",
       "1        b2b31f00b82edc6419b25324a7ae41a4  \n",
       "2                                     NaN  \n",
       "3                                     NaN  \n",
       "4                                     NaN  \n",
       "...                                   ...  \n",
       "2133543                               NaN  \n",
       "2133544                               NaN  \n",
       "2133545                               NaN  \n",
       "2133546                               NaN  \n",
       "2133547                               NaN  \n",
       "\n",
       "[2133548 rows x 12 columns]"
      ]
     },
     "execution_count": 5,
     "metadata": {},
     "output_type": "execute_result"
    }
   ],
   "source": [
    "main_page"
   ]
  },
  {
   "cell_type": "code",
   "execution_count": null,
   "metadata": {},
   "outputs": [
    {
     "name": "stdout",
     "output_type": "stream",
     "text": [
      "<class 'pandas.core.frame.DataFrame'>\n",
      "RangeIndex: 2133548 entries, 0 to 2133547\n",
      "Data columns (total 12 columns):\n",
      " #   Column             Dtype  \n",
      "---  ------             -----  \n",
      " 0   city               object \n",
      " 1   client_event_time  object \n",
      " 2   country            object \n",
      " 3   device_carrier     float64\n",
      " 4   device_family      object \n",
      " 5   device_type        object \n",
      " 6   event_type         object \n",
      " 7   language           object \n",
      " 8   os_name            object \n",
      " 9   os_version         object \n",
      " 10  platform           object \n",
      " 11  user_id            object \n",
      "dtypes: float64(1), object(11)\n",
      "memory usage: 195.3+ MB\n"
     ]
    }
   ],
   "source": [
    "main_page.info()"
   ]
  },
  {
   "cell_type": "code",
   "execution_count": null,
   "metadata": {},
   "outputs": [
    {
     "data": {
      "text/plain": [
       "city                   56988\n",
       "client_event_time          0\n",
       "country                 1869\n",
       "device_carrier       2133548\n",
       "device_family           2813\n",
       "device_type            60050\n",
       "event_type                 0\n",
       "language                   0\n",
       "os_name                 2304\n",
       "os_version             13868\n",
       "platform                   0\n",
       "user_id              1611032\n",
       "dtype: int64"
      ]
     },
     "execution_count": 7,
     "metadata": {},
     "output_type": "execute_result"
    }
   ],
   "source": [
    "main_page.isnull().sum()"
   ]
  },
  {
   "cell_type": "code",
   "execution_count": null,
   "metadata": {},
   "outputs": [
    {
     "data": {
      "text/plain": [
       "city                    3429\n",
       "client_event_time    2132195\n",
       "country                  172\n",
       "device_carrier             0\n",
       "device_family            677\n",
       "device_type              529\n",
       "event_type                 1\n",
       "language                  62\n",
       "os_name                   41\n",
       "os_version              2716\n",
       "platform                   1\n",
       "user_id                75365\n",
       "dtype: int64"
      ]
     },
     "execution_count": 10,
     "metadata": {},
     "output_type": "execute_result"
    }
   ],
   "source": [
    "main_page.nunique()"
   ]
  },
  {
   "cell_type": "code",
   "execution_count": null,
   "metadata": {},
   "outputs": [
    {
     "data": {
      "text/plain": [
       "Chrome                  996473\n",
       "Mobile Safari           255461\n",
       "Instagram               203370\n",
       "Edge                    129310\n",
       "Samsung Browser         126208\n",
       "Chrome WebView           92656\n",
       "Whale                    78587\n",
       "Safari                   69421\n",
       "Chrome Mobile            63765\n",
       "WebKit                   54112\n",
       "Facebook                 38996\n",
       "GSA                      11260\n",
       "Firefox                   6280\n",
       "Chrome Headless           2775\n",
       "Opera                     1280\n",
       "Avast Secure Browser       279\n",
       "Yandex                     259\n",
       "MIUI Browser               234\n",
       "Android Browser            213\n",
       "Electron                    45\n",
       "Opera Touch                 41\n",
       "WeChat                      36\n",
       "Silk                        35\n",
       "IE                          35\n",
       "Puffin                      34\n",
       "Line                        22\n",
       "AVG Secure Browser          15\n",
       "Chromium                    11\n",
       "UCBrowser                    7\n",
       "Firefox Focus                5\n",
       "baiduboxapp                  5\n",
       "Quark                        3\n",
       "Opera Mini                   2\n",
       "QQBrowser                    2\n",
       "chrome                       1\n",
       "OviBrowser                   1\n",
       "Konqueror                    1\n",
       "Mozilla                      1\n",
       "NetFront                     1\n",
       "MetaSr                       1\n",
       "Coc Coc                      1\n",
       "Name: os_name, dtype: int64"
      ]
     },
     "execution_count": 27,
     "metadata": {},
     "output_type": "execute_result"
    }
   ],
   "source": [
    "main_page['os_name'].value_counts()"
   ]
  },
  {
   "cell_type": "code",
   "execution_count": null,
   "metadata": {},
   "outputs": [
    {
     "name": "stdout",
     "output_type": "stream",
     "text": [
      "처음 content_page 이벤트 발생일 : 1978-01-01 19:22:27.371000\n",
      "마지막 content_page 이벤트 발생일 : 2023-12-15 11:46:11.182000\n"
     ]
    }
   ],
   "source": [
    "first_main_page = main_page['client_event_time'].min()\n",
    "last_main_page = main_page['client_event_time'].max()\n",
    "\n",
    "print(f\"처음 content_page 이벤트 발생일 : {first_main_page}\")\n",
    "print(f\"마지막 content_page 이벤트 발생일 : {last_main_page}\")"
   ]
  },
  {
   "cell_type": "code",
   "execution_count": null,
   "metadata": {},
   "outputs": [
    {
     "data": {
      "text/plain": [
       "335232    1978-01-01 19:22:27.371\n",
       "593046    1978-01-18 06:13:44.128\n",
       "298406    1978-05-14 21:39:01.444\n",
       "1236626   1978-06-22 22:49:53.470\n",
       "1279461   1978-06-29 23:25:57.913\n",
       "1296083   1978-07-01 03:25:20.097\n",
       "1291472   1978-11-25 06:08:54.660\n",
       "698511    1978-12-04 07:02:40.951\n",
       "1191924   1978-12-09 21:34:35.952\n",
       "775951    1978-12-24 21:16:41.061\n",
       "811316    2021-05-10 15:16:35.916\n",
       "1340251   2021-11-05 01:12:27.771\n",
       "891546    2021-11-07 17:14:29.783\n",
       "925768    2021-11-09 15:56:17.008\n",
       "1354288   2021-11-09 16:53:46.140\n",
       "601481    2021-11-10 15:55:46.494\n",
       "858830    2021-11-12 12:22:32.283\n",
       "1603725   2021-11-13 16:35:30.587\n",
       "610924    2021-11-13 16:49:28.171\n",
       "1210496   2021-11-16 09:56:36.694\n",
       "Name: client_event_time, dtype: datetime64[ns]"
      ]
     },
     "execution_count": 12,
     "metadata": {},
     "output_type": "execute_result"
    }
   ],
   "source": [
    "main_page['client_event_time'].sort_values(ascending=True).head(20)"
   ]
  },
  {
   "cell_type": "code",
   "execution_count": null,
   "metadata": {},
   "outputs": [],
   "source": [
    "df_main_page = main_page.query(\"client_event_time.dt.year != 1978\")"
   ]
  },
  {
   "cell_type": "code",
   "execution_count": 14,
   "metadata": {},
   "outputs": [
    {
     "data": {
      "text/plain": [
       "811316    2021-05-10 15:16:35.916\n",
       "1340251   2021-11-05 01:12:27.771\n",
       "891546    2021-11-07 17:14:29.783\n",
       "925768    2021-11-09 15:56:17.008\n",
       "1354288   2021-11-09 16:53:46.140\n",
       "601481    2021-11-10 15:55:46.494\n",
       "858830    2021-11-12 12:22:32.283\n",
       "1603725   2021-11-13 16:35:30.587\n",
       "610924    2021-11-13 16:49:28.171\n",
       "1210496   2021-11-16 09:56:36.694\n",
       "925914    2021-11-17 11:18:23.945\n",
       "1508423   2021-11-17 18:53:43.543\n",
       "1060988   2021-11-18 11:47:59.029\n",
       "824056    2021-11-19 23:32:37.041\n",
       "1347524   2021-11-25 09:07:36.257\n",
       "1347525   2021-11-25 09:08:25.218\n",
       "1347492   2021-11-25 09:10:22.240\n",
       "1347493   2021-11-25 09:12:54.596\n",
       "1251277   2021-11-25 17:59:15.344\n",
       "1045249   2021-11-25 23:30:37.619\n",
       "Name: client_event_time, dtype: datetime64[ns]"
      ]
     },
     "execution_count": 14,
     "metadata": {},
     "output_type": "execute_result"
    }
   ],
   "source": [
    "df_main_page['client_event_time'].sort_values(ascending=True).head(20)"
   ]
  },
  {
   "cell_type": "code",
   "execution_count": 16,
   "metadata": {},
   "outputs": [
    {
     "data": {
      "text/html": [
       "<div>\n",
       "<style scoped>\n",
       "    .dataframe tbody tr th:only-of-type {\n",
       "        vertical-align: middle;\n",
       "    }\n",
       "\n",
       "    .dataframe tbody tr th {\n",
       "        vertical-align: top;\n",
       "    }\n",
       "\n",
       "    .dataframe thead th {\n",
       "        text-align: right;\n",
       "    }\n",
       "</style>\n",
       "<table border=\"1\" class=\"dataframe\">\n",
       "  <thead>\n",
       "    <tr style=\"text-align: right;\">\n",
       "      <th></th>\n",
       "      <th>user_id</th>\n",
       "      <th>client_event_time</th>\n",
       "    </tr>\n",
       "  </thead>\n",
       "  <tbody>\n",
       "    <tr>\n",
       "      <th>0</th>\n",
       "      <td>0000572f2ba8079bcefd2760b632e820</td>\n",
       "      <td>2023-03-18 19:34:22.282</td>\n",
       "    </tr>\n",
       "    <tr>\n",
       "      <th>1</th>\n",
       "      <td>000087537cbfd934375364218ff10f91</td>\n",
       "      <td>2023-04-02 07:27:42.058</td>\n",
       "    </tr>\n",
       "    <tr>\n",
       "      <th>2</th>\n",
       "      <td>00012b6dbfccfb458ad0d08f34477944</td>\n",
       "      <td>2022-01-02 10:18:06.966</td>\n",
       "    </tr>\n",
       "    <tr>\n",
       "      <th>3</th>\n",
       "      <td>0001435bc6c0c0f05315192f89275425</td>\n",
       "      <td>2023-01-16 09:59:10.191</td>\n",
       "    </tr>\n",
       "    <tr>\n",
       "      <th>4</th>\n",
       "      <td>0002a612daa63284cc741241df6f4b11</td>\n",
       "      <td>2022-06-02 15:10:41.034</td>\n",
       "    </tr>\n",
       "    <tr>\n",
       "      <th>...</th>\n",
       "      <td>...</td>\n",
       "      <td>...</td>\n",
       "    </tr>\n",
       "    <tr>\n",
       "      <th>75360</th>\n",
       "      <td>fffcae39952c396123f9a3c0808a2183</td>\n",
       "      <td>2022-01-17 14:14:57.415</td>\n",
       "    </tr>\n",
       "    <tr>\n",
       "      <th>75361</th>\n",
       "      <td>fffcbf8ded60b689e9867bff455f4ab7</td>\n",
       "      <td>2022-09-11 16:24:25.278</td>\n",
       "    </tr>\n",
       "    <tr>\n",
       "      <th>75362</th>\n",
       "      <td>fffd757f689e039a1d4db0adc1b80b61</td>\n",
       "      <td>2023-01-16 20:11:19.849</td>\n",
       "    </tr>\n",
       "    <tr>\n",
       "      <th>75363</th>\n",
       "      <td>fffda4a01bb29816480a08670ba48568</td>\n",
       "      <td>2022-01-19 23:53:03.138</td>\n",
       "    </tr>\n",
       "    <tr>\n",
       "      <th>75364</th>\n",
       "      <td>fffe529de03d6187ef7ed765650c8d2b</td>\n",
       "      <td>2023-02-28 20:12:56.668</td>\n",
       "    </tr>\n",
       "  </tbody>\n",
       "</table>\n",
       "<p>75365 rows × 2 columns</p>\n",
       "</div>"
      ],
      "text/plain": [
       "                                user_id       client_event_time\n",
       "0      0000572f2ba8079bcefd2760b632e820 2023-03-18 19:34:22.282\n",
       "1      000087537cbfd934375364218ff10f91 2023-04-02 07:27:42.058\n",
       "2      00012b6dbfccfb458ad0d08f34477944 2022-01-02 10:18:06.966\n",
       "3      0001435bc6c0c0f05315192f89275425 2023-01-16 09:59:10.191\n",
       "4      0002a612daa63284cc741241df6f4b11 2022-06-02 15:10:41.034\n",
       "...                                 ...                     ...\n",
       "75360  fffcae39952c396123f9a3c0808a2183 2022-01-17 14:14:57.415\n",
       "75361  fffcbf8ded60b689e9867bff455f4ab7 2022-09-11 16:24:25.278\n",
       "75362  fffd757f689e039a1d4db0adc1b80b61 2023-01-16 20:11:19.849\n",
       "75363  fffda4a01bb29816480a08670ba48568 2022-01-19 23:53:03.138\n",
       "75364  fffe529de03d6187ef7ed765650c8d2b 2023-02-28 20:12:56.668\n",
       "\n",
       "[75365 rows x 2 columns]"
      ]
     },
     "execution_count": 16,
     "metadata": {},
     "output_type": "execute_result"
    }
   ],
   "source": [
    "first_main_visit = df_main_page.groupby('user_id')['client_event_time'].min().reset_index()\n",
    "first_main_visit"
   ]
  },
  {
   "cell_type": "code",
   "execution_count": null,
   "metadata": {},
   "outputs": [
    {
     "data": {
      "text/html": [
       "<div>\n",
       "<style scoped>\n",
       "    .dataframe tbody tr th:only-of-type {\n",
       "        vertical-align: middle;\n",
       "    }\n",
       "\n",
       "    .dataframe tbody tr th {\n",
       "        vertical-align: top;\n",
       "    }\n",
       "\n",
       "    .dataframe thead th {\n",
       "        text-align: right;\n",
       "    }\n",
       "</style>\n",
       "<table border=\"1\" class=\"dataframe\">\n",
       "  <thead>\n",
       "    <tr style=\"text-align: right;\">\n",
       "      <th></th>\n",
       "      <th>user_id</th>\n",
       "      <th>client_event_time</th>\n",
       "    </tr>\n",
       "  </thead>\n",
       "  <tbody>\n",
       "    <tr>\n",
       "      <th>0</th>\n",
       "      <td>0000572f2ba8079bcefd2760b632e820</td>\n",
       "      <td>2023-03-18 19:33:16.237</td>\n",
       "    </tr>\n",
       "    <tr>\n",
       "      <th>1</th>\n",
       "      <td>000087537cbfd934375364218ff10f91</td>\n",
       "      <td>2023-03-27 13:54:01.257</td>\n",
       "    </tr>\n",
       "    <tr>\n",
       "      <th>2</th>\n",
       "      <td>000117267e1dd62481ef3ae7fb420107</td>\n",
       "      <td>2022-12-16 14:05:24.926</td>\n",
       "    </tr>\n",
       "    <tr>\n",
       "      <th>3</th>\n",
       "      <td>0001f15911b404f3bf5b8571afafa4e4</td>\n",
       "      <td>2023-11-19 11:53:43.023</td>\n",
       "    </tr>\n",
       "    <tr>\n",
       "      <th>4</th>\n",
       "      <td>0001f28a707789a7d78dc28fd2e84dce</td>\n",
       "      <td>2023-10-16 00:09:34.334</td>\n",
       "    </tr>\n",
       "    <tr>\n",
       "      <th>...</th>\n",
       "      <td>...</td>\n",
       "      <td>...</td>\n",
       "    </tr>\n",
       "    <tr>\n",
       "      <th>145128</th>\n",
       "      <td>fffe529de03d6187ef7ed765650c8d2b</td>\n",
       "      <td>2023-02-26 22:40:51.953</td>\n",
       "    </tr>\n",
       "    <tr>\n",
       "      <th>145129</th>\n",
       "      <td>fffee4d401b390a681491b9f5cfe40fb</td>\n",
       "      <td>2023-12-31 16:37:01.064</td>\n",
       "    </tr>\n",
       "    <tr>\n",
       "      <th>145130</th>\n",
       "      <td>fffef868442fc8f4f405894b8ff8959f</td>\n",
       "      <td>2023-07-03 13:52:16.228</td>\n",
       "    </tr>\n",
       "    <tr>\n",
       "      <th>145131</th>\n",
       "      <td>ffffd8d78865a66cb3706977f29d1dec</td>\n",
       "      <td>2023-09-11 19:06:34.388</td>\n",
       "    </tr>\n",
       "    <tr>\n",
       "      <th>145132</th>\n",
       "      <td>ffffddaaae9808ecc37c5238ada79ce1</td>\n",
       "      <td>2023-11-29 14:23:47.312</td>\n",
       "    </tr>\n",
       "  </tbody>\n",
       "</table>\n",
       "<p>145133 rows × 2 columns</p>\n",
       "</div>"
      ],
      "text/plain": [
       "                                 user_id       client_event_time\n",
       "0       0000572f2ba8079bcefd2760b632e820 2023-03-18 19:33:16.237\n",
       "1       000087537cbfd934375364218ff10f91 2023-03-27 13:54:01.257\n",
       "2       000117267e1dd62481ef3ae7fb420107 2022-12-16 14:05:24.926\n",
       "3       0001f15911b404f3bf5b8571afafa4e4 2023-11-19 11:53:43.023\n",
       "4       0001f28a707789a7d78dc28fd2e84dce 2023-10-16 00:09:34.334\n",
       "...                                  ...                     ...\n",
       "145128  fffe529de03d6187ef7ed765650c8d2b 2023-02-26 22:40:51.953\n",
       "145129  fffee4d401b390a681491b9f5cfe40fb 2023-12-31 16:37:01.064\n",
       "145130  fffef868442fc8f4f405894b8ff8959f 2023-07-03 13:52:16.228\n",
       "145131  ffffd8d78865a66cb3706977f29d1dec 2023-09-11 19:06:34.388\n",
       "145132  ffffddaaae9808ecc37c5238ada79ce1 2023-11-29 14:23:47.312\n",
       "\n",
       "[145133 rows x 2 columns]"
      ]
     },
     "execution_count": 17,
     "metadata": {},
     "output_type": "execute_result"
    }
   ],
   "source": [
    "first_complete_signup = complete_signup.groupby('user_id')['client_event_time'].min().reset_index()\n",
    "first_complete_signup"
   ]
  },
  {
   "cell_type": "code",
   "execution_count": null,
   "metadata": {},
   "outputs": [
    {
     "name": "stdout",
     "output_type": "stream",
     "text": [
      "=== City ===\n",
      "Seoul            532425\n",
      "Gangnam-gu        62074\n",
      "Suwon             54819\n",
      "Seongnam-si       53785\n",
      "Yongin-si         40355\n",
      "                  ...  \n",
      "Reggio Emilia         1\n",
      "St. John's            1\n",
      "Bergheim              1\n",
      "Jonava                1\n",
      "Wetumpka              1\n",
      "Name: city, Length: 3429, dtype: int64\n",
      "\n",
      "=== Country ===\n",
      "South Korea      2079303\n",
      "United States      18925\n",
      "Japan               5329\n",
      "Canada              4142\n",
      "Germany             3009\n",
      "                  ...   \n",
      "Mauritania             1\n",
      "Kosovo                 1\n",
      "Somalia                1\n",
      "Botswana               1\n",
      "Guyana                 1\n",
      "Name: country, Length: 172, dtype: int64\n",
      "\n",
      "=== Language ===\n",
      "Korean      2021080\n",
      "English      104838\n",
      "Japanese       2416\n",
      "Chinese        1316\n",
      "Russian         792\n",
      "             ...   \n",
      "Oriya             1\n",
      "Catalan           1\n",
      "Latvian           1\n",
      "Albanian          1\n",
      "Bengali           1\n",
      "Name: language, Length: 62, dtype: int64\n",
      "\n",
      "=== Device Type ===\n",
      "Windows                                        845411\n",
      "Apple iPhone                                   354768\n",
      "Mac                                            233654\n",
      "Android                                        166296\n",
      "Samsung Galaxy S21 5G                           23551\n",
      "                                                ...  \n",
      "Nokia C30                                           1\n",
      "Apple iPad Pro 12.9\" (Wi-Fi/Cell - 6th Gen)         1\n",
      "Lenovo Tab 2 A10                                    1\n",
      "Realme 7 Pro                                        1\n",
      "Samsung Galaxy A02                                  1\n",
      "Name: device_type, Length: 529, dtype: int64\n",
      "\n",
      "=== Os Name ===\n",
      "Chrome                  996473\n",
      "Mobile Safari           255461\n",
      "Instagram               203370\n",
      "Edge                    129310\n",
      "Samsung Browser         126208\n",
      "Chrome WebView           92656\n",
      "Whale                    78587\n",
      "Safari                   69421\n",
      "Chrome Mobile            63765\n",
      "WebKit                   54112\n",
      "Facebook                 38996\n",
      "GSA                      11260\n",
      "Firefox                   6280\n",
      "Chrome Headless           2775\n",
      "Opera                     1280\n",
      "Avast Secure Browser       279\n",
      "Yandex                     259\n",
      "MIUI Browser               234\n",
      "Android Browser            213\n",
      "Electron                    45\n",
      "Opera Touch                 41\n",
      "WeChat                      36\n",
      "Silk                        35\n",
      "IE                          35\n",
      "Puffin                      34\n",
      "Line                        22\n",
      "AVG Secure Browser          15\n",
      "Chromium                    11\n",
      "UCBrowser                    7\n",
      "Firefox Focus                5\n",
      "baiduboxapp                  5\n",
      "Quark                        3\n",
      "Opera Mini                   2\n",
      "QQBrowser                    2\n",
      "chrome                       1\n",
      "OviBrowser                   1\n",
      "Konqueror                    1\n",
      "Mozilla                      1\n",
      "NetFront                     1\n",
      "MetaSr                       1\n",
      "Coc Coc                      1\n",
      "Name: os_name, dtype: int64\n",
      "\n",
      "=== User Id ===\n",
      "0555a42d8840da988b921cddd3b50019    3808\n",
      "67732933a01750aae961eaebae75d106    3698\n",
      "d3b2f51ede04364bd9861f8d261f26ec    2072\n",
      "26ad178fe8a2c8b2f4a4195eefad041f    1742\n",
      "e664e06c20a38f01f6144403060b8089    1713\n",
      "                                    ... \n",
      "967de962d86570575ef07d841581ead8       1\n",
      "29948eec861e6e69c37137303ff5fb2f       1\n",
      "6c91f342d948492d4fb1e5b0f43d1da9       1\n",
      "5e474d6ba4e93a449967f89fd8a7f78f       1\n",
      "0d507104136f139cbc9f6fa1db365162       1\n",
      "Name: user_id, Length: 75365, dtype: int64\n",
      "\n"
     ]
    }
   ],
   "source": [
    "counts = {'City': df_main_page ['city'].value_counts().sort_values(ascending=False),\n",
    "\t\t  'Country': df_main_page ['country'].value_counts().sort_values(ascending=False),\n",
    "\t\t  'Language': df_main_page ['language'].value_counts().sort_values(ascending=False),\n",
    "\t\t  'Device Type': df_main_page ['device_type'].value_counts().sort_values(ascending=False),\n",
    "\t\t  'Os Name': df_main_page ['os_name'].value_counts().sort_values(ascending=False),\n",
    "\t\t  'User Id': df_main_page ['user_id'].value_counts().sort_values(ascending=False)\n",
    "}\n",
    "\n",
    "for key, value in counts.items():\n",
    "\t\tprint(f\"=== {key} ===\")\n",
    "\t\tprint(value, end=\"\\n\\n\")"
   ]
  },
  {
   "cell_type": "code",
   "execution_count": null,
   "metadata": {},
   "outputs": [
    {
     "name": "stdout",
     "output_type": "stream",
     "text": [
      "=== City ===\n",
      "Seoul          429644\n",
      "Gangnam-gu      48882\n",
      "Seongnam-si     39142\n",
      "Suwon           37974\n",
      "Yongin-si       29190\n",
      "Seocho-gu       25347\n",
      "Goyang-si       25176\n",
      "Seo-gu          24287\n",
      "Gwanak-gu       24135\n",
      "Buk-gu          23257\n",
      "\n",
      "=== Country ===\n",
      "South Korea       1568137\n",
      "United States       16368\n",
      "Japan                3694\n",
      "Canada               2276\n",
      "Ireland              2104\n",
      "Germany              1950\n",
      "Australia            1470\n",
      "United Kingdom       1382\n",
      "India                1174\n",
      "Singapore            1171\n",
      "\n",
      "=== Language ===\n",
      "Korean        1524988\n",
      "English         79623\n",
      "Japanese         1811\n",
      "Chinese          1186\n",
      "Vietnamese        670\n",
      "Russian           658\n",
      "French            441\n",
      "German            328\n",
      "Spanish           325\n",
      "Thai              151\n",
      "\n",
      "=== Device Type ===\n",
      "Windows                      539192\n",
      "Apple iPhone                 315460\n",
      "Mac                          141482\n",
      "Android                      113087\n",
      "Samsung Galaxy S21 5G         21761\n",
      "Samsung Galaxy Z Flip3 5G     17613\n",
      "Samsung Galaxy S22 Ultra      16064\n",
      "Apple iPad                    15772\n",
      "Apple iPhone 14 Pro           14979\n",
      "Samsung Galaxy S22            14953\n",
      "\n",
      "=== Os Name ===\n",
      "Chrome             658242\n",
      "Mobile Safari      224270\n",
      "Instagram          198313\n",
      "Samsung Browser    107053\n",
      "Edge                87097\n",
      "Chrome WebView      66835\n",
      "Whale               66410\n",
      "Chrome Mobile       48206\n",
      "Safari              47874\n",
      "WebKit              47631\n",
      "\n"
     ]
    }
   ],
   "source": [
    "# user_id가 없는 메인 페이지 방문자들의 주요 특성(도시, 국가, 언어, 기기 등) \n",
    "df2_main_page = df_main_page[df_main_page['user_id'].isnull()]\n",
    "\n",
    "counts = {\n",
    "    'City': df2_main_page['city'].value_counts().sort_values(ascending=False).head(10),\n",
    "    'Country': df2_main_page['country'].value_counts().sort_values(ascending=False).head(10),\n",
    "    'Language': df2_main_page['language'].value_counts().sort_values(ascending=False).head(10),\n",
    "    'Device Type': df2_main_page['device_type'].value_counts().sort_values(ascending=False).head(10),\n",
    "    'Os Name': df2_main_page['os_name'].value_counts().sort_values(ascending=False).head(10)\n",
    "}\n",
    "\n",
    "for key, value in counts.items():\n",
    "    print(f\"=== {key} ===\")\n",
    "    print(value.to_string(), end=\"\\n\\n\")"
   ]
  },
  {
   "cell_type": "markdown",
   "metadata": {},
   "source": [
    "### 메인 페이지 진입 후 가입"
   ]
  },
  {
   "cell_type": "code",
   "execution_count": null,
   "metadata": {},
   "outputs": [],
   "source": [
    "# 최초 메인 페이지 진입일 계산\n",
    "df_first_main_visit = df_main_page.groupby('user_id')['client_event_time'].min().reset_index()\n",
    "df_first_main_visit.rename(columns={'client_event_time': 'first_main_visit_date'}, inplace=True)\n",
    "\n",
    "# 최초 가입일 계산\n",
    "first_complete_signup = complete_signup.groupby('user_id')['client_event_time'].min().reset_index()\n",
    "first_complete_signup.rename(columns={'client_event_time': 'first_signup_date'}, inplace=True)\n",
    "\n",
    "# user_id를 기준으로 메인 페이지 진입 후 가입을 보기 위해 LEFT JOIN으로 메인 페이지 방문 후 가입 정보 결합\n",
    "df_user_journey = pd.merge(df_first_main_visit, first_complete_signup, on='user_id', how='left')"
   ]
  },
  {
   "cell_type": "code",
   "execution_count": 47,
   "metadata": {},
   "outputs": [
    {
     "data": {
      "text/plain": [
       "-7.618691999341058"
      ]
     },
     "execution_count": 47,
     "metadata": {},
     "output_type": "execute_result"
    }
   ],
   "source": [
    "df_user_journey['time_to_signup'] = (df_user_journey['first_signup_date'] - df_user_journey['first_main_visit_date']).dt.days\n",
    "df_user_journey['time_to_signup'].mean()"
   ]
  },
  {
   "cell_type": "code",
   "execution_count": 22,
   "metadata": {},
   "outputs": [
    {
     "data": {
      "text/plain": [
       "미가입      93.970676\n",
       "즉시 가입     6.018709\n",
       "지연 가입     0.010615\n",
       "Name: signup_category, dtype: float64"
      ]
     },
     "execution_count": 22,
     "metadata": {},
     "output_type": "execute_result"
    }
   ],
   "source": [
    "df_user_journey['signup_category'] = df_user_journey['time_to_signup'].apply(\n",
    "    lambda x: '즉시 가입' if x == 0 else ('지연 가입' if x > 0 else '미가입')\n",
    ")\n",
    "\n",
    "df_user_journey['signup_category'].value_counts(normalize=True) * 100"
   ]
  },
  {
   "cell_type": "markdown",
   "metadata": {},
   "source": [
    "미가입: 방문했지만 가입하지 않은 비율이 93.97% -> 대부분의 방문 유저가 회원 가입 페이지에서 바로 가입한 것으로 추측됨                  \n",
    "즉시 가입: 메인 페이지 방문한 당일 가입한 비율이 6.01%                      \n",
    "지연 가입: 방문 후 며칠 지나고 가입한 비율이 0.01%                              "
   ]
  },
  {
   "cell_type": "code",
   "execution_count": 21,
   "metadata": {},
   "outputs": [
    {
     "name": "stdout",
     "output_type": "stream",
     "text": [
      "가입 전환율: 72.49%\n"
     ]
    }
   ],
   "source": [
    "signup_conversion_rate = df_user_journey['first_signup_date'].notnull().mean() * 100\n",
    "print(f\"가입 전환율: {signup_conversion_rate:.2f}%\")"
   ]
  },
  {
   "cell_type": "code",
   "execution_count": 32,
   "metadata": {},
   "outputs": [
    {
     "data": {
      "image/png": "[encoded data removed]",
      "text/plain": [
       "<Figure size 800x400 with 1 Axes>"
      ]
     },
     "metadata": {},
     "output_type": "display_data"
    }
   ],
   "source": [
    "df_user_journey['visit_month'] = df_user_journey['first_main_visit_date'].dt.month\n",
    "monthly_conversion = df_user_journey.groupby('visit_month')['first_signup_date'].count() / df_user_journey.groupby('visit_month')['user_id'].count() * 100\n",
    "\n",
    "plt.figure(figsize=(8, 4))\n",
    "bars = plt.bar(monthly_conversion.index, monthly_conversion.values, color='skyblue')\n",
    "\n",
    "for bar in bars:\n",
    "    height = bar.get_height()\n",
    "    plt.text(bar.get_x() + bar.get_width() / 2, height + 0.5, f\"{height:.1f}%\", ha='center', fontsize=10)\n",
    "\n",
    "plt.title(\"월별 메인 페이지 방문 후 가입 전환율\")\n",
    "plt.ylabel(\"가입 전환율 (%)\")\n",
    "plt.xlabel(\"월\")\n",
    "plt.xticks(monthly_conversion.index)  \n",
    "plt.ylim(0, max(monthly_conversion.values) + 5) \n",
    "plt.grid(axis='y', linestyle='--', alpha=0.7)\n",
    "plt.show()"
   ]
  },
  {
   "cell_type": "code",
   "execution_count": null,
   "metadata": {},
   "outputs": [
    {
     "data": {
      "image/png": "[encoded data removed]",
      "text/plain": [
       "<Figure size 800x400 with 1 Axes>"
      ]
     },
     "metadata": {},
     "output_type": "display_data"
    }
   ],
   "source": [
    "import matplotlib.pyplot as plt\n",
    "\n",
    "df_user_journey['visit_weekday'] = df_user_journey['first_main_visit_date'].dt.day_name()\n",
    "weekday_conversion = df_user_journey.groupby('visit_weekday')['first_signup_date'].count() / df_user_journey.groupby('visit_weekday')['user_id'].count() * 100\n",
    "\n",
    "plt.figure(figsize=(8, 4))\n",
    "\n",
    "weekday_order = ['Monday', 'Tuesday', 'Wednesday', 'Thursday', 'Friday', 'Saturday', 'Sunday']\n",
    "weekday_conversion = weekday_conversion.reindex(weekday_order)\n",
    "\n",
    "bars = plt.bar(weekday_conversion.index, weekday_conversion.values, color='skyblue')\n",
    "\n",
    "for bar in bars:\n",
    "    height = bar.get_height()\n",
    "    plt.text(bar.get_x() + bar.get_width() / 2, height + 0.5, f\"{height:.1f}%\", ha='center', fontsize=10)\n",
    "\n",
    "plt.title(\"요일별 메인 페이지 방문 후 가입 전환율\")\n",
    "plt.ylabel(\"가입 전환율 (%)\")\n",
    "plt.xlabel(\"요일\")\n",
    "plt.xticks(rotation=45) \n",
    "plt.ylim(0, max(weekday_conversion.values) + 5)\n",
    "plt.grid(axis='y', linestyle='--', alpha=0.7)\n",
    "\n",
    "plt.show()"
   ]
  },
  {
   "cell_type": "markdown",
   "metadata": {},
   "source": [
    "- 월별 메인 페이지 진입 후 가입 전환율은 12월달이 86.1%로 가장 높게 나타났다.\n",
    "- 요일별 메인 페이지 진입 후 가입 전환율은 토요일이 74.8%로 가장 높게 나타났다."
   ]
  },
  {
   "cell_type": "code",
   "execution_count": null,
   "metadata": {},
   "outputs": [],
   "source": []
  },
  {
   "cell_type": "markdown",
   "metadata": {},
   "source": [
    "# EDA 시각화"
   ]
  },
  {
   "cell_type": "markdown",
   "metadata": {},
   "source": [
    "#### 월별 회원가입 진입 및 완료 수"
   ]
  },
  {
   "cell_type": "code",
   "execution_count": 10,
   "metadata": {},
   "outputs": [
    {
     "data": {
      "image/png": "[encoded data removed]",
      "text/plain": [
       "<Figure size 1500x500 with 2 Axes>"
      ]
     },
     "metadata": {},
     "output_type": "display_data"
    }
   ],
   "source": [
    "fig, axes = plt.subplots(1, 2, figsize=(15, 5))  # 1행 2열의 서브플롯 생성\n",
    "\n",
    "# 회원가입 페이지 진입\n",
    "signup_page['client_event_time'].dt.month.value_counts().sort_index().plot(\n",
    "    kind='bar', ax=axes[0], color='skyblue'\n",
    ")\n",
    "axes[0].set_title('회원가입 페이지 진입')\n",
    "axes[0].set_ylabel('Counts')\n",
    "axes[0].set_xlabel('월(month)')\n",
    "axes[0].set_ylim(30000) \n",
    "\n",
    "# 회원가입 완료\n",
    "complete_signup['client_event_time'].dt.month.value_counts().sort_index().plot(\n",
    "    kind='bar', ax=axes[1], color='salmon'\n",
    ")\n",
    "axes[1].set_title('회원가입 완료')\n",
    "axes[1].set_xlabel('월(month)')\n",
    "axes[1].set_ylim(0, 30000) \n",
    "\n",
    "plt.suptitle('월별 회원가입 진입 및 완료')  \n",
    "plt.tight_layout()\n",
    "plt.show()"
   ]
  },
  {
   "cell_type": "markdown",
   "metadata": {},
   "source": [
    "#### 요일별 회원가입 진입 및 완료 수"
   ]
  },
  {
   "cell_type": "code",
   "execution_count": null,
   "metadata": {},
   "outputs": [
    {
     "data": {
      "image/png": "[encoded data removed]",
      "text/plain": [
       "<Figure size 1500x500 with 2 Axes>"
      ]
     },
     "metadata": {},
     "output_type": "display_data"
    }
   ],
   "source": [
    "fig, axes = plt.subplots(1, 2, figsize=(15, 5))  # 1행 2열의 서브플롯 생성\n",
    "\n",
    "# 첫 번째 그래프 (회원가입 페이지 진입)\n",
    "signup_page['client_event_time'].dt.weekday.value_counts().sort_index().plot(\n",
    "    kind='bar', ax=axes[0], color='skyblue'\n",
    ")\n",
    "axes[0].set_title('회원가입 페이지 진입')\n",
    "axes[0].set_ylabel('Counts')\n",
    "axes[0].set_xlabel('요일 (Monday=0, Sunday=6)')\n",
    "axes[0].set_ylim(60000) \n",
    "\n",
    "# 두 번째 그래프 (회원가입 완료)\n",
    "complete_signup['client_event_time'].dt.weekday.value_counts().sort_index().plot(\n",
    "    kind='bar', ax=axes[1], color='salmon'\n",
    ")\n",
    "axes[1].set_title('회원가입 완료')\n",
    "axes[1].set_xlabel('요일 (Monday=0, Sunday=6)')\n",
    "axes[1].set_ylim(0, 30000) \n",
    "\n",
    "plt.suptitle('요일별 회원가입 진입 및 완료 시점')  \n",
    "plt.tight_layout()\n",
    "plt.show()"
   ]
  },
  {
   "cell_type": "markdown",
   "metadata": {},
   "source": [
    "- 요일별 회원가입 페이지 진입 수는 화요일이 가장 많은 것으로 나타났다.\n",
    "- 진입 수 결과와 비교했을 때 예상대로, 요일별 회원가입 페이지 완료 수는 화요일이 가장 많은 것으로 확인할 수 있다."
   ]
  },
  {
   "cell_type": "markdown",
   "metadata": {},
   "source": [
    "#### 회원가입 완료율"
   ]
  },
  {
   "cell_type": "code",
   "execution_count": null,
   "metadata": {},
   "outputs": [
    {
     "name": "stdout",
     "output_type": "stream",
     "text": [
      "회원가입 완료 비율: 24.32%\n"
     ]
    }
   ],
   "source": [
    "# 총 회원가입 시도 수 -> 회원가입 페이지 접속한 경우 시도했다고 가정\n",
    "total_signups = signup_page['event_type'].count()\n",
    "# 회원가입 완료 수\n",
    "completed_signups = complete_signup['event_type'].count()\n",
    "\n",
    "signup_completion_rate = (completed_signups / total_signups) * 100\n",
    "\n",
    "# 결과 출력\n",
    "print(f'회원가입 완료 비율: {signup_completion_rate:.2f}%')"
   ]
  },
  {
   "cell_type": "code",
   "execution_count": null,
   "metadata": {},
   "outputs": [
    {
     "name": "stdout",
     "output_type": "stream",
     "text": [
      "비로그인 방문자 대비 회원가입률: 9.01%\n"
     ]
    }
   ],
   "source": [
    "# user_id가 없는 메인 페이지 방문자 수\n",
    "anonymous_visitors = df_main_page['user_id'].isna().sum()\n",
    "\n",
    "# 회원가입 완료한 유저 수 (가입을 완료한 user_id 수)\n",
    "total_completed_signups = complete_signup['user_id'].nunique()\n",
    "\n",
    "# 비로그인 방문자 대비 회원가입률 계산\n",
    "signup_conversion_rate = (total_completed_signups / anonymous_visitors) * 100\n",
    "\n",
    "print(f\"비로그인 방문자 대비 회원가입율: {signup_conversion_rate:.2f}%\")"
   ]
  },
  {
   "cell_type": "markdown",
   "metadata": {},
   "source": [
    "#### 시간대별 회원가입 완료율"
   ]
  },
  {
   "cell_type": "code",
   "execution_count": null,
   "metadata": {},
   "outputs": [
    {
     "name": "stdout",
     "output_type": "stream",
     "text": [
      "signup_hour\n",
      "0     24.577292\n",
      "1     24.397400\n",
      "2     23.215494\n",
      "3     22.783556\n",
      "4     22.180390\n",
      "5     21.969567\n",
      "6     21.694058\n",
      "7     21.807419\n",
      "8     23.349683\n",
      "9     23.944882\n",
      "10    24.208699\n",
      "11    25.220302\n",
      "12    24.247279\n",
      "13    24.932656\n",
      "14    25.084442\n",
      "15    24.967011\n",
      "16    24.585186\n",
      "17    25.105681\n",
      "18    24.520612\n",
      "19    24.643087\n",
      "20    24.647327\n",
      "21    24.424455\n",
      "22    24.467398\n",
      "23    22.870872\n",
      "dtype: float64\n"
     ]
    }
   ],
   "source": [
    "df2_signup_page = signup_page.copy()\n",
    "df2_complete_signup = complete_signup.copy()\n",
    "\n",
    "df2_signup_page['signup_hour'] = signup_page['client_event_time'].dt.hour\n",
    "df2_complete_signup['signup_hour'] = df2_complete_signup['client_event_time'].dt.hour\n",
    "\n",
    "signups_by_hour = df2_signup_page.groupby('signup_hour')['event_type'].count()\n",
    "completed_by_hour = df2_complete_signup.groupby('signup_hour')['user_id'].count()\n",
    "\n",
    "hourly_conversion_rate = (completed_by_hour / signups_by_hour * 100).fillna(0)\n",
    "print(hourly_conversion_rate)"
   ]
  },
  {
   "cell_type": "code",
   "execution_count": 45,
   "metadata": {},
   "outputs": [
    {
     "data": {
      "image/png": "[encoded data removed]",
      "text/plain": [
       "<Figure size 800x400 with 1 Axes>"
      ]
     },
     "metadata": {},
     "output_type": "display_data"
    }
   ],
   "source": [
    "df2_signup_page = signup_page.copy()\n",
    "df2_complete_signup = complete_signup.copy()\n",
    "\n",
    "df2_signup_page['signup_hour'] = signup_page['client_event_time'].dt.hour\n",
    "df2_complete_signup['signup_hour'] = df2_complete_signup['client_event_time'].dt.hour\n",
    "\n",
    "# 시간대별 가입 시도 수\n",
    "signups_by_hour = df2_signup_page.groupby('signup_hour')['event_type'].count()\n",
    "\n",
    "# 시간대별 가입 완료 수\n",
    "completed_by_hour = df2_complete_signup.groupby('signup_hour')['user_id'].count()\n",
    "\n",
    "# 시간대별 전환율 계산\n",
    "hourly_conversion_rate = (completed_by_hour / signups_by_hour * 100).fillna(0)\n",
    "\n",
    "plt.figure(figsize=(8, 4))\n",
    "hourly_conversion_rate.sort_index().plot(kind='line', marker='o', linestyle='-', color='b')\n",
    "plt.title(\"시간대별 회원가입 완료율\")\n",
    "plt.xlabel(\"시간대 (시)\")\n",
    "plt.ylabel(\"전환율 (%)\")\n",
    "plt.xticks(range(0, 24, 1))\n",
    "plt.grid(axis='y', linestyle='--', alpha=0.7)\n",
    "plt.show()"
   ]
  },
  {
   "cell_type": "code",
   "execution_count": null,
   "metadata": {},
   "outputs": [],
   "source": [
    "df2_signup_page = signup_page.copy()\n",
    "df2_complete_signup = complete_signup.copy()\n",
    "\n",
    "df2_signup_page['signup_month'] = signup_page['client_event_time'].dt.month\n",
    "df2_complete_signup['signup_month'] = df2_complete_signup['client_event_time'].dt.month"
   ]
  },
  {
   "cell_type": "code",
   "execution_count": 25,
   "metadata": {},
   "outputs": [
    {
     "data": {
      "image/png": "[encoded data removed]",
      "text/plain": [
       "<Figure size 800x400 with 1 Axes>"
      ]
     },
     "metadata": {},
     "output_type": "display_data"
    }
   ],
   "source": [
    "# 월별 가입 시도 수 계산\n",
    "signups_by_month = df2_signup_page.groupby('signup_month')['client_event_time'].count()\n",
    "\n",
    "# 월별 가입 완료 수 계산\n",
    "completed_by_month = df2_complete_signup.groupby('signup_month')['user_id'].count()\n",
    "\n",
    "# 가입 시도가 없는 달이 있을 경우 0으로 채우기\n",
    "signups_by_month = signups_by_month.reindex(range(1, 13), fill_value=0)\n",
    "completed_by_month = completed_by_month.reindex(range(1, 13), fill_value=0)\n",
    "\n",
    "# 월별 전환율 계산\n",
    "monthly_conversion_rate = (completed_by_month / signups_by_month * 100).fillna(0)\n",
    "\n",
    "plt.figure(figsize=(8, 4))\n",
    "monthly_conversion_rate.sort_index().plot(kind='line', marker='o', linestyle='-', color='b')\n",
    "plt.title(\"월별 회원가입 전환율\")\n",
    "plt.xlabel(\"월\")\n",
    "plt.ylabel(\"전환율 (%)\")\n",
    "\n",
    "plt.xticks(ticks=monthly_conversion_rate.index, labels=monthly_conversion_rate.index.astype(str))\n",
    "\n",
    "plt.grid(axis='y', linestyle='--', alpha=0.7)\n",
    "\n",
    "for month, rate in monthly_conversion_rate.items():\n",
    "    plt.text(month, rate + 0.5, f\"{rate:.1f}%\", ha='center', fontsize=10)\n",
    "\n",
    "plt.show()"
   ]
  },
  {
   "cell_type": "markdown",
   "metadata": {},
   "source": [
    "#### 주중 vs 주말 접속자 가입 분석\n",
    "- 주중 방문 유저의 가입 확률과 주말 방문 유저의 가입 확률 비교"
   ]
  },
  {
   "cell_type": "code",
   "execution_count": null,
   "metadata": {},
   "outputs": [
    {
     "data": {
      "image/png": "[encoded data removed]",
      "text/plain": [
       "<Figure size 600x400 with 1 Axes>"
      ]
     },
     "metadata": {},
     "output_type": "display_data"
    }
   ],
   "source": [
    "df2_signup_page = signup_page.copy()\n",
    "df2_complete_signup = complete_signup.copy()\n",
    "\n",
    "df2_signup_page['weekday'] = df2_signup_page['client_event_time'].dt.weekday\n",
    "df2_complete_signup['weekday'] = df2_complete_signup['client_event_time'].dt.weekday\n",
    "\n",
    "df2_signup_page['weekday_flag'] = df2_signup_page['weekday'].apply(lambda x: '주중' if x < 5 else '주말')\n",
    "df2_complete_signup['weekday_flag'] = df2_complete_signup['weekday'].apply(lambda x: '주중' if x < 5 else '주말')\n",
    "\n",
    "# 주중 & 주말 방문자 수\n",
    "visits_by_weekday = df2_signup_page['weekday_flag'].value_counts()\n",
    "\n",
    "# 주중 & 주말 회원가입 완료 수\n",
    "signups_by_weekday = df2_complete_signup['weekday_flag'].value_counts()\n",
    "\n",
    "# 가입 확률(전환율) 계산\n",
    "conversion_rate = (signups_by_weekday / visits_by_weekday * 100).fillna(0)\n",
    "\n",
    "plt.figure(figsize=(6, 4))\n",
    "plt.bar(conversion_rate.index, conversion_rate.values, color=['blue', 'orange'], alpha=0.7)\n",
    "\n",
    "plt.title(\"주중 vs 주말 회원가입 전환율 비교\")\n",
    "plt.ylabel(\"전환율 (%)\")\n",
    "plt.ylim(0, max(conversion_rate) + 5)  \n",
    "plt.grid(axis='y', linestyle='--', alpha=0.7)\n",
    "\n",
    "for i, v in enumerate(conversion_rate):\n",
    "    plt.text(i, v + 0.5, f\"{v:.1f}%\", ha='center', fontsize=12)\n",
    "\n",
    "plt.show()"
   ]
  },
  {
   "cell_type": "markdown",
   "metadata": {},
   "source": [
    "- 앞선 분석 결과에서 요일별 메인 페이지 방문 후 가입 전환율을 비교했을 때,               \n",
    "  예상대로 주말의 회원가입 전환율이 24.8%의 비율로 주중 회원가입 전환율 보다 0.6% 높게 나타난 것을 확인할 수 있다. "
   ]
  },
  {
   "cell_type": "markdown",
   "metadata": {},
   "source": [
    "#### OS별 회원가입 완료율"
   ]
  },
  {
   "cell_type": "code",
   "execution_count": 32,
   "metadata": {},
   "outputs": [
    {
     "name": "stdout",
     "output_type": "stream",
     "text": [
      "os_name\n",
      "AVG Secure Browser       5.555556\n",
      "Android Browser          0.502513\n",
      "Avast Secure Browser     8.411215\n",
      "Chrome                   8.601572\n",
      "Chrome Headless          0.000000\n",
      "Chrome Mobile           12.132839\n",
      "Chrome WebView           7.767046\n",
      "Chromium                66.666667\n",
      "Edge                     8.175130\n",
      "Electron                 0.000000\n",
      "Facebook                 5.818219\n",
      "Firefox                  9.743202\n",
      "GSA                      7.265469\n",
      "IE                       0.000000\n",
      "Instagram                6.406824\n",
      "Line                     0.000000\n",
      "MIUI Browser             3.418803\n",
      "Maxthon                  0.000000\n",
      "Mobile Safari            5.901939\n",
      "Opera                    8.624709\n",
      "Opera Touch              0.000000\n",
      "Puffin                   0.000000\n",
      "QQ                       0.000000\n",
      "QQBrowser                0.000000\n",
      "Quark                    0.000000\n",
      "Safari                   6.394183\n",
      "Samsung Browser          5.003710\n",
      "Silk                     0.000000\n",
      "UCBrowser                0.000000\n",
      "WeChat                   0.000000\n",
      "WebKit                  10.403298\n",
      "Whale                    4.569822\n",
      "Yandex                   0.000000\n",
      "baiduboxapp              0.000000\n",
      "dtype: float64\n"
     ]
    }
   ],
   "source": [
    "signups_by_os = df2_signup_page.groupby('os_name')['event_type'].count()\n",
    "completed_by_os = df2_complete_signup.groupby('os_name')['user_id'].count()\n",
    "\n",
    "hourly_conversion_rate = (completed_by_os / signups_by_os * 100).fillna(0)\n",
    "print(hourly_conversion_rate)"
   ]
  },
  {
   "cell_type": "markdown",
   "metadata": {},
   "source": [
    "#### 인스타 브라우저 이용 접속자 가입 분석"
   ]
  },
  {
   "cell_type": "code",
   "execution_count": 36,
   "metadata": {},
   "outputs": [
    {
     "data": {
      "image/png": "[encoded data removed]",
      "text/plain": [
       "<Figure size 800x400 with 1 Axes>"
      ]
     },
     "metadata": {},
     "output_type": "display_data"
    }
   ],
   "source": [
    "df2_signup_page['signup_month'] = df2_signup_page['client_event_time'].dt.month\n",
    "df2_complete_signup['signup_month'] = df2_complete_signup['client_event_time'].dt.month\n",
    "\n",
    "# Instagram에서 회원가입 시도한 데이터 필터링\n",
    "insta_signup_page = df2_signup_page[df2_signup_page['os_name'] == 'Instagram']\n",
    "insta_complete_signup = df2_complete_signup[df2_complete_signup['os_name'] == 'Instagram']\n",
    "\n",
    "# 월별 가입 시도 수\n",
    "signups_by_month = insta_signup_page.groupby('signup_month')['event_type'].count()\n",
    "# 월별 가입 완료 수\n",
    "completed_by_month = insta_complete_signup.groupby('signup_month')['user_id'].count()\n",
    "\n",
    "# 월별 전환율\n",
    "monthly_conversion_rate = (completed_by_month / signups_by_month * 100).fillna(0)\n",
    "\n",
    "month_labels = [str(i) + \"월\" for i in range(1, 13)]\n",
    "monthly_conversion_rate = monthly_conversion_rate.reindex(range(1, 13), fill_value=0)\n",
    "\n",
    "plt.figure(figsize=(8, 4))\n",
    "plt.bar(month_labels, monthly_conversion_rate, color='skyblue', alpha=0.8)\n",
    "\n",
    "plt.title(\"월별 회원가입 전환율 (Instagram)\")\n",
    "plt.xlabel(\"월\")\n",
    "plt.ylabel(\"전환율 (%)\")\n",
    "plt.ylim(0, max(monthly_conversion_rate) + 5)  # Y축 범위 조정\n",
    "plt.grid(axis='y', linestyle='--', alpha=0.7)\n",
    "\n",
    "# 각 막대 위에 값 표시\n",
    "for i, v in enumerate(monthly_conversion_rate):\n",
    "    plt.text(i, v + 0.5, f\"{v:.1f}%\", ha='center', fontsize=12)\n",
    "\n",
    "plt.show()"
   ]
  },
  {
   "cell_type": "code",
   "execution_count": null,
   "metadata": {},
   "outputs": [
    {
     "data": {
      "image/png": "[encoded data removed]",
      "text/plain": [
       "<Figure size 800x400 with 1 Axes>"
      ]
     },
     "metadata": {},
     "output_type": "display_data"
    }
   ],
   "source": [
    "df2_signup_page['signup_weekday'] = df2_signup_page['client_event_time'].dt.weekday\n",
    "df2_complete_signup['signup_weekday'] = df2_complete_signup['client_event_time'].dt.weekday\n",
    "\n",
    "# Instagram에서 회원가입 시도한 데이터 필터링\n",
    "insta_signup_page = df2_signup_page[df2_signup_page['os_name'] == 'Instagram']\n",
    "insta_complete_signup = df2_complete_signup[df2_complete_signup['os_name'] == 'Instagram']\n",
    "\n",
    "# 요일별 가입 시도 수\n",
    "signups_by_weekday = insta_signup_page.groupby('signup_weekday')['event_type'].count()\n",
    "# 요일별 가입 완료 수\n",
    "completed_by_weekday = insta_complete_signup.groupby('signup_weekday')['user_id'].count()\n",
    "\n",
    "# 요일별 전환율 계산\n",
    "weekly_conversion_rate = (completed_by_weekday / signups_by_weekday * 100).fillna(0)\n",
    "\n",
    "weekday_labels = ['월', '화', '수', '목', '금', '토', '일']\n",
    "df2_signup_page['signup_weekday'] = df2_signup_page['signup_weekday'].map(lambda x: weekday_labels[x])\n",
    "weekly_conversion_rate = weekly_conversion_rate.reindex(range(7), fill_value=0)\n",
    "\n",
    "plt.figure(figsize=(8, 4))\n",
    "bars = plt.bar(df2_signup_page['signup_weekday'], weekly_conversion_rate, color='skyblue', alpha=0.8)\n",
    "\n",
    "for bar, (index, value) in zip(bars, weekly_conversion_rate.items()):\n",
    "    plt.text(bar.get_x() + bar.get_width() / 2, value + 0.5, f\"{value:.1f}%\", ha='center', fontsize=12)\n",
    "\n",
    "plt.title(\"요일별 회원가입 전환율 (Instagram)\")\n",
    "plt.xlabel(\"요일\")\n",
    "plt.ylabel(\"전환율 (%)\")\n",
    "plt.ylim(0, max(weekly_conversion_rate) + 5)  # Y축 범위 조정\n",
    "plt.grid(axis='y', linestyle='--', alpha=0.7)\n",
    "\n",
    "plt.show()"
   ]
  },
  {
   "cell_type": "code",
   "execution_count": null,
   "metadata": {},
   "outputs": [
    {
     "data": {
      "image/png": "[encoded data removed]",
      "text/plain": [
       "<Figure size 800x400 with 1 Axes>"
      ]
     },
     "metadata": {},
     "output_type": "display_data"
    }
   ],
   "source": [
    "insta_signup_page = df2_signup_page[df2_signup_page['os_name'] == 'Instagram']\n",
    "insta_complete_signup = df2_complete_signup[df2_complete_signup['os_name'] == 'Instagram']\n",
    "\n",
    "# 시간대별 가입 시도 수\n",
    "signups_by_hour = insta_signup_page.groupby('signup_hour')['event_type'].count()\n",
    "\n",
    "# 시간대별 가입 완료 수\n",
    "completed_by_hour = insta_complete_signup.groupby('signup_hour')['user_id'].count()\n",
    "\n",
    "# 시간대별 전환율 계산 (가입 완료 수 / 가입 시도 수 * 100)\n",
    "hourly_conversion_rate = (completed_by_hour / signups_by_hour * 100).fillna(0)\n",
    "\n",
    "plt.figure(figsize=(8, 4))\n",
    "hourly_conversion_rate.sort_index().plot(kind='line', marker='o', linestyle='-', color='b')\n",
    "\n",
    "plt.title(\"시간대별 회원가입 전환율 (Instagram)\")\n",
    "plt.xlabel(\"시간대 (시)\")\n",
    "plt.ylabel(\"전환율 (%)\")\n",
    "plt.xticks(range(0, 24, 1))  # x축을 0~23시간 단위로 설정\n",
    "plt.grid(axis='y', linestyle='--', alpha=0.7)\n",
    "\n",
    "plt.show()"
   ]
  },
  {
   "cell_type": "markdown",
   "metadata": {},
   "source": [
    "#### 브라우저 카테고리 매핑"
   ]
  },
  {
   "cell_type": "code",
   "execution_count": null,
   "metadata": {},
   "outputs": [],
   "source": [
    "# 브라우저 데이터 추출 및 집계\n",
    "browser_counts = signup_page['os_name'].value_counts().reset_index()\n",
    "browser_counts.columns = ['browser', 'count']\n",
    "\n",
    "# 브라우저 카테고리 매핑\n",
    "# QQ: 중국 Tencent가 운영하는 메신저\n",
    "\n",
    "browser_category = {\n",
    "    \"모바일\": {\"Mobile Safari\", \"Samsung Browser\", \"Chrome Mobile\", \"WebKit\", \"Chrome WebView\",\n",
    "             \"MIUI Browser\", \"Android Browser\", \"GSA\", \"UCBrowser\", \"Opera Touch\", \"Puffin\", \"Silk\",\"QQBrowser\"},\n",
    "    \"웹\": {\"Chrome\", \"Edge\", \"Whale\", \"Safari\", \"Firefox\", \"Opera\", \"Chromium\",\n",
    "           \"Avast Secure Browser\", \"AVG Secure Browser\", \"Yandex\", \"IE\", \"Maxthon\",\"Chrome Headless\", \"Electron\",\n",
    "           \"Opera Mini\", \"MetaSr\", \"Konqueror\", \"Mozilla\", \"NetFront\", \"Coc Coc\"},\n",
    "    \"SNS\": {\"Instagram\", \"Facebook\", \"WeChat\", \"QQ\", \"Line\"}\n",
    "}"
   ]
  },
  {
   "cell_type": "code",
   "execution_count": 21,
   "metadata": {},
   "outputs": [
    {
     "name": "stdout",
     "output_type": "stream",
     "text": [
      "  category   count\n",
      "0      SNS   74143\n",
      "1       기타      54\n",
      "2      모바일  168607\n",
      "3        웹  353950\n"
     ]
    }
   ],
   "source": [
    "def assign_category(browser):\n",
    "    browser = browser.lower()\n",
    "    for category, browser_list in browser_category.items():\n",
    "        if any(b.lower() in browser for b in browser_list):  \n",
    "            return category\n",
    "    return \"기타\" \n",
    "\n",
    "# 브라우저별 카테고리 추가\n",
    "browser_counts['category'] = browser_counts['browser'].apply(assign_category)\n",
    "\n",
    "browser_category_sum = browser_counts.groupby('category')['count'].sum().reset_index()\n",
    "\n",
    "print(browser_category_sum)"
   ]
  },
  {
   "cell_type": "code",
   "execution_count": null,
   "metadata": {},
   "outputs": [],
   "source": []
  },
  {
   "cell_type": "markdown",
   "metadata": {},
   "source": [
    "### 데이터 전처리 \n",
    "- 22~23년도 데이터만 보기"
   ]
  },
  {
   "cell_type": "code",
   "execution_count": null,
   "metadata": {},
   "outputs": [],
   "source": [
    "# 로그인 방식 : test 제거\n",
    "df_complete_signup = complete_signup[complete_signup['type'] != 'test']\n",
    "\n",
    "# 2022-2023년도 데이터만 필터링\n",
    "df_signup_page = signup_page[signup_page['client_event_time'].dt.year.isin([2022, 2023])]\n",
    "df_complete_signup = df_complete_signup[df_complete_signup['client_event_time'].dt.year.isin([2022, 2023])]"
   ]
  },
  {
   "cell_type": "code",
   "execution_count": null,
   "metadata": {},
   "outputs": [
    {
     "name": "stdout",
     "output_type": "stream",
     "text": [
      "회원가입 완료 비율: 24.32%\n",
      "가입 이탈율: 75.68%\n"
     ]
    }
   ],
   "source": [
    "# 총 회원가입 시도 수 -> 회원가입 페이지 접속한 경우 시도했다고 가정\n",
    "total_signups = df_signup_page['event_type'].count()\n",
    "# 회원가입 완료 수\n",
    "completed_signups = df_complete_signup['user_id'].nunique()\n",
    "\n",
    "signup_completion_rate = (completed_signups / total_signups) * 100\n",
    "\n",
    "# 가입 이탈율 계산\n",
    "abandonment_rate = 100 - signup_completion_rate\n",
    "\n",
    "print(f'회원가입 완료 비율: {signup_completion_rate:.2f}%')\n",
    "print(f'가입 이탈율: {abandonment_rate:.2f}%')"
   ]
  },
  {
   "cell_type": "markdown",
   "metadata": {},
   "source": [
    "### 22-23년도 회원가입율"
   ]
  },
  {
   "cell_type": "code",
   "execution_count": 18,
   "metadata": {},
   "outputs": [
    {
     "data": {
      "image/png": "[encoded data removed]",
      "text/plain": [
       "<Figure size 1500x500 with 2 Axes>"
      ]
     },
     "metadata": {},
     "output_type": "display_data"
    }
   ],
   "source": [
    "fig, axes = plt.subplots(1, 2, figsize=(15, 5))  \n",
    "\n",
    "# 회원가입 페이지 진입\n",
    "df_signup_page['client_event_time'].dt.month.value_counts().sort_index().plot(\n",
    "    kind='bar', ax=axes[0], color='skyblue'\n",
    ")\n",
    "axes[0].set_title('회원가입 페이지 진입')\n",
    "axes[0].set_ylabel('Counts')\n",
    "axes[0].set_xlabel('월(month)')\n",
    "axes[0].set_ylim(30000) \n",
    "\n",
    "# 회원가입 완료\n",
    "df_complete_signup['client_event_time'].dt.month.value_counts().sort_index().plot(\n",
    "    kind='bar', ax=axes[1], color='salmon'\n",
    ")\n",
    "axes[1].set_title('회원가입 완료')\n",
    "axes[1].set_xlabel('월(month)')\n",
    "axes[1].set_ylim(0, 30000) \n",
    "\n",
    "plt.suptitle('월별 회원가입 진입 및 완료')  \n",
    "plt.tight_layout()\n",
    "plt.show()"
   ]
  },
  {
   "cell_type": "code",
   "execution_count": 34,
   "metadata": {},
   "outputs": [
    {
     "data": {
      "image/png": "[encoded data removed]",
      "text/plain": [
       "<Figure size 800x400 with 1 Axes>"
      ]
     },
     "metadata": {},
     "output_type": "display_data"
    }
   ],
   "source": [
    "# 월별 회원가입 페이지 진입 수\n",
    "signup_entry_counts = df_signup_page['client_event_time'].dt.month.value_counts().sort_index()\n",
    "# 월별 회원가입 완료 수\n",
    "signup_complete_counts = df_complete_signup['client_event_time'].dt.month.value_counts().sort_index()\n",
    "\n",
    "# 회원가입 완료율 계산 (가입 페이지 진입 대비 완료율)\n",
    "monthly_conversion_rate = (signup_complete_counts / signup_entry_counts * 100).fillna(0)\n",
    "\n",
    "plt.figure(figsize=(8, 4))\n",
    "\n",
    "monthly_conversion_rate.plot(kind='bar', color='purple', alpha=0.5)\n",
    "\n",
    "plt.title(\"월별 회원가입 완료율\")\n",
    "plt.xlabel(\"월 (Month)\")\n",
    "plt.ylabel(\"완료율 (%)\")\n",
    "\n",
    "plt.xticks(ticks=range(len(monthly_conversion_rate.index)), labels=monthly_conversion_rate.index, rotation=0)\n",
    "\n",
    "plt.ylim(0, max(monthly_conversion_rate) * 1.1) \n",
    "plt.grid(axis='y', linestyle='--', alpha=0.7)\n",
    "\n",
    "plt.show()"
   ]
  },
  {
   "cell_type": "code",
   "execution_count": null,
   "metadata": {},
   "outputs": [],
   "source": [
    "# 월별 회원가입 페이지 진입 수\n",
    "signup_entry_counts = df_signup_page['client_event_time'].dt.month.value_counts().sort_index()\n",
    "# 월별 회원가입 완료 수\n",
    "signup_complete_counts = df_complete_signup['client_event_time'].dt.month.value_counts().sort_index()\n",
    "\n",
    "# 회원가입 완료율 계산 (가입 페이지 진입 대비 완료율)\n",
    "monthly_conversion_rate = (signup_complete_counts / signup_entry_counts * 100).fillna(0)\n",
    "\n",
    "plt.figure(figsize=(8, 4))\n",
    "\n",
    "monthly_conversion_rate.plot(kind='bar', color='purple', alpha=0.5)\n",
    "\n",
    "plt.title(\"월별 회원가입 완료율\")\n",
    "plt.xlabel(\"월 (Month)\")\n",
    "plt.ylabel(\"완료율 (%)\")\n",
    "\n",
    "plt.xticks(ticks=range(len(monthly_conversion_rate.index)), labels=monthly_conversion_rate.index, rotation=0)\n",
    "\n",
    "plt.ylim(0, max(monthly_conversion_rate) * 1.1) \n",
    "plt.grid(axis='y', linestyle='--', alpha=0.7)\n",
    "\n",
    "plt.show()"
   ]
  },
  {
   "cell_type": "code",
   "execution_count": null,
   "metadata": {},
   "outputs": [],
   "source": []
  },
  {
   "cell_type": "markdown",
   "metadata": {},
   "source": [
    "### 브라우저 카테고리별 가입 완료율"
   ]
  },
  {
   "cell_type": "code",
   "execution_count": 29,
   "metadata": {},
   "outputs": [],
   "source": [
    "# 브라우저 데이터 추출 및 집계\n",
    "browser_counts = df_complete_signup['os_name'].value_counts().reset_index()\n",
    "browser_counts.columns = ['browser', 'count']\n",
    "\n",
    "# 브라우저 카테고리 매핑\n",
    "# QQ: 중국 Tencent가 운영하는 메신저\n",
    "\n",
    "browser_category = {\n",
    "    \"모바일\": {\"Mobile Safari\", \"Samsung Browser\", \"Chrome Mobile\", \"WebKit\", \"Chrome WebView\",\n",
    "             \"MIUI Browser\", \"Android Browser\", \"GSA\", \"UCBrowser\", \"Opera Touch\", \"Puffin\", \"Silk\",\"QQBrowser\"},\n",
    "    \"웹\": {\"Chrome\", \"Edge\", \"Whale\", \"Safari\", \"Firefox\", \"Opera\", \"Chromium\",\n",
    "           \"Avast Secure Browser\", \"AVG Secure Browser\", \"Yandex\", \"IE\", \"Maxthon\",\"Chrome Headless\", \"Electron\",\n",
    "           \"Opera Mini\", \"MetaSr\", \"Konqueror\", \"Mozilla\", \"NetFront\", \"Coc Coc\"},\n",
    "    \"SNS\": {\"Instagram\", \"Facebook\", \"WeChat\", \"QQ\", \"Line\"}\n",
    "}"
   ]
  },
  {
   "cell_type": "code",
   "execution_count": 36,
   "metadata": {},
   "outputs": [
    {
     "data": {
      "image/png": "[encoded data removed]",
      "text/plain": [
       "<Figure size 500x400 with 1 Axes>"
      ]
     },
     "metadata": {},
     "output_type": "display_data"
    },
    {
     "name": "stdout",
     "output_type": "stream",
     "text": [
      "  category  count\n",
      "0      SNS   4687\n",
      "1      모바일  12228\n",
      "2        웹  28830\n"
     ]
    }
   ],
   "source": [
    "def assign_category(browser):\n",
    "    browser = browser.lower()\n",
    "    for category, browser_list in browser_category.items():\n",
    "        if any(b.lower() in browser for b in browser_list):  \n",
    "            return category\n",
    "    return \"기타\" \n",
    "\n",
    "# 브라우저별 카테고리 추가\n",
    "browser_counts['category'] = browser_counts['browser'].apply(assign_category)\n",
    "browser_category_sum = browser_counts.groupby('category')['count'].sum().reset_index()\n",
    "\n",
    "labels = browser_category_sum['category']\n",
    "sizes = browser_category_sum['count']\n",
    "\n",
    "plt.figure(figsize=(5, 4))\n",
    "plt.pie(sizes, labels=labels, autopct='%1.1f%%', startangle=140, colors=['skyblue', 'lightcoral', 'lightgreen', 'orange'])\n",
    "\n",
    "plt.title(\"브라우저 카테고리별 가입 완료율\")\n",
    "plt.show()\n",
    "print(browser_category_sum)"
   ]
  },
  {
   "cell_type": "code",
   "execution_count": null,
   "metadata": {},
   "outputs": [],
   "source": []
  },
  {
   "cell_type": "code",
   "execution_count": null,
   "metadata": {},
   "outputs": [],
   "source": []
  }
 ],
 "metadata": {
  "kernelspec": {
   "display_name": "base",
   "language": "python",
   "name": "python3"
  },
  "language_info": {
   "codemirror_mode": {
    "name": "ipython",
    "version": 3
   },
   "file_extension": ".py",
   "mimetype": "text/x-python",
   "name": "python",
   "nbconvert_exporter": "python",
   "pygments_lexer": "ipython3",
   "version": "3.11.4"
  }
 },
 "nbformat": 4,
 "nbformat_minor": 2
}
