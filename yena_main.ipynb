{
 "cells": [
  {
   "cell_type": "code",
   "execution_count": null,
   "metadata": {},
   "outputs": [],
   "source": [
    "import matplotlib.pyplot as plt\n",
    "import seaborn as sns\n",
    "import koreanize_matplotlib\n",
    "import pandas as pd\n",
    "import datetime\n",
    "import numpy as np\n",
    "import datasets"
   ]
  },
  {
   "cell_type": "code",
   "execution_count": null,
   "metadata": {},
   "outputs": [],
   "source": [
    "df_main_page = datasets.enter.main_page()\n",
    "df_signup_page = datasets.enter.signup_page()\n",
    "df_complete_signup = datasets.complete.signup()"
   ]
  },
  {
   "cell_type": "markdown",
   "metadata": {},
   "source": [
    "- 시간대 설정             \n",
    " UTC 기준이므로 +9시간"
   ]
  },
  {
   "cell_type": "code",
   "execution_count": null,
   "metadata": {},
   "outputs": [],
   "source": [
    "dataframes = [df_signup_page, df_complete_signup, df_main_page]\n",
    "dataframes = [df.assign(client_event_time=pd.to_datetime(df['client_event_time']) + datetime.timedelta(hours=9)) for df in dataframes]\n",
    "\n",
    "# 개별 데이터프레임 다시 할당\n",
    "df_signup_page, df_complete_signup, df_main_page = dataframes"
   ]
  },
  {
   "cell_type": "code",
   "execution_count": null,
   "metadata": {},
   "outputs": [],
   "source": [
    "df_signup_page"
   ]
  },
  {
   "cell_type": "code",
   "execution_count": null,
   "metadata": {},
   "outputs": [],
   "source": [
    "df_signup_page.info()"
   ]
  },
  {
   "cell_type": "code",
   "execution_count": null,
   "metadata": {},
   "outputs": [],
   "source": [
    "df_signup_page.isnull().sum()"
   ]
  },
  {
   "cell_type": "code",
   "execution_count": null,
   "metadata": {},
   "outputs": [],
   "source": [
    "df_signup_page.nunique()"
   ]
  },
  {
   "cell_type": "code",
   "execution_count": null,
   "metadata": {},
   "outputs": [],
   "source": [
    "counts = {'City': df_signup_page['city'].value_counts().sort_values(ascending=False),\n",
    "\t\t\t\t\t'Language': df_signup_page['language'].value_counts().sort_values(ascending=False),\n",
    "\t\t\t\t\t'Device Type': df_signup_page['device_type'].value_counts().sort_values(ascending=False),\n",
    "\t\t\t\t\t'Os Name': df_signup_page['os_name'].value_counts().sort_values(ascending=False),\n",
    "\t\t\t\t\t'User Id': df_signup_page['user_id'].value_counts().sort_values(ascending=False),\n",
    "\t\t\t\t\t'Pg type ': df_signup_page['pg.type'].value_counts().sort_values(ascending=False)\n",
    "}\n",
    "\n",
    "for key, value in counts.items():\n",
    "\tprint(f\"=== {key} ===\")\n",
    "\tprint(value, end=\"\\n\\n\")"
   ]
  },
  {
   "cell_type": "code",
   "execution_count": null,
   "metadata": {},
   "outputs": [],
   "source": []
  },
  {
   "cell_type": "code",
   "execution_count": null,
   "metadata": {},
   "outputs": [],
   "source": []
  },
  {
   "cell_type": "code",
   "execution_count": null,
   "metadata": {},
   "outputs": [],
   "source": []
  },
  {
   "cell_type": "code",
   "execution_count": null,
   "metadata": {},
   "outputs": [],
   "source": [
    "df_complete_signup"
   ]
  },
  {
   "cell_type": "code",
   "execution_count": null,
   "metadata": {},
   "outputs": [],
   "source": [
    "df_complete_signup.info()"
   ]
  },
  {
   "cell_type": "code",
   "execution_count": null,
   "metadata": {},
   "outputs": [],
   "source": [
    "df_complete_signup.isnull().sum()"
   ]
  },
  {
   "cell_type": "code",
   "execution_count": null,
   "metadata": {},
   "outputs": [],
   "source": [
    "df_complete_signup.nunique()"
   ]
  },
  {
   "cell_type": "code",
   "execution_count": null,
   "metadata": {},
   "outputs": [],
   "source": [
    "counts = {'City': df_complete_signup ['city'].value_counts().sort_values(ascending=False),\n",
    "\t\t\t\t\t'Language': df_complete_signup ['language'].value_counts().sort_values(ascending=False),\n",
    "\t\t\t\t\t'Device Type': df_complete_signup ['device_type'].value_counts().sort_values(ascending=False),\n",
    "\t\t\t\t\t'Os Name': df_complete_signup ['os_name'].value_counts().sort_values(ascending=False),\n",
    "\t\t\t\t\t'User Id': df_complete_signup ['user_id'].value_counts().sort_values(ascending=False),\n",
    "                    'Pg type ': df_complete_signup ['pg.type'].value_counts().sort_values(ascending=False)\n",
    "}\n",
    "\n",
    "for key, value in counts.items():\n",
    "\t\tprint(f\"=== {key} ===\")\n",
    "\t\tprint(value, end=\"\\n\\n\")"
   ]
  },
  {
   "cell_type": "code",
   "execution_count": null,
   "metadata": {},
   "outputs": [],
   "source": []
  },
  {
   "cell_type": "code",
   "execution_count": null,
   "metadata": {},
   "outputs": [],
   "source": []
  },
  {
   "cell_type": "code",
   "execution_count": null,
   "metadata": {},
   "outputs": [],
   "source": []
  },
  {
   "cell_type": "code",
   "execution_count": null,
   "metadata": {},
   "outputs": [],
   "source": [
    "import matplotlib.pyplot as plt\n",
    "\n",
    "fig, axes = plt.subplots(1, 2, figsize=(15, 5))  # 1행 2열의 서브플롯 생성\n",
    "\n",
    "# 첫 번째 그래프 (회원가입 페이지 진입)\n",
    "df_signup_page['client_event_time'].dt.weekday.value_counts().sort_index().plot(\n",
    "    kind='bar', ax=axes[0], color='skyblue'\n",
    ")\n",
    "axes[0].set_title('회원가입 페이지 진입')\n",
    "axes[0].set_ylabel('Counts')\n",
    "axes[0].set_xlabel('요일 (Monday=0, Sunday=6)')\n",
    "axes[0].set_ylim(0, 60000)  # 첫 번째 그래프 y축 범위 설정\n",
    "\n",
    "# 두 번째 그래프 (회원가입 완료)\n",
    "df_complete_signup['client_event_time'].dt.weekday.value_counts().sort_index().plot(\n",
    "    kind='bar', ax=axes[1], color='salmon'\n",
    ")\n",
    "axes[1].set_title('회원가입 완료')\n",
    "axes[1].set_xlabel('요일 (Monday=0, Sunday=6)')\n",
    "axes[1].set_ylim(0, 30000)  # 두 번째 그래프 y축 범위 설정 (예: 30,000으로 설정)\n",
    "\n",
    "plt.suptitle('요일별 회원가입 진입 및 완료 시점')  # 전체 제목 설정\n",
    "plt.tight_layout()\n",
    "plt.show()"
   ]
  }
 ],
 "metadata": {
  "kernelspec": {
   "display_name": "base",
   "language": "python",
   "name": "python3"
  },
  "language_info": {
   "codemirror_mode": {
    "name": "ipython",
    "version": 3
   },
   "file_extension": ".py",
   "mimetype": "text/x-python",
   "name": "python",
   "nbconvert_exporter": "python",
   "pygments_lexer": "ipython3",
   "version": "3.11.4"
  }
 },
 "nbformat": 4,
 "nbformat_minor": 2
}
