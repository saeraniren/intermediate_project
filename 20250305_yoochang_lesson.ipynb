{
 "cells": [
  {
   "cell_type": "code",
   "execution_count": 1,
   "metadata": {},
   "outputs": [],
   "source": [
    "import pandas as pd\n",
    "import os\n",
    "import datetime as dt\n",
    "pd.set_option('display.max_columns',100)\n",
    "import matplotlib.pyplot as plt\n",
    "import seaborn as sns\n",
    "# !pip install koreanize-matplotlib\n",
    "import koreanize_matplotlib\n",
    "import matplotlib as mpl\n",
    "pd.set_option('display.max_colwidth', None)\n",
    "import glob"
   ]
  },
  {
   "cell_type": "markdown",
   "metadata": {},
   "source": [
    "### enter_lesson_page"
   ]
  },
  {
   "cell_type": "markdown",
   "metadata": {},
   "source": [
    "#### 기본 전처리 ()"
   ]
  },
  {
   "cell_type": "code",
   "execution_count": 2,
   "metadata": {},
   "outputs": [
    {
     "name": "stderr",
     "output_type": "stream",
     "text": [
      "C:\\Users\\syc09\\AppData\\Local\\Temp\\ipykernel_23460\\2524196629.py:1: DtypeWarning: Columns (9,13,15) have mixed types. Specify dtype option on import or set low_memory=False.\n",
      "  enter_lesson_page = pd.read_csv('C:/Users/syc09/Desktop/코드잇/중급프로젝트1/Topic2_real/enter_lesson_page-001.csv')\n"
     ]
    }
   ],
   "source": [
    "enter_lesson_page = pd.read_csv('C:/Users/syc09/Desktop/코드잇/중급프로젝트1/Topic2_real/enter_lesson_page-001.csv')"
   ]
  },
  {
   "cell_type": "code",
   "execution_count": 3,
   "metadata": {},
   "outputs": [],
   "source": [
    "# 시간. UTC -> KST\n",
    "enter_lesson_page['client_event_time'] = pd.to_datetime(enter_lesson_page['client_event_time'], errors='coerce')\n",
    "enter_lesson_page['client_event_time'] = enter_lesson_page['client_event_time'] + pd.Timedelta(hours=9)"
   ]
  },
  {
   "cell_type": "code",
   "execution_count": 4,
   "metadata": {},
   "outputs": [],
   "source": [
    "# 2022, 2023년 제한\n",
    "start_date = \"2022-01-01\"\n",
    "end_date = \"2023-12-31\"\n",
    "enter_lesson_page = enter_lesson_page[(enter_lesson_page['client_event_time'] >= start_date) & (enter_lesson_page['client_event_time'] <= end_date)]"
   ]
  },
  {
   "cell_type": "code",
   "execution_count": 5,
   "metadata": {},
   "outputs": [],
   "source": [
    "# 컬럼명 변경\n",
    "enter_lesson_page.rename(columns={'content.id': 'content_id', 'lesson.id': 'lesson_id'}, inplace=True)\n",
    "enter_lesson_page.rename(columns={'client_event_time': 'enter_lesson_time'}, inplace=True)\n",
    "\n",
    "# 컬럼 버리기\n",
    "enter_lesson_page.drop(columns=['platform', 'os_version', 'device_carrier'], inplace=True)\n",
    "enter_lesson_page.drop(enter_lesson_page[enter_lesson_page['os_name'] == 'Chrome Headless'].index, inplace=True)"
   ]
  },
  {
   "cell_type": "code",
   "execution_count": 6,
   "metadata": {},
   "outputs": [
    {
     "data": {
      "text/plain": [
       "0           False\n",
       "1           False\n",
       "2           False\n",
       "3           False\n",
       "4           False\n",
       "            ...  \n",
       "21029702    False\n",
       "21029703    False\n",
       "21029704    False\n",
       "21029705    False\n",
       "21029706    False\n",
       "Length: 21024485, dtype: bool"
      ]
     },
     "execution_count": 6,
     "metadata": {},
     "output_type": "execute_result"
    }
   ],
   "source": [
    "# 중복 컬럼 삭제\n",
    "enter_lesson_page.duplicated(subset=['enter_lesson_time', 'user_id', 'content_id', 'lesson_id'], keep=False)"
   ]
  },
  {
   "cell_type": "code",
   "execution_count": 7,
   "metadata": {},
   "outputs": [
    {
     "data": {
      "text/html": [
       "<div>\n",
       "<style scoped>\n",
       "    .dataframe tbody tr th:only-of-type {\n",
       "        vertical-align: middle;\n",
       "    }\n",
       "\n",
       "    .dataframe tbody tr th {\n",
       "        vertical-align: top;\n",
       "    }\n",
       "\n",
       "    .dataframe thead th {\n",
       "        text-align: right;\n",
       "    }\n",
       "</style>\n",
       "<table border=\"1\" class=\"dataframe\">\n",
       "  <thead>\n",
       "    <tr style=\"text-align: right;\">\n",
       "      <th></th>\n",
       "      <th>city</th>\n",
       "      <th>enter_lesson_time</th>\n",
       "      <th>country</th>\n",
       "      <th>device_family</th>\n",
       "      <th>device_type</th>\n",
       "      <th>event_type</th>\n",
       "      <th>language</th>\n",
       "      <th>os_name</th>\n",
       "      <th>user_id</th>\n",
       "      <th>content_id</th>\n",
       "      <th>is_trial</th>\n",
       "      <th>lesson_id</th>\n",
       "      <th>is_free_trial</th>\n",
       "    </tr>\n",
       "  </thead>\n",
       "  <tbody>\n",
       "    <tr>\n",
       "      <th>0</th>\n",
       "      <td>Wonju</td>\n",
       "      <td>2023-04-06 06:46:04.333</td>\n",
       "      <td>South Korea</td>\n",
       "      <td>Windows</td>\n",
       "      <td>Windows</td>\n",
       "      <td>enter.lesson_page</td>\n",
       "      <td>Korean</td>\n",
       "      <td>Chrome</td>\n",
       "      <td>91053eda0bffb4db6c9317acf15bc44a</td>\n",
       "      <td>94bdcbd9f329aafa84ab464b6721187d</td>\n",
       "      <td>False</td>\n",
       "      <td>d360d68b65fd3e0eafb7982386d75fd9</td>\n",
       "      <td>NaN</td>\n",
       "    </tr>\n",
       "    <tr>\n",
       "      <th>1</th>\n",
       "      <td>Wonju</td>\n",
       "      <td>2023-04-06 06:55:50.787</td>\n",
       "      <td>South Korea</td>\n",
       "      <td>Windows</td>\n",
       "      <td>Windows</td>\n",
       "      <td>enter.lesson_page</td>\n",
       "      <td>Korean</td>\n",
       "      <td>Chrome</td>\n",
       "      <td>91053eda0bffb4db6c9317acf15bc44a</td>\n",
       "      <td>94bdcbd9f329aafa84ab464b6721187d</td>\n",
       "      <td>False</td>\n",
       "      <td>d360d68b65fd3e0eafb7982386d75fd9</td>\n",
       "      <td>NaN</td>\n",
       "    </tr>\n",
       "    <tr>\n",
       "      <th>2</th>\n",
       "      <td>Wonju</td>\n",
       "      <td>2023-04-06 06:55:55.684</td>\n",
       "      <td>South Korea</td>\n",
       "      <td>Windows</td>\n",
       "      <td>Windows</td>\n",
       "      <td>enter.lesson_page</td>\n",
       "      <td>Korean</td>\n",
       "      <td>Chrome</td>\n",
       "      <td>91053eda0bffb4db6c9317acf15bc44a</td>\n",
       "      <td>94bdcbd9f329aafa84ab464b6721187d</td>\n",
       "      <td>False</td>\n",
       "      <td>770740696ab1809d6b50d4013b64a75c</td>\n",
       "      <td>NaN</td>\n",
       "    </tr>\n",
       "    <tr>\n",
       "      <th>3</th>\n",
       "      <td>Dongdaemun-gu</td>\n",
       "      <td>2023-04-06 06:04:55.828</td>\n",
       "      <td>South Korea</td>\n",
       "      <td>Mac</td>\n",
       "      <td>Mac</td>\n",
       "      <td>enter.lesson_page</td>\n",
       "      <td>Korean</td>\n",
       "      <td>Chrome</td>\n",
       "      <td>b2b31f00b82edc6419b25324a7ae41a4</td>\n",
       "      <td>5fc64d786416b980cfda86afd69e4516</td>\n",
       "      <td>False</td>\n",
       "      <td>68cc362ca81b5899b3c9b4dea0aaddff</td>\n",
       "      <td>NaN</td>\n",
       "    </tr>\n",
       "    <tr>\n",
       "      <th>4</th>\n",
       "      <td>Dongdaemun-gu</td>\n",
       "      <td>2023-04-06 06:05:34.139</td>\n",
       "      <td>South Korea</td>\n",
       "      <td>Mac</td>\n",
       "      <td>Mac</td>\n",
       "      <td>enter.lesson_page</td>\n",
       "      <td>Korean</td>\n",
       "      <td>Chrome</td>\n",
       "      <td>b2b31f00b82edc6419b25324a7ae41a4</td>\n",
       "      <td>db43a841c994231e2795d4df8931af50</td>\n",
       "      <td>False</td>\n",
       "      <td>144682f4648f81de8e6aabd11b92105e</td>\n",
       "      <td>NaN</td>\n",
       "    </tr>\n",
       "  </tbody>\n",
       "</table>\n",
       "</div>"
      ],
      "text/plain": [
       "            city       enter_lesson_time      country device_family  \\\n",
       "0          Wonju 2023-04-06 06:46:04.333  South Korea       Windows   \n",
       "1          Wonju 2023-04-06 06:55:50.787  South Korea       Windows   \n",
       "2          Wonju 2023-04-06 06:55:55.684  South Korea       Windows   \n",
       "3  Dongdaemun-gu 2023-04-06 06:04:55.828  South Korea           Mac   \n",
       "4  Dongdaemun-gu 2023-04-06 06:05:34.139  South Korea           Mac   \n",
       "\n",
       "  device_type         event_type language os_name  \\\n",
       "0     Windows  enter.lesson_page   Korean  Chrome   \n",
       "1     Windows  enter.lesson_page   Korean  Chrome   \n",
       "2     Windows  enter.lesson_page   Korean  Chrome   \n",
       "3         Mac  enter.lesson_page   Korean  Chrome   \n",
       "4         Mac  enter.lesson_page   Korean  Chrome   \n",
       "\n",
       "                            user_id                        content_id  \\\n",
       "0  91053eda0bffb4db6c9317acf15bc44a  94bdcbd9f329aafa84ab464b6721187d   \n",
       "1  91053eda0bffb4db6c9317acf15bc44a  94bdcbd9f329aafa84ab464b6721187d   \n",
       "2  91053eda0bffb4db6c9317acf15bc44a  94bdcbd9f329aafa84ab464b6721187d   \n",
       "3  b2b31f00b82edc6419b25324a7ae41a4  5fc64d786416b980cfda86afd69e4516   \n",
       "4  b2b31f00b82edc6419b25324a7ae41a4  db43a841c994231e2795d4df8931af50   \n",
       "\n",
       "  is_trial                         lesson_id is_free_trial  \n",
       "0    False  d360d68b65fd3e0eafb7982386d75fd9           NaN  \n",
       "1    False  d360d68b65fd3e0eafb7982386d75fd9           NaN  \n",
       "2    False  770740696ab1809d6b50d4013b64a75c           NaN  \n",
       "3    False  68cc362ca81b5899b3c9b4dea0aaddff           NaN  \n",
       "4    False  144682f4648f81de8e6aabd11b92105e           NaN  "
      ]
     },
     "execution_count": 7,
     "metadata": {},
     "output_type": "execute_result"
    }
   ],
   "source": [
    "enter_lesson_page.head()"
   ]
  },
  {
   "cell_type": "markdown",
   "metadata": {},
   "source": [
    "### complete_lesson"
   ]
  },
  {
   "cell_type": "markdown",
   "metadata": {},
   "source": [
    "#### 기본 전처리"
   ]
  },
  {
   "cell_type": "code",
   "execution_count": 8,
   "metadata": {},
   "outputs": [],
   "source": [
    "complete_lesson = pd.read_csv('C:/Users/syc09/Desktop/코드잇/중급프로젝트1/Topic2_real/complete_lesson.csv')"
   ]
  },
  {
   "cell_type": "code",
   "execution_count": 9,
   "metadata": {},
   "outputs": [],
   "source": [
    "# 시간. UTC -> KST\n",
    "complete_lesson['client_event_time'] = pd.to_datetime(complete_lesson['client_event_time'], errors='coerce')\n",
    "complete_lesson['client_event_time'] = complete_lesson['client_event_time'] + pd.Timedelta(hours=9)"
   ]
  },
  {
   "cell_type": "code",
   "execution_count": 10,
   "metadata": {},
   "outputs": [],
   "source": [
    "# 2022, 2023년 제한\n",
    "complete_lesson = complete_lesson[(complete_lesson['client_event_time'] >= start_date) & (complete_lesson['client_event_time'] <= end_date)]"
   ]
  },
  {
   "cell_type": "code",
   "execution_count": 11,
   "metadata": {},
   "outputs": [],
   "source": [
    "# 컬럼명 변경\n",
    "complete_lesson.rename(columns={'content.id': 'content_id', 'lesson.id': 'lesson_id'}, inplace=True)\n",
    "complete_lesson.rename(columns={'client_event_time': 'complete_lesson_time'}, inplace=True)\n",
    "\n",
    "# 컬럼 버리기\n",
    "complete_lesson.drop(columns=['platform', 'os_version', 'device_carrier'], inplace=True)\n",
    "complete_lesson.drop(complete_lesson[complete_lesson['os_name'] == 'Chrome Headless'].index, inplace=True)"
   ]
  },
  {
   "cell_type": "code",
   "execution_count": 12,
   "metadata": {},
   "outputs": [
    {
     "data": {
      "text/plain": [
       "0          False\n",
       "1          False\n",
       "2          False\n",
       "3          False\n",
       "4          False\n",
       "           ...  \n",
       "5405064    False\n",
       "5405065    False\n",
       "5405066    False\n",
       "5405067    False\n",
       "5405068    False\n",
       "Length: 5394926, dtype: bool"
      ]
     },
     "execution_count": 12,
     "metadata": {},
     "output_type": "execute_result"
    }
   ],
   "source": [
    "# 중복 컬럼 삭제\n",
    "complete_lesson.duplicated(subset=['complete_lesson_time', 'user_id', 'content_id', 'lesson_id'], keep=False)"
   ]
  },
  {
   "cell_type": "code",
   "execution_count": 13,
   "metadata": {},
   "outputs": [
    {
     "data": {
      "text/html": [
       "<div>\n",
       "<style scoped>\n",
       "    .dataframe tbody tr th:only-of-type {\n",
       "        vertical-align: middle;\n",
       "    }\n",
       "\n",
       "    .dataframe tbody tr th {\n",
       "        vertical-align: top;\n",
       "    }\n",
       "\n",
       "    .dataframe thead th {\n",
       "        text-align: right;\n",
       "    }\n",
       "</style>\n",
       "<table border=\"1\" class=\"dataframe\">\n",
       "  <thead>\n",
       "    <tr style=\"text-align: right;\">\n",
       "      <th></th>\n",
       "      <th>city</th>\n",
       "      <th>complete_lesson_time</th>\n",
       "      <th>country</th>\n",
       "      <th>device_family</th>\n",
       "      <th>device_type</th>\n",
       "      <th>event_type</th>\n",
       "      <th>language</th>\n",
       "      <th>os_name</th>\n",
       "      <th>user_id</th>\n",
       "      <th>content_id</th>\n",
       "      <th>lesson_id</th>\n",
       "    </tr>\n",
       "  </thead>\n",
       "  <tbody>\n",
       "    <tr>\n",
       "      <th>0</th>\n",
       "      <td>Wonju</td>\n",
       "      <td>2023-04-06 06:55:51.836</td>\n",
       "      <td>South Korea</td>\n",
       "      <td>Windows</td>\n",
       "      <td>Windows</td>\n",
       "      <td>complete.lesson</td>\n",
       "      <td>Korean</td>\n",
       "      <td>Chrome</td>\n",
       "      <td>91053eda0bffb4db6c9317acf15bc44a</td>\n",
       "      <td>94bdcbd9f329aafa84ab464b6721187d</td>\n",
       "      <td>d360d68b65fd3e0eafb7982386d75fd9</td>\n",
       "    </tr>\n",
       "    <tr>\n",
       "      <th>1</th>\n",
       "      <td>Daejeon</td>\n",
       "      <td>2023-04-06 06:19:01.243</td>\n",
       "      <td>South Korea</td>\n",
       "      <td>Windows</td>\n",
       "      <td>Windows</td>\n",
       "      <td>complete.lesson</td>\n",
       "      <td>Korean</td>\n",
       "      <td>Edge</td>\n",
       "      <td>41362ad5ebcade2bb1b78344a53e7ccf</td>\n",
       "      <td>445fac33232adcb3d1cdab7d8a579430</td>\n",
       "      <td>7e0f6aae886368ef9fa97007a8e9f7ac</td>\n",
       "    </tr>\n",
       "    <tr>\n",
       "      <th>2</th>\n",
       "      <td>Daejeon</td>\n",
       "      <td>2023-04-06 06:20:27.939</td>\n",
       "      <td>South Korea</td>\n",
       "      <td>Windows</td>\n",
       "      <td>Windows</td>\n",
       "      <td>complete.lesson</td>\n",
       "      <td>Korean</td>\n",
       "      <td>Edge</td>\n",
       "      <td>41362ad5ebcade2bb1b78344a53e7ccf</td>\n",
       "      <td>445fac33232adcb3d1cdab7d8a579430</td>\n",
       "      <td>d1e93c9dc08267efab31849bc6083854</td>\n",
       "    </tr>\n",
       "    <tr>\n",
       "      <th>3</th>\n",
       "      <td>Daejeon</td>\n",
       "      <td>2023-04-06 06:23:01.534</td>\n",
       "      <td>South Korea</td>\n",
       "      <td>Windows</td>\n",
       "      <td>Windows</td>\n",
       "      <td>complete.lesson</td>\n",
       "      <td>Korean</td>\n",
       "      <td>Edge</td>\n",
       "      <td>41362ad5ebcade2bb1b78344a53e7ccf</td>\n",
       "      <td>445fac33232adcb3d1cdab7d8a579430</td>\n",
       "      <td>f22ea5dc431035305e705552bbc4f45b</td>\n",
       "    </tr>\n",
       "    <tr>\n",
       "      <th>4</th>\n",
       "      <td>Daejeon</td>\n",
       "      <td>2023-04-06 06:28:34.965</td>\n",
       "      <td>South Korea</td>\n",
       "      <td>Windows</td>\n",
       "      <td>Windows</td>\n",
       "      <td>complete.lesson</td>\n",
       "      <td>Korean</td>\n",
       "      <td>Edge</td>\n",
       "      <td>41362ad5ebcade2bb1b78344a53e7ccf</td>\n",
       "      <td>445fac33232adcb3d1cdab7d8a579430</td>\n",
       "      <td>ce0bfeb7fb1259c588f437d48ab2690c</td>\n",
       "    </tr>\n",
       "  </tbody>\n",
       "</table>\n",
       "</div>"
      ],
      "text/plain": [
       "      city    complete_lesson_time      country device_family device_type  \\\n",
       "0    Wonju 2023-04-06 06:55:51.836  South Korea       Windows     Windows   \n",
       "1  Daejeon 2023-04-06 06:19:01.243  South Korea       Windows     Windows   \n",
       "2  Daejeon 2023-04-06 06:20:27.939  South Korea       Windows     Windows   \n",
       "3  Daejeon 2023-04-06 06:23:01.534  South Korea       Windows     Windows   \n",
       "4  Daejeon 2023-04-06 06:28:34.965  South Korea       Windows     Windows   \n",
       "\n",
       "        event_type language os_name                           user_id  \\\n",
       "0  complete.lesson   Korean  Chrome  91053eda0bffb4db6c9317acf15bc44a   \n",
       "1  complete.lesson   Korean    Edge  41362ad5ebcade2bb1b78344a53e7ccf   \n",
       "2  complete.lesson   Korean    Edge  41362ad5ebcade2bb1b78344a53e7ccf   \n",
       "3  complete.lesson   Korean    Edge  41362ad5ebcade2bb1b78344a53e7ccf   \n",
       "4  complete.lesson   Korean    Edge  41362ad5ebcade2bb1b78344a53e7ccf   \n",
       "\n",
       "                         content_id                         lesson_id  \n",
       "0  94bdcbd9f329aafa84ab464b6721187d  d360d68b65fd3e0eafb7982386d75fd9  \n",
       "1  445fac33232adcb3d1cdab7d8a579430  7e0f6aae886368ef9fa97007a8e9f7ac  \n",
       "2  445fac33232adcb3d1cdab7d8a579430  d1e93c9dc08267efab31849bc6083854  \n",
       "3  445fac33232adcb3d1cdab7d8a579430  f22ea5dc431035305e705552bbc4f45b  \n",
       "4  445fac33232adcb3d1cdab7d8a579430  ce0bfeb7fb1259c588f437d48ab2690c  "
      ]
     },
     "execution_count": 13,
     "metadata": {},
     "output_type": "execute_result"
    }
   ],
   "source": [
    "complete_lesson.head()"
   ]
  },
  {
   "cell_type": "markdown",
   "metadata": {},
   "source": [
    "### 각 데이터에서 30초 이내 로그가 찍힌 것들, 동일한 년, 월, 일, 시, 분 삭제(같은 레슨일 경우)"
   ]
  },
  {
   "cell_type": "markdown",
   "metadata": {},
   "source": [
    "- enter lesson"
   ]
  },
  {
   "cell_type": "code",
   "execution_count": 31,
   "metadata": {},
   "outputs": [],
   "source": [
    "# enter_lesson_time을 시간 순서대로 정렬\n",
    "enter_lesson_page_filtered = enter_lesson_page.sort_values(by=['user_id', 'enter_lesson_time'])\n",
    "\n",
    "# 동일한 user_id에 대해 연속된 행의 시간 차이 계산\n",
    "enter_lesson_page_filtered['time_diff'] = enter_lesson_page_filtered.groupby('user_id')['enter_lesson_time'].diff()\n",
    "\n",
    "# 시간 차이를 초 단위로 변환\n",
    "enter_lesson_page_filtered['time_diff_seconds'] = enter_lesson_page_filtered['time_diff'].dt.total_seconds().round(2)"
   ]
  },
  {
   "cell_type": "code",
   "execution_count": 32,
   "metadata": {},
   "outputs": [],
   "source": [
    "# time_diff_seconds가 30초 초과인 데이터만 남김김\n",
    "enter_lesson_page_finalised = enter_lesson_page_filtered[(enter_lesson_page_filtered['time_diff_seconds'] > 30)]"
   ]
  },
  {
   "cell_type": "code",
   "execution_count": 33,
   "metadata": {},
   "outputs": [
    {
     "name": "stderr",
     "output_type": "stream",
     "text": [
      "C:\\Users\\syc09\\AppData\\Local\\Temp\\ipykernel_23460\\3488541477.py:2: SettingWithCopyWarning: \n",
      "A value is trying to be set on a copy of a slice from a DataFrame.\n",
      "Try using .loc[row_indexer,col_indexer] = value instead\n",
      "\n",
      "See the caveats in the documentation: https://pandas.pydata.org/pandas-docs/stable/user_guide/indexing.html#returning-a-view-versus-a-copy\n",
      "  enter_lesson_page_finalised[\"time_group\"] = enter_lesson_page_finalised[\"enter_lesson_time\"].dt.strftime(\"%Y-%m-%d %H:%M\")\n"
     ]
    }
   ],
   "source": [
    "# 년-월-일-시-분 단위 컬럼 추가\n",
    "enter_lesson_page_finalised[\"time_group\"] = enter_lesson_page_finalised[\"enter_lesson_time\"].dt.strftime(\"%Y-%m-%d %H:%M\")\n",
    "\n",
    "# 정렬 수행\n",
    "enter_lesson_page_finalised = enter_lesson_page_finalised.sort_values(by=[\"user_id\", \"content_id\", \"lesson_id\", \"enter_lesson_time\"])\n",
    "\n",
    "# 중복 제거 (첫 번째 값 유지)\n",
    "enter_lesson_page_finalised_unique = enter_lesson_page_finalised.drop_duplicates(subset=[\"user_id\", \"content_id\", \"lesson_id\", \"time_group\"], keep=\"first\")\n",
    "\n",
    "# 필요 없는 컬럼 제거\n",
    "enter_lesson_page_finalised_unique = enter_lesson_page_finalised_unique.drop(columns=[\"time_group\"])\n"
   ]
  },
  {
   "cell_type": "code",
   "execution_count": 34,
   "metadata": {},
   "outputs": [
    {
     "name": "stdout",
     "output_type": "stream",
     "text": [
      "21024485\n",
      "8115916\n",
      "7981577\n"
     ]
    }
   ],
   "source": [
    "print(len(enter_lesson_page)) # 로우 데이터\n",
    "print(len(enter_lesson_page_finalised)) # timediff 30초 초과 데이터\n",
    "print(len(enter_lesson_page_finalised_unique)) # 동일한 년월일시분 삭제"
   ]
  },
  {
   "cell_type": "code",
   "execution_count": 35,
   "metadata": {},
   "outputs": [
    {
     "name": "stdout",
     "output_type": "stream",
     "text": [
      "113895\n",
      "79799\n",
      "79799\n"
     ]
    }
   ],
   "source": [
    "print(enter_lesson_page['user_id'].nunique()) # 로우 데이터\n",
    "print(enter_lesson_page_finalised['user_id'].nunique()) # timediff 30초 초과 데이터\n",
    "print(enter_lesson_page_finalised_unique['user_id'].nunique()) # 동일한 년월일시분 삭제"
   ]
  },
  {
   "cell_type": "code",
   "execution_count": 36,
   "metadata": {},
   "outputs": [
    {
     "name": "stdout",
     "output_type": "stream",
     "text": [
      "5478\n",
      "5390\n",
      "5390\n"
     ]
    }
   ],
   "source": [
    "print(enter_lesson_page['lesson_id'].nunique()) # 로우 데이터\n",
    "print(enter_lesson_page_finalised['lesson_id'].nunique()) # timediff 30초 초과 데이터\n",
    "print(enter_lesson_page_finalised_unique['lesson_id'].nunique()) # 동일한 년월일시분 삭제"
   ]
  },
  {
   "cell_type": "code",
   "execution_count": 37,
   "metadata": {},
   "outputs": [
    {
     "data": {
      "text/html": [
       "<div>\n",
       "<style scoped>\n",
       "    .dataframe tbody tr th:only-of-type {\n",
       "        vertical-align: middle;\n",
       "    }\n",
       "\n",
       "    .dataframe tbody tr th {\n",
       "        vertical-align: top;\n",
       "    }\n",
       "\n",
       "    .dataframe thead th {\n",
       "        text-align: right;\n",
       "    }\n",
       "</style>\n",
       "<table border=\"1\" class=\"dataframe\">\n",
       "  <thead>\n",
       "    <tr style=\"text-align: right;\">\n",
       "      <th></th>\n",
       "      <th>enter_lesson_time</th>\n",
       "      <th>time_diff</th>\n",
       "      <th>time_diff_seconds</th>\n",
       "    </tr>\n",
       "  </thead>\n",
       "  <tbody>\n",
       "    <tr>\n",
       "      <th>count</th>\n",
       "      <td>8115916</td>\n",
       "      <td>8115916</td>\n",
       "      <td>8.115916e+06</td>\n",
       "    </tr>\n",
       "    <tr>\n",
       "      <th>mean</th>\n",
       "      <td>2023-01-09 09:28:08.602718720</td>\n",
       "      <td>0 days 15:06:55.194715805</td>\n",
       "      <td>5.441519e+04</td>\n",
       "    </tr>\n",
       "    <tr>\n",
       "      <th>min</th>\n",
       "      <td>2022-01-01 00:56:27.589000</td>\n",
       "      <td>0 days 00:00:30.006000</td>\n",
       "      <td>3.001000e+01</td>\n",
       "    </tr>\n",
       "    <tr>\n",
       "      <th>25%</th>\n",
       "      <td>2022-07-26 18:08:54.170249984</td>\n",
       "      <td>0 days 00:01:18.933000</td>\n",
       "      <td>7.893000e+01</td>\n",
       "    </tr>\n",
       "    <tr>\n",
       "      <th>50%</th>\n",
       "      <td>2023-01-27 23:52:51.056500224</td>\n",
       "      <td>0 days 00:03:12.022000</td>\n",
       "      <td>1.920200e+02</td>\n",
       "    </tr>\n",
       "    <tr>\n",
       "      <th>75%</th>\n",
       "      <td>2023-07-01 09:32:26.404000</td>\n",
       "      <td>0 days 00:08:57.614000</td>\n",
       "      <td>5.376100e+02</td>\n",
       "    </tr>\n",
       "    <tr>\n",
       "      <th>max</th>\n",
       "      <td>2023-12-30 23:59:50.531000</td>\n",
       "      <td>722 days 23:20:52.788000</td>\n",
       "      <td>6.246485e+07</td>\n",
       "    </tr>\n",
       "    <tr>\n",
       "      <th>std</th>\n",
       "      <td>NaN</td>\n",
       "      <td>9 days 18:54:47.590233703</td>\n",
       "      <td>8.456876e+05</td>\n",
       "    </tr>\n",
       "  </tbody>\n",
       "</table>\n",
       "</div>"
      ],
      "text/plain": [
       "                   enter_lesson_time                  time_diff  \\\n",
       "count                        8115916                    8115916   \n",
       "mean   2023-01-09 09:28:08.602718720  0 days 15:06:55.194715805   \n",
       "min       2022-01-01 00:56:27.589000     0 days 00:00:30.006000   \n",
       "25%    2022-07-26 18:08:54.170249984     0 days 00:01:18.933000   \n",
       "50%    2023-01-27 23:52:51.056500224     0 days 00:03:12.022000   \n",
       "75%       2023-07-01 09:32:26.404000     0 days 00:08:57.614000   \n",
       "max       2023-12-30 23:59:50.531000   722 days 23:20:52.788000   \n",
       "std                              NaN  9 days 18:54:47.590233703   \n",
       "\n",
       "       time_diff_seconds  \n",
       "count       8.115916e+06  \n",
       "mean        5.441519e+04  \n",
       "min         3.001000e+01  \n",
       "25%         7.893000e+01  \n",
       "50%         1.920200e+02  \n",
       "75%         5.376100e+02  \n",
       "max         6.246485e+07  \n",
       "std         8.456876e+05  "
      ]
     },
     "execution_count": 37,
     "metadata": {},
     "output_type": "execute_result"
    }
   ],
   "source": [
    "enter_lesson_page_finalised.describe()"
   ]
  },
  {
   "cell_type": "markdown",
   "metadata": {},
   "source": [
    "#### complete lesson"
   ]
  },
  {
   "cell_type": "code",
   "execution_count": 38,
   "metadata": {},
   "outputs": [],
   "source": [
    "# enter_lesson_time을 시간 순서대로 정렬\n",
    "complete_lesson_filtered = complete_lesson.sort_values(by=['user_id', 'complete_lesson_time'])\n",
    "\n",
    "# 동일한 user_id에 대해 연속된 행의 시간 차이 계산\n",
    "complete_lesson_filtered['time_diff'] = complete_lesson_filtered.groupby('user_id')['complete_lesson_time'].diff()\n",
    "\n",
    "# 시간 차이를 초 단위로 변환\n",
    "complete_lesson_filtered['time_diff_seconds'] = complete_lesson_filtered['time_diff'].dt.total_seconds().round(2)"
   ]
  },
  {
   "cell_type": "code",
   "execution_count": 39,
   "metadata": {},
   "outputs": [],
   "source": [
    "# time_diff_seconds가 30초 초과인 데이터만 남김김\n",
    "complete_lesson_finalised = complete_lesson_filtered[(complete_lesson_filtered['time_diff_seconds'] > 30)]"
   ]
  },
  {
   "cell_type": "code",
   "execution_count": 40,
   "metadata": {},
   "outputs": [
    {
     "name": "stderr",
     "output_type": "stream",
     "text": [
      "C:\\Users\\syc09\\AppData\\Local\\Temp\\ipykernel_23460\\2406344828.py:2: SettingWithCopyWarning: \n",
      "A value is trying to be set on a copy of a slice from a DataFrame.\n",
      "Try using .loc[row_indexer,col_indexer] = value instead\n",
      "\n",
      "See the caveats in the documentation: https://pandas.pydata.org/pandas-docs/stable/user_guide/indexing.html#returning-a-view-versus-a-copy\n",
      "  complete_lesson_finalised[\"time_group\"] = complete_lesson_finalised[\"complete_lesson_time\"].dt.strftime(\"%Y-%m-%d %H:%M\")\n"
     ]
    }
   ],
   "source": [
    "# 년-월-일-시-분 단위 컬럼 추가\n",
    "complete_lesson_finalised[\"time_group\"] = complete_lesson_finalised[\"complete_lesson_time\"].dt.strftime(\"%Y-%m-%d %H:%M\")\n",
    "\n",
    "# 정렬 수행\n",
    "complete_lesson_finalised = complete_lesson_finalised.sort_values(by=[\"user_id\", \"content_id\", \"lesson_id\", \"complete_lesson_time\"])\n",
    "\n",
    "# 중복 제거 (첫 번째 값 유지)\n",
    "complete_lesson_finalised_unique = complete_lesson_finalised.drop_duplicates(subset=[\"user_id\", \"content_id\", \"lesson_id\", \"time_group\"], keep=\"first\")\n",
    "\n",
    "# 필요 없는 컬럼 제거\n",
    "complete_lesson_finalised_unique = complete_lesson_finalised_unique.drop(columns=[\"time_group\"])\n"
   ]
  },
  {
   "cell_type": "code",
   "execution_count": 41,
   "metadata": {},
   "outputs": [
    {
     "name": "stdout",
     "output_type": "stream",
     "text": [
      "5394926\n",
      "4494846\n",
      "4494678\n"
     ]
    }
   ],
   "source": [
    "print(len(complete_lesson)) # 로우 데이터\n",
    "print(len(complete_lesson_finalised)) # timediff 30초 초과 데이터\n",
    "print(len(complete_lesson_finalised_unique)) # 동일한 년월일시분 삭제"
   ]
  },
  {
   "cell_type": "code",
   "execution_count": 42,
   "metadata": {},
   "outputs": [
    {
     "name": "stdout",
     "output_type": "stream",
     "text": [
      "49528\n",
      "44312\n",
      "44312\n"
     ]
    }
   ],
   "source": [
    "print(complete_lesson['user_id'].nunique()) # 로우 데이터\n",
    "print(complete_lesson_finalised['user_id'].nunique()) # timediff 30초 초과 데이터\n",
    "print(complete_lesson_finalised_unique['user_id'].nunique()) # 동일한 년월일시분 삭제"
   ]
  },
  {
   "cell_type": "code",
   "execution_count": 43,
   "metadata": {},
   "outputs": [
    {
     "name": "stdout",
     "output_type": "stream",
     "text": [
      "5049\n",
      "5034\n",
      "5034\n"
     ]
    }
   ],
   "source": [
    "print(complete_lesson['lesson_id'].nunique()) # 로우 데이터\n",
    "print(complete_lesson_finalised['lesson_id'].nunique()) # timediff 30초 초과 데이터\n",
    "print(complete_lesson_finalised_unique['lesson_id'].nunique()) # 동일한 년월일시분 삭제"
   ]
  },
  {
   "cell_type": "code",
   "execution_count": 44,
   "metadata": {},
   "outputs": [
    {
     "data": {
      "text/html": [
       "<div>\n",
       "<style scoped>\n",
       "    .dataframe tbody tr th:only-of-type {\n",
       "        vertical-align: middle;\n",
       "    }\n",
       "\n",
       "    .dataframe tbody tr th {\n",
       "        vertical-align: top;\n",
       "    }\n",
       "\n",
       "    .dataframe thead th {\n",
       "        text-align: right;\n",
       "    }\n",
       "</style>\n",
       "<table border=\"1\" class=\"dataframe\">\n",
       "  <thead>\n",
       "    <tr style=\"text-align: right;\">\n",
       "      <th></th>\n",
       "      <th>complete_lesson_time</th>\n",
       "      <th>time_diff</th>\n",
       "      <th>time_diff_seconds</th>\n",
       "    </tr>\n",
       "  </thead>\n",
       "  <tbody>\n",
       "    <tr>\n",
       "      <th>count</th>\n",
       "      <td>4494678</td>\n",
       "      <td>4494678</td>\n",
       "      <td>4.494678e+06</td>\n",
       "    </tr>\n",
       "    <tr>\n",
       "      <th>mean</th>\n",
       "      <td>2023-01-20 14:03:07.490103040</td>\n",
       "      <td>0 days 15:27:53.033667506</td>\n",
       "      <td>5.567303e+04</td>\n",
       "    </tr>\n",
       "    <tr>\n",
       "      <th>min</th>\n",
       "      <td>2022-01-01 09:06:56.209000</td>\n",
       "      <td>0 days 00:00:30.006000</td>\n",
       "      <td>3.001000e+01</td>\n",
       "    </tr>\n",
       "    <tr>\n",
       "      <th>25%</th>\n",
       "      <td>2022-07-25 10:34:02.867500032</td>\n",
       "      <td>0 days 00:02:20.265000</td>\n",
       "      <td>1.402600e+02</td>\n",
       "    </tr>\n",
       "    <tr>\n",
       "      <th>50%</th>\n",
       "      <td>2023-01-27 18:10:16.858999808</td>\n",
       "      <td>0 days 00:04:51.797000</td>\n",
       "      <td>2.918000e+02</td>\n",
       "    </tr>\n",
       "    <tr>\n",
       "      <th>75%</th>\n",
       "      <td>2023-07-30 21:36:35.568749824</td>\n",
       "      <td>0 days 00:14:41.809250</td>\n",
       "      <td>8.818100e+02</td>\n",
       "    </tr>\n",
       "    <tr>\n",
       "      <th>max</th>\n",
       "      <td>2023-12-30 23:59:53.595000</td>\n",
       "      <td>720 days 13:46:13.325000</td>\n",
       "      <td>6.225757e+07</td>\n",
       "    </tr>\n",
       "    <tr>\n",
       "      <th>std</th>\n",
       "      <td>NaN</td>\n",
       "      <td>8 days 10:15:21.110699253</td>\n",
       "      <td>7.281211e+05</td>\n",
       "    </tr>\n",
       "  </tbody>\n",
       "</table>\n",
       "</div>"
      ],
      "text/plain": [
       "                complete_lesson_time                  time_diff  \\\n",
       "count                        4494678                    4494678   \n",
       "mean   2023-01-20 14:03:07.490103040  0 days 15:27:53.033667506   \n",
       "min       2022-01-01 09:06:56.209000     0 days 00:00:30.006000   \n",
       "25%    2022-07-25 10:34:02.867500032     0 days 00:02:20.265000   \n",
       "50%    2023-01-27 18:10:16.858999808     0 days 00:04:51.797000   \n",
       "75%    2023-07-30 21:36:35.568749824     0 days 00:14:41.809250   \n",
       "max       2023-12-30 23:59:53.595000   720 days 13:46:13.325000   \n",
       "std                              NaN  8 days 10:15:21.110699253   \n",
       "\n",
       "       time_diff_seconds  \n",
       "count       4.494678e+06  \n",
       "mean        5.567303e+04  \n",
       "min         3.001000e+01  \n",
       "25%         1.402600e+02  \n",
       "50%         2.918000e+02  \n",
       "75%         8.818100e+02  \n",
       "max         6.225757e+07  \n",
       "std         7.281211e+05  "
      ]
     },
     "execution_count": 44,
     "metadata": {},
     "output_type": "execute_result"
    }
   ],
   "source": [
    "complete_lesson_finalised_unique.describe()"
   ]
  },
  {
   "cell_type": "code",
   "execution_count": null,
   "metadata": {},
   "outputs": [],
   "source": []
  },
  {
   "cell_type": "markdown",
   "metadata": {},
   "source": [
    "#### 원찬님 방법"
   ]
  },
  {
   "cell_type": "code",
   "execution_count": null,
   "metadata": {},
   "outputs": [
    {
     "ename": "NameError",
     "evalue": "name 'enter_lesson_page_df' is not defined",
     "output_type": "error",
     "traceback": [
      "\u001b[1;31m---------------------------------------------------------------------------\u001b[0m",
      "\u001b[1;31mNameError\u001b[0m                                 Traceback (most recent call last)",
      "Cell \u001b[1;32mIn[45], line 4\u001b[0m\n\u001b[0;32m      1\u001b[0m \u001b[38;5;66;03m# 임시 리스트 생성\u001b[39;00m\n\u001b[0;32m      2\u001b[0m temp_list \u001b[38;5;241m=\u001b[39m []\n\u001b[1;32m----> 4\u001b[0m \u001b[38;5;28;01mfor\u001b[39;00m data \u001b[38;5;129;01min\u001b[39;00m [enter_lesson_page_df, complete_lesson_df]:\n\u001b[0;32m      5\u001b[0m     \u001b[38;5;66;03m# 필요한 컬럼만 추출하여 필터링\u001b[39;00m\n\u001b[0;32m      6\u001b[0m     data \u001b[38;5;241m=\u001b[39m data[[\u001b[38;5;124m'\u001b[39m\u001b[38;5;124muser_id\u001b[39m\u001b[38;5;124m'\u001b[39m, \u001b[38;5;124m'\u001b[39m\u001b[38;5;124mclient_event_time\u001b[39m\u001b[38;5;124m'\u001b[39m, \u001b[38;5;124m'\u001b[39m\u001b[38;5;124mevent_type\u001b[39m\u001b[38;5;124m'\u001b[39m, \u001b[38;5;124m'\u001b[39m\u001b[38;5;124mcontent.id\u001b[39m\u001b[38;5;124m'\u001b[39m, \u001b[38;5;124m'\u001b[39m\u001b[38;5;124mlesson.id\u001b[39m\u001b[38;5;124m'\u001b[39m]]\n\u001b[0;32m      8\u001b[0m     \u001b[38;5;66;03m# 임시 리스트에 저장\u001b[39;00m\n",
      "\u001b[1;31mNameError\u001b[0m: name 'enter_lesson_page_df' is not defined"
     ]
    }
   ],
   "source": [
    "# # 임시 리스트 생성\n",
    "# temp_list = []\n",
    "\n",
    "# for data in [enter_lesson_page_df, complete_lesson_df]:\n",
    "#     # 필요한 컬럼만 추출하여 필터링\n",
    "#     data = data[['user_id', 'client_event_time', 'event_type', 'content.id', 'lesson.id']]\n",
    "\n",
    "#     # 임시 리스트에 저장\n",
    "#     temp_list.append(data)\n",
    "\n",
    "# # 임시 리스트를 사용하여 데이터 concat\n",
    "# lesson_concat_df = pd.concat(temp_list, axis=0)\n",
    "\n",
    "# # reset_index()로 인덱스 재정렬\n",
    "# lesson_concat_df.reset_index(drop=True)\n",
    "\n",
    "# # user_id, client_event_time을 기준으로 오름차순 정렬\n",
    "# lesson_concat_df.sort_values(by=['user_id', 'client_event_time'], ascending=[True, True])\n",
    "\n",
    "# # 데이터 확인\n",
    "# lesson_concat_df"
   ]
  },
  {
   "cell_type": "code",
   "execution_count": null,
   "metadata": {},
   "outputs": [],
   "source": []
  },
  {
   "cell_type": "code",
   "execution_count": null,
   "metadata": {},
   "outputs": [],
   "source": []
  },
  {
   "cell_type": "code",
   "execution_count": null,
   "metadata": {},
   "outputs": [],
   "source": []
  }
 ],
 "metadata": {
  "kernelspec": {
   "display_name": "base",
   "language": "python",
   "name": "python3"
  },
  "language_info": {
   "codemirror_mode": {
    "name": "ipython",
    "version": 3
   },
   "file_extension": ".py",
   "mimetype": "text/x-python",
   "name": "python",
   "nbconvert_exporter": "python",
   "pygments_lexer": "ipython3",
   "version": "3.12.7"
  }
 },
 "nbformat": 4,
 "nbformat_minor": 2
}
