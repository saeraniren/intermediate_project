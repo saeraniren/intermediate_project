{
 "cells": [
  {
   "cell_type": "code",
   "execution_count": 2,
   "metadata": {},
   "outputs": [],
   "source": [
    "import pandas as pd\n",
    "import os\n",
    "import datetime as dt\n",
    "pd.set_option('display.max_columns',100)\n",
    "import matplotlib.pyplot as plt\n",
    "import seaborn as sns\n",
    "# !pip install koreanize-matplotlib\n",
    "import koreanize_matplotlib\n",
    "import matplotlib as mpl\n",
    "pd.set_option('display.max_colwidth', None)\n",
    "import glob"
   ]
  },
  {
   "cell_type": "markdown",
   "metadata": {},
   "source": [
    "### enter_lesson_page"
   ]
  },
  {
   "cell_type": "markdown",
   "metadata": {},
   "source": [
    "#### 기본 전처리 ()"
   ]
  },
  {
   "cell_type": "code",
   "execution_count": 85,
   "metadata": {},
   "outputs": [
    {
     "name": "stderr",
     "output_type": "stream",
     "text": [
      "C:\\Users\\syc09\\AppData\\Local\\Temp\\ipykernel_25876\\2524196629.py:1: DtypeWarning: Columns (9,13,15) have mixed types. Specify dtype option on import or set low_memory=False.\n",
      "  enter_lesson_page = pd.read_csv('C:/Users/syc09/Desktop/코드잇/중급프로젝트1/Topic2_real/enter_lesson_page-001.csv')\n"
     ]
    }
   ],
   "source": [
    "enter_lesson_page = pd.read_csv('C:/Users/syc09/Desktop/코드잇/중급프로젝트1/Topic2_real/enter_lesson_page-001.csv')"
   ]
  },
  {
   "cell_type": "code",
   "execution_count": 86,
   "metadata": {},
   "outputs": [],
   "source": [
    "# 시간. UTC -> KST\n",
    "enter_lesson_page['client_event_time'] = pd.to_datetime(enter_lesson_page['client_event_time'], errors='coerce')\n",
    "enter_lesson_page['client_event_time'] = enter_lesson_page['client_event_time'] + pd.Timedelta(hours=9)"
   ]
  },
  {
   "cell_type": "code",
   "execution_count": 87,
   "metadata": {},
   "outputs": [],
   "source": [
    "# 2022, 2023년 제한\n",
    "enter_lesson_page = enter_lesson_page.loc[\n",
    "    enter_lesson_page['client_event_time'].dt.year.between(2022, 2023)]"
   ]
  },
  {
   "cell_type": "code",
   "execution_count": 88,
   "metadata": {},
   "outputs": [],
   "source": [
    "# 컬럼명 변경\n",
    "enter_lesson_page.rename(columns={'content.id': 'content_id', 'lesson.id': 'lesson_id'}, inplace=True)\n",
    "enter_lesson_page.rename(columns={'client_event_time': 'enter_lesson_time'}, inplace=True)\n",
    "\n",
    "# 컬럼 버리기\n",
    "enter_lesson_page.drop(columns=['platform', 'os_version', 'device_carrier'], inplace=True)\n",
    "enter_lesson_page.drop(enter_lesson_page[enter_lesson_page['os_name'] == 'Chrome Headless'].index, inplace=True)"
   ]
  },
  {
   "cell_type": "code",
   "execution_count": 89,
   "metadata": {},
   "outputs": [
    {
     "data": {
      "text/plain": [
       "0           False\n",
       "1           False\n",
       "2           False\n",
       "3           False\n",
       "4           False\n",
       "            ...  \n",
       "21029702    False\n",
       "21029703    False\n",
       "21029704    False\n",
       "21029705    False\n",
       "21029706    False\n",
       "Length: 21028196, dtype: bool"
      ]
     },
     "execution_count": 89,
     "metadata": {},
     "output_type": "execute_result"
    }
   ],
   "source": [
    "# 중복 컬럼 삭제\n",
    "enter_lesson_page.duplicated(subset=['enter_lesson_time', 'user_id', 'content_id', 'lesson_id'], keep=False)"
   ]
  },
  {
   "cell_type": "code",
   "execution_count": 90,
   "metadata": {},
   "outputs": [
    {
     "data": {
      "text/html": [
       "<div>\n",
       "<style scoped>\n",
       "    .dataframe tbody tr th:only-of-type {\n",
       "        vertical-align: middle;\n",
       "    }\n",
       "\n",
       "    .dataframe tbody tr th {\n",
       "        vertical-align: top;\n",
       "    }\n",
       "\n",
       "    .dataframe thead th {\n",
       "        text-align: right;\n",
       "    }\n",
       "</style>\n",
       "<table border=\"1\" class=\"dataframe\">\n",
       "  <thead>\n",
       "    <tr style=\"text-align: right;\">\n",
       "      <th></th>\n",
       "      <th>city</th>\n",
       "      <th>enter_lesson_time</th>\n",
       "      <th>country</th>\n",
       "      <th>device_family</th>\n",
       "      <th>device_type</th>\n",
       "      <th>event_type</th>\n",
       "      <th>language</th>\n",
       "      <th>os_name</th>\n",
       "      <th>user_id</th>\n",
       "      <th>content_id</th>\n",
       "      <th>is_trial</th>\n",
       "      <th>lesson_id</th>\n",
       "      <th>is_free_trial</th>\n",
       "    </tr>\n",
       "  </thead>\n",
       "  <tbody>\n",
       "    <tr>\n",
       "      <th>0</th>\n",
       "      <td>Wonju</td>\n",
       "      <td>2023-04-06 06:46:04.333</td>\n",
       "      <td>South Korea</td>\n",
       "      <td>Windows</td>\n",
       "      <td>Windows</td>\n",
       "      <td>enter.lesson_page</td>\n",
       "      <td>Korean</td>\n",
       "      <td>Chrome</td>\n",
       "      <td>91053eda0bffb4db6c9317acf15bc44a</td>\n",
       "      <td>94bdcbd9f329aafa84ab464b6721187d</td>\n",
       "      <td>False</td>\n",
       "      <td>d360d68b65fd3e0eafb7982386d75fd9</td>\n",
       "      <td>NaN</td>\n",
       "    </tr>\n",
       "    <tr>\n",
       "      <th>1</th>\n",
       "      <td>Wonju</td>\n",
       "      <td>2023-04-06 06:55:50.787</td>\n",
       "      <td>South Korea</td>\n",
       "      <td>Windows</td>\n",
       "      <td>Windows</td>\n",
       "      <td>enter.lesson_page</td>\n",
       "      <td>Korean</td>\n",
       "      <td>Chrome</td>\n",
       "      <td>91053eda0bffb4db6c9317acf15bc44a</td>\n",
       "      <td>94bdcbd9f329aafa84ab464b6721187d</td>\n",
       "      <td>False</td>\n",
       "      <td>d360d68b65fd3e0eafb7982386d75fd9</td>\n",
       "      <td>NaN</td>\n",
       "    </tr>\n",
       "    <tr>\n",
       "      <th>2</th>\n",
       "      <td>Wonju</td>\n",
       "      <td>2023-04-06 06:55:55.684</td>\n",
       "      <td>South Korea</td>\n",
       "      <td>Windows</td>\n",
       "      <td>Windows</td>\n",
       "      <td>enter.lesson_page</td>\n",
       "      <td>Korean</td>\n",
       "      <td>Chrome</td>\n",
       "      <td>91053eda0bffb4db6c9317acf15bc44a</td>\n",
       "      <td>94bdcbd9f329aafa84ab464b6721187d</td>\n",
       "      <td>False</td>\n",
       "      <td>770740696ab1809d6b50d4013b64a75c</td>\n",
       "      <td>NaN</td>\n",
       "    </tr>\n",
       "    <tr>\n",
       "      <th>3</th>\n",
       "      <td>Dongdaemun-gu</td>\n",
       "      <td>2023-04-06 06:04:55.828</td>\n",
       "      <td>South Korea</td>\n",
       "      <td>Mac</td>\n",
       "      <td>Mac</td>\n",
       "      <td>enter.lesson_page</td>\n",
       "      <td>Korean</td>\n",
       "      <td>Chrome</td>\n",
       "      <td>b2b31f00b82edc6419b25324a7ae41a4</td>\n",
       "      <td>5fc64d786416b980cfda86afd69e4516</td>\n",
       "      <td>False</td>\n",
       "      <td>68cc362ca81b5899b3c9b4dea0aaddff</td>\n",
       "      <td>NaN</td>\n",
       "    </tr>\n",
       "    <tr>\n",
       "      <th>4</th>\n",
       "      <td>Dongdaemun-gu</td>\n",
       "      <td>2023-04-06 06:05:34.139</td>\n",
       "      <td>South Korea</td>\n",
       "      <td>Mac</td>\n",
       "      <td>Mac</td>\n",
       "      <td>enter.lesson_page</td>\n",
       "      <td>Korean</td>\n",
       "      <td>Chrome</td>\n",
       "      <td>b2b31f00b82edc6419b25324a7ae41a4</td>\n",
       "      <td>db43a841c994231e2795d4df8931af50</td>\n",
       "      <td>False</td>\n",
       "      <td>144682f4648f81de8e6aabd11b92105e</td>\n",
       "      <td>NaN</td>\n",
       "    </tr>\n",
       "  </tbody>\n",
       "</table>\n",
       "</div>"
      ],
      "text/plain": [
       "            city       enter_lesson_time      country device_family  \\\n",
       "0          Wonju 2023-04-06 06:46:04.333  South Korea       Windows   \n",
       "1          Wonju 2023-04-06 06:55:50.787  South Korea       Windows   \n",
       "2          Wonju 2023-04-06 06:55:55.684  South Korea       Windows   \n",
       "3  Dongdaemun-gu 2023-04-06 06:04:55.828  South Korea           Mac   \n",
       "4  Dongdaemun-gu 2023-04-06 06:05:34.139  South Korea           Mac   \n",
       "\n",
       "  device_type         event_type language os_name  \\\n",
       "0     Windows  enter.lesson_page   Korean  Chrome   \n",
       "1     Windows  enter.lesson_page   Korean  Chrome   \n",
       "2     Windows  enter.lesson_page   Korean  Chrome   \n",
       "3         Mac  enter.lesson_page   Korean  Chrome   \n",
       "4         Mac  enter.lesson_page   Korean  Chrome   \n",
       "\n",
       "                            user_id                        content_id  \\\n",
       "0  91053eda0bffb4db6c9317acf15bc44a  94bdcbd9f329aafa84ab464b6721187d   \n",
       "1  91053eda0bffb4db6c9317acf15bc44a  94bdcbd9f329aafa84ab464b6721187d   \n",
       "2  91053eda0bffb4db6c9317acf15bc44a  94bdcbd9f329aafa84ab464b6721187d   \n",
       "3  b2b31f00b82edc6419b25324a7ae41a4  5fc64d786416b980cfda86afd69e4516   \n",
       "4  b2b31f00b82edc6419b25324a7ae41a4  db43a841c994231e2795d4df8931af50   \n",
       "\n",
       "  is_trial                         lesson_id is_free_trial  \n",
       "0    False  d360d68b65fd3e0eafb7982386d75fd9           NaN  \n",
       "1    False  d360d68b65fd3e0eafb7982386d75fd9           NaN  \n",
       "2    False  770740696ab1809d6b50d4013b64a75c           NaN  \n",
       "3    False  68cc362ca81b5899b3c9b4dea0aaddff           NaN  \n",
       "4    False  144682f4648f81de8e6aabd11b92105e           NaN  "
      ]
     },
     "execution_count": 90,
     "metadata": {},
     "output_type": "execute_result"
    }
   ],
   "source": [
    "enter_lesson_page.head()"
   ]
  },
  {
   "cell_type": "markdown",
   "metadata": {},
   "source": [
    "### complete_lesson"
   ]
  },
  {
   "cell_type": "markdown",
   "metadata": {},
   "source": [
    "#### 기본 전처리"
   ]
  },
  {
   "cell_type": "code",
   "execution_count": 91,
   "metadata": {},
   "outputs": [],
   "source": [
    "complete_lesson = pd.read_csv('C:/Users/syc09/Desktop/코드잇/중급프로젝트1/Topic2_real/complete_lesson.csv')"
   ]
  },
  {
   "cell_type": "code",
   "execution_count": 92,
   "metadata": {},
   "outputs": [],
   "source": [
    "# 시간. UTC -> KST\n",
    "complete_lesson['client_event_time'] = pd.to_datetime(complete_lesson['client_event_time'], errors='coerce')\n",
    "complete_lesson['client_event_time'] = complete_lesson['client_event_time'] + pd.Timedelta(hours=9)"
   ]
  },
  {
   "cell_type": "code",
   "execution_count": 93,
   "metadata": {},
   "outputs": [],
   "source": [
    "# 2022, 2023년 제한\n",
    "# complete_lesson = complete_lesson[(complete_lesson['client_event_time'] >= start_date) & (complete_lesson['client_event_time'] <= end_date)]\n",
    "# 시간 필터링\n",
    "complete_lesson = complete_lesson.loc[\n",
    "    complete_lesson['client_event_time'].dt.year.between(2022, 2023)]"
   ]
  },
  {
   "cell_type": "code",
   "execution_count": 94,
   "metadata": {},
   "outputs": [],
   "source": [
    "# 컬럼명 변경\n",
    "complete_lesson.rename(columns={'content.id': 'content_id', 'lesson.id': 'lesson_id'}, inplace=True)\n",
    "complete_lesson.rename(columns={'client_event_time': 'complete_lesson_time'}, inplace=True)\n",
    "\n",
    "# 컬럼 버리기\n",
    "complete_lesson.drop(columns=['platform', 'os_version', 'device_carrier'], inplace=True)\n",
    "complete_lesson.drop(complete_lesson[complete_lesson['os_name'] == 'Chrome Headless'].index, inplace=True)"
   ]
  },
  {
   "cell_type": "code",
   "execution_count": 95,
   "metadata": {},
   "outputs": [
    {
     "data": {
      "text/plain": [
       "0          False\n",
       "1          False\n",
       "2          False\n",
       "3          False\n",
       "4          False\n",
       "           ...  \n",
       "5405064    False\n",
       "5405065    False\n",
       "5405066    False\n",
       "5405067    False\n",
       "5405068    False\n",
       "Length: 5404242, dtype: bool"
      ]
     },
     "execution_count": 95,
     "metadata": {},
     "output_type": "execute_result"
    }
   ],
   "source": [
    "# 중복 컬럼 삭제\n",
    "complete_lesson.duplicated(subset=['complete_lesson_time', 'user_id', 'content_id', 'lesson_id'], keep=False)"
   ]
  },
  {
   "cell_type": "code",
   "execution_count": 96,
   "metadata": {},
   "outputs": [
    {
     "data": {
      "text/html": [
       "<div>\n",
       "<style scoped>\n",
       "    .dataframe tbody tr th:only-of-type {\n",
       "        vertical-align: middle;\n",
       "    }\n",
       "\n",
       "    .dataframe tbody tr th {\n",
       "        vertical-align: top;\n",
       "    }\n",
       "\n",
       "    .dataframe thead th {\n",
       "        text-align: right;\n",
       "    }\n",
       "</style>\n",
       "<table border=\"1\" class=\"dataframe\">\n",
       "  <thead>\n",
       "    <tr style=\"text-align: right;\">\n",
       "      <th></th>\n",
       "      <th>city</th>\n",
       "      <th>complete_lesson_time</th>\n",
       "      <th>country</th>\n",
       "      <th>device_family</th>\n",
       "      <th>device_type</th>\n",
       "      <th>event_type</th>\n",
       "      <th>language</th>\n",
       "      <th>os_name</th>\n",
       "      <th>user_id</th>\n",
       "      <th>content_id</th>\n",
       "      <th>lesson_id</th>\n",
       "    </tr>\n",
       "  </thead>\n",
       "  <tbody>\n",
       "    <tr>\n",
       "      <th>0</th>\n",
       "      <td>Wonju</td>\n",
       "      <td>2023-04-06 06:55:51.836</td>\n",
       "      <td>South Korea</td>\n",
       "      <td>Windows</td>\n",
       "      <td>Windows</td>\n",
       "      <td>complete.lesson</td>\n",
       "      <td>Korean</td>\n",
       "      <td>Chrome</td>\n",
       "      <td>91053eda0bffb4db6c9317acf15bc44a</td>\n",
       "      <td>94bdcbd9f329aafa84ab464b6721187d</td>\n",
       "      <td>d360d68b65fd3e0eafb7982386d75fd9</td>\n",
       "    </tr>\n",
       "    <tr>\n",
       "      <th>1</th>\n",
       "      <td>Daejeon</td>\n",
       "      <td>2023-04-06 06:19:01.243</td>\n",
       "      <td>South Korea</td>\n",
       "      <td>Windows</td>\n",
       "      <td>Windows</td>\n",
       "      <td>complete.lesson</td>\n",
       "      <td>Korean</td>\n",
       "      <td>Edge</td>\n",
       "      <td>41362ad5ebcade2bb1b78344a53e7ccf</td>\n",
       "      <td>445fac33232adcb3d1cdab7d8a579430</td>\n",
       "      <td>7e0f6aae886368ef9fa97007a8e9f7ac</td>\n",
       "    </tr>\n",
       "    <tr>\n",
       "      <th>2</th>\n",
       "      <td>Daejeon</td>\n",
       "      <td>2023-04-06 06:20:27.939</td>\n",
       "      <td>South Korea</td>\n",
       "      <td>Windows</td>\n",
       "      <td>Windows</td>\n",
       "      <td>complete.lesson</td>\n",
       "      <td>Korean</td>\n",
       "      <td>Edge</td>\n",
       "      <td>41362ad5ebcade2bb1b78344a53e7ccf</td>\n",
       "      <td>445fac33232adcb3d1cdab7d8a579430</td>\n",
       "      <td>d1e93c9dc08267efab31849bc6083854</td>\n",
       "    </tr>\n",
       "    <tr>\n",
       "      <th>3</th>\n",
       "      <td>Daejeon</td>\n",
       "      <td>2023-04-06 06:23:01.534</td>\n",
       "      <td>South Korea</td>\n",
       "      <td>Windows</td>\n",
       "      <td>Windows</td>\n",
       "      <td>complete.lesson</td>\n",
       "      <td>Korean</td>\n",
       "      <td>Edge</td>\n",
       "      <td>41362ad5ebcade2bb1b78344a53e7ccf</td>\n",
       "      <td>445fac33232adcb3d1cdab7d8a579430</td>\n",
       "      <td>f22ea5dc431035305e705552bbc4f45b</td>\n",
       "    </tr>\n",
       "    <tr>\n",
       "      <th>4</th>\n",
       "      <td>Daejeon</td>\n",
       "      <td>2023-04-06 06:28:34.965</td>\n",
       "      <td>South Korea</td>\n",
       "      <td>Windows</td>\n",
       "      <td>Windows</td>\n",
       "      <td>complete.lesson</td>\n",
       "      <td>Korean</td>\n",
       "      <td>Edge</td>\n",
       "      <td>41362ad5ebcade2bb1b78344a53e7ccf</td>\n",
       "      <td>445fac33232adcb3d1cdab7d8a579430</td>\n",
       "      <td>ce0bfeb7fb1259c588f437d48ab2690c</td>\n",
       "    </tr>\n",
       "  </tbody>\n",
       "</table>\n",
       "</div>"
      ],
      "text/plain": [
       "      city    complete_lesson_time      country device_family device_type  \\\n",
       "0    Wonju 2023-04-06 06:55:51.836  South Korea       Windows     Windows   \n",
       "1  Daejeon 2023-04-06 06:19:01.243  South Korea       Windows     Windows   \n",
       "2  Daejeon 2023-04-06 06:20:27.939  South Korea       Windows     Windows   \n",
       "3  Daejeon 2023-04-06 06:23:01.534  South Korea       Windows     Windows   \n",
       "4  Daejeon 2023-04-06 06:28:34.965  South Korea       Windows     Windows   \n",
       "\n",
       "        event_type language os_name                           user_id  \\\n",
       "0  complete.lesson   Korean  Chrome  91053eda0bffb4db6c9317acf15bc44a   \n",
       "1  complete.lesson   Korean    Edge  41362ad5ebcade2bb1b78344a53e7ccf   \n",
       "2  complete.lesson   Korean    Edge  41362ad5ebcade2bb1b78344a53e7ccf   \n",
       "3  complete.lesson   Korean    Edge  41362ad5ebcade2bb1b78344a53e7ccf   \n",
       "4  complete.lesson   Korean    Edge  41362ad5ebcade2bb1b78344a53e7ccf   \n",
       "\n",
       "                         content_id                         lesson_id  \n",
       "0  94bdcbd9f329aafa84ab464b6721187d  d360d68b65fd3e0eafb7982386d75fd9  \n",
       "1  445fac33232adcb3d1cdab7d8a579430  7e0f6aae886368ef9fa97007a8e9f7ac  \n",
       "2  445fac33232adcb3d1cdab7d8a579430  d1e93c9dc08267efab31849bc6083854  \n",
       "3  445fac33232adcb3d1cdab7d8a579430  f22ea5dc431035305e705552bbc4f45b  \n",
       "4  445fac33232adcb3d1cdab7d8a579430  ce0bfeb7fb1259c588f437d48ab2690c  "
      ]
     },
     "execution_count": 96,
     "metadata": {},
     "output_type": "execute_result"
    }
   ],
   "source": [
    "complete_lesson.head()"
   ]
  },
  {
   "cell_type": "code",
   "execution_count": 97,
   "metadata": {},
   "outputs": [
    {
     "name": "stdout",
     "output_type": "stream",
     "text": [
      "2022-01-01 09:00:01.181000\n",
      "2023-12-31 23:59:51.635000\n"
     ]
    }
   ],
   "source": [
    "print(complete_lesson['complete_lesson_time'].min())\n",
    "print(complete_lesson['complete_lesson_time'].max())"
   ]
  },
  {
   "cell_type": "markdown",
   "metadata": {},
   "source": [
    "### 각 데이터에서 30초 이내 로그가 찍힌 것들, 동일한 년, 월, 일, 시, 분 삭제(같은 레슨일 경우)"
   ]
  },
  {
   "cell_type": "markdown",
   "metadata": {},
   "source": [
    "- enter lesson"
   ]
  },
  {
   "cell_type": "code",
   "execution_count": 98,
   "metadata": {},
   "outputs": [],
   "source": [
    "# enter_lesson_time을 시간 순서대로 정렬\n",
    "enter_lesson_page_filtered = enter_lesson_page.sort_values(by=['user_id', 'enter_lesson_time'])\n",
    "\n",
    "# 동일한 user_id에 대해 연속된 행의 시간 차이 계산\n",
    "enter_lesson_page_filtered['time_diff'] = enter_lesson_page_filtered.groupby('user_id')['enter_lesson_time'].diff()\n",
    "\n",
    "# 시간 차이를 초 단위로 변환\n",
    "enter_lesson_page_filtered['time_diff_seconds'] = enter_lesson_page_filtered['time_diff'].dt.total_seconds() #.round(2)"
   ]
  },
  {
   "cell_type": "code",
   "execution_count": 99,
   "metadata": {},
   "outputs": [],
   "source": [
    "# time_diff_seconds가 30초 초과인 데이터만 남김김\n",
    "enter_lesson_page_finalised = enter_lesson_page_filtered[(enter_lesson_page_filtered['time_diff_seconds'] > 30)]"
   ]
  },
  {
   "cell_type": "code",
   "execution_count": 100,
   "metadata": {},
   "outputs": [
    {
     "name": "stderr",
     "output_type": "stream",
     "text": [
      "C:\\Users\\syc09\\AppData\\Local\\Temp\\ipykernel_25876\\4201793937.py:2: SettingWithCopyWarning: \n",
      "A value is trying to be set on a copy of a slice from a DataFrame.\n",
      "Try using .loc[row_indexer,col_indexer] = value instead\n",
      "\n",
      "See the caveats in the documentation: https://pandas.pydata.org/pandas-docs/stable/user_guide/indexing.html#returning-a-view-versus-a-copy\n",
      "  enter_lesson_page_finalised[\"time_group\"] = enter_lesson_page_finalised[\"enter_lesson_time\"].dt.strftime(\"%Y-%m-%d %H:%M\")\n"
     ]
    }
   ],
   "source": [
    "# 년-월-일-시-분 단위 컬럼 추가\n",
    "enter_lesson_page_finalised[\"time_group\"] = enter_lesson_page_finalised[\"enter_lesson_time\"].dt.strftime(\"%Y-%m-%d %H:%M\")\n",
    "\n",
    "# 정렬 수행\n",
    "enter_lesson_page_finalised = enter_lesson_page_finalised.sort_values(by=[\"user_id\", \"content_id\", \"lesson_id\", \"enter_lesson_time\"])\n",
    "\n",
    "# 중복 제거 (첫 번째 값 유지)\n",
    "enter_lesson_page_finalised_unique = enter_lesson_page_finalised.drop_duplicates(subset=[\"user_id\", \"content_id\", \"lesson_id\", \"time_group\"], keep=\"first\")\n",
    "\n",
    "enter_lesson_page_finalised_unique = enter_lesson_page_finalised_unique.drop_duplicates(\n",
    "    subset=[\"user_id\", \"time_group\"], keep=\"first\"\n",
    ")\n",
    "\n",
    "\n",
    "# 필요 없는 컬럼 제거\n",
    "enter_lesson_page_finalised_unique = enter_lesson_page_finalised_unique.drop(columns=[\"time_group\"])\n"
   ]
  },
  {
   "cell_type": "code",
   "execution_count": 101,
   "metadata": {},
   "outputs": [
    {
     "name": "stdout",
     "output_type": "stream",
     "text": [
      "21028196\n",
      "8118190\n",
      "7852494\n"
     ]
    }
   ],
   "source": [
    "print(len(enter_lesson_page)) # 로우 데이터\n",
    "print(len(enter_lesson_page_finalised)) # timediff 30초 초과 데이터\n",
    "print(len(enter_lesson_page_finalised_unique)) # 동일한 년월일시분 삭제"
   ]
  },
  {
   "cell_type": "code",
   "execution_count": 102,
   "metadata": {},
   "outputs": [
    {
     "name": "stdout",
     "output_type": "stream",
     "text": [
      "113916\n",
      "79820\n",
      "79820\n"
     ]
    }
   ],
   "source": [
    "print(enter_lesson_page['user_id'].nunique()) # 로우 데이터\n",
    "print(enter_lesson_page_finalised['user_id'].nunique()) # timediff 30초 초과 데이터\n",
    "print(enter_lesson_page_finalised_unique['user_id'].nunique()) # 동일한 년월일시분 삭제"
   ]
  },
  {
   "cell_type": "code",
   "execution_count": 103,
   "metadata": {},
   "outputs": [
    {
     "name": "stdout",
     "output_type": "stream",
     "text": [
      "5479\n",
      "5391\n",
      "5383\n"
     ]
    }
   ],
   "source": [
    "print(enter_lesson_page['lesson_id'].nunique()) # 로우 데이터\n",
    "print(enter_lesson_page_finalised['lesson_id'].nunique()) # timediff 30초 초과 데이터\n",
    "print(enter_lesson_page_finalised_unique['lesson_id'].nunique()) # 동일한 년월일시분 삭제"
   ]
  },
  {
   "cell_type": "code",
   "execution_count": 104,
   "metadata": {},
   "outputs": [
    {
     "data": {
      "text/html": [
       "<div>\n",
       "<style scoped>\n",
       "    .dataframe tbody tr th:only-of-type {\n",
       "        vertical-align: middle;\n",
       "    }\n",
       "\n",
       "    .dataframe tbody tr th {\n",
       "        vertical-align: top;\n",
       "    }\n",
       "\n",
       "    .dataframe thead th {\n",
       "        text-align: right;\n",
       "    }\n",
       "</style>\n",
       "<table border=\"1\" class=\"dataframe\">\n",
       "  <thead>\n",
       "    <tr style=\"text-align: right;\">\n",
       "      <th></th>\n",
       "      <th>enter_lesson_time</th>\n",
       "      <th>time_diff</th>\n",
       "      <th>time_diff_seconds</th>\n",
       "    </tr>\n",
       "  </thead>\n",
       "  <tbody>\n",
       "    <tr>\n",
       "      <th>count</th>\n",
       "      <td>7852494</td>\n",
       "      <td>7852494</td>\n",
       "      <td>7.852494e+06</td>\n",
       "    </tr>\n",
       "    <tr>\n",
       "      <th>mean</th>\n",
       "      <td>2023-01-07 20:17:21.373091584</td>\n",
       "      <td>0 days 15:31:14.171259363</td>\n",
       "      <td>5.587417e+04</td>\n",
       "    </tr>\n",
       "    <tr>\n",
       "      <th>min</th>\n",
       "      <td>2022-01-01 00:56:27.589000</td>\n",
       "      <td>0 days 00:00:30.001000</td>\n",
       "      <td>3.000100e+01</td>\n",
       "    </tr>\n",
       "    <tr>\n",
       "      <th>25%</th>\n",
       "      <td>2022-07-24 19:21:33.735750144</td>\n",
       "      <td>0 days 00:01:25.004250</td>\n",
       "      <td>8.500425e+01</td>\n",
       "    </tr>\n",
       "    <tr>\n",
       "      <th>50%</th>\n",
       "      <td>2023-01-26 11:07:25.428499968</td>\n",
       "      <td>0 days 00:03:20.362000</td>\n",
       "      <td>2.003620e+02</td>\n",
       "    </tr>\n",
       "    <tr>\n",
       "      <th>75%</th>\n",
       "      <td>2023-06-30 00:36:46.983249920</td>\n",
       "      <td>0 days 00:09:22.805000</td>\n",
       "      <td>5.628050e+02</td>\n",
       "    </tr>\n",
       "    <tr>\n",
       "      <th>max</th>\n",
       "      <td>2023-12-31 23:59:45.192000</td>\n",
       "      <td>722 days 23:20:52.788000</td>\n",
       "      <td>6.246485e+07</td>\n",
       "    </tr>\n",
       "    <tr>\n",
       "      <th>std</th>\n",
       "      <td>NaN</td>\n",
       "      <td>9 days 22:08:57.636050669</td>\n",
       "      <td>8.573376e+05</td>\n",
       "    </tr>\n",
       "  </tbody>\n",
       "</table>\n",
       "</div>"
      ],
      "text/plain": [
       "                   enter_lesson_time                  time_diff  \\\n",
       "count                        7852494                    7852494   \n",
       "mean   2023-01-07 20:17:21.373091584  0 days 15:31:14.171259363   \n",
       "min       2022-01-01 00:56:27.589000     0 days 00:00:30.001000   \n",
       "25%    2022-07-24 19:21:33.735750144     0 days 00:01:25.004250   \n",
       "50%    2023-01-26 11:07:25.428499968     0 days 00:03:20.362000   \n",
       "75%    2023-06-30 00:36:46.983249920     0 days 00:09:22.805000   \n",
       "max       2023-12-31 23:59:45.192000   722 days 23:20:52.788000   \n",
       "std                              NaN  9 days 22:08:57.636050669   \n",
       "\n",
       "       time_diff_seconds  \n",
       "count       7.852494e+06  \n",
       "mean        5.587417e+04  \n",
       "min         3.000100e+01  \n",
       "25%         8.500425e+01  \n",
       "50%         2.003620e+02  \n",
       "75%         5.628050e+02  \n",
       "max         6.246485e+07  \n",
       "std         8.573376e+05  "
      ]
     },
     "execution_count": 104,
     "metadata": {},
     "output_type": "execute_result"
    }
   ],
   "source": [
    "enter_lesson_page_finalised_unique.describe()"
   ]
  },
  {
   "cell_type": "markdown",
   "metadata": {},
   "source": [
    "#### complete lesson"
   ]
  },
  {
   "cell_type": "code",
   "execution_count": 105,
   "metadata": {},
   "outputs": [],
   "source": [
    "# enter_lesson_time을 시간 순서대로 정렬\n",
    "complete_lesson_filtered = complete_lesson.sort_values(by=['user_id', 'complete_lesson_time'])\n",
    "\n",
    "# 동일한 user_id에 대해 연속된 행의 시간 차이 계산\n",
    "complete_lesson_filtered['time_diff'] = complete_lesson_filtered.groupby('user_id')['complete_lesson_time'].diff()\n",
    "\n",
    "# 시간 차이를 초 단위로 변환\n",
    "complete_lesson_filtered['time_diff_seconds'] = complete_lesson_filtered['time_diff'].dt.total_seconds() #.round(2)"
   ]
  },
  {
   "cell_type": "code",
   "execution_count": 106,
   "metadata": {},
   "outputs": [],
   "source": [
    "# time_diff_seconds가 30초 초과인 데이터만 남김김\n",
    "complete_lesson_finalised = complete_lesson_filtered[(complete_lesson_filtered['time_diff_seconds'] > 30)]"
   ]
  },
  {
   "cell_type": "code",
   "execution_count": 107,
   "metadata": {},
   "outputs": [
    {
     "name": "stderr",
     "output_type": "stream",
     "text": [
      "C:\\Users\\syc09\\AppData\\Local\\Temp\\ipykernel_25876\\3935886420.py:2: SettingWithCopyWarning: \n",
      "A value is trying to be set on a copy of a slice from a DataFrame.\n",
      "Try using .loc[row_indexer,col_indexer] = value instead\n",
      "\n",
      "See the caveats in the documentation: https://pandas.pydata.org/pandas-docs/stable/user_guide/indexing.html#returning-a-view-versus-a-copy\n",
      "  complete_lesson_finalised[\"time_group\"] = complete_lesson_finalised[\"complete_lesson_time\"].dt.strftime(\"%Y-%m-%d %H:%M\")\n"
     ]
    }
   ],
   "source": [
    "# 년-월-일-시-분 단위 컬럼 추가\n",
    "complete_lesson_finalised[\"time_group\"] = complete_lesson_finalised[\"complete_lesson_time\"].dt.strftime(\"%Y-%m-%d %H:%M\")\n",
    "\n",
    "# 정렬 수행\n",
    "complete_lesson_finalised = complete_lesson_finalised.sort_values(by=[\"user_id\", \"content_id\", \"lesson_id\", \"complete_lesson_time\"])\n",
    "\n",
    "# 중복 제거 (첫 번째 값 유지)\n",
    "complete_lesson_finalised_unique = complete_lesson_finalised.drop_duplicates(subset=[\"user_id\", \"content_id\", \"lesson_id\", \"time_group\"], keep=\"first\")\n",
    "\n",
    "complete_lesson_finalised_unique = complete_lesson_finalised_unique.drop_duplicates(\n",
    "    subset=[\"user_id\", \"time_group\"], keep=\"first\"\n",
    ")\n",
    "\n",
    "# 필요 없는 컬럼 제거\n",
    "complete_lesson_finalised_unique = complete_lesson_finalised_unique.drop(columns=[\"time_group\"])\n"
   ]
  },
  {
   "cell_type": "code",
   "execution_count": 108,
   "metadata": {},
   "outputs": [
    {
     "data": {
      "text/html": [
       "<div>\n",
       "<style scoped>\n",
       "    .dataframe tbody tr th:only-of-type {\n",
       "        vertical-align: middle;\n",
       "    }\n",
       "\n",
       "    .dataframe tbody tr th {\n",
       "        vertical-align: top;\n",
       "    }\n",
       "\n",
       "    .dataframe thead th {\n",
       "        text-align: right;\n",
       "    }\n",
       "</style>\n",
       "<table border=\"1\" class=\"dataframe\">\n",
       "  <thead>\n",
       "    <tr style=\"text-align: right;\">\n",
       "      <th></th>\n",
       "      <th>city</th>\n",
       "      <th>complete_lesson_time</th>\n",
       "      <th>country</th>\n",
       "      <th>device_family</th>\n",
       "      <th>device_type</th>\n",
       "      <th>event_type</th>\n",
       "      <th>language</th>\n",
       "      <th>os_name</th>\n",
       "      <th>user_id</th>\n",
       "      <th>content_id</th>\n",
       "      <th>lesson_id</th>\n",
       "      <th>time_diff</th>\n",
       "      <th>time_diff_seconds</th>\n",
       "    </tr>\n",
       "  </thead>\n",
       "  <tbody>\n",
       "    <tr>\n",
       "      <th>222221</th>\n",
       "      <td>Seoul</td>\n",
       "      <td>2023-03-19 01:29:04.507</td>\n",
       "      <td>South Korea</td>\n",
       "      <td>Mac</td>\n",
       "      <td>Mac</td>\n",
       "      <td>complete.lesson</td>\n",
       "      <td>Korean</td>\n",
       "      <td>Safari</td>\n",
       "      <td>0000572f2ba8079bcefd2760b632e820</td>\n",
       "      <td>61b6463287573f00de13a930805a52d6</td>\n",
       "      <td>1e2a48ce24bce72e7d36da219ee9d254</td>\n",
       "      <td>0 days 00:05:53.192000</td>\n",
       "      <td>353.192</td>\n",
       "    </tr>\n",
       "    <tr>\n",
       "      <th>222220</th>\n",
       "      <td>Seoul</td>\n",
       "      <td>2023-03-19 01:23:11.315</td>\n",
       "      <td>South Korea</td>\n",
       "      <td>Mac</td>\n",
       "      <td>Mac</td>\n",
       "      <td>complete.lesson</td>\n",
       "      <td>Korean</td>\n",
       "      <td>Safari</td>\n",
       "      <td>0000572f2ba8079bcefd2760b632e820</td>\n",
       "      <td>61b6463287573f00de13a930805a52d6</td>\n",
       "      <td>3ae4d4504b620370687e58e0a33cf22d</td>\n",
       "      <td>0 days 00:04:43.050000</td>\n",
       "      <td>283.050</td>\n",
       "    </tr>\n",
       "    <tr>\n",
       "      <th>1199632</th>\n",
       "      <td>Seoul</td>\n",
       "      <td>2023-03-19 00:53:48.730</td>\n",
       "      <td>South Korea</td>\n",
       "      <td>Mac</td>\n",
       "      <td>Mac</td>\n",
       "      <td>complete.lesson</td>\n",
       "      <td>Korean</td>\n",
       "      <td>Safari</td>\n",
       "      <td>0000572f2ba8079bcefd2760b632e820</td>\n",
       "      <td>61b6463287573f00de13a930805a52d6</td>\n",
       "      <td>4d65e0729706704bf34953f2613d6ecd</td>\n",
       "      <td>0 days 00:02:14.017000</td>\n",
       "      <td>134.017</td>\n",
       "    </tr>\n",
       "    <tr>\n",
       "      <th>222225</th>\n",
       "      <td>Seoul</td>\n",
       "      <td>2023-03-19 01:48:55.626</td>\n",
       "      <td>South Korea</td>\n",
       "      <td>Mac</td>\n",
       "      <td>Mac</td>\n",
       "      <td>complete.lesson</td>\n",
       "      <td>Korean</td>\n",
       "      <td>Safari</td>\n",
       "      <td>0000572f2ba8079bcefd2760b632e820</td>\n",
       "      <td>61b6463287573f00de13a930805a52d6</td>\n",
       "      <td>58a55a039ef52567cfe0821f92b3c9e6</td>\n",
       "      <td>0 days 00:06:13.406000</td>\n",
       "      <td>373.406</td>\n",
       "    </tr>\n",
       "    <tr>\n",
       "      <th>222224</th>\n",
       "      <td>Seoul</td>\n",
       "      <td>2023-03-19 01:42:42.220</td>\n",
       "      <td>South Korea</td>\n",
       "      <td>Mac</td>\n",
       "      <td>Mac</td>\n",
       "      <td>complete.lesson</td>\n",
       "      <td>Korean</td>\n",
       "      <td>Safari</td>\n",
       "      <td>0000572f2ba8079bcefd2760b632e820</td>\n",
       "      <td>61b6463287573f00de13a930805a52d6</td>\n",
       "      <td>adfe4e8b1dc5d9f2e4b76e4bc8ee221c</td>\n",
       "      <td>0 days 00:04:11.322000</td>\n",
       "      <td>251.322</td>\n",
       "    </tr>\n",
       "  </tbody>\n",
       "</table>\n",
       "</div>"
      ],
      "text/plain": [
       "          city    complete_lesson_time      country device_family device_type  \\\n",
       "222221   Seoul 2023-03-19 01:29:04.507  South Korea           Mac         Mac   \n",
       "222220   Seoul 2023-03-19 01:23:11.315  South Korea           Mac         Mac   \n",
       "1199632  Seoul 2023-03-19 00:53:48.730  South Korea           Mac         Mac   \n",
       "222225   Seoul 2023-03-19 01:48:55.626  South Korea           Mac         Mac   \n",
       "222224   Seoul 2023-03-19 01:42:42.220  South Korea           Mac         Mac   \n",
       "\n",
       "              event_type language os_name                           user_id  \\\n",
       "222221   complete.lesson   Korean  Safari  0000572f2ba8079bcefd2760b632e820   \n",
       "222220   complete.lesson   Korean  Safari  0000572f2ba8079bcefd2760b632e820   \n",
       "1199632  complete.lesson   Korean  Safari  0000572f2ba8079bcefd2760b632e820   \n",
       "222225   complete.lesson   Korean  Safari  0000572f2ba8079bcefd2760b632e820   \n",
       "222224   complete.lesson   Korean  Safari  0000572f2ba8079bcefd2760b632e820   \n",
       "\n",
       "                               content_id                         lesson_id  \\\n",
       "222221   61b6463287573f00de13a930805a52d6  1e2a48ce24bce72e7d36da219ee9d254   \n",
       "222220   61b6463287573f00de13a930805a52d6  3ae4d4504b620370687e58e0a33cf22d   \n",
       "1199632  61b6463287573f00de13a930805a52d6  4d65e0729706704bf34953f2613d6ecd   \n",
       "222225   61b6463287573f00de13a930805a52d6  58a55a039ef52567cfe0821f92b3c9e6   \n",
       "222224   61b6463287573f00de13a930805a52d6  adfe4e8b1dc5d9f2e4b76e4bc8ee221c   \n",
       "\n",
       "                     time_diff  time_diff_seconds  \n",
       "222221  0 days 00:05:53.192000            353.192  \n",
       "222220  0 days 00:04:43.050000            283.050  \n",
       "1199632 0 days 00:02:14.017000            134.017  \n",
       "222225  0 days 00:06:13.406000            373.406  \n",
       "222224  0 days 00:04:11.322000            251.322  "
      ]
     },
     "execution_count": 108,
     "metadata": {},
     "output_type": "execute_result"
    }
   ],
   "source": [
    "complete_lesson_finalised_unique.head()"
   ]
  },
  {
   "cell_type": "code",
   "execution_count": 109,
   "metadata": {},
   "outputs": [
    {
     "name": "stdout",
     "output_type": "stream",
     "text": [
      "5404242\n",
      "4502312\n",
      "4427700\n"
     ]
    }
   ],
   "source": [
    "print(len(complete_lesson)) # 로우 데이터\n",
    "print(len(complete_lesson_finalised)) # timediff 30초 초과 데이터\n",
    "print(len(complete_lesson_finalised_unique)) # 동일한 년월일시분 삭제"
   ]
  },
  {
   "cell_type": "code",
   "execution_count": 110,
   "metadata": {},
   "outputs": [
    {
     "name": "stdout",
     "output_type": "stream",
     "text": [
      "49670\n",
      "44419\n",
      "44419\n"
     ]
    }
   ],
   "source": [
    "print(complete_lesson['user_id'].nunique()) # 로우 데이터\n",
    "print(complete_lesson_finalised['user_id'].nunique()) # timediff 30초 초과 데이터\n",
    "print(complete_lesson_finalised_unique['user_id'].nunique()) # 동일한 년월일시분 삭제"
   ]
  },
  {
   "cell_type": "code",
   "execution_count": 111,
   "metadata": {},
   "outputs": [
    {
     "name": "stdout",
     "output_type": "stream",
     "text": [
      "5050\n",
      "5036\n",
      "5034\n"
     ]
    }
   ],
   "source": [
    "print(complete_lesson['lesson_id'].nunique()) # 로우 데이터\n",
    "print(complete_lesson_finalised['lesson_id'].nunique()) # timediff 30초 초과 데이터\n",
    "print(complete_lesson_finalised_unique['lesson_id'].nunique()) # 동일한 년월일시분 삭제"
   ]
  },
  {
   "cell_type": "code",
   "execution_count": 112,
   "metadata": {},
   "outputs": [
    {
     "data": {
      "text/html": [
       "<div>\n",
       "<style scoped>\n",
       "    .dataframe tbody tr th:only-of-type {\n",
       "        vertical-align: middle;\n",
       "    }\n",
       "\n",
       "    .dataframe tbody tr th {\n",
       "        vertical-align: top;\n",
       "    }\n",
       "\n",
       "    .dataframe thead th {\n",
       "        text-align: right;\n",
       "    }\n",
       "</style>\n",
       "<table border=\"1\" class=\"dataframe\">\n",
       "  <thead>\n",
       "    <tr style=\"text-align: right;\">\n",
       "      <th></th>\n",
       "      <th>complete_lesson_time</th>\n",
       "      <th>time_diff</th>\n",
       "      <th>time_diff_seconds</th>\n",
       "    </tr>\n",
       "  </thead>\n",
       "  <tbody>\n",
       "    <tr>\n",
       "      <th>count</th>\n",
       "      <td>4427700</td>\n",
       "      <td>4427700</td>\n",
       "      <td>4.427700e+06</td>\n",
       "    </tr>\n",
       "    <tr>\n",
       "      <th>mean</th>\n",
       "      <td>2023-01-21 05:03:18.948490752</td>\n",
       "      <td>0 days 15:37:22.346357195</td>\n",
       "      <td>5.624235e+04</td>\n",
       "    </tr>\n",
       "    <tr>\n",
       "      <th>min</th>\n",
       "      <td>2022-01-01 09:06:56.209000</td>\n",
       "      <td>0 days 00:00:30.001000</td>\n",
       "      <td>3.000100e+01</td>\n",
       "    </tr>\n",
       "    <tr>\n",
       "      <th>25%</th>\n",
       "      <td>2022-07-25 15:36:46.370500096</td>\n",
       "      <td>0 days 00:02:23.719000</td>\n",
       "      <td>1.437190e+02</td>\n",
       "    </tr>\n",
       "    <tr>\n",
       "      <th>50%</th>\n",
       "      <td>2023-01-28 16:36:47.536499968</td>\n",
       "      <td>0 days 00:04:56.299000</td>\n",
       "      <td>2.962990e+02</td>\n",
       "    </tr>\n",
       "    <tr>\n",
       "      <th>75%</th>\n",
       "      <td>2023-07-31 16:20:14.356499968</td>\n",
       "      <td>0 days 00:14:59.997250</td>\n",
       "      <td>8.999973e+02</td>\n",
       "    </tr>\n",
       "    <tr>\n",
       "      <th>max</th>\n",
       "      <td>2023-12-31 23:59:51.635000</td>\n",
       "      <td>720 days 13:46:13.325000</td>\n",
       "      <td>6.225757e+07</td>\n",
       "    </tr>\n",
       "    <tr>\n",
       "      <th>std</th>\n",
       "      <td>NaN</td>\n",
       "      <td>8 days 11:20:42.775909348</td>\n",
       "      <td>7.320428e+05</td>\n",
       "    </tr>\n",
       "  </tbody>\n",
       "</table>\n",
       "</div>"
      ],
      "text/plain": [
       "                complete_lesson_time                  time_diff  \\\n",
       "count                        4427700                    4427700   \n",
       "mean   2023-01-21 05:03:18.948490752  0 days 15:37:22.346357195   \n",
       "min       2022-01-01 09:06:56.209000     0 days 00:00:30.001000   \n",
       "25%    2022-07-25 15:36:46.370500096     0 days 00:02:23.719000   \n",
       "50%    2023-01-28 16:36:47.536499968     0 days 00:04:56.299000   \n",
       "75%    2023-07-31 16:20:14.356499968     0 days 00:14:59.997250   \n",
       "max       2023-12-31 23:59:51.635000   720 days 13:46:13.325000   \n",
       "std                              NaN  8 days 11:20:42.775909348   \n",
       "\n",
       "       time_diff_seconds  \n",
       "count       4.427700e+06  \n",
       "mean        5.624235e+04  \n",
       "min         3.000100e+01  \n",
       "25%         1.437190e+02  \n",
       "50%         2.962990e+02  \n",
       "75%         8.999973e+02  \n",
       "max         6.225757e+07  \n",
       "std         7.320428e+05  "
      ]
     },
     "execution_count": 112,
     "metadata": {},
     "output_type": "execute_result"
    }
   ],
   "source": [
    "complete_lesson_finalised_unique.describe()"
   ]
  },
  {
   "cell_type": "code",
   "execution_count": 113,
   "metadata": {},
   "outputs": [
    {
     "data": {
      "text/html": [
       "<div>\n",
       "<style scoped>\n",
       "    .dataframe tbody tr th:only-of-type {\n",
       "        vertical-align: middle;\n",
       "    }\n",
       "\n",
       "    .dataframe tbody tr th {\n",
       "        vertical-align: top;\n",
       "    }\n",
       "\n",
       "    .dataframe thead th {\n",
       "        text-align: right;\n",
       "    }\n",
       "</style>\n",
       "<table border=\"1\" class=\"dataframe\">\n",
       "  <thead>\n",
       "    <tr style=\"text-align: right;\">\n",
       "      <th></th>\n",
       "      <th>complete_lesson_time</th>\n",
       "      <th>time_diff</th>\n",
       "      <th>time_diff_seconds</th>\n",
       "    </tr>\n",
       "  </thead>\n",
       "  <tbody>\n",
       "    <tr>\n",
       "      <th>count</th>\n",
       "      <td>4502312</td>\n",
       "      <td>4502312</td>\n",
       "      <td>4.502312e+06</td>\n",
       "    </tr>\n",
       "    <tr>\n",
       "      <th>mean</th>\n",
       "      <td>2023-01-21 03:30:51.147414016</td>\n",
       "      <td>0 days 15:28:03.565471665</td>\n",
       "      <td>5.568357e+04</td>\n",
       "    </tr>\n",
       "    <tr>\n",
       "      <th>min</th>\n",
       "      <td>2022-01-01 09:06:56.209000</td>\n",
       "      <td>0 days 00:00:30.001000</td>\n",
       "      <td>3.000100e+01</td>\n",
       "    </tr>\n",
       "    <tr>\n",
       "      <th>25%</th>\n",
       "      <td>2022-07-25 15:50:16.603500032</td>\n",
       "      <td>0 days 00:02:20.210000</td>\n",
       "      <td>1.402100e+02</td>\n",
       "    </tr>\n",
       "    <tr>\n",
       "      <th>50%</th>\n",
       "      <td>2023-01-28 13:08:16.047500032</td>\n",
       "      <td>0 days 00:04:51.706500</td>\n",
       "      <td>2.917065e+02</td>\n",
       "    </tr>\n",
       "    <tr>\n",
       "      <th>75%</th>\n",
       "      <td>2023-07-31 15:27:12.669250048</td>\n",
       "      <td>0 days 00:14:41.486500</td>\n",
       "      <td>8.814865e+02</td>\n",
       "    </tr>\n",
       "    <tr>\n",
       "      <th>max</th>\n",
       "      <td>2023-12-31 23:59:51.635000</td>\n",
       "      <td>720 days 13:46:13.325000</td>\n",
       "      <td>6.225757e+07</td>\n",
       "    </tr>\n",
       "    <tr>\n",
       "      <th>std</th>\n",
       "      <td>NaN</td>\n",
       "      <td>8 days 10:21:22.877575034</td>\n",
       "      <td>7.284829e+05</td>\n",
       "    </tr>\n",
       "  </tbody>\n",
       "</table>\n",
       "</div>"
      ],
      "text/plain": [
       "                complete_lesson_time                  time_diff  \\\n",
       "count                        4502312                    4502312   \n",
       "mean   2023-01-21 03:30:51.147414016  0 days 15:28:03.565471665   \n",
       "min       2022-01-01 09:06:56.209000     0 days 00:00:30.001000   \n",
       "25%    2022-07-25 15:50:16.603500032     0 days 00:02:20.210000   \n",
       "50%    2023-01-28 13:08:16.047500032     0 days 00:04:51.706500   \n",
       "75%    2023-07-31 15:27:12.669250048     0 days 00:14:41.486500   \n",
       "max       2023-12-31 23:59:51.635000   720 days 13:46:13.325000   \n",
       "std                              NaN  8 days 10:21:22.877575034   \n",
       "\n",
       "       time_diff_seconds  \n",
       "count       4.502312e+06  \n",
       "mean        5.568357e+04  \n",
       "min         3.000100e+01  \n",
       "25%         1.402100e+02  \n",
       "50%         2.917065e+02  \n",
       "75%         8.814865e+02  \n",
       "max         6.225757e+07  \n",
       "std         7.284829e+05  "
      ]
     },
     "execution_count": 113,
     "metadata": {},
     "output_type": "execute_result"
    }
   ],
   "source": [
    "complete_lesson_finalised.describe()"
   ]
  },
  {
   "cell_type": "markdown",
   "metadata": {},
   "source": [
    "- complete_subscription에서 user_id를 가져오기"
   ]
  },
  {
   "cell_type": "code",
   "execution_count": 115,
   "metadata": {},
   "outputs": [],
   "source": [
    "# complete_subscription['complete_subscription_time'].max()"
   ]
  },
  {
   "cell_type": "code",
   "execution_count": 116,
   "metadata": {},
   "outputs": [],
   "source": [
    "# complete_subscription.isna().sum()"
   ]
  },
  {
   "cell_type": "code",
   "execution_count": 140,
   "metadata": {},
   "outputs": [],
   "source": [
    "# 파일 불러오기 및 전처리리\n",
    "complete_subscription = pd.read_csv('C:/Users/syc09/Desktop/코드잇/중급프로젝트1/Topic2_real/complete_subscription.csv')\n",
    "complete_subscription['client_event_time'] = pd.to_datetime(complete_subscription['client_event_time'], errors='coerce')\n",
    "complete_subscription['client_event_time'] = complete_subscription['client_event_time'] + pd.Timedelta(hours=9)\n",
    "complete_subscription.drop(complete_subscription[complete_subscription['os_name'] == 'Chrome Headless'].index, inplace=True)\n",
    "\n",
    "\n",
    "# 2022, 2023년 제한\n",
    "# 시간 필터링\n",
    "complete_subscription = complete_subscription.loc[\n",
    "    complete_subscription['client_event_time'].dt.year.between(2022, 2023)]"
   ]
  },
  {
   "cell_type": "code",
   "execution_count": 141,
   "metadata": {},
   "outputs": [
    {
     "data": {
      "text/plain": [
       "13875"
      ]
     },
     "execution_count": 141,
     "metadata": {},
     "output_type": "execute_result"
    }
   ],
   "source": [
    "complete_subscription = complete_subscription.drop_duplicates(subset=['user_id'], keep='first')\n",
    "complete_subscription['user_id'].nunique()"
   ]
  },
  {
   "cell_type": "code",
   "execution_count": 142,
   "metadata": {},
   "outputs": [
    {
     "data": {
      "text/plain": [
       "Timestamp('2023-12-31 23:59:39.461000')"
      ]
     },
     "execution_count": 142,
     "metadata": {},
     "output_type": "execute_result"
    }
   ],
   "source": [
    "complete_subscription['client_event_time'].max()"
   ]
  },
  {
   "cell_type": "code",
   "execution_count": 143,
   "metadata": {},
   "outputs": [
    {
     "data": {
      "text/plain": [
       "city                        522\n",
       "client_event_time             0\n",
       "country                     376\n",
       "device_carrier            13875\n",
       "device_family               368\n",
       "device_type                 517\n",
       "event_type                    0\n",
       "language                    368\n",
       "os_name                     374\n",
       "os_version                  383\n",
       "platform                    368\n",
       "user_id                       0\n",
       "plan.price                    0\n",
       "paid_amount                   0\n",
       "coupon.discount_amount        0\n",
       "pg.type                   12274\n",
       "dtype: int64"
      ]
     },
     "execution_count": 143,
     "metadata": {},
     "output_type": "execute_result"
    }
   ],
   "source": [
    "complete_subscription.isna().sum()"
   ]
  },
  {
   "cell_type": "code",
   "execution_count": 144,
   "metadata": {},
   "outputs": [
    {
     "data": {
      "text/plain": [
       "13875"
      ]
     },
     "execution_count": 144,
     "metadata": {},
     "output_type": "execute_result"
    }
   ],
   "source": [
    "# 중복되는 user_id 제거\n",
    "complete_subscription = complete_subscription.drop_duplicates(subset=['user_id'], keep='first')\n",
    "complete_subscription['user_id'].nunique()"
   ]
  },
  {
   "cell_type": "code",
   "execution_count": 145,
   "metadata": {},
   "outputs": [],
   "source": [
    "# complete_subscription 파일에서 user_id 컬럼만 추출하여 저장\n",
    "subscription_user_id_list = complete_subscription['user_id']"
   ]
  },
  {
   "cell_type": "markdown",
   "metadata": {},
   "source": [
    "#### enter_lesson, complete_lesson에 subscription_user_id_list의 user_id 필터링"
   ]
  },
  {
   "cell_type": "markdown",
   "metadata": {},
   "source": [
    "- enter_lesson"
   ]
  },
  {
   "cell_type": "code",
   "execution_count": 146,
   "metadata": {},
   "outputs": [
    {
     "data": {
      "text/html": [
       "<div>\n",
       "<style scoped>\n",
       "    .dataframe tbody tr th:only-of-type {\n",
       "        vertical-align: middle;\n",
       "    }\n",
       "\n",
       "    .dataframe tbody tr th {\n",
       "        vertical-align: top;\n",
       "    }\n",
       "\n",
       "    .dataframe thead th {\n",
       "        text-align: right;\n",
       "    }\n",
       "</style>\n",
       "<table border=\"1\" class=\"dataframe\">\n",
       "  <thead>\n",
       "    <tr style=\"text-align: right;\">\n",
       "      <th></th>\n",
       "      <th>city</th>\n",
       "      <th>enter_lesson_time</th>\n",
       "      <th>country</th>\n",
       "      <th>device_family</th>\n",
       "      <th>device_type</th>\n",
       "      <th>event_type</th>\n",
       "      <th>language</th>\n",
       "      <th>os_name</th>\n",
       "      <th>user_id</th>\n",
       "      <th>content_id</th>\n",
       "      <th>is_trial</th>\n",
       "      <th>lesson_id</th>\n",
       "      <th>is_free_trial</th>\n",
       "      <th>time_diff</th>\n",
       "      <th>time_diff_seconds</th>\n",
       "    </tr>\n",
       "  </thead>\n",
       "  <tbody>\n",
       "    <tr>\n",
       "      <th>16138</th>\n",
       "      <td>Seoul</td>\n",
       "      <td>2023-03-18 19:42:48.654</td>\n",
       "      <td>South Korea</td>\n",
       "      <td>Mac</td>\n",
       "      <td>Mac</td>\n",
       "      <td>enter.lesson_page</td>\n",
       "      <td>Korean</td>\n",
       "      <td>Safari</td>\n",
       "      <td>0000572f2ba8079bcefd2760b632e820</td>\n",
       "      <td>61b6463287573f00de13a930805a52d6</td>\n",
       "      <td>True</td>\n",
       "      <td>09c8a2d29087cb3d47823acb5f2705e3</td>\n",
       "      <td>NaN</td>\n",
       "      <td>0 days 00:05:42.876000</td>\n",
       "      <td>342.876</td>\n",
       "    </tr>\n",
       "    <tr>\n",
       "      <th>6147610</th>\n",
       "      <td>Seoul</td>\n",
       "      <td>2023-03-19 00:46:47.244</td>\n",
       "      <td>South Korea</td>\n",
       "      <td>Mac</td>\n",
       "      <td>Mac</td>\n",
       "      <td>enter.lesson_page</td>\n",
       "      <td>Korean</td>\n",
       "      <td>Safari</td>\n",
       "      <td>0000572f2ba8079bcefd2760b632e820</td>\n",
       "      <td>61b6463287573f00de13a930805a52d6</td>\n",
       "      <td>False</td>\n",
       "      <td>0cf175a1781a8e0020bf6c6bdc80e78a</td>\n",
       "      <td>NaN</td>\n",
       "      <td>0 days 00:01:11.785000</td>\n",
       "      <td>71.785</td>\n",
       "    </tr>\n",
       "    <tr>\n",
       "      <th>6147611</th>\n",
       "      <td>Seoul</td>\n",
       "      <td>2023-03-19 00:51:34.741</td>\n",
       "      <td>South Korea</td>\n",
       "      <td>Mac</td>\n",
       "      <td>Mac</td>\n",
       "      <td>enter.lesson_page</td>\n",
       "      <td>Korean</td>\n",
       "      <td>Safari</td>\n",
       "      <td>0000572f2ba8079bcefd2760b632e820</td>\n",
       "      <td>61b6463287573f00de13a930805a52d6</td>\n",
       "      <td>False</td>\n",
       "      <td>0cf175a1781a8e0020bf6c6bdc80e78a</td>\n",
       "      <td>NaN</td>\n",
       "      <td>0 days 00:04:47.497000</td>\n",
       "      <td>287.497</td>\n",
       "    </tr>\n",
       "    <tr>\n",
       "      <th>1140249</th>\n",
       "      <td>Seoul</td>\n",
       "      <td>2023-03-19 01:29:04.118</td>\n",
       "      <td>South Korea</td>\n",
       "      <td>Mac</td>\n",
       "      <td>Mac</td>\n",
       "      <td>enter.lesson_page</td>\n",
       "      <td>Korean</td>\n",
       "      <td>Safari</td>\n",
       "      <td>0000572f2ba8079bcefd2760b632e820</td>\n",
       "      <td>61b6463287573f00de13a930805a52d6</td>\n",
       "      <td>False</td>\n",
       "      <td>1e2a48ce24bce72e7d36da219ee9d254</td>\n",
       "      <td>NaN</td>\n",
       "      <td>0 days 00:05:50.893000</td>\n",
       "      <td>350.893</td>\n",
       "    </tr>\n",
       "    <tr>\n",
       "      <th>6147608</th>\n",
       "      <td>Seoul</td>\n",
       "      <td>2023-03-19 00:45:24.704</td>\n",
       "      <td>South Korea</td>\n",
       "      <td>Mac</td>\n",
       "      <td>Mac</td>\n",
       "      <td>enter.lesson_page</td>\n",
       "      <td>Korean</td>\n",
       "      <td>Safari</td>\n",
       "      <td>0000572f2ba8079bcefd2760b632e820</td>\n",
       "      <td>61b6463287573f00de13a930805a52d6</td>\n",
       "      <td>False</td>\n",
       "      <td>2ed4b83e65edc2b1efb193aaa3c60cf9</td>\n",
       "      <td>NaN</td>\n",
       "      <td>0 days 01:12:02.068000</td>\n",
       "      <td>4322.068</td>\n",
       "    </tr>\n",
       "  </tbody>\n",
       "</table>\n",
       "</div>"
      ],
      "text/plain": [
       "          city       enter_lesson_time      country device_family device_type  \\\n",
       "16138    Seoul 2023-03-18 19:42:48.654  South Korea           Mac         Mac   \n",
       "6147610  Seoul 2023-03-19 00:46:47.244  South Korea           Mac         Mac   \n",
       "6147611  Seoul 2023-03-19 00:51:34.741  South Korea           Mac         Mac   \n",
       "1140249  Seoul 2023-03-19 01:29:04.118  South Korea           Mac         Mac   \n",
       "6147608  Seoul 2023-03-19 00:45:24.704  South Korea           Mac         Mac   \n",
       "\n",
       "                event_type language os_name                           user_id  \\\n",
       "16138    enter.lesson_page   Korean  Safari  0000572f2ba8079bcefd2760b632e820   \n",
       "6147610  enter.lesson_page   Korean  Safari  0000572f2ba8079bcefd2760b632e820   \n",
       "6147611  enter.lesson_page   Korean  Safari  0000572f2ba8079bcefd2760b632e820   \n",
       "1140249  enter.lesson_page   Korean  Safari  0000572f2ba8079bcefd2760b632e820   \n",
       "6147608  enter.lesson_page   Korean  Safari  0000572f2ba8079bcefd2760b632e820   \n",
       "\n",
       "                               content_id is_trial  \\\n",
       "16138    61b6463287573f00de13a930805a52d6     True   \n",
       "6147610  61b6463287573f00de13a930805a52d6    False   \n",
       "6147611  61b6463287573f00de13a930805a52d6    False   \n",
       "1140249  61b6463287573f00de13a930805a52d6    False   \n",
       "6147608  61b6463287573f00de13a930805a52d6    False   \n",
       "\n",
       "                                lesson_id is_free_trial  \\\n",
       "16138    09c8a2d29087cb3d47823acb5f2705e3           NaN   \n",
       "6147610  0cf175a1781a8e0020bf6c6bdc80e78a           NaN   \n",
       "6147611  0cf175a1781a8e0020bf6c6bdc80e78a           NaN   \n",
       "1140249  1e2a48ce24bce72e7d36da219ee9d254           NaN   \n",
       "6147608  2ed4b83e65edc2b1efb193aaa3c60cf9           NaN   \n",
       "\n",
       "                     time_diff  time_diff_seconds  \n",
       "16138   0 days 00:05:42.876000            342.876  \n",
       "6147610 0 days 00:01:11.785000             71.785  \n",
       "6147611 0 days 00:04:47.497000            287.497  \n",
       "1140249 0 days 00:05:50.893000            350.893  \n",
       "6147608 0 days 01:12:02.068000           4322.068  "
      ]
     },
     "execution_count": 146,
     "metadata": {},
     "output_type": "execute_result"
    }
   ],
   "source": [
    "# enter_lesson_page_finalised_unique 파일에서 subscription_user_id_list에 있는 user_id만 추출하여 저장\n",
    "enter_lesson_page_finalised_unique_sub = enter_lesson_page_finalised_unique[enter_lesson_page_finalised_unique['user_id'].isin(subscription_user_id_list)]\n",
    "enter_lesson_page_finalised_unique_sub.head()"
   ]
  },
  {
   "cell_type": "code",
   "execution_count": 147,
   "metadata": {},
   "outputs": [
    {
     "name": "stdout",
     "output_type": "stream",
     "text": [
      "3389303\n",
      "12860\n"
     ]
    }
   ],
   "source": [
    "print(len(enter_lesson_page_finalised_unique_sub))\n",
    "print(enter_lesson_page_finalised_unique_sub['user_id'].nunique())"
   ]
  },
  {
   "cell_type": "code",
   "execution_count": 155,
   "metadata": {},
   "outputs": [
    {
     "data": {
      "text/html": [
       "<div>\n",
       "<style scoped>\n",
       "    .dataframe tbody tr th:only-of-type {\n",
       "        vertical-align: middle;\n",
       "    }\n",
       "\n",
       "    .dataframe tbody tr th {\n",
       "        vertical-align: top;\n",
       "    }\n",
       "\n",
       "    .dataframe thead th {\n",
       "        text-align: right;\n",
       "    }\n",
       "</style>\n",
       "<table border=\"1\" class=\"dataframe\">\n",
       "  <thead>\n",
       "    <tr style=\"text-align: right;\">\n",
       "      <th></th>\n",
       "      <th>city</th>\n",
       "      <th>complete_lesson_time</th>\n",
       "      <th>country</th>\n",
       "      <th>device_family</th>\n",
       "      <th>device_type</th>\n",
       "      <th>event_type</th>\n",
       "      <th>language</th>\n",
       "      <th>os_name</th>\n",
       "      <th>user_id</th>\n",
       "      <th>content_id</th>\n",
       "      <th>lesson_id</th>\n",
       "      <th>time_diff</th>\n",
       "      <th>time_diff_seconds</th>\n",
       "    </tr>\n",
       "  </thead>\n",
       "  <tbody>\n",
       "    <tr>\n",
       "      <th>222221</th>\n",
       "      <td>Seoul</td>\n",
       "      <td>2023-03-19 01:29:04.507</td>\n",
       "      <td>South Korea</td>\n",
       "      <td>Mac</td>\n",
       "      <td>Mac</td>\n",
       "      <td>complete.lesson</td>\n",
       "      <td>Korean</td>\n",
       "      <td>Safari</td>\n",
       "      <td>0000572f2ba8079bcefd2760b632e820</td>\n",
       "      <td>61b6463287573f00de13a930805a52d6</td>\n",
       "      <td>1e2a48ce24bce72e7d36da219ee9d254</td>\n",
       "      <td>0 days 00:05:53.192000</td>\n",
       "      <td>353.192</td>\n",
       "    </tr>\n",
       "    <tr>\n",
       "      <th>222220</th>\n",
       "      <td>Seoul</td>\n",
       "      <td>2023-03-19 01:23:11.315</td>\n",
       "      <td>South Korea</td>\n",
       "      <td>Mac</td>\n",
       "      <td>Mac</td>\n",
       "      <td>complete.lesson</td>\n",
       "      <td>Korean</td>\n",
       "      <td>Safari</td>\n",
       "      <td>0000572f2ba8079bcefd2760b632e820</td>\n",
       "      <td>61b6463287573f00de13a930805a52d6</td>\n",
       "      <td>3ae4d4504b620370687e58e0a33cf22d</td>\n",
       "      <td>0 days 00:04:43.050000</td>\n",
       "      <td>283.050</td>\n",
       "    </tr>\n",
       "    <tr>\n",
       "      <th>1199632</th>\n",
       "      <td>Seoul</td>\n",
       "      <td>2023-03-19 00:53:48.730</td>\n",
       "      <td>South Korea</td>\n",
       "      <td>Mac</td>\n",
       "      <td>Mac</td>\n",
       "      <td>complete.lesson</td>\n",
       "      <td>Korean</td>\n",
       "      <td>Safari</td>\n",
       "      <td>0000572f2ba8079bcefd2760b632e820</td>\n",
       "      <td>61b6463287573f00de13a930805a52d6</td>\n",
       "      <td>4d65e0729706704bf34953f2613d6ecd</td>\n",
       "      <td>0 days 00:02:14.017000</td>\n",
       "      <td>134.017</td>\n",
       "    </tr>\n",
       "    <tr>\n",
       "      <th>222225</th>\n",
       "      <td>Seoul</td>\n",
       "      <td>2023-03-19 01:48:55.626</td>\n",
       "      <td>South Korea</td>\n",
       "      <td>Mac</td>\n",
       "      <td>Mac</td>\n",
       "      <td>complete.lesson</td>\n",
       "      <td>Korean</td>\n",
       "      <td>Safari</td>\n",
       "      <td>0000572f2ba8079bcefd2760b632e820</td>\n",
       "      <td>61b6463287573f00de13a930805a52d6</td>\n",
       "      <td>58a55a039ef52567cfe0821f92b3c9e6</td>\n",
       "      <td>0 days 00:06:13.406000</td>\n",
       "      <td>373.406</td>\n",
       "    </tr>\n",
       "    <tr>\n",
       "      <th>222224</th>\n",
       "      <td>Seoul</td>\n",
       "      <td>2023-03-19 01:42:42.220</td>\n",
       "      <td>South Korea</td>\n",
       "      <td>Mac</td>\n",
       "      <td>Mac</td>\n",
       "      <td>complete.lesson</td>\n",
       "      <td>Korean</td>\n",
       "      <td>Safari</td>\n",
       "      <td>0000572f2ba8079bcefd2760b632e820</td>\n",
       "      <td>61b6463287573f00de13a930805a52d6</td>\n",
       "      <td>adfe4e8b1dc5d9f2e4b76e4bc8ee221c</td>\n",
       "      <td>0 days 00:04:11.322000</td>\n",
       "      <td>251.322</td>\n",
       "    </tr>\n",
       "  </tbody>\n",
       "</table>\n",
       "</div>"
      ],
      "text/plain": [
       "          city    complete_lesson_time      country device_family device_type  \\\n",
       "222221   Seoul 2023-03-19 01:29:04.507  South Korea           Mac         Mac   \n",
       "222220   Seoul 2023-03-19 01:23:11.315  South Korea           Mac         Mac   \n",
       "1199632  Seoul 2023-03-19 00:53:48.730  South Korea           Mac         Mac   \n",
       "222225   Seoul 2023-03-19 01:48:55.626  South Korea           Mac         Mac   \n",
       "222224   Seoul 2023-03-19 01:42:42.220  South Korea           Mac         Mac   \n",
       "\n",
       "              event_type language os_name                           user_id  \\\n",
       "222221   complete.lesson   Korean  Safari  0000572f2ba8079bcefd2760b632e820   \n",
       "222220   complete.lesson   Korean  Safari  0000572f2ba8079bcefd2760b632e820   \n",
       "1199632  complete.lesson   Korean  Safari  0000572f2ba8079bcefd2760b632e820   \n",
       "222225   complete.lesson   Korean  Safari  0000572f2ba8079bcefd2760b632e820   \n",
       "222224   complete.lesson   Korean  Safari  0000572f2ba8079bcefd2760b632e820   \n",
       "\n",
       "                               content_id                         lesson_id  \\\n",
       "222221   61b6463287573f00de13a930805a52d6  1e2a48ce24bce72e7d36da219ee9d254   \n",
       "222220   61b6463287573f00de13a930805a52d6  3ae4d4504b620370687e58e0a33cf22d   \n",
       "1199632  61b6463287573f00de13a930805a52d6  4d65e0729706704bf34953f2613d6ecd   \n",
       "222225   61b6463287573f00de13a930805a52d6  58a55a039ef52567cfe0821f92b3c9e6   \n",
       "222224   61b6463287573f00de13a930805a52d6  adfe4e8b1dc5d9f2e4b76e4bc8ee221c   \n",
       "\n",
       "                     time_diff  time_diff_seconds  \n",
       "222221  0 days 00:05:53.192000            353.192  \n",
       "222220  0 days 00:04:43.050000            283.050  \n",
       "1199632 0 days 00:02:14.017000            134.017  \n",
       "222225  0 days 00:06:13.406000            373.406  \n",
       "222224  0 days 00:04:11.322000            251.322  "
      ]
     },
     "execution_count": 155,
     "metadata": {},
     "output_type": "execute_result"
    }
   ],
   "source": [
    "# complete_lesson_finalised_unique 파일에서 subscription_user_id_list에 있는 user_id만 추출하여 저장\n",
    "complete_lesson_finalised_unique_sub = complete_lesson_finalised_unique[complete_lesson_finalised_unique['user_id'].isin(subscription_user_id_list)]\n",
    "complete_lesson_finalised_unique_sub.head()"
   ]
  },
  {
   "cell_type": "code",
   "execution_count": 156,
   "metadata": {},
   "outputs": [
    {
     "name": "stdout",
     "output_type": "stream",
     "text": [
      "1860818\n",
      "12317\n"
     ]
    }
   ],
   "source": [
    "print(len(complete_lesson_finalised_unique_sub))\n",
    "print(complete_lesson_finalised_unique_sub['user_id'].nunique())"
   ]
  },
  {
   "cell_type": "code",
   "execution_count": null,
   "metadata": {},
   "outputs": [
    {
     "name": "stdout",
     "output_type": "stream",
     "text": [
      "첫 결제 유저 필터링 개수: 3389303\n"
     ]
    }
   ],
   "source": [
    "#  첫 결제 유저 ID 목록 (중복 제거 후 리스트로 변환)\n",
    "unique_first_payment_user_ids = complete_subscription['user_id'].dropna().unique().tolist()\n",
    "\n",
    "# enter_lesson_page_finalised_unique에서 첫 결제 유저만 필터링\n",
    "first_paid_enter_lesson_page_finalised_unique = enter_lesson_page_finalised_unique[enter_lesson_page_finalised_unique['user_id'].isin(unique_first_payment_user_ids)]\n",
    "\n",
    "# 결과 출력\n",
    "print(\"첫 결제 유저 필터링 개수:\", len(first_paid_enter_lesson_page_finalised_unique))"
   ]
  },
  {
   "cell_type": "code",
   "execution_count": 157,
   "metadata": {},
   "outputs": [
    {
     "name": "stdout",
     "output_type": "stream",
     "text": [
      "첫 결제 유저 필터링 개수: 1860818\n"
     ]
    }
   ],
   "source": [
    "#  첫 결제 유저 ID 목록 (중복 제거 후 리스트로 변환)\n",
    "unique_first_payment_user_ids = complete_subscription['user_id'].dropna().unique().tolist()\n",
    "\n",
    "# complete_lesson_finalised_unique에서 첫 결제 유저만 필터링\n",
    "first_paid_complete_lesson_finalised_unique = complete_lesson_finalised_unique[complete_lesson_finalised_unique['user_id'].isin(unique_first_payment_user_ids)]\n",
    "\n",
    "# 결과 출력\n",
    "print(\"첫 결제 유저 필터링 개수:\", len(first_paid_complete_lesson_finalised_unique))"
   ]
  },
  {
   "cell_type": "markdown",
   "metadata": {},
   "source": [
    "#### 원찬님 방법"
   ]
  },
  {
   "cell_type": "code",
   "execution_count": 126,
   "metadata": {},
   "outputs": [],
   "source": [
    "# # 임시 리스트 생성\n",
    "# temp_list = []\n",
    "\n",
    "# for data in [enter_lesson_page_df, complete_lesson_df]:\n",
    "#     # 필요한 컬럼만 추출하여 필터링\n",
    "#     data = data[['user_id', 'client_event_time', 'event_type', 'content.id', 'lesson.id']]\n",
    "\n",
    "#     # 임시 리스트에 저장\n",
    "#     temp_list.append(data)\n",
    "\n",
    "# # 임시 리스트를 사용하여 데이터 concat\n",
    "# lesson_concat_df = pd.concat(temp_list, axis=0)\n",
    "\n",
    "# # reset_index()로 인덱스 재정렬\n",
    "# lesson_concat_df.reset_index(drop=True)\n",
    "\n",
    "# # user_id, client_event_time을 기준으로 오름차순 정렬\n",
    "# lesson_concat_df.sort_values(by=['user_id', 'client_event_time'], ascending=[True, True])\n",
    "\n",
    "# # 데이터 확인\n",
    "# lesson_concat_df"
   ]
  },
  {
   "cell_type": "code",
   "execution_count": null,
   "metadata": {},
   "outputs": [],
   "source": []
  },
  {
   "cell_type": "code",
   "execution_count": null,
   "metadata": {},
   "outputs": [],
   "source": []
  },
  {
   "cell_type": "code",
   "execution_count": null,
   "metadata": {},
   "outputs": [],
   "source": []
  }
 ],
 "metadata": {
  "kernelspec": {
   "display_name": "base",
   "language": "python",
   "name": "python3"
  },
  "language_info": {
   "codemirror_mode": {
    "name": "ipython",
    "version": 3
   },
   "file_extension": ".py",
   "mimetype": "text/x-python",
   "name": "python",
   "nbconvert_exporter": "python",
   "pygments_lexer": "ipython3",
   "version": "3.12.7"
  }
 },
 "nbformat": 4,
 "nbformat_minor": 2
}
