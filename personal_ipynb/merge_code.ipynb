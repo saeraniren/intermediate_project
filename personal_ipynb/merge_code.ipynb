{
 "cells": [
  {
   "cell_type": "code",
   "execution_count": 10,
   "metadata": {},
   "outputs": [
    {
     "name": "stdout",
     "output_type": "stream",
     "text": [
      "['20250305_yoochang_lesson.ipynb', 'forgetting curve.ipynb', 'geumhui_FUNNEL_final.ipynb', 'geumhui_main.ipynb', 'haein_eda.ipynb', 'haein_eda_Q3.ipynb', 'haein_funnel_eda.ipynb', 'lwc_encoder.ipynb', 'lwc_main.ipynb', 'make_encoding_data.ipynb', 'merged_notebook.ipynb', 'merge_code.ipynb', 'soomin_main.ipynb', 'soomin_main_final.ipynb', 'test_encoders.ipynb', 'USB_main.ipynb', 'USB_main_with_encoding.ipynb', 'yena_main.ipynb', 'yoochang_main.ipynb']\n"
     ]
    },
    {
     "data": {
      "text/plain": [
       "19"
      ]
     },
     "execution_count": 10,
     "metadata": {},
     "output_type": "execute_result"
    }
   ],
   "source": [
    "import os\n",
    "import nbformat\n",
    "\n",
    "jupyter_list = []\n",
    "\n",
    "for root, dirs, files in os.walk('.'):\n",
    "    for file in files:\n",
    "        if file.endswith('.ipynb'):\n",
    "            jupyter_list.append(file)\n",
    "\n",
    "print(jupyter_list)\n",
    "\n",
    "except_file = ['Team2.ipynb', 'soomin_main.ipynb', 'merge_code.ipynb', 'forgetting curve.ipynb', 'lwc_encoder.ipynb']\n",
    "len(jupyter_list)"
   ]
  },
  {
   "cell_type": "code",
   "execution_count": 11,
   "metadata": {},
   "outputs": [
    {
     "name": "stderr",
     "output_type": "stream",
     "text": [
      "usage: nbmerge [-h] [--version] [--config]\n",
      "               [--log-level {DEBUG,INFO,WARN,ERROR,CRITICAL}] [-s] [-o] [-a]\n",
      "               [-m] [-i] [-d]\n",
      "               [--merge-strategy {inline,use-base,use-local,use-remote}]\n",
      "               [--input-strategy {inline,use-base,use-local,use-remote}]\n",
      "               [--output-strategy {inline,use-base,use-local,use-remote,remove,clear-all}]\n",
      "               [--no-ignore-transients] [--no-color] [--no-git]\n",
      "               [--no-use-diff] [--out OUT] [--decisions]\n",
      "               [base] local remote\n",
      "nbmerge: error: unrecognized arguments: haein_eda.ipynb haein_eda_Q3.ipynb haein_funnel_eda.ipynb lwc_main.ipynb make_encoding_data.ipynb merged_notebook.ipynb soomin_main_final.ipynb test_encoders.ipynb USB_main.ipynb USB_main_with_encoding.ipynb yena_main.ipynb yoochang_main.ipynb\n"
     ]
    }
   ],
   "source": [
    "args = ' '.join([ jupyter for jupyter in jupyter_list if jupyter not in except_file ])\n",
    "\n",
    "!nbmerge {args} > Team2.ipynb"
   ]
  },
  {
   "cell_type": "code",
   "execution_count": 12,
   "metadata": {},
   "outputs": [
    {
     "name": "stdout",
     "output_type": "stream",
     "text": [
      "병합할 파일 목록: ['20250305_yoochang_lesson.ipynb', 'geumhui_FUNNEL_final.ipynb', 'geumhui_main.ipynb', 'haein_eda.ipynb', 'haein_eda_Q3.ipynb', 'haein_funnel_eda.ipynb', 'lwc_main.ipynb', 'make_encoding_data.ipynb', 'merged_notebook.ipynb', 'soomin_main_final.ipynb', 'test_encoders.ipynb', 'USB_main.ipynb', 'USB_main_with_encoding.ipynb', 'yena_main.ipynb', 'yoochang_main.ipynb']\n",
      "✅ final_merged_notebook.ipynb 파일이 생성되었습니다!\n"
     ]
    }
   ],
   "source": [
    "import nbformat\n",
    "import os\n",
    "\n",
    "# 제외할 파일 리스트\n",
    "except_file = ['Team2.ipynb', 'soomin_main.ipynb', 'merge_code.ipynb', 'forgetting curve.ipynb', 'lwc_encoder.ipynb']\n",
    "\n",
    "# 현재 디렉터리에서 모든 .ipynb 파일 가져오기\n",
    "all_notebooks = [f for f in os.listdir() if f.endswith('.ipynb')]\n",
    "\n",
    "# 제외할 파일을 제거한 병합 대상 리스트\n",
    "notebooks = [f for f in all_notebooks if f not in except_file]\n",
    "\n",
    "# 새로운 Notebook 생성\n",
    "merged_notebook = nbformat.v4.new_notebook()\n",
    "\n",
    "# 병합할 파일 리스트 출력\n",
    "print(\"병합할 파일 목록:\", notebooks)\n",
    "\n",
    "# 모든 파일을 읽어서 병합\n",
    "for nb_file in notebooks:\n",
    "    with open(nb_file, \"r\", encoding=\"utf-8\") as f:\n",
    "        nb = nbformat.read(f, as_version=4)\n",
    "        merged_notebook.cells.extend(nb.cells)  # 각 파일의 셀 추가\n",
    "\n",
    "# 병합된 Notebook 저장\n",
    "output_filename = \"final_merged_notebook.ipynb\"\n",
    "with open(output_filename, \"w\", encoding=\"utf-8\") as f:\n",
    "    nbformat.write(merged_notebook, f)\n",
    "\n",
    "print(f\"✅ {output_filename} 파일이 생성되었습니다!\")"
   ]
  },
  {
   "cell_type": "code",
   "execution_count": null,
   "metadata": {},
   "outputs": [],
   "source": []
  }
 ],
 "metadata": {
  "kernelspec": {
   "display_name": "Python 3",
   "language": "python",
   "name": "python3"
  },
  "language_info": {
   "codemirror_mode": {
    "name": "ipython",
    "version": 3
   },
   "file_extension": ".py",
   "mimetype": "text/x-python",
   "name": "python",
   "nbconvert_exporter": "python",
   "pygments_lexer": "ipython3",
   "version": "3.13.2"
  }
 },
 "nbformat": 4,
 "nbformat_minor": 2
}
