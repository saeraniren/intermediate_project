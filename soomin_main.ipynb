{
 "cells": [
  {
   "cell_type": "code",
   "execution_count": null,
   "metadata": {},
   "outputs": [],
   "source": [
    "import pandas as pd\n",
    "import os\n",
    "import seaborn as sns\n",
    "import matplotlib.pyplot as plt\n",
    "import numpy as np\n",
    "plt.rc('font', family='Malgun Gothic')\n",
    "\n",
    "import datasets"
   ]
  },
  {
   "cell_type": "code",
   "execution_count": null,
   "metadata": {},
   "outputs": [],
   "source": [
    "df_lesson_page = datasets.enter.lesson_page()\n",
    "df_complete_lesson = datasets.complete.lesson()\n",
    "df_click_lesson_question = datasets.click.lesson_page_related_question_box()"
   ]
  },
  {
   "cell_type": "code",
   "execution_count": null,
   "metadata": {},
   "outputs": [],
   "source": [
    "# 로그 시간 date time 형식으로 변환\n",
    "df_lesson_page['client_event_time'] = pd.to_datetime(df_lesson_page['client_event_time'])\n",
    "df_complete_lesson['client_event_time'] = pd.to_datetime(df_complete_lesson['client_event_time'])\n",
    "df_click_lesson_question['client_event_time'] = pd.to_datetime(df_click_lesson_question['client_event_time'])"
   ]
  },
  {
   "cell_type": "code",
   "execution_count": null,
   "metadata": {},
   "outputs": [],
   "source": [
    "# # 중복 제거\n",
    "# df_lesson_page.drop_duplicates(inplace=True)\n",
    "# df_complete_lesson.drop_duplicates(inplace=True)\n",
    "# df_click_lesson_question.drop_duplicates(inplace=True)\n",
    "\n",
    "# # 컬럼 .  _ 으로 변경\n",
    "# df_lesson_page.columns = df_lesson_page.columns.str.replace('.', '_')\n",
    "# df_complete_lesson.columns = df_complete_lesson.columns.str.replace('.', '_')\n",
    "# df_click_lesson_question.columns = df_click_lesson_question.columns.str.replace('.', '_')\n",
    "\n",
    "# # 날짜 정리\n",
    "# df_lesson_page = df_lesson_page[df_lesson_page['client_event_time'].dt.year.isin([2022, 2023])]\n",
    "# df_complete_lesson = df_complete_lesson[df_complete_lesson['client_event_time'].dt.year.isin([2022, 2023])]\n",
    "# df_click_lesson_question = df_click_lesson_question[df_click_lesson_question['client_event_time'].dt.year.isin([2022, 2023])]\n",
    "\n",
    "# # 기초 처리 저장\n",
    "# df_lesson_page.to_csv('./data/enter.lesson_page.csv',encoding='UTF-8')\n",
    "# df_complete_lesson.to_csv('./data/complete.lesson.csv',encoding='UTF-8')\n",
    "# df_click_lesson_question.to_csv('./data/click.lesson_page_related_question_box.csv',encoding='UTF-8')"
   ]
  },
  {
   "cell_type": "code",
   "execution_count": null,
   "metadata": {},
   "outputs": [],
   "source": [
    "# 데이터 시간 범위 확인\n",
    "print(\"df_lesson_page:\")\n",
    "print(\"Min:\", df_lesson_page['client_event_time'].min())\n",
    "print(\"Max:\", df_lesson_page['client_event_time'].max())\n",
    "\n",
    "print(\"\\ndf_complete_lesson:\")\n",
    "print(\"Min:\", df_complete_lesson['client_event_time'].min())\n",
    "print(\"Max:\", df_complete_lesson['client_event_time'].max())\n",
    "\n",
    "print(\"\\ndf_click_lesson_question:\")\n",
    "print(\"Min:\", df_click_lesson_question['client_event_time'].min())\n",
    "print(\"Max:\", df_click_lesson_question['client_event_time'].max())"
   ]
  },
  {
   "cell_type": "code",
   "execution_count": null,
   "metadata": {},
   "outputs": [],
   "source": [
    "df_lesson_page.head(4)"
   ]
  },
  {
   "cell_type": "code",
   "execution_count": null,
   "metadata": {},
   "outputs": [],
   "source": [
    "df_lesson_page"
   ]
  },
  {
   "cell_type": "code",
   "execution_count": null,
   "metadata": {},
   "outputs": [],
   "source": [
    "# 데이터 중복 검정\n",
    "df_complete_lesson.loc[df_complete_lesson.duplicated(subset=['user_id','lesson_id'])]"
   ]
  },
  {
   "cell_type": "code",
   "execution_count": null,
   "metadata": {},
   "outputs": [],
   "source": [
    "# 데이터 중복 해결\n",
    "df_complete_lesson = df_complete_lesson.drop_duplicates(subset=['user_id','lesson_id'],keep='first')"
   ]
  },
  {
   "cell_type": "code",
   "execution_count": null,
   "metadata": {},
   "outputs": [],
   "source": [
    "df_click_lesson_question.isna().sum()"
   ]
  },
  {
   "cell_type": "code",
   "execution_count": null,
   "metadata": {},
   "outputs": [],
   "source": [
    "df_click_lesson_question.shape"
   ]
  },
  {
   "cell_type": "code",
   "execution_count": null,
   "metadata": {},
   "outputs": [],
   "source": [
    "# 월별 이용자수 추이 확인\n",
    "monthly_users_enter_lesson = df_lesson_page.resample('ME', on='client_event_time')['user_id'].count()\n",
    "# 인덱스를 month로, %Y-%m 형태로 변환\n",
    "monthly_users_enter_lesson.index = monthly_users_enter_lesson.index.strftime('%Y-%m')\n",
    "monthly_users_enter_lesson.index.name = 'month'\n",
    "# 결과 출력\n",
    "print(monthly_users_enter_lesson)"
   ]
  },
  {
   "cell_type": "code",
   "execution_count": null,
   "metadata": {},
   "outputs": [],
   "source": [
    "# 월별 이용자수 추이 확인\n",
    "monthly_users_complete_lesson = df_complete_lesson.resample('ME', on='client_event_time')['user_id'].count()\n",
    "# 인덱스를 month로, %Y-%m 형태로 변환\n",
    "monthly_users_complete_lesson.index = monthly_users_complete_lesson.index.strftime('%Y-%m')\n",
    "monthly_users_complete_lesson.index.name = 'month'\n",
    "# 결과 출력\n",
    "print(monthly_users_complete_lesson)"
   ]
  },
  {
   "cell_type": "code",
   "execution_count": null,
   "metadata": {},
   "outputs": [],
   "source": [
    "# 월별 이용자수 추이 확인\n",
    "monthly_users_lesson_question = df_click_lesson_question.resample('ME', on='client_event_time')['user_id'].count()\n",
    "# 인덱스를 month로, %Y-%m 형태로 변환\n",
    "monthly_users_lesson_question.index = monthly_users_lesson_question.index.strftime('%Y-%m')\n",
    "monthly_users_lesson_question.index.name = 'month'\n",
    "\n",
    "# 결과 출력\n",
    "print(monthly_users_lesson_question)"
   ]
  },
  {
   "cell_type": "code",
   "execution_count": null,
   "metadata": {},
   "outputs": [],
   "source": [
    "# 컬럼명 수정\n",
    "monthly_users_enter_lesson = monthly_users_enter_lesson.reset_index().rename(columns={'user_id':'enter_count'})\n",
    "monthly_users_complete_lesson = monthly_users_complete_lesson.reset_index().rename(columns={'user_id':'complete_count'})\n",
    "monthly_users_lesson_question = monthly_users_lesson_question.reset_index().rename(columns={'user_id':'question_count'})\n"
   ]
  },
  {
   "cell_type": "code",
   "execution_count": null,
   "metadata": {},
   "outputs": [],
   "source": [
    "# 데이터프레임 병합\n",
    "merged_df = pd.merge(monthly_users_enter_lesson, monthly_users_complete_lesson, on='month')\n",
    "merged_df = pd.merge(merged_df, monthly_users_lesson_question, on='month')\n",
    "\n",
    "# 결과 출력\n",
    "display(merged_df)"
   ]
  },
  {
   "cell_type": "code",
   "execution_count": null,
   "metadata": {},
   "outputs": [],
   "source": [
    "# 플롯그리기\n",
    "fig, ax = plt.subplots(figsize=(12, 6))\n",
    "\n",
    "# 바 넓이 설정\n",
    "bar_width = 0.35\n",
    "\n",
    "# Set the positions of the bars on the x-axis\n",
    "r1 = range(len(merged_df['month']))\n",
    "r2 = [x + bar_width for x in r1]\n",
    "\n",
    "# 바 그리기\n",
    "ax.bar(r1, merged_df['enter_count'], color='royalblue', width=bar_width, edgecolor='black', label='Enter Count')\n",
    "ax.bar(r2, merged_df['complete_count'], color='orange', width=bar_width, edgecolor='black', label='Complete Count')\n",
    "\n",
    "# 라벨 붙이기\n",
    "ax.set_xlabel('Month', fontweight='bold')\n",
    "ax.set_ylabel('Count', fontweight='bold')\n",
    "ax.set_title('Monthly Lesson Enter and Complete Counts')\n",
    "ax.set_xticks([r + bar_width/2 for r in range(len(merged_df['month']))])\n",
    "ax.set_xticklabels(merged_df['month'], rotation=45)\n",
    "\n",
    "# 레전드 붙이기\n",
    "ax.legend()\n",
    "\n",
    "# 그래프 그리기\n",
    "plt.show()"
   ]
  },
  {
   "cell_type": "code",
   "execution_count": null,
   "metadata": {},
   "outputs": [],
   "source": [
    "# 할당 해제\n",
    "del monthly_users_enter_lesson\n",
    "del monthly_users_lesson_question\n",
    "del monthly_users_complete_lesson"
   ]
  },
  {
   "cell_type": "code",
   "execution_count": null,
   "metadata": {},
   "outputs": [],
   "source": [
    "# lesson_id별로 count 계산\n",
    "lesson_page_counts = df_lesson_page.groupby('lesson_id')['user_id'].size().reset_index(name='enter_count')\n",
    "complete_lesson_counts = df_complete_lesson.groupby('lesson_id')['user_id'].size().reset_index(name='complete_count')\n",
    "click_lesson_question_counts = df_click_lesson_question.groupby('lesson_id')['user_id'].size().reset_index(name='click_question_count')\n",
    "\n",
    "merged_df = pd.merge(lesson_page_counts,complete_lesson_counts, on='lesson_id',how='outer')\n",
    "merged_df = pd.merge(merged_df, click_lesson_question_counts, on='lesson_id',how='outer')\n"
   ]
  },
  {
   "cell_type": "code",
   "execution_count": null,
   "metadata": {},
   "outputs": [],
   "source": [
    "merged_df.shape"
   ]
  },
  {
   "cell_type": "code",
   "execution_count": null,
   "metadata": {},
   "outputs": [],
   "source": [
    "merged_df = merged_df.fillna(0)"
   ]
  },
  {
   "cell_type": "code",
   "execution_count": null,
   "metadata": {},
   "outputs": [],
   "source": [
    "# 0으로 나누어지는 케이스를 분기시켜 처리.\n",
    "# merged_df['complete/enter'] = np.where(\n",
    "#     merged_df['enter_count'] == 0, 999,\n",
    "#     round(merged_df['complete_count'] / merged_df['enter_count'] * 100, 2)\n",
    "# )\n",
    "\n",
    "# 분자와 분모에 1씩 더해서 나누기.\n",
    "merged_df['complete/enter'] = round((merged_df['complete_count']+1) / (merged_df['enter_count']+1) * 100, 2)"
   ]
  },
  {
   "cell_type": "code",
   "execution_count": null,
   "metadata": {},
   "outputs": [],
   "source": [
    "merged_df.loc[merged_df['complete/enter'] > 100].sort_values(by='complete/enter')"
   ]
  },
  {
   "cell_type": "code",
   "execution_count": null,
   "metadata": {},
   "outputs": [],
   "source": [
    "# complete/enter를 0~10, 10~20, ..., 100 이상으로 분할\n",
    "bins = [0, 10, 20, 30, 40, 50, 60, 70, 80, 90, 100, float('inf')]\n",
    "labels = ['0-10', '10-20', '20-30', '30-40', '40-50', '50-60', '60-70', '70-80', '80-90', '90-100', '100+']\n",
    "merged_df['complete/enter_group'] = pd.cut(merged_df['complete/enter'], bins=bins, labels=labels, right=True)\n",
    "\n",
    "# 각 그룹에 몇 개의 행들이 포함되어 있는지 count\n",
    "group_counts = merged_df['complete/enter_group'].value_counts().sort_index()\n",
    "\n",
    "# 결과 출력\n",
    "print(group_counts)"
   ]
  },
  {
   "cell_type": "code",
   "execution_count": null,
   "metadata": {},
   "outputs": [],
   "source": [
    "# 바 그래프 그리기\n",
    "sns.barplot(x=group_counts.index, y=group_counts.values, hue=group_counts.index, legend=False, palette='Blues_d', edgecolor='black')\n",
    "\n",
    "plt.title(\"Lesson 별 Enter 대비 Complete 비율\")\n",
    "plt.ylabel(\"Counts\")\n",
    "plt.xlabel(\"초과-이하 (%)\")\n",
    "# 그래프 그리기\n",
    "plt.show()"
   ]
  },
  {
   "cell_type": "code",
   "execution_count": null,
   "metadata": {},
   "outputs": [],
   "source": [
    "merged_df.groupby('complete/enter_group')['click question_count'].mean()"
   ]
  },
  {
   "cell_type": "code",
   "execution_count": null,
   "metadata": {},
   "outputs": [],
   "source": []
  },
  {
   "cell_type": "code",
   "execution_count": null,
   "metadata": {},
   "outputs": [],
   "source": [
    "# 그룹별 click question_count의 평균 계산\n",
    "group_mean_click_question = merged_df.groupby('complete/enter_group')['click question_count'].mean().reset_index()\n",
    "\n",
    "# 바 그래프 그리기\n",
    "sns.barplot(x='complete/enter_group', y='click question_count', data=group_mean_click_question, palette='Blues_d', hue='complete/enter_group', legend=False, edgecolor='black')\n",
    "\n",
    "plt.title(\"완강율 그룹별 평균 질문 클릭수\")\n",
    "plt.ylabel(\"평균 Question Counts\")\n",
    "plt.xlabel(\"완강율(%) 그룹\")\n",
    "# 그래프 그리기\n",
    "plt.show()"
   ]
  },
  {
   "cell_type": "code",
   "execution_count": null,
   "metadata": {},
   "outputs": [],
   "source": [
    "# Enter 대비 질문수 백분율 계산\n",
    "merged_df['click/enter'] = round((merged_df['click question_count'] / merged_df['enter_count']) * 100, 2)\n",
    "\n",
    "# Complete 대비 질문수 백분율 계산\n",
    "merged_df['click/complete'] = round((merged_df['click question_count'] / merged_df['complete_count']) * 100, 2)\n",
    "\n",
    "# 그룹별 평균 계산\n",
    "group_mean_click_enter = merged_df.groupby('complete/enter_group')['click/enter'].mean().reset_index()\n",
    "group_mean_click_complete = merged_df.groupby('complete/enter_group')['click/complete'].mean().reset_index()\n",
    "\n",
    "# 그래프 그리기\n",
    "fig, ax = plt.subplots(2, 1, figsize=(8, 12))\n",
    "\n",
    "# Enter 대비 질문수 백분율 바 그래프\n",
    "sns.barplot(x='complete/enter_group', y='click/enter', data=group_mean_click_enter, palette='Blues_d', hue='complete/enter_group', ax=ax[0], edgecolor='black')\n",
    "ax[0].set_title(\"완강율 그룹별 Enter 대비 질문클릭율\")\n",
    "ax[0].set_ylabel(\"Enter 대비 질문클릭율 (%)\")\n",
    "ax[0].set_xlabel(\"완강율(%) 그룹\")\n",
    "\n",
    "# Complete 대비 질문수 백분율 바 그래프\n",
    "sns.barplot(x='complete/enter_group', y='click/complete', data=group_mean_click_complete, palette='Blues_d', hue='complete/enter_group', ax=ax[1], edgecolor='black')\n",
    "ax[1].set_title(\"완강율 그룹별 Complete 대비 질문클릭율\")\n",
    "ax[1].set_ylabel(\"Complete 대비 질문클릭율 (%)\")\n",
    "ax[1].set_xlabel(\"완강율(%) 그룹\")\n",
    "\n",
    "# 그래프 그리기\n",
    "plt.tight_layout()\n",
    "plt.show()"
   ]
  },
  {
   "cell_type": "code",
   "execution_count": null,
   "metadata": {},
   "outputs": [],
   "source": [
    "start_content = datasets.start.content()\n",
    "start_content.columns = start_content.columns.str.replace('.', '_')"
   ]
  },
  {
   "cell_type": "code",
   "execution_count": null,
   "metadata": {},
   "outputs": [],
   "source": [
    "start_content.head(4)"
   ]
  },
  {
   "cell_type": "code",
   "execution_count": null,
   "metadata": {},
   "outputs": [],
   "source": [
    "start_content = start_content[['content_id','content_difficulty']]"
   ]
  },
  {
   "cell_type": "code",
   "execution_count": null,
   "metadata": {},
   "outputs": [],
   "source": [
    "del merged_df"
   ]
  },
  {
   "cell_type": "code",
   "execution_count": null,
   "metadata": {},
   "outputs": [],
   "source": [
    "# complete_lesson에서 content_id 컬럼을 가져와 merged_df와 lesson_id 기준으로 병합\n",
    "merged_df = pd.merge(merged_df, df_complete_lesson[['lesson_id', 'content_id']], on='lesson_id', how='left')\n",
    "\n",
    "# start_content 데이터프레임을 content_id 기준으로 병합\n",
    "merged_df = pd.merge(merged_df, start_content, on='content_id', how='left')\n",
    "\n",
    "# 결과 출력\n",
    "display(merged_df)"
   ]
  }
 ],
 "metadata": {
  "kernelspec": {
   "display_name": "Python 3",
   "language": "python",
   "name": "python3"
  },
  "language_info": {
   "codemirror_mode": {
    "name": "ipython",
    "version": 3
   },
   "file_extension": ".py",
   "mimetype": "text/x-python",
   "name": "python",
   "nbconvert_exporter": "python",
   "pygments_lexer": "ipython3",
   "version": "3.13.0"
  }
 },
 "nbformat": 4,
 "nbformat_minor": 2
}
