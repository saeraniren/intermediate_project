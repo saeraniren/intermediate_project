{
 "cells": [
  {
   "cell_type": "code",
   "execution_count": 5,
   "metadata": {},
   "outputs": [],
   "source": [
    "import pandas as pd\n",
    "import os\n",
    "import seaborn as sns\n",
    "import matplotlib.pyplot as plt\n",
    "plt.rc('font', family='Malgun Gothic')\n",
    "\n",
    "import datasets"
   ]
  },
  {
   "cell_type": "code",
   "execution_count": null,
   "metadata": {},
   "outputs": [
    {
     "name": "stderr",
     "output_type": "stream",
     "text": [
      "c:\\Users\\soom0\\OneDrive\\바탕 화면\\정수민\\코드잇\\스프린트 미션\\프로젝트 2\\intermediate_project\\datasets.py:132: DtypeWarning: Columns (9,13,15) have mixed types. Specify dtype option on import or set low_memory=False.\n",
      "  return pd.read_csv(file_path)\n"
     ]
    }
   ],
   "source": [
    "df_lesson_page = datasets.enter.lesson_page()\n",
    "df_complete_lesson = datasets.complete.lesson()\n",
    "df_click_lesson_comment = datasets.click.lesson_page_related_comment_box()\n"
   ]
  },
  {
   "cell_type": "code",
   "execution_count": 24,
   "metadata": {},
   "outputs": [],
   "source": [
    "# 로그 시간 date time 형식으로 변환\n",
    "df_lesson_page['client_event_time'] = pd.to_datetime(df_lesson_page['client_event_time'])\n",
    "df_complete_lesson['client_event_time'] = pd.to_datetime(df_complete_lesson['client_event_time'])\n",
    "df_click_lesson_comment['client_event_time'] = pd.to_datetime(df_click_lesson_comment['client_event_time'])"
   ]
  },
  {
   "cell_type": "code",
   "execution_count": null,
   "metadata": {},
   "outputs": [],
   "source": [
    "# # 중복 제거\n",
    "# df_lesson_page.drop_duplicates(inplace=True)\n",
    "# df_complete_lesson.drop_duplicates(inplace=True)\n",
    "# df_click_lesson_comment.drop_duplicates(inplace=True)\n",
    "\n",
    "# # 컬럼 .  _ 으로 변경\n",
    "# df_lesson_page.columns = df_lesson_page.columns.str.replace('.', '_')\n",
    "# df_complete_lesson.columns = df_complete_lesson.columns.str.replace('.', '_')\n",
    "# df_click_lesson_comment.columns = df_click_lesson_comment.columns.str.replace('.', '_')\n",
    "\n",
    "# # 날짜 정리\n",
    "# df_lesson_page = df_lesson_page[df_lesson_page['client_event_time'].dt.year.isin([2022, 2023])]\n",
    "# df_complete_lesson = df_complete_lesson[df_complete_lesson['client_event_time'].dt.year.isin([2022, 2023])]\n",
    "# df_click_lesson_comment = df_click_lesson_comment[df_click_lesson_comment['client_event_time'].dt.year.isin([2022, 2023])]\n",
    "\n",
    "# # 기초 처리 저장\n",
    "# df_lesson_page.to_csv('./data/enter.lesson_page.csv',encoding='UTF-8')\n",
    "# df_complete_lesson.to_csv('./data/complete.lesson.csv',encoding='UTF-8')\n",
    "# df_click_lesson_comment.to_csv('./data/click.lesson_page_related_question_box.csv',encoding='UTF-8')"
   ]
  },
  {
   "cell_type": "code",
   "execution_count": null,
   "metadata": {},
   "outputs": [
    {
     "name": "stdout",
     "output_type": "stream",
     "text": [
      "df_lesson_page:\n",
      "Min: 2022-01-01 00:01:34.047000\n",
      "Max: 2023-12-31 23:58:48.291000\n",
      "\n",
      "df_complete_lesson:\n",
      "Min: 2022-01-01 00:00:01.181000\n",
      "Max: 2023-12-31 23:59:35.209000\n",
      "\n",
      "df_click_lesson_comment:\n",
      "Min: 2022-01-01 00:08:23.144000\n",
      "Max: 2023-12-31 23:51:45.529000\n"
     ]
    }
   ],
   "source": [
    "# 데이터 시간 범위 확인\n",
    "print(\"df_lesson_page:\")\n",
    "print(\"Min:\", df_lesson_page['client_event_time'].min())\n",
    "print(\"Max:\", df_lesson_page['client_event_time'].max())\n",
    "\n",
    "print(\"\\ndf_complete_lesson:\")\n",
    "print(\"Min:\", df_complete_lesson['client_event_time'].min())\n",
    "print(\"Max:\", df_complete_lesson['client_event_time'].max())\n",
    "\n",
    "print(\"\\ndf_click_lesson_comment:\")\n",
    "print(\"Min:\", df_click_lesson_comment['client_event_time'].min())\n",
    "print(\"Max:\", df_click_lesson_comment['client_event_time'].max())"
   ]
  },
  {
   "cell_type": "code",
   "execution_count": 30,
   "metadata": {},
   "outputs": [
    {
     "data": {
      "text/plain": [
       "city                   23461\n",
       "client_event_time          0\n",
       "country                14891\n",
       "device_carrier       1378910\n",
       "device_family              1\n",
       "device_type             6334\n",
       "event_type                 0\n",
       "language                   0\n",
       "os_name                    1\n",
       "os_version               213\n",
       "platform                   0\n",
       "user_id                52903\n",
       "question_id           554146\n",
       "content_id            554147\n",
       "lesson_id             554146\n",
       "dtype: int64"
      ]
     },
     "execution_count": 30,
     "metadata": {},
     "output_type": "execute_result"
    }
   ],
   "source": [
    "df_click_lesson_comment.isna().sum()"
   ]
  },
  {
   "cell_type": "code",
   "execution_count": 31,
   "metadata": {},
   "outputs": [
    {
     "data": {
      "text/plain": [
       "(1378910, 15)"
      ]
     },
     "execution_count": 31,
     "metadata": {},
     "output_type": "execute_result"
    }
   ],
   "source": [
    "df_click_lesson_comment.shape"
   ]
  },
  {
   "cell_type": "code",
   "execution_count": 39,
   "metadata": {},
   "outputs": [
    {
     "name": "stdout",
     "output_type": "stream",
     "text": [
      "month\n",
      "2022-01     8338\n",
      "2022-02     6735\n",
      "2022-03     8342\n",
      "2022-04     7589\n",
      "2022-05     7804\n",
      "2022-06     8103\n",
      "2022-07     5466\n",
      "2022-08     4941\n",
      "2022-09     4240\n",
      "2022-10     4555\n",
      "2022-11     5221\n",
      "2022-12    10699\n",
      "2023-01    12583\n",
      "2023-02     6758\n",
      "2023-03     5974\n",
      "2023-04     6097\n",
      "2023-05     8119\n",
      "2023-06     9891\n",
      "2023-07    12077\n",
      "2023-08    11058\n",
      "2023-09     8763\n",
      "2023-10     8839\n",
      "2023-11    11893\n",
      "2023-12    11166\n",
      "Name: user_id, dtype: int64\n"
     ]
    }
   ],
   "source": [
    "# 월별 이용자수 추이 확인\n",
    "monthly_users_enter_lesson = df_lesson_page.resample('ME', on='client_event_time')['user_id'].nunique()\n",
    "# 인덱스를 month로, %Y-%m 형태로 변환\n",
    "monthly_users_enter_lesson.index = monthly_users_enter_lesson.index.strftime('%Y-%m')\n",
    "monthly_users_enter_lesson.index.name = 'month'\n",
    "# 결과 출력\n",
    "print(monthly_users_enter_lesson)"
   ]
  },
  {
   "cell_type": "code",
   "execution_count": 40,
   "metadata": {},
   "outputs": [
    {
     "name": "stdout",
     "output_type": "stream",
     "text": [
      "month\n",
      "2022-01    3910\n",
      "2022-02    3509\n",
      "2022-03    3454\n",
      "2022-04    3011\n",
      "2022-05    3014\n",
      "2022-06    2912\n",
      "2022-07    3090\n",
      "2022-08    3702\n",
      "2022-09    3140\n",
      "2022-10    3376\n",
      "2022-11    3432\n",
      "2022-12    3885\n",
      "2023-01    4439\n",
      "2023-02    3951\n",
      "2023-03    3612\n",
      "2023-04    4110\n",
      "2023-05    4496\n",
      "2023-06    5212\n",
      "2023-07    6363\n",
      "2023-08    6153\n",
      "2023-09    5040\n",
      "2023-10    5104\n",
      "2023-11    6337\n",
      "2023-12    6662\n",
      "Name: user_id, dtype: int64\n"
     ]
    }
   ],
   "source": [
    "# 월별 이용자수 추이 확인\n",
    "monthly_users_complete_lesson = df_complete_lesson.resample('ME', on='client_event_time')['user_id'].nunique()\n",
    "# 인덱스를 month로, %Y-%m 형태로 변환\n",
    "monthly_users_complete_lesson.index = monthly_users_complete_lesson.index.strftime('%Y-%m')\n",
    "monthly_users_complete_lesson.index.name = 'month'\n",
    "# 결과 출력\n",
    "print(monthly_users_complete_lesson)"
   ]
  },
  {
   "cell_type": "code",
   "execution_count": null,
   "metadata": {},
   "outputs": [
    {
     "name": "stdout",
     "output_type": "stream",
     "text": [
      "month\n",
      "2022-01    4580\n",
      "2022-02    3909\n",
      "2022-03    4115\n",
      "2022-04    3601\n",
      "2022-05    3596\n",
      "2022-06    3598\n",
      "2022-07    2974\n",
      "2022-08    2783\n",
      "2022-09    2290\n",
      "2022-10    2451\n",
      "2022-11    2504\n",
      "2022-12    2007\n",
      "2023-01    3424\n",
      "2023-02    2783\n",
      "2023-03    2715\n",
      "2023-04    2627\n",
      "2023-05    2592\n",
      "2023-06    2958\n",
      "2023-07    3521\n",
      "2023-08    3442\n",
      "2023-09    2984\n",
      "2023-10    2838\n",
      "2023-11    3177\n",
      "2023-12    3091\n",
      "Name: user_id, dtype: int64\n"
     ]
    }
   ],
   "source": [
    "# 월별 이용자수 추이 확인\n",
    "monthly_users_lesson_comment = df_click_lesson_comment.resample('ME', on='client_event_time')['user_id'].nunique()\n",
    "# 인덱스를 month로, %Y-%m 형태로 변환\n",
    "monthly_users_lesson_comment.index = monthly_users_lesson_comment.index.strftime('%Y-%m')\n",
    "monthly_users_lesson_comment.index.name = 'month'\n",
    "\n",
    "# 결과 출력\n",
    "print(monthly_users_lesson_comment)"
   ]
  },
  {
   "cell_type": "code",
   "execution_count": 57,
   "metadata": {},
   "outputs": [],
   "source": [
    "# 컬럼명 수정\n",
    "monthly_users_enter_lesson = monthly_users_enter_lesson.reset_index().rename(columns={'user_id':'enter_count'})\n",
    "monthly_users_complete_lesson = monthly_users_complete_lesson.reset_index().rename(columns={'user_id':'complete_count'})\n",
    "monthly_users_lesson_comment = monthly_users_lesson_comment.reset_index().rename(columns={'user_id':'comment_count'})\n"
   ]
  },
  {
   "cell_type": "code",
   "execution_count": 59,
   "metadata": {},
   "outputs": [
    {
     "data": {
      "text/html": [
       "<div>\n",
       "<style scoped>\n",
       "    .dataframe tbody tr th:only-of-type {\n",
       "        vertical-align: middle;\n",
       "    }\n",
       "\n",
       "    .dataframe tbody tr th {\n",
       "        vertical-align: top;\n",
       "    }\n",
       "\n",
       "    .dataframe thead th {\n",
       "        text-align: right;\n",
       "    }\n",
       "</style>\n",
       "<table border=\"1\" class=\"dataframe\">\n",
       "  <thead>\n",
       "    <tr style=\"text-align: right;\">\n",
       "      <th></th>\n",
       "      <th>month</th>\n",
       "      <th>enter_count</th>\n",
       "      <th>complete_count</th>\n",
       "      <th>comment_count</th>\n",
       "    </tr>\n",
       "  </thead>\n",
       "  <tbody>\n",
       "    <tr>\n",
       "      <th>0</th>\n",
       "      <td>2022-01</td>\n",
       "      <td>8338</td>\n",
       "      <td>3910</td>\n",
       "      <td>4580</td>\n",
       "    </tr>\n",
       "    <tr>\n",
       "      <th>1</th>\n",
       "      <td>2022-02</td>\n",
       "      <td>6735</td>\n",
       "      <td>3509</td>\n",
       "      <td>3909</td>\n",
       "    </tr>\n",
       "    <tr>\n",
       "      <th>2</th>\n",
       "      <td>2022-03</td>\n",
       "      <td>8342</td>\n",
       "      <td>3454</td>\n",
       "      <td>4115</td>\n",
       "    </tr>\n",
       "    <tr>\n",
       "      <th>3</th>\n",
       "      <td>2022-04</td>\n",
       "      <td>7589</td>\n",
       "      <td>3011</td>\n",
       "      <td>3601</td>\n",
       "    </tr>\n",
       "    <tr>\n",
       "      <th>4</th>\n",
       "      <td>2022-05</td>\n",
       "      <td>7804</td>\n",
       "      <td>3014</td>\n",
       "      <td>3596</td>\n",
       "    </tr>\n",
       "    <tr>\n",
       "      <th>5</th>\n",
       "      <td>2022-06</td>\n",
       "      <td>8103</td>\n",
       "      <td>2912</td>\n",
       "      <td>3598</td>\n",
       "    </tr>\n",
       "    <tr>\n",
       "      <th>6</th>\n",
       "      <td>2022-07</td>\n",
       "      <td>5466</td>\n",
       "      <td>3090</td>\n",
       "      <td>2974</td>\n",
       "    </tr>\n",
       "    <tr>\n",
       "      <th>7</th>\n",
       "      <td>2022-08</td>\n",
       "      <td>4941</td>\n",
       "      <td>3702</td>\n",
       "      <td>2783</td>\n",
       "    </tr>\n",
       "    <tr>\n",
       "      <th>8</th>\n",
       "      <td>2022-09</td>\n",
       "      <td>4240</td>\n",
       "      <td>3140</td>\n",
       "      <td>2290</td>\n",
       "    </tr>\n",
       "    <tr>\n",
       "      <th>9</th>\n",
       "      <td>2022-10</td>\n",
       "      <td>4555</td>\n",
       "      <td>3376</td>\n",
       "      <td>2451</td>\n",
       "    </tr>\n",
       "    <tr>\n",
       "      <th>10</th>\n",
       "      <td>2022-11</td>\n",
       "      <td>5221</td>\n",
       "      <td>3432</td>\n",
       "      <td>2504</td>\n",
       "    </tr>\n",
       "    <tr>\n",
       "      <th>11</th>\n",
       "      <td>2022-12</td>\n",
       "      <td>10699</td>\n",
       "      <td>3885</td>\n",
       "      <td>2007</td>\n",
       "    </tr>\n",
       "    <tr>\n",
       "      <th>12</th>\n",
       "      <td>2023-01</td>\n",
       "      <td>12583</td>\n",
       "      <td>4439</td>\n",
       "      <td>3424</td>\n",
       "    </tr>\n",
       "    <tr>\n",
       "      <th>13</th>\n",
       "      <td>2023-02</td>\n",
       "      <td>6758</td>\n",
       "      <td>3951</td>\n",
       "      <td>2783</td>\n",
       "    </tr>\n",
       "    <tr>\n",
       "      <th>14</th>\n",
       "      <td>2023-03</td>\n",
       "      <td>5974</td>\n",
       "      <td>3612</td>\n",
       "      <td>2715</td>\n",
       "    </tr>\n",
       "    <tr>\n",
       "      <th>15</th>\n",
       "      <td>2023-04</td>\n",
       "      <td>6097</td>\n",
       "      <td>4110</td>\n",
       "      <td>2627</td>\n",
       "    </tr>\n",
       "    <tr>\n",
       "      <th>16</th>\n",
       "      <td>2023-05</td>\n",
       "      <td>8119</td>\n",
       "      <td>4496</td>\n",
       "      <td>2592</td>\n",
       "    </tr>\n",
       "    <tr>\n",
       "      <th>17</th>\n",
       "      <td>2023-06</td>\n",
       "      <td>9891</td>\n",
       "      <td>5212</td>\n",
       "      <td>2958</td>\n",
       "    </tr>\n",
       "    <tr>\n",
       "      <th>18</th>\n",
       "      <td>2023-07</td>\n",
       "      <td>12077</td>\n",
       "      <td>6363</td>\n",
       "      <td>3521</td>\n",
       "    </tr>\n",
       "    <tr>\n",
       "      <th>19</th>\n",
       "      <td>2023-08</td>\n",
       "      <td>11058</td>\n",
       "      <td>6153</td>\n",
       "      <td>3442</td>\n",
       "    </tr>\n",
       "    <tr>\n",
       "      <th>20</th>\n",
       "      <td>2023-09</td>\n",
       "      <td>8763</td>\n",
       "      <td>5040</td>\n",
       "      <td>2984</td>\n",
       "    </tr>\n",
       "    <tr>\n",
       "      <th>21</th>\n",
       "      <td>2023-10</td>\n",
       "      <td>8839</td>\n",
       "      <td>5104</td>\n",
       "      <td>2838</td>\n",
       "    </tr>\n",
       "    <tr>\n",
       "      <th>22</th>\n",
       "      <td>2023-11</td>\n",
       "      <td>11893</td>\n",
       "      <td>6337</td>\n",
       "      <td>3177</td>\n",
       "    </tr>\n",
       "    <tr>\n",
       "      <th>23</th>\n",
       "      <td>2023-12</td>\n",
       "      <td>11166</td>\n",
       "      <td>6662</td>\n",
       "      <td>3091</td>\n",
       "    </tr>\n",
       "  </tbody>\n",
       "</table>\n",
       "</div>"
      ],
      "text/plain": [
       "      month  enter_count  complete_count  comment_count\n",
       "0   2022-01         8338            3910           4580\n",
       "1   2022-02         6735            3509           3909\n",
       "2   2022-03         8342            3454           4115\n",
       "3   2022-04         7589            3011           3601\n",
       "4   2022-05         7804            3014           3596\n",
       "5   2022-06         8103            2912           3598\n",
       "6   2022-07         5466            3090           2974\n",
       "7   2022-08         4941            3702           2783\n",
       "8   2022-09         4240            3140           2290\n",
       "9   2022-10         4555            3376           2451\n",
       "10  2022-11         5221            3432           2504\n",
       "11  2022-12        10699            3885           2007\n",
       "12  2023-01        12583            4439           3424\n",
       "13  2023-02         6758            3951           2783\n",
       "14  2023-03         5974            3612           2715\n",
       "15  2023-04         6097            4110           2627\n",
       "16  2023-05         8119            4496           2592\n",
       "17  2023-06         9891            5212           2958\n",
       "18  2023-07        12077            6363           3521\n",
       "19  2023-08        11058            6153           3442\n",
       "20  2023-09         8763            5040           2984\n",
       "21  2023-10         8839            5104           2838\n",
       "22  2023-11        11893            6337           3177\n",
       "23  2023-12        11166            6662           3091"
      ]
     },
     "metadata": {},
     "output_type": "display_data"
    }
   ],
   "source": [
    "# 데이터프레임 병합\n",
    "merged_df = pd.merge(monthly_users_enter_lesson, monthly_users_complete_lesson, on='month')\n",
    "merged_df = pd.merge(merged_df, monthly_users_lesson_comment, on='month')\n",
    "\n",
    "# 결과 출력\n",
    "display(merged_df)"
   ]
  },
  {
   "cell_type": "code",
   "execution_count": 68,
   "metadata": {},
   "outputs": [
    {
     "data": {
      "image/png": "[encoded data removed]",
      "text/plain": [
       "<Figure size 1200x600 with 1 Axes>"
      ]
     },
     "metadata": {},
     "output_type": "display_data"
    }
   ],
   "source": [
    "# 플롯그리기\n",
    "fig, ax = plt.subplots(figsize=(12, 6))\n",
    "\n",
    "# 바 넓이 설정\n",
    "bar_width = 0.35\n",
    "\n",
    "# Set the positions of the bars on the x-axis\n",
    "r1 = range(len(merged_df['month']))\n",
    "r2 = [x + bar_width for x in r1]\n",
    "\n",
    "# 바 그리기\n",
    "ax.bar(r1, merged_df['enter_count'], color='royalblue', width=bar_width, edgecolor='black', label='Enter Count')\n",
    "ax.bar(r2, merged_df['complete_count'], color='orange', width=bar_width, edgecolor='black', label='Complete Count')\n",
    "\n",
    "# 라벨 붙이기\n",
    "ax.set_xlabel('Month', fontweight='bold')\n",
    "ax.set_ylabel('Count', fontweight='bold')\n",
    "ax.set_title('Monthly Lesson Enter and Complete Counts')\n",
    "ax.set_xticks([r + bar_width/2 for r in range(len(merged_df['month']))])\n",
    "ax.set_xticklabels(merged_df['month'], rotation=45)\n",
    "\n",
    "# 레전드 붙이기\n",
    "ax.legend()\n",
    "\n",
    "# 그래프 그리기\n",
    "plt.show()"
   ]
  },
  {
   "cell_type": "code",
   "execution_count": null,
   "metadata": {},
   "outputs": [],
   "source": []
  }
 ],
 "metadata": {
  "kernelspec": {
   "display_name": "Python 3",
   "language": "python",
   "name": "python3"
  },
  "language_info": {
   "codemirror_mode": {
    "name": "ipython",
    "version": 3
   },
   "file_extension": ".py",
   "mimetype": "text/x-python",
   "name": "python",
   "nbconvert_exporter": "python",
   "pygments_lexer": "ipython3",
   "version": "3.13.0"
  }
 },
 "nbformat": 4,
 "nbformat_minor": 2
}
