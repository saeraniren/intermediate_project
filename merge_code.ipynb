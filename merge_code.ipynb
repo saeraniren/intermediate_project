{
 "cells": [
  {
   "cell_type": "code",
   "execution_count": null,
   "metadata": {},
   "outputs": [
    {
     "name": "stdout",
     "output_type": "stream",
     "text": [
      "['20250305_yoochang_lesson.ipynb', 'forgetting curve.ipynb', 'geumhui_FUNNEL_final.ipynb', 'geumhui_main.ipynb', 'haein_eda.ipynb', 'haein_eda_Q3.ipynb', 'haein_funnel_eda.ipynb', 'lwc_encoder.ipynb', 'lwc_main.ipynb', 'make_encoding_data.ipynb', 'merge_code.ipynb', 'soomin_main.ipynb', 'soomin_main_final.ipynb', 'Team2.ipynb', 'test_encoders.ipynb', 'USB_main.ipynb', 'USB_main_with_encoding.ipynb', 'yena_main.ipynb', 'yoochang_main.ipynb']\n"
     ]
    },
    {
     "data": {
      "text/plain": [
       "19"
      ]
     },
     "execution_count": 19,
     "metadata": {},
     "output_type": "execute_result"
    }
   ],
   "source": [
    "import os\n",
    "\n",
    "jupyter_list = []\n",
    "\n",
    "for root, dirs, files in os.walk('.'):\n",
    "    for file in files:\n",
    "        if file.endswith('.ipynb'):\n",
    "            jupyter_list.append(file)\n",
    "\n",
    "print(jupyter_list)\n",
    "\n",
    "except_file = ['Team2.ipynb', 'soomin_main.ipynb', 'merge_code.ipynb', 'forgetting curve.ipynb', 'lwc_encoder.ipynb']\n",
    "len(jupyter_list)\n",
    "\n",
    "args = ' '.join([ jupyter for jupyter in jupyter_list if jupyter not in except_file ])\n",
    "\n",
    "!nbmerge {args} > Team2.ipynb"
   ]
  }
 ],
 "metadata": {
  "kernelspec": {
   "display_name": "base",
   "language": "python",
   "name": "python3"
  },
  "language_info": {
   "codemirror_mode": {
    "name": "ipython",
    "version": 3
   },
   "file_extension": ".py",
   "mimetype": "text/x-python",
   "name": "python",
   "nbconvert_exporter": "python",
   "pygments_lexer": "ipython3",
   "version": "3.12.3"
  }
 },
 "nbformat": 4,
 "nbformat_minor": 2
}
