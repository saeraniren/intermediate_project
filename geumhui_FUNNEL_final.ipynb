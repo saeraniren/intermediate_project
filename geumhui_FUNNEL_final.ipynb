{
 "cells": [
  {
   "cell_type": "code",
   "execution_count": 2,
   "metadata": {},
   "outputs": [],
   "source": [
    "import pandas as pd\n",
    "import numpy as np\n",
    "import matplotlib.pyplot as plt\n",
    "import seaborn as sns\n",
    "import os\n",
    "from datetime import timedelta\n",
    "import scipy.stats as stats"
   ]
  },
  {
   "cell_type": "markdown",
   "metadata": {},
   "source": [
    "## 데이터 전처리"
   ]
  },
  {
   "cell_type": "markdown",
   "metadata": {},
   "source": [
    "### 3. 회원가입 완료(complete.signup)\n",
    "- type : 로그인 방식"
   ]
  },
  {
   "cell_type": "code",
   "execution_count": 3,
   "metadata": {},
   "outputs": [],
   "source": [
    "complete_signup = pd.read_csv('C:/Users/rmagm/OneDrive/바탕 화면/vscode/구독서비스프로덕트데이터/complete.signup.csv')"
   ]
  },
  {
   "cell_type": "code",
   "execution_count": 4,
   "metadata": {},
   "outputs": [],
   "source": [
    "# 명확한 크롤링 데이터 제거\n",
    "complete_signup_df =complete_signup.loc[complete_signup['os_name'] != 'Chrome Headless']\n",
    "\n",
    "# reset_index\n",
    "complete_signup_df =complete_signup_df.reset_index(drop=True)\n",
    "\n",
    "# client_event_time 데이터 타입 변경\n",
    "complete_signup_df['client_event_time'] = pd.to_datetime(complete_signup_df['client_event_time'])\n",
    "\n",
    "# 9시간 추가 (KST 변환)\n",
    "complete_signup_df[\"client_event_time\"] = complete_signup_df[\"client_event_time\"] + timedelta(hours=9)\n",
    "\n",
    "#2022년 1월 ~ 2023년 12월\n",
    "complete_signup_df = complete_signup_df[complete_signup_df['client_event_time'].dt.year.isin([2022,2023])]\n"
   ]
  },
  {
   "cell_type": "code",
   "execution_count": 5,
   "metadata": {},
   "outputs": [],
   "source": [
    "# 타입 test행 제거\n",
    "complete_signup_df = complete_signup_df[complete_signup_df['type'] != 'test']"
   ]
  },
  {
   "cell_type": "code",
   "execution_count": 6,
   "metadata": {},
   "outputs": [],
   "source": [
    "# user_id 중복 제거\n",
    "complete_signup_df = complete_signup_df.drop_duplicates(subset = ['user_id'], keep = False)"
   ]
  },
  {
   "cell_type": "markdown",
   "metadata": {},
   "source": [
    "### 8. 첫 결제 완료(complete.subscription)"
   ]
  },
  {
   "cell_type": "code",
   "execution_count": 7,
   "metadata": {},
   "outputs": [],
   "source": [
    "complete_subscription = pd.read_csv('C:/Users/rmagm/OneDrive/바탕 화면/vscode/구독서비스프로덕트데이터/complete.subscription.csv')"
   ]
  },
  {
   "cell_type": "code",
   "execution_count": 8,
   "metadata": {},
   "outputs": [],
   "source": [
    "complete_subscription_df = complete_subscription[['city',\t'client_event_time','event_type','os_name','user_id',\n",
    "                                            'plan.price','paid_amount',\t'coupon.discount_amount','pg.type']].rename(columns = {\n",
    "                                                                                                                    'plan.price' : 'complete_sub_plan_price',\n",
    "                                                                                                                    'paid_amount' : 'complete_sub_paid_amount',\n",
    "                                                                                                                    'coupon.discount_amount' : 'complete_sub_coupon_discount_amount',\n",
    "                                                                                                                    'pg.type' : 'pg_type',\n",
    "                                                                                                                    'client_event_time' : 'complete_sub_time'})\n",
    "\n",
    "# 크롤링 데이터 제거\n",
    "complete_subscription_df =complete_subscription_df.loc[complete_subscription_df['os_name'] != 'Chrome Headless']\n",
    "\n",
    "# reset_index\n",
    "complete_subscription_df =complete_subscription_df.reset_index(drop=True)\n",
    "\n",
    "# client_event_time 데이터 타입 변경\n",
    "complete_subscription_df['complete_sub_time'] = pd.to_datetime(complete_subscription_df['complete_sub_time'])\n",
    "\n",
    "# 9시간 추가 (KST 변환)\n",
    "complete_subscription_df[\"complete_sub_time\"] = complete_subscription_df[\"complete_sub_time\"] + timedelta(hours=9)\n",
    "\n",
    "#2022년 1월 ~ 2023년 12월\n",
    "complete_subscription_df = complete_subscription_df[complete_subscription_df['complete_sub_time'].dt.year.isin([2022,2023])]"
   ]
  },
  {
   "cell_type": "code",
   "execution_count": 9,
   "metadata": {},
   "outputs": [],
   "source": [
    "# 첫 결제가 중복인 경우 첫 결제 환불 후 다시 결제한 케이스로 보기 때문에 가장 최근 결제 내역만 남기기로 함\n",
    "complete_subscription_df = complete_subscription_df.sort_values(by = 'complete_sub_time')\n",
    "\n",
    "# user_id별 가장 최근 결제 내역 1건만 남기고 중복 제거\n",
    "complete_subscription_df = complete_subscription_df.drop_duplicates(subset ='user_id', keep = 'last')"
   ]
  },
  {
   "cell_type": "code",
   "execution_count": 75,
   "metadata": {},
   "outputs": [
    {
     "data": {
      "text/plain": [
       "(13875, 9)"
      ]
     },
     "execution_count": 75,
     "metadata": {},
     "output_type": "execute_result"
    }
   ],
   "source": [
    "complete_subscription_df.shape"
   ]
  },
  {
   "cell_type": "markdown",
   "metadata": {},
   "source": [
    "### 11. 서비스 무료체험 시작(start.free_trial)"
   ]
  },
  {
   "cell_type": "markdown",
   "metadata": {},
   "source": [
    "- plan.price : 정상가\n",
    "- plan.type : 요금제 종류\n",
    "- trial.type : 무료체험 방식   \n",
    "\n",
    "    - type A(구버전)    \n",
    "            - 특정 컨텐츠 하나에 대해 영구적인 무료체험을 제공    \n",
    "            - 여러 컨텐츠에 걸쳐서 중복 무료체험 제공하였음 -> (어떤 컨텐츠인지 정보는 남아있지 않음) \n",
    "\n",
    "    - type B (신버전)     \n",
    "            - 기간 단위로 모든 컨텐츠를 경험할 수 있는 버전으로 제공    \n",
    "            - 중복 무료체험 제공하지 않음"
   ]
  },
  {
   "cell_type": "code",
   "execution_count": 10,
   "metadata": {},
   "outputs": [
    {
     "data": {
      "text/html": [
       "<div>\n",
       "<style scoped>\n",
       "    .dataframe tbody tr th:only-of-type {\n",
       "        vertical-align: middle;\n",
       "    }\n",
       "\n",
       "    .dataframe tbody tr th {\n",
       "        vertical-align: top;\n",
       "    }\n",
       "\n",
       "    .dataframe thead th {\n",
       "        text-align: right;\n",
       "    }\n",
       "</style>\n",
       "<table border=\"1\" class=\"dataframe\">\n",
       "  <thead>\n",
       "    <tr style=\"text-align: right;\">\n",
       "      <th></th>\n",
       "      <th>city</th>\n",
       "      <th>client_event_time</th>\n",
       "      <th>country</th>\n",
       "      <th>device_carrier</th>\n",
       "      <th>device_family</th>\n",
       "      <th>device_type</th>\n",
       "      <th>event_type</th>\n",
       "      <th>language</th>\n",
       "      <th>os_name</th>\n",
       "      <th>os_version</th>\n",
       "      <th>platform</th>\n",
       "      <th>user_id</th>\n",
       "      <th>plan.price</th>\n",
       "      <th>plan.type</th>\n",
       "      <th>trial.type</th>\n",
       "    </tr>\n",
       "  </thead>\n",
       "  <tbody>\n",
       "    <tr>\n",
       "      <th>0</th>\n",
       "      <td>Seoul</td>\n",
       "      <td>2023-04-05 21:49:36.156000</td>\n",
       "      <td>South Korea</td>\n",
       "      <td>NaN</td>\n",
       "      <td>Mac</td>\n",
       "      <td>Mac</td>\n",
       "      <td>start.free_trial</td>\n",
       "      <td>Korean</td>\n",
       "      <td>Safari</td>\n",
       "      <td>15.6.1</td>\n",
       "      <td>Web</td>\n",
       "      <td>06b6868000a5d576180aca47896d6cce</td>\n",
       "      <td>15920.0</td>\n",
       "      <td>1개월 플랜</td>\n",
       "      <td>B</td>\n",
       "    </tr>\n",
       "    <tr>\n",
       "      <th>1</th>\n",
       "      <td>Dobong-gu</td>\n",
       "      <td>2023-03-12 08:28:29.384000</td>\n",
       "      <td>South Korea</td>\n",
       "      <td>NaN</td>\n",
       "      <td>Windows</td>\n",
       "      <td>Windows</td>\n",
       "      <td>start.free_trial</td>\n",
       "      <td>Korean</td>\n",
       "      <td>Chrome</td>\n",
       "      <td>110.0.0.0</td>\n",
       "      <td>Web</td>\n",
       "      <td>40acc1ddfc012f3d2f58a3de95e9e748</td>\n",
       "      <td>15920.0</td>\n",
       "      <td>1개월 플랜</td>\n",
       "      <td>B</td>\n",
       "    </tr>\n",
       "    <tr>\n",
       "      <th>2</th>\n",
       "      <td>NaN</td>\n",
       "      <td>2023-03-12 08:35:00.107000</td>\n",
       "      <td>NaN</td>\n",
       "      <td>NaN</td>\n",
       "      <td>NaN</td>\n",
       "      <td>NaN</td>\n",
       "      <td>start.free_trial</td>\n",
       "      <td>NaN</td>\n",
       "      <td>NaN</td>\n",
       "      <td>NaN</td>\n",
       "      <td>NaN</td>\n",
       "      <td>38aca03fba9753a6b2f31b829fb16a30</td>\n",
       "      <td>15920.0</td>\n",
       "      <td>1개월 플랜</td>\n",
       "      <td>B</td>\n",
       "    </tr>\n",
       "  </tbody>\n",
       "</table>\n",
       "</div>"
      ],
      "text/plain": [
       "        city           client_event_time      country  device_carrier  \\\n",
       "0      Seoul  2023-04-05 21:49:36.156000  South Korea             NaN   \n",
       "1  Dobong-gu  2023-03-12 08:28:29.384000  South Korea             NaN   \n",
       "2        NaN  2023-03-12 08:35:00.107000          NaN             NaN   \n",
       "\n",
       "  device_family device_type        event_type language os_name os_version  \\\n",
       "0           Mac         Mac  start.free_trial   Korean  Safari     15.6.1   \n",
       "1       Windows     Windows  start.free_trial   Korean  Chrome  110.0.0.0   \n",
       "2           NaN         NaN  start.free_trial      NaN     NaN        NaN   \n",
       "\n",
       "  platform                           user_id  plan.price plan.type trial.type  \n",
       "0      Web  06b6868000a5d576180aca47896d6cce     15920.0    1개월 플랜          B  \n",
       "1      Web  40acc1ddfc012f3d2f58a3de95e9e748     15920.0    1개월 플랜          B  \n",
       "2      NaN  38aca03fba9753a6b2f31b829fb16a30     15920.0    1개월 플랜          B  "
      ]
     },
     "execution_count": 10,
     "metadata": {},
     "output_type": "execute_result"
    }
   ],
   "source": [
    "start_free_trial = pd.read_csv('C:/Users/rmagm/OneDrive/바탕 화면/vscode/구독서비스프로덕트데이터/start.free_trial.csv')\n",
    "start_free_trial.head(3)"
   ]
  },
  {
   "cell_type": "code",
   "execution_count": 11,
   "metadata": {},
   "outputs": [],
   "source": [
    "start_free_trial_df = start_free_trial[['client_event_time','os_name','user_id',\n",
    "                                            'plan.price','plan.type','trial.type']].rename(columns = {'plan.price' : 'start_free_trial_plan_price',\n",
    "                                                                                                        'plan.type' : 'start_free_trial_plan_type',\n",
    "                                                                                                        'trial.type' : 'start_free_trial_type',\n",
    "                                                                                                        'client_event_time' : 'start_free_trial_time'})\n",
    "\n",
    "# 사용하지 않는 device carrier 컬럼 제거\n",
    "#start_free_trial_df.drop(columns='device_carrier',inplace=True)\n",
    "\n",
    "# 명확한 크롤링 데이터\n",
    "start_free_trial_df =start_free_trial_df.loc[start_free_trial_df['os_name'] != 'Chrome Headless']\n",
    "\n",
    "# reset_index\n",
    "start_free_trial_df =start_free_trial_df.reset_index(drop=True)\n",
    "\n",
    "# client_event_time 데이터 타입 변경\n",
    "start_free_trial_df['start_free_trial_time'] = pd.to_datetime(start_free_trial_df['start_free_trial_time'])\n",
    "\n",
    "# 9시간 추가 (KST 변환)\n",
    "start_free_trial_df[\"start_free_trial_time\"] = start_free_trial_df[\"start_free_trial_time\"] + timedelta(hours=9)\n",
    "\n",
    "#2022년 1월 ~ 2023년 12월\n",
    "start_free_trial_df = start_free_trial_df[start_free_trial_df['start_free_trial_time'].dt.year.isin([2022,2023])]"
   ]
  },
  {
   "cell_type": "code",
   "execution_count": 12,
   "metadata": {},
   "outputs": [
    {
     "data": {
      "text/plain": [
       "(30472, 3)"
      ]
     },
     "execution_count": 12,
     "metadata": {},
     "output_type": "execute_result"
    }
   ],
   "source": [
    "# user_id 결측 데이터 제거\n",
    "start_free_trial_df = start_free_trial_df.dropna(subset=['user_id'])\n",
    "start_free_trial_df.shape\n",
    "\n",
    "# 중복 제거 전 A타입의 무료 체험과 B타입 무료 체험 모두 이용한 유저 추출\n",
    "\n",
    "filtered_df = start_free_trial_df.groupby('user_id').filter(\n",
    "    lambda group : ('A' in group['start_free_trial_type'].values) and  ('B' in group['start_free_trial_type'].values)\n",
    ")\n",
    "#사용할 컬럼만 추출\n",
    "free_trial_df = start_free_trial_df[['user_id','start_free_trial_time','start_free_trial_type']]\n",
    "\n",
    "# A와 B 모두 사용한 유저 목록 추출\n",
    "users_to_remove = filtered_df[\"user_id\"].unique()\n",
    "\n",
    "# A와 B 모두 사용한 유저 제거 \n",
    "free_trial_df = free_trial_df[~free_trial_df[\"user_id\"].isin(users_to_remove)]\n",
    "free_trial_df.shape"
   ]
  },
  {
   "cell_type": "code",
   "execution_count": 13,
   "metadata": {},
   "outputs": [
    {
     "data": {
      "text/plain": [
       "(16268, 3)"
      ]
     },
     "execution_count": 13,
     "metadata": {},
     "output_type": "execute_result"
    }
   ],
   "source": [
    "# start_free_trial_time 가장 첫 행(처음 무료 체험 서비스 시작 날짜)만 남기기\n",
    "free_trial_df = free_trial_df.sort_values(by=\"start_free_trial_time\", ascending=True).drop_duplicates(subset=\"user_id\", keep=\"first\")\n",
    "\n",
    "# 결과 확인\n",
    "free_trial_df.shape"
   ]
  },
  {
   "cell_type": "markdown",
   "metadata": {},
   "source": [
    "## 주제 선정 후 분석 진행"
   ]
  },
  {
   "cell_type": "markdown",
   "metadata": {},
   "source": [
    "- 루팡 유저 판별 기준(무료 체험 서비스 이용만 하고 사라진 유저)\n",
    "    1. 무료 체험 서비스 이용은 했지만 정기 구독을 하지 않은 유저(무료 체험 서비스 이용 기록만 존재)\n",
    "\n",
    "- 루팡 유저들의 결제 페이지 진입 기록 \n",
    "    - 결제 페이지에 진입했다면 진입까지 걸린 평균 시간\n",
    "- 루팡 유저들의 메인 페이지 진입 수\n",
    "- 루팡 유저들의 유입 경로 비교 -> 마케팅 전략 제안 가능 -> 시각화 가능\n",
    "- 무료 체험 서비스를 이용한 루팡들이 어느 레슨과 컨텐츠를 사용했는지\n",
    "- 13.enter.lesson_page 데이터에 is_trial 컬럼이 무료 체험했으나 현재 구독하지 않은 회원인지의 여부를 알려주고 있어요. 이 부분도 더블 체크 해보시는게 좋을 것 같아요! 무료체험 서비스 데이터가 아무래도 4월 30일까지여서,\n",
    "- type b는 제 기억엔 모두 정기 결제를 한게 맞구(확인을 그래도 한 번 하는게 좋아옄ㅋㅋ)  7일 무료 체험하고 취소한 걸 따로 봐야겠네여(merge…)\n",
    "- 무료 체험 서비스 a,b type 따로 봐야 할 것 같아요(a는 2023년, b는 2024년)\n",
    "\n",
    "- PQL(제품을 무료로 사용해 본 후, 유료 전환 가능성이 높은 잠재 고객을 의미)\n",
    "- TYPE B의 경우 7일의 무료체험 기간이 끝나고 이후에 결제로 넘어가기 때문에 첫 결제 내역이 남아있지 않음 -> 무료 체험 기간이 끝나기 전에 정기결제 취소했기 때문에 루팡"
   ]
  },
  {
   "cell_type": "code",
   "execution_count": 14,
   "metadata": {},
   "outputs": [],
   "source": [
    "palette = ['#b3cde0', '#7e79b8', '#eac4d5', '#6e58a7', '#c6e2e9',\n",
    "            '#a9a7cf', '#9dc3c1','#d5d5e9', '#baaad0', '#f8c8dc', '#c5b9f2']  \n",
    "\n",
    "sns.set_palette(palette)"
   ]
  },
  {
   "cell_type": "code",
   "execution_count": 15,
   "metadata": {},
   "outputs": [],
   "source": [
    "A_start = start_free_trial_df[start_free_trial_df['start_free_trial_type'] == 'A']['start_free_trial_time'].min()\n",
    "A_end = start_free_trial_df[start_free_trial_df['start_free_trial_type'] == 'A']['start_free_trial_time'].max()\n",
    "\n",
    "B_start = start_free_trial_df[start_free_trial_df['start_free_trial_type'] == 'B']['start_free_trial_time'].min()\n",
    "B_end = start_free_trial_df[start_free_trial_df['start_free_trial_type'] == 'B']['start_free_trial_time'].max()"
   ]
  },
  {
   "cell_type": "code",
   "execution_count": 16,
   "metadata": {},
   "outputs": [
    {
     "name": "stdout",
     "output_type": "stream",
     "text": [
      "전체 기간(22,23) 회원 가입 유저 수 : 145081\n",
      "무료 체험 기간 회원 가입한 유저 수 : 67740\n",
      "----------------------------------------------------------------------\n",
      "<무료 체험 서비스 기간 기준>\n",
      "회원가입 후 무료 체험 서비스를 이용한 유저 수: 14095\n",
      "회원가입 후 무료 체험 서비스를 이용한 유저 비율(%): 20.81%\n"
     ]
    }
   ],
   "source": [
    "# 1. 회원가입 후 무료 체험 서비스을 경험해본 유저 추출\n",
    "\n",
    "# 무료 체험 기간 회원가입 완료\n",
    "complete_signup_df2 = complete_signup_df[['user_id','client_event_time']]\n",
    "complete_signup_df_count = complete_signup_df['user_id'].nunique()\n",
    "\n",
    "# 무료 체험 서비스 기간에 회원 가입한 유저 필터링\n",
    "\n",
    "complete_signup_df3 = complete_signup_df2[\n",
    "    (\n",
    "        ((complete_signup_df2[\"client_event_time\"] >= A_start) & (complete_signup_df2[\"client_event_time\"] <= A_end)) | \n",
    "        ((complete_signup_df2[\"client_event_time\"] >= B_start) & (complete_signup_df2[\"client_event_time\"] <= B_end))\n",
    "    )\n",
    "]\n",
    "signup_user = complete_signup_df3['user_id'].nunique()\n",
    "\n",
    "#  회원 가입 서비스 무료 체험 이용 유저 merge\n",
    "complete_signup_trial = free_trial_df.merge(complete_signup_df3, how  = 'inner', on = 'user_id')\n",
    "\n",
    "# 전체 회원가입 유저 수 및 회원가입 후 무료체험 이용 유저 수 계산\n",
    "total_signup = complete_signup_df3[\"user_id\"].nunique()  # 전체 회원가입 유저 수\n",
    "total_trial_users = complete_signup_trial[\"user_id\"].nunique()  # 회원가입 후 무료체험을 이용한 유저 수\n",
    "\n",
    "# 비율 계산\n",
    "trial_users_ratio = (total_trial_users / total_signup) * 100\n",
    "\n",
    "# 결과\n",
    "print(\"전체 기간(22,23) 회원 가입 유저 수 :\" ,  complete_signup_df_count)\n",
    "print(\"무료 체험 기간 회원 가입한 유저 수 :\", signup_user)\n",
    "print('-' * 70)\n",
    "print(\"<무료 체험 서비스 기간 기준>\")\n",
    "print(\"회원가입 후 무료 체험 서비스를 이용한 유저 수:\", total_trial_users)\n",
    "print(f\"회원가입 후 무료 체험 서비스를 이용한 유저 비율(%): {trial_users_ratio:.2f}%\")\n"
   ]
  },
  {
   "cell_type": "code",
   "execution_count": 17,
   "metadata": {},
   "outputs": [
    {
     "data": {
      "text/html": [
       "<div>\n",
       "<style scoped>\n",
       "    .dataframe tbody tr th:only-of-type {\n",
       "        vertical-align: middle;\n",
       "    }\n",
       "\n",
       "    .dataframe tbody tr th {\n",
       "        vertical-align: top;\n",
       "    }\n",
       "\n",
       "    .dataframe thead th {\n",
       "        text-align: right;\n",
       "    }\n",
       "</style>\n",
       "<table border=\"1\" class=\"dataframe\">\n",
       "  <thead>\n",
       "    <tr style=\"text-align: right;\">\n",
       "      <th></th>\n",
       "      <th>user_id</th>\n",
       "      <th>start_free_trial_time</th>\n",
       "      <th>start_free_trial_type</th>\n",
       "      <th>client_event_time</th>\n",
       "    </tr>\n",
       "  </thead>\n",
       "  <tbody>\n",
       "    <tr>\n",
       "      <th>0</th>\n",
       "      <td>28562e887d0942c8f422f1ffa1c12bc0</td>\n",
       "      <td>2022-01-01 09:30:35.744</td>\n",
       "      <td>A</td>\n",
       "      <td>2022-01-01 09:29:36.534</td>\n",
       "    </tr>\n",
       "    <tr>\n",
       "      <th>1</th>\n",
       "      <td>346239bb0b26fb4b4314b08e884b7e15</td>\n",
       "      <td>2022-01-01 11:11:57.529</td>\n",
       "      <td>A</td>\n",
       "      <td>2022-01-01 11:09:29.914</td>\n",
       "    </tr>\n",
       "    <tr>\n",
       "      <th>2</th>\n",
       "      <td>1535248f825028bae04dc0eee26d43ef</td>\n",
       "      <td>2022-01-01 11:25:07.253</td>\n",
       "      <td>A</td>\n",
       "      <td>2022-01-01 11:22:00.036</td>\n",
       "    </tr>\n",
       "    <tr>\n",
       "      <th>3</th>\n",
       "      <td>cf226fb4193276063956cefeed0de36d</td>\n",
       "      <td>2022-01-01 12:52:05.313</td>\n",
       "      <td>A</td>\n",
       "      <td>2022-01-01 12:39:16.766</td>\n",
       "    </tr>\n",
       "    <tr>\n",
       "      <th>4</th>\n",
       "      <td>f9c0191db74185ee5af63920c37c9499</td>\n",
       "      <td>2022-01-01 13:09:16.943</td>\n",
       "      <td>A</td>\n",
       "      <td>2022-01-01 13:08:23.891</td>\n",
       "    </tr>\n",
       "  </tbody>\n",
       "</table>\n",
       "</div>"
      ],
      "text/plain": [
       "                            user_id   start_free_trial_time  \\\n",
       "0  28562e887d0942c8f422f1ffa1c12bc0 2022-01-01 09:30:35.744   \n",
       "1  346239bb0b26fb4b4314b08e884b7e15 2022-01-01 11:11:57.529   \n",
       "2  1535248f825028bae04dc0eee26d43ef 2022-01-01 11:25:07.253   \n",
       "3  cf226fb4193276063956cefeed0de36d 2022-01-01 12:52:05.313   \n",
       "4  f9c0191db74185ee5af63920c37c9499 2022-01-01 13:09:16.943   \n",
       "\n",
       "  start_free_trial_type       client_event_time  \n",
       "0                     A 2022-01-01 09:29:36.534  \n",
       "1                     A 2022-01-01 11:09:29.914  \n",
       "2                     A 2022-01-01 11:22:00.036  \n",
       "3                     A 2022-01-01 12:39:16.766  \n",
       "4                     A 2022-01-01 13:08:23.891  "
      ]
     },
     "execution_count": 17,
     "metadata": {},
     "output_type": "execute_result"
    }
   ],
   "source": [
    "# 무료 체험 서비스 여러 번 한 유저인 경우 가장 최근 이용 내역만 남기기로 함\n",
    "complete_signup_trial = complete_signup_trial.sort_values(by = 'start_free_trial_time')\n",
    "# signup_free_trial\n",
    "# user_id별 가장 최근 결제 내역 1건만 남기고 중복 제거\n",
    "complete_signup_trial = complete_signup_trial.drop_duplicates(subset ='user_id', keep = 'first')\n",
    "complete_signup_trial.head()"
   ]
  },
  {
   "cell_type": "code",
   "execution_count": 18,
   "metadata": {},
   "outputs": [
    {
     "name": "stdout",
     "output_type": "stream",
     "text": [
      "무료 체험 서비스 이용 기간 회원가입 후 무료 체험 이용 유저 수: 14095\n",
      "TYPE A 기간 - 무료 체험 이용 유저 수: 11992\n",
      "TYPE B 기간 - 무료 체험 이용 유저 수: 2103\n"
     ]
    }
   ],
   "source": [
    "# A/B 타입별 무료 체험을 이용한 유저 필터링\n",
    "signup_free_trial_A = complete_signup_trial[complete_signup_trial[\"start_free_trial_type\"] == \"A\"]\n",
    "signup_free_trial_B = complete_signup_trial[complete_signup_trial[\"start_free_trial_type\"] == \"B\"]\n",
    "\n",
    "\n",
    "# A/B 타입별 무료 체험 이용 유저 수\n",
    "total_trial_users_A = signup_free_trial_A[\"user_id\"].nunique()\n",
    "total_trial_users_B = signup_free_trial_B[\"user_id\"].nunique()\n",
    "\n",
    "# A/B 타입별 무료 체험 이용 비율\n",
    "trial_users_ratio_A = (total_trial_users_A / total_trial_users) * 100\n",
    "trial_users_ratio_B = (total_trial_users_B / total_trial_users) * 100\n",
    "\n",
    "# 결과 출력\n",
    "print(f\"무료 체험 서비스 이용 기간 회원가입 후 무료 체험 이용 유저 수: {total_trial_users}\")\n",
    "print(f\"TYPE A 기간 - 무료 체험 이용 유저 수: {total_trial_users_A}\")\n",
    "print(f\"TYPE B 기간 - 무료 체험 이용 유저 수: {total_trial_users_B}\")\n"
   ]
  },
  {
   "cell_type": "code",
   "execution_count": 19,
   "metadata": {},
   "outputs": [
    {
     "name": "stderr",
     "output_type": "stream",
     "text": [
      "C:\\Users\\rmagm\\AppData\\Local\\Temp\\ipykernel_7984\\2832654244.py:12: FutureWarning: \n",
      "\n",
      "Passing `palette` without assigning `hue` is deprecated and will be removed in v0.14.0. Assign the `x` variable to `hue` and set `legend=False` for the same effect.\n",
      "\n",
      "  ax = sns.barplot(data=trial_users_df, x=\"Type\", y=\"Number of Users\", palette= palette)\n",
      "C:\\Users\\rmagm\\AppData\\Local\\Temp\\ipykernel_7984\\2832654244.py:12: UserWarning: The palette list has more values (11) than needed (2), which may not be intended.\n",
      "  ax = sns.barplot(data=trial_users_df, x=\"Type\", y=\"Number of Users\", palette= palette)\n"
     ]
    },
    {
     "data": {
      "image/png": "[encoded data removed]",
      "text/plain": [
       "<Figure size 700x600 with 1 Axes>"
      ]
     },
     "metadata": {},
     "output_type": "display_data"
    }
   ],
   "source": [
    "# 데이터 준비\n",
    "trial_users_data = {\n",
    "    \"Type\": [\"TYPE A\", \"TYPE B\"],\n",
    "    \"Number of Users\": [total_trial_users_A, total_trial_users_B]\n",
    "}\n",
    "\n",
    "# DataFrame 생성\n",
    "trial_users_df = pd.DataFrame(trial_users_data)\n",
    "\n",
    "# 시각화\n",
    "plt.figure(figsize=(7, 6))\n",
    "ax = sns.barplot(data=trial_users_df, x=\"Type\", y=\"Number of Users\", palette= palette)\n",
    "\n",
    "# 막대 위에 값 표시\n",
    "for container in ax.containers:\n",
    "    ax.bar_label(container, fmt=\"%d\", label_type=\"edge\", fontsize=10, padding=5)\n",
    "\n",
    "# 그래프 설정\n",
    "plt.xlabel(\"Trial Type\")\n",
    "plt.ylabel(\"Number of Users\")\n",
    "plt.title(\"Number of Users by Trial Type\")\n",
    "plt.grid(axis='y', linestyle='--', alpha=0.7)\n",
    "plt.show()\n"
   ]
  },
  {
   "cell_type": "code",
   "execution_count": 20,
   "metadata": {},
   "outputs": [
    {
     "name": "stdout",
     "output_type": "stream",
     "text": [
      "무료 체험 서비스 이용 후 첫 결제 완료 유저 수 : 3042\n",
      "무료 체험 서비스 이용 후 첫 결제 완료 유저 비율 : 21.58%\n"
     ]
    },
    {
     "data": {
      "text/html": [
       "<div>\n",
       "<style scoped>\n",
       "    .dataframe tbody tr th:only-of-type {\n",
       "        vertical-align: middle;\n",
       "    }\n",
       "\n",
       "    .dataframe tbody tr th {\n",
       "        vertical-align: top;\n",
       "    }\n",
       "\n",
       "    .dataframe thead th {\n",
       "        text-align: right;\n",
       "    }\n",
       "</style>\n",
       "<table border=\"1\" class=\"dataframe\">\n",
       "  <thead>\n",
       "    <tr style=\"text-align: right;\">\n",
       "      <th></th>\n",
       "      <th>user_id</th>\n",
       "      <th>start_free_trial_time</th>\n",
       "      <th>start_free_trial_type</th>\n",
       "      <th>client_event_time</th>\n",
       "      <th>complete_sub_time</th>\n",
       "    </tr>\n",
       "  </thead>\n",
       "  <tbody>\n",
       "    <tr>\n",
       "      <th>0</th>\n",
       "      <td>28562e887d0942c8f422f1ffa1c12bc0</td>\n",
       "      <td>2022-01-01 09:30:35.744</td>\n",
       "      <td>A</td>\n",
       "      <td>2022-01-01 09:29:36.534</td>\n",
       "      <td>2022-12-20 12:07:22.599</td>\n",
       "    </tr>\n",
       "    <tr>\n",
       "      <th>15</th>\n",
       "      <td>50d0dd8cc013bda776654d037afde6c2</td>\n",
       "      <td>2022-01-01 19:15:55.519</td>\n",
       "      <td>A</td>\n",
       "      <td>2022-01-01 19:15:16.345</td>\n",
       "      <td>2022-02-24 18:18:54.709</td>\n",
       "    </tr>\n",
       "    <tr>\n",
       "      <th>24</th>\n",
       "      <td>92cf46463225e0912034afda9baabbc5</td>\n",
       "      <td>2022-01-01 21:17:48.140</td>\n",
       "      <td>A</td>\n",
       "      <td>2022-01-01 21:16:19.261</td>\n",
       "      <td>2022-11-15 21:30:59.109</td>\n",
       "    </tr>\n",
       "    <tr>\n",
       "      <th>49</th>\n",
       "      <td>3aa4a3f14c8a2b15035f34d9c2af8d3d</td>\n",
       "      <td>2022-01-02 15:40:13.801</td>\n",
       "      <td>A</td>\n",
       "      <td>2022-01-02 15:38:31.202</td>\n",
       "      <td>2022-07-09 22:13:54.750</td>\n",
       "    </tr>\n",
       "    <tr>\n",
       "      <th>56</th>\n",
       "      <td>10c43b95e86fd0feb871bd21bede50c6</td>\n",
       "      <td>2022-01-02 16:58:18.424</td>\n",
       "      <td>A</td>\n",
       "      <td>2022-01-02 16:38:03.080</td>\n",
       "      <td>2022-03-03 19:36:38.442</td>\n",
       "    </tr>\n",
       "    <tr>\n",
       "      <th>...</th>\n",
       "      <td>...</td>\n",
       "      <td>...</td>\n",
       "      <td>...</td>\n",
       "      <td>...</td>\n",
       "      <td>...</td>\n",
       "    </tr>\n",
       "    <tr>\n",
       "      <th>14087</th>\n",
       "      <td>380c802d65358647590d3eb726c0ba35</td>\n",
       "      <td>2023-04-30 20:13:26.312</td>\n",
       "      <td>B</td>\n",
       "      <td>2023-04-26 19:51:13.388</td>\n",
       "      <td>2023-05-07 20:15:01.872</td>\n",
       "    </tr>\n",
       "    <tr>\n",
       "      <th>14088</th>\n",
       "      <td>31a3ef22ef5bb71492530b6790c296da</td>\n",
       "      <td>2023-04-30 20:22:15.209</td>\n",
       "      <td>B</td>\n",
       "      <td>2023-04-30 16:49:32.485</td>\n",
       "      <td>2023-05-07 20:25:02.196</td>\n",
       "    </tr>\n",
       "    <tr>\n",
       "      <th>14091</th>\n",
       "      <td>7079785832f489a60be4583d4858a88d</td>\n",
       "      <td>2023-04-30 22:13:44.708</td>\n",
       "      <td>B</td>\n",
       "      <td>2023-04-30 20:20:32.282</td>\n",
       "      <td>2023-12-31 20:17:51.820</td>\n",
       "    </tr>\n",
       "    <tr>\n",
       "      <th>14092</th>\n",
       "      <td>15db6de4ab4dd0c20f1c4dd377e6aaa3</td>\n",
       "      <td>2023-04-30 22:56:07.995</td>\n",
       "      <td>B</td>\n",
       "      <td>2023-03-20 22:56:44.193</td>\n",
       "      <td>2023-05-07 23:00:01.670</td>\n",
       "    </tr>\n",
       "    <tr>\n",
       "      <th>14093</th>\n",
       "      <td>cea0d65cbcd9005a6a4e66b5f39aa5e7</td>\n",
       "      <td>2023-04-30 23:56:40.414</td>\n",
       "      <td>B</td>\n",
       "      <td>2022-08-24 18:40:28.057</td>\n",
       "      <td>2023-05-08 00:00:12.161</td>\n",
       "    </tr>\n",
       "  </tbody>\n",
       "</table>\n",
       "<p>3042 rows × 5 columns</p>\n",
       "</div>"
      ],
      "text/plain": [
       "                                user_id   start_free_trial_time  \\\n",
       "0      28562e887d0942c8f422f1ffa1c12bc0 2022-01-01 09:30:35.744   \n",
       "15     50d0dd8cc013bda776654d037afde6c2 2022-01-01 19:15:55.519   \n",
       "24     92cf46463225e0912034afda9baabbc5 2022-01-01 21:17:48.140   \n",
       "49     3aa4a3f14c8a2b15035f34d9c2af8d3d 2022-01-02 15:40:13.801   \n",
       "56     10c43b95e86fd0feb871bd21bede50c6 2022-01-02 16:58:18.424   \n",
       "...                                 ...                     ...   \n",
       "14087  380c802d65358647590d3eb726c0ba35 2023-04-30 20:13:26.312   \n",
       "14088  31a3ef22ef5bb71492530b6790c296da 2023-04-30 20:22:15.209   \n",
       "14091  7079785832f489a60be4583d4858a88d 2023-04-30 22:13:44.708   \n",
       "14092  15db6de4ab4dd0c20f1c4dd377e6aaa3 2023-04-30 22:56:07.995   \n",
       "14093  cea0d65cbcd9005a6a4e66b5f39aa5e7 2023-04-30 23:56:40.414   \n",
       "\n",
       "      start_free_trial_type       client_event_time       complete_sub_time  \n",
       "0                         A 2022-01-01 09:29:36.534 2022-12-20 12:07:22.599  \n",
       "15                        A 2022-01-01 19:15:16.345 2022-02-24 18:18:54.709  \n",
       "24                        A 2022-01-01 21:16:19.261 2022-11-15 21:30:59.109  \n",
       "49                        A 2022-01-02 15:38:31.202 2022-07-09 22:13:54.750  \n",
       "56                        A 2022-01-02 16:38:03.080 2022-03-03 19:36:38.442  \n",
       "...                     ...                     ...                     ...  \n",
       "14087                     B 2023-04-26 19:51:13.388 2023-05-07 20:15:01.872  \n",
       "14088                     B 2023-04-30 16:49:32.485 2023-05-07 20:25:02.196  \n",
       "14091                     B 2023-04-30 20:20:32.282 2023-12-31 20:17:51.820  \n",
       "14092                     B 2023-03-20 22:56:44.193 2023-05-07 23:00:01.670  \n",
       "14093                     B 2022-08-24 18:40:28.057 2023-05-08 00:00:12.161  \n",
       "\n",
       "[3042 rows x 5 columns]"
      ]
     },
     "execution_count": 20,
     "metadata": {},
     "output_type": "execute_result"
    }
   ],
   "source": [
    "# 2. 회원 가입 완료 회원의 무료 서비스 체험 후 첫 결제 완료(무료 서비스 체험 사용 기간 내)\n",
    "\n",
    "# 2-1. 중복 결제 내역 제거한 첫 결제 완료 데이터에서 필요한 컬럼만 추출\n",
    "complete_subscription_final = complete_subscription_df[\n",
    "    ['user_id', 'complete_sub_time']\n",
    "]\n",
    "\n",
    "# 2-2. 무료 체험 유저와 첫 결제 완료 데이터 merge\n",
    "free_trial_complete = complete_signup_trial.merge(complete_subscription_final, on='user_id', how='left')\n",
    "\n",
    "# 2-3. 무료 체험 후 첫 결제를 완료한 유저 필터링\n",
    "\n",
    "#(조건 : start_free_trial_time < complete_subscription_time) : row = 3147 -> 구독전환율\n",
    "# 무료 체험 서비스 이용 시간이 먼저여야 하는 이유는 만약 첫 결제 완료 후에 무료 체험 레슨을 들었을 변수를 제외시키기 위해서\n",
    "\n",
    "free_trial_complete_yes = free_trial_complete[\n",
    "    free_trial_complete['start_free_trial_time'].notna() &  # 무료 체험 시작 시간이 존재하는 경우\n",
    "    (free_trial_complete['start_free_trial_time'] < free_trial_complete['complete_sub_time']) \n",
    "]\n",
    "\n",
    "# 2-4. 무료 체험 후 첫 결제 완료한 유저 수 및 전환율 계산\n",
    "free_trial_complete_yes_users = free_trial_complete_yes['user_id'].nunique()\n",
    "total_trial_users = complete_signup_trial['user_id'].nunique()  # 무료 체험 체험 기간동안 회원가입 후 무료 체험 전체 유저 수\n",
    "\n",
    "free_trial_complete_yes_rate = (free_trial_complete_yes_users / total_trial_users) * 100\n",
    "\n",
    "print(f'무료 체험 서비스 이용 후 첫 결제 완료 유저 수 : {free_trial_complete_yes_users}')\n",
    "print(f'무료 체험 서비스 이용 후 첫 결제 완료 유저 비율 : {free_trial_complete_yes_rate:.2f}%')\n",
    "\n",
    "free_trial_complete_yes\n"
   ]
  },
  {
   "cell_type": "code",
   "execution_count": 21,
   "metadata": {},
   "outputs": [
    {
     "name": "stdout",
     "output_type": "stream",
     "text": [
      "TYPE A - 무료 체험 서비스 이용 후 첫 결제 완료 유저 수: 2174\n",
      "TYPE A - 무료 체험 서비스 이용 후 첫 결제 완료 유저 비율: 18.13%\n",
      "TYPE B - 무료 체험 서비스 이용 후 첫 결제 완료 유저 수: 868\n",
      "TYPE B - 무료 체험 서비스 이용 후 첫 결제 완료 유저 비율: 41.27%\n"
     ]
    }
   ],
   "source": [
    "# Calculate number of users who completed first payment after free trial for each type\n",
    "free_trial_complete_yes_type = free_trial_complete_yes.groupby(\"start_free_trial_type\")[\"user_id\"].nunique().reset_index()\n",
    "free_trial_complete_yes_type.columns = [\"Trial Type\", \"Number of Users\"]\n",
    "\n",
    "# Calculate total trial users for each type\n",
    "total_trial_users_A = complete_signup_trial[complete_signup_trial[\"start_free_trial_type\"] == \"A\"][\"user_id\"].nunique()\n",
    "total_trial_users_B = complete_signup_trial[complete_signup_trial[\"start_free_trial_type\"] == \"B\"][\"user_id\"].nunique()\n",
    "\n",
    "# Calculate conversion rate for each type\n",
    "free_trial_complete_yes_rate_A = (free_trial_complete_yes_type.loc[free_trial_complete_yes_type[\"Trial Type\"] == \"A\", \"Number of Users\"].values[0] / total_trial_users_A) * 100\n",
    "free_trial_complete_yes_rate_B = (free_trial_complete_yes_type.loc[free_trial_complete_yes_type[\"Trial Type\"] == \"B\", \"Number of Users\"].values[0] / total_trial_users_B) * 100\n",
    "\n",
    "# Print results\n",
    "print(f'TYPE A - 무료 체험 서비스 이용 후 첫 결제 완료 유저 수: {free_trial_complete_yes_type.loc[free_trial_complete_yes_type[\"Trial Type\"] == \"A\", \"Number of Users\"].values[0]}')\n",
    "print(f'TYPE A - 무료 체험 서비스 이용 후 첫 결제 완료 유저 비율: {free_trial_complete_yes_rate_A:.2f}%')\n",
    "\n",
    "print(f'TYPE B - 무료 체험 서비스 이용 후 첫 결제 완료 유저 수: {free_trial_complete_yes_type.loc[free_trial_complete_yes_type[\"Trial Type\"] == \"B\", \"Number of Users\"].values[0]}')\n",
    "print(f'TYPE B - 무료 체험 서비스 이용 후 첫 결제 완료 유저 비율: {free_trial_complete_yes_rate_B:.2f}%')\n"
   ]
  },
  {
   "cell_type": "code",
   "execution_count": 22,
   "metadata": {},
   "outputs": [
    {
     "data": {
      "text/html": [
       "<div>\n",
       "<style scoped>\n",
       "    .dataframe tbody tr th:only-of-type {\n",
       "        vertical-align: middle;\n",
       "    }\n",
       "\n",
       "    .dataframe tbody tr th {\n",
       "        vertical-align: top;\n",
       "    }\n",
       "\n",
       "    .dataframe thead th {\n",
       "        text-align: right;\n",
       "    }\n",
       "</style>\n",
       "<table border=\"1\" class=\"dataframe\">\n",
       "  <thead>\n",
       "    <tr style=\"text-align: right;\">\n",
       "      <th></th>\n",
       "      <th>Trial Type</th>\n",
       "      <th>Number of Users</th>\n",
       "    </tr>\n",
       "  </thead>\n",
       "  <tbody>\n",
       "    <tr>\n",
       "      <th>0</th>\n",
       "      <td>A</td>\n",
       "      <td>2174</td>\n",
       "    </tr>\n",
       "    <tr>\n",
       "      <th>1</th>\n",
       "      <td>B</td>\n",
       "      <td>868</td>\n",
       "    </tr>\n",
       "  </tbody>\n",
       "</table>\n",
       "</div>"
      ],
      "text/plain": [
       "  Trial Type  Number of Users\n",
       "0          A             2174\n",
       "1          B              868"
      ]
     },
     "metadata": {},
     "output_type": "display_data"
    },
    {
     "name": "stderr",
     "output_type": "stream",
     "text": [
      "C:\\Users\\rmagm\\AppData\\Local\\Temp\\ipykernel_7984\\3099973154.py:11: FutureWarning: \n",
      "\n",
      "Passing `palette` without assigning `hue` is deprecated and will be removed in v0.14.0. Assign the `x` variable to `hue` and set `legend=False` for the same effect.\n",
      "\n",
      "  ax = sns.barplot(data=free_trial_complete_yes_type, x=\"Trial Type\", y=\"Number of Users\", palette= palette)\n",
      "C:\\Users\\rmagm\\AppData\\Local\\Temp\\ipykernel_7984\\3099973154.py:11: UserWarning: The palette list has more values (11) than needed (2), which may not be intended.\n",
      "  ax = sns.barplot(data=free_trial_complete_yes_type, x=\"Trial Type\", y=\"Number of Users\", palette= palette)\n"
     ]
    },
    {
     "data": {
      "image/png": "[encoded data removed]",
      "text/plain": [
       "<Figure size 600x600 with 1 Axes>"
      ]
     },
     "metadata": {},
     "output_type": "display_data"
    }
   ],
   "source": [
    "# 타입별 무료 체험 후 첫 결제 완료 유저 수 계산\n",
    "free_trial_complete_yes_type = free_trial_complete_yes.groupby(\"start_free_trial_type\")[\"user_id\"].nunique().reset_index()\n",
    "\n",
    "# 컬럼명 변경\n",
    "free_trial_complete_yes_type.columns = [\"Trial Type\", \"Number of Users\"]\n",
    "\n",
    "# 결과\n",
    "display(free_trial_complete_yes_type)\n",
    "\n",
    "plt.figure(figsize=(6, 6))\n",
    "ax = sns.barplot(data=free_trial_complete_yes_type, x=\"Trial Type\", y=\"Number of Users\", palette= palette)\n",
    "\n",
    "# 바 그래프 수치 추가\n",
    "for container in ax.containers:\n",
    "    ax.bar_label(container, fmt=\"%d\", label_type=\"edge\", fontsize=10, padding=5)\n",
    "\n",
    "plt.xlabel(\"Trial Type\")\n",
    "plt.ylabel(\"Number of Users\")\n",
    "plt.title(\"Number of Users Who Completed First Payment After Free Trial\")\n",
    "plt.grid(axis='y', linestyle='--', alpha=0.7)\n",
    "\n",
    "plt.show()\n"
   ]
  },
  {
   "cell_type": "markdown",
   "metadata": {},
   "source": [
    "###  TYPE 별 무료 서비스 체험 후 첫 결제까지 걸린 평균 결제 시간 "
   ]
  },
  {
   "cell_type": "code",
   "execution_count": 23,
   "metadata": {},
   "outputs": [
    {
     "name": "stdout",
     "output_type": "stream",
     "text": [
      "전체 평균 첫 결제 소요 시간: 24.36일\n",
      "\n",
      "Type A와 Type B별 평균 첫 결제 소요 시간:\n",
      "Trial Type  Avg Conversion Days\n",
      "         A                28.42\n",
      "         B                14.21\n"
     ]
    }
   ],
   "source": [
    "# 무료 체험 후 첫 결제 까지 걸린 시간(일 단위)\n",
    "free_complete_yes = free_trial_complete_yes.copy()\n",
    "\n",
    "free_complete_yes['day_to_conversion'] = (free_complete_yes['complete_sub_time'] - free_complete_yes['start_free_trial_time']).dt.total_seconds() / 86400\n",
    "\n",
    "# 전체 평균 및 첫 결제까지 소요 시간 \n",
    "free_complete_yes_avg = free_complete_yes['day_to_conversion'].mean()\n",
    "\n",
    "# TYPE A와 TYPE B 소요 시간 평균 계산\n",
    "free_complete_yes_type_avg = free_complete_yes.groupby('start_free_trial_type')['day_to_conversion'].mean()\n",
    "\n",
    "free_complete_yes_type_avg_df = free_complete_yes_type_avg.reset_index()\n",
    "free_complete_yes_type_avg_df.columns = [\"Trial Type\", \"Avg Conversion Days\"]\n",
    "\n",
    "print(f\"전체 평균 첫 결제 소요 시간: {free_complete_yes_avg:.2f}일\")\n",
    "print(\"\\nType A와 Type B별 평균 첫 결제 소요 시간:\")\n",
    "print(free_complete_yes_type_avg_df.to_string(index=False, float_format=\"%.2f\"))"
   ]
  },
  {
   "cell_type": "code",
   "execution_count": 24,
   "metadata": {},
   "outputs": [
    {
     "name": "stderr",
     "output_type": "stream",
     "text": [
      "C:\\Users\\rmagm\\AppData\\Local\\Temp\\ipykernel_7984\\4216840546.py:4: FutureWarning: \n",
      "\n",
      "Passing `palette` without assigning `hue` is deprecated and will be removed in v0.14.0. Assign the `x` variable to `hue` and set `legend=False` for the same effect.\n",
      "\n",
      "  ax = sns.barplot(data=free_complete_yes_type_avg_df, x=\"Trial Type\", y=\"Avg Conversion Days\", palette=\"Blues\")\n"
     ]
    },
    {
     "data": {
      "image/png": "[encoded data removed]",
      "text/plain": [
       "<Figure size 800x600 with 1 Axes>"
      ]
     },
     "metadata": {},
     "output_type": "display_data"
    }
   ],
   "source": [
    "plt.figure(figsize=(8, 6))\n",
    "\n",
    "# 바 그래프\n",
    "ax = sns.barplot(data=free_complete_yes_type_avg_df, x=\"Trial Type\", y=\"Avg Conversion Days\", palette=\"Blues\")\n",
    "\n",
    "# 바 위에 수치 추가\n",
    "for container in ax.containers:\n",
    "    ax.bar_label(container, fmt=\"%.2f\", label_type=\"edge\", fontsize=10, padding=3)\n",
    "\n",
    "plt.xlabel(\"Trial Type\")\n",
    "plt.ylabel(\"Average Days to First Payment\")\n",
    "plt.title(\"Average Days to First Payment by Trial Type\")\n",
    "plt.grid(axis='y', linestyle=\"--\", alpha=0.7)\n",
    "plt.show()"
   ]
  },
  {
   "cell_type": "code",
   "execution_count": 25,
   "metadata": {},
   "outputs": [
    {
     "name": "stdout",
     "output_type": "stream",
     "text": [
      "============================================================\n",
      "\n",
      " Type A - 첫 결제까지 가장 빠른 유저 TOP 5\n",
      "                         user_id  day_to_conversion\n",
      "f046f930dec0224ebb91e499204b2e46               0.00\n",
      "33aa47ab1eec81d4e2ede2675760f23c               0.00\n",
      "6d10fbd72d86df1c890bb5904bcd2a17               0.00\n",
      "fd888a8f9fed0a7ea033b38d4bb81357               0.00\n",
      "9bfbac2af69231accf068239519e0f2f               0.00\n",
      "============================================================\n",
      "\n",
      " Type A - 첫 결제까지 가장 오래 걸린 유저 TOP 5\n",
      "                         user_id  day_to_conversion\n",
      "783e01211e03edc828d55baf6e08a256             711.14\n",
      "fa58177660c687803ee14ac44f3d5cae             662.17\n",
      "7f51e642d2a5d1b2586cf4343b7a54d2             614.68\n",
      "f6657eeff454e7ebe4570bc5f174bb1b             587.22\n",
      "8664c2eb847f36c445caf1784bd9ae2e             564.94\n",
      "============================================================\n"
     ]
    }
   ],
   "source": [
    "# Type A 첫 결제까지 가장 빠른 유저 TOP 5\n",
    "print(\"=\" * 60)  \n",
    "print(\"\\n Type A - 첫 결제까지 가장 빠른 유저 TOP 5\")\n",
    "print(free_complete_yes[free_complete_yes[\"start_free_trial_type\"] == \"A\"]\n",
    "      .nsmallest(5, \"day_to_conversion\")[[\"user_id\", \"day_to_conversion\"]]\n",
    "      .to_string(index=False, float_format=\"%.2f\"))\n",
    "\n",
    "# Type A 첫 결제까지 가장 오래 걸린 유저 TOP 5\n",
    "print(\"=\" * 60)  \n",
    "print(\"\\n Type A - 첫 결제까지 가장 오래 걸린 유저 TOP 5\")\n",
    "print(free_complete_yes[free_complete_yes[\"start_free_trial_type\"] == \"A\"]\n",
    "      .nlargest(5, \"day_to_conversion\")[[\"user_id\", \"day_to_conversion\"]]\n",
    "      .to_string(index=False, float_format=\"%.2f\"))\n",
    "print(\"=\" * 60)"
   ]
  },
  {
   "cell_type": "code",
   "execution_count": 26,
   "metadata": {},
   "outputs": [
    {
     "name": "stdout",
     "output_type": "stream",
     "text": [
      "============================================================\n",
      "\n",
      " Type B - 첫 결제까지 가장 빠른 유저 TOP 5\n",
      "                         user_id  day_to_conversion\n",
      "9611d4cacc12eca45b2c56e76d99a447               0.00\n",
      "3e0f99f28e28196e4a267d19c335f444               0.00\n",
      "6125c2ddf601a13532204ccd2f6e587d               0.01\n",
      "5288c36731e73a1941699d37f3a69a27               0.01\n",
      "3c701c93fb7895d4316698c1bc6117c4               0.01\n",
      "============================================================\n",
      "\n",
      " Type B - 첫 결제까지 가장 오래 걸린 유저 TOP 5\n",
      "                         user_id  day_to_conversion\n",
      "d162f934feab36bd13e9da679fd3e4ad             296.70\n",
      "433cc7db3d9f741cf9a1108d8f78e777             269.82\n",
      "6c65d646cdbb1bea21fcbc37173404f4             258.61\n",
      "7079785832f489a60be4583d4858a88d             244.92\n",
      "2a5784ad88b5e6ca7d692da3c39f597d             232.89\n",
      "============================================================\n"
     ]
    }
   ],
   "source": [
    "\n",
    "# Type B 첫 결제까지 가장 빠른 유저 TOP 5\n",
    "print(\"=\" * 60) \n",
    "print(\"\\n Type B - 첫 결제까지 가장 빠른 유저 TOP 5\")\n",
    "print(free_complete_yes[free_complete_yes[\"start_free_trial_type\"] == \"B\"]\n",
    "      .nsmallest(5, \"day_to_conversion\")[[\"user_id\", \"day_to_conversion\"]]\n",
    "      .to_string(index=False, float_format=\"%.2f\"))\n",
    "\n",
    "# Type B 첫 결제까지 가장 오래 걸린 유저 TOP 5\n",
    "print(\"=\" * 60)  \n",
    "print(\"\\n Type B - 첫 결제까지 가장 오래 걸린 유저 TOP 5\")\n",
    "print(free_complete_yes[free_complete_yes[\"start_free_trial_type\"] == \"B\"]\n",
    "      .nlargest(5, \"day_to_conversion\")[[\"user_id\", \"day_to_conversion\"]]\n",
    "      .to_string(index=False, float_format=\"%.2f\"))\n",
    "print(\"=\" * 60) "
   ]
  },
  {
   "cell_type": "code",
   "execution_count": 27,
   "metadata": {},
   "outputs": [
    {
     "name": "stderr",
     "output_type": "stream",
     "text": [
      "C:\\Users\\rmagm\\AppData\\Local\\Temp\\ipykernel_7984\\3747629084.py:1: FutureWarning: \n",
      "\n",
      "Passing `palette` without assigning `hue` is deprecated and will be removed in v0.14.0. Assign the `x` variable to `hue` and set `legend=False` for the same effect.\n",
      "\n",
      "  sns.boxplot(x=free_complete_yes[\"start_free_trial_type\"], y=free_complete_yes[\"day_to_conversion\"], palette = palette)\n",
      "C:\\Users\\rmagm\\AppData\\Local\\Temp\\ipykernel_7984\\3747629084.py:1: UserWarning: The palette list has more values (11) than needed (2), which may not be intended.\n",
      "  sns.boxplot(x=free_complete_yes[\"start_free_trial_type\"], y=free_complete_yes[\"day_to_conversion\"], palette = palette)\n"
     ]
    },
    {
     "data": {
      "image/png": "[encoded data removed]",
      "text/plain": [
       "<Figure size 640x480 with 1 Axes>"
      ]
     },
     "metadata": {},
     "output_type": "display_data"
    }
   ],
   "source": [
    "sns.boxplot(x=free_complete_yes[\"start_free_trial_type\"], y=free_complete_yes[\"day_to_conversion\"], palette = palette)\n",
    "plt.ylabel(\"Days to First Payment After Free Trial\")\n",
    "plt.title(\"Comparison of Conversion Time Distribution: Type A vs. Type B\") # 결제 소요 시간 비교\n",
    "plt.show()"
   ]
  },
  {
   "cell_type": "markdown",
   "metadata": {},
   "source": [
    "### 박스플롯 설명"
   ]
  },
  {
   "cell_type": "markdown",
   "metadata": {},
   "source": [
    "- 여기서 이상치는 무료 체험 서비스의 영향을 받는 기간을 지나 첫 결제를 진행한 유저들을 칭함\n",
    "\n",
    "1. TYPE A    \n",
    "\n",
    "- Type A는 전환 시간이 훨씬 길고 이상치가 많음    \n",
    "\n",
    "- Type A는 700일 가까이 걸린 유저도 존재 → 일부 유저는 무료 체험 후 매우 오랜 시간이 지난 후 결제(무료 체험이 첫 결제에 미치는 영향이 극히 적을 것으로 예상 할 수 있음)    \n",
    "\n",
    "- 박스가 매우 짧고 위쪽으로 이상치가 많음 → 대부분의 유저는 빠르게 전환하지만, 일부는 매우 늦게 결제    \n",
    "\n",
    "2. TYPE B    \n",
    "- Type B는 상대적으로 빠르게 전환됨     \n",
    "\n",
    "- Type B는 최대 300일 정도 이상치가 존재하지만, Type A보다 확연히 적음       \n",
    " \n",
    "- 박스가 더 길고 이상치 분포가 상대적으로 적음 → Type B는 좀 더 균일한 전환 패턴을 보임(그래도 장시간 이후에 첫 결제라면 무료 체험의 영향력은 작다고 판단)\n"
   ]
  },
  {
   "cell_type": "markdown",
   "metadata": {},
   "source": [
    "### 무료 서비스 체험의 영향으로 첫 결제까지 이어진 유저 재지정"
   ]
  },
  {
   "cell_type": "markdown",
   "metadata": {},
   "source": [
    "- TYPE A (영구 무료 체험)    \n",
    "\n",
    "    - 무료 체험이 영구적이기 때문에, 사용자는 즉시 결제할 필요가 없음.    \n",
    "\n",
    "    - 하지만 무료 체험 서비스가 일정 기간 동안 영향을 주어 결제로 이어지는 시점이 존재할 가능성이 있음.    \n",
    "\n",
    "    - 무료 체험의 \"잔존 효과\" 반영    \n",
    "        - 무료 체험이 끝나지 않더라도, 무료 체험의 영향으로 일정 기간 내 결제를 유도할 가능성이 있음."
   ]
  },
  {
   "cell_type": "code",
   "execution_count": 28,
   "metadata": {},
   "outputs": [
    {
     "data": {
      "text/html": [
       "<div>\n",
       "<style scoped>\n",
       "    .dataframe tbody tr th:only-of-type {\n",
       "        vertical-align: middle;\n",
       "    }\n",
       "\n",
       "    .dataframe tbody tr th {\n",
       "        vertical-align: top;\n",
       "    }\n",
       "\n",
       "    .dataframe thead th {\n",
       "        text-align: right;\n",
       "    }\n",
       "</style>\n",
       "<table border=\"1\" class=\"dataframe\">\n",
       "  <thead>\n",
       "    <tr style=\"text-align: right;\">\n",
       "      <th></th>\n",
       "      <th>무료 체험 시작 후 첫 결제까지 소요 시간</th>\n",
       "      <th>TYPE A</th>\n",
       "      <th>TYPE B</th>\n",
       "    </tr>\n",
       "  </thead>\n",
       "  <tbody>\n",
       "    <tr>\n",
       "      <th>0</th>\n",
       "      <td>0 - 7 days</td>\n",
       "      <td>1165</td>\n",
       "      <td>5</td>\n",
       "    </tr>\n",
       "    <tr>\n",
       "      <th>1</th>\n",
       "      <td>7 - 15 days</td>\n",
       "      <td>614</td>\n",
       "      <td>781</td>\n",
       "    </tr>\n",
       "    <tr>\n",
       "      <th>2</th>\n",
       "      <td>15 - 30 days</td>\n",
       "      <td>105</td>\n",
       "      <td>32</td>\n",
       "    </tr>\n",
       "    <tr>\n",
       "      <th>3</th>\n",
       "      <td>30 - 60 days</td>\n",
       "      <td>81</td>\n",
       "      <td>15</td>\n",
       "    </tr>\n",
       "    <tr>\n",
       "      <th>4</th>\n",
       "      <td>60 - 90 days</td>\n",
       "      <td>35</td>\n",
       "      <td>10</td>\n",
       "    </tr>\n",
       "    <tr>\n",
       "      <th>5</th>\n",
       "      <td>90 + days</td>\n",
       "      <td>174</td>\n",
       "      <td>25</td>\n",
       "    </tr>\n",
       "  </tbody>\n",
       "</table>\n",
       "</div>"
      ],
      "text/plain": [
       "  무료 체험 시작 후 첫 결제까지 소요 시간  TYPE A   TYPE B \n",
       "0              0 - 7 days     1165        5\n",
       "1             7 - 15 days      614      781\n",
       "2            15 - 30 days      105       32\n",
       "3            30 - 60 days       81       15\n",
       "4            60 - 90 days       35       10\n",
       "5               90 + days      174       25"
      ]
     },
     "execution_count": 28,
     "metadata": {},
     "output_type": "execute_result"
    }
   ],
   "source": [
    "# 특정 기간 내 첫 결제한 유저 수를 계산하는 함수 (누적 아님)\n",
    "def count_conversions_in_period(conversion_data, start_day, end_day=None):\n",
    "    \"\"\"\n",
    "    특정 시작일과 종료일 사이에 첫 결제를 완료한 유저 수를 계산하는 함수.\n",
    "    - end_day가 None이면 start_day 이후(first conversion > start_day) 모든 유저를 포함\n",
    "    \"\"\"\n",
    "    if end_day is None:  # 90일 이후 유저 수 계산\n",
    "        return (conversion_data > start_day).sum()\n",
    "    return ((conversion_data > start_day) & (conversion_data <= end_day)).sum()\n",
    "\n",
    "# 전환율 분석 기간 설정 (7일, 15일, 30일, 60일, 90일, 90일 이후)\n",
    "conversion_periods = [(0, 7), (7, 15), (15, 30), (30, 60), (60, 90), (90, None)] \n",
    "\n",
    "# TYPE A와 TYPE B 유저 데이터 분리\n",
    "type_A_conversion = free_complete_yes[free_complete_yes[\"start_free_trial_type\"] == \"A\"][\"day_to_conversion\"]\n",
    "type_B_conversion = free_complete_yes[free_complete_yes[\"start_free_trial_type\"] == \"B\"][\"day_to_conversion\"]\n",
    "\n",
    "# 각 기간별 첫 결제 유저 수 계산\n",
    "conversion_counts_A = {f\"{start} - {end} days\" if end else f\"{start} + days\": count_conversions_in_period(type_A_conversion, start, end) \n",
    "                       for start, end in conversion_periods}\n",
    "\n",
    "conversion_counts_B = {f\"{start} - {end} days\" if end else f\"{start} + days\": count_conversions_in_period(type_B_conversion, start, end) \n",
    "                       for start, end in conversion_periods}\n",
    "\n",
    "# 데이터프레임 생성\n",
    "conversion_df = pd.DataFrame({\n",
    "    \"무료 체험 시작 후 첫 결제까지 소요 시간\": list(conversion_counts_A.keys()),\n",
    "    \"TYPE A \": list(conversion_counts_A.values()),\n",
    "    \"TYPE B \": list(conversion_counts_B.values())\n",
    "})\n",
    "\n",
    "conversion_df"
   ]
  },
  {
   "cell_type": "code",
   "execution_count": 29,
   "metadata": {},
   "outputs": [
    {
     "data": {
      "image/png": "[encoded data removed]",
      "text/plain": [
       "<Figure size 1200x600 with 1 Axes>"
      ]
     },
     "metadata": {},
     "output_type": "display_data"
    }
   ],
   "source": [
    "# 각 타입별 무료 체험 시작 후 첫 결제까지 소요 시간별 유저 수\"\n",
    "\n",
    "# Rename columns for visualization\n",
    "conversion_df.rename(columns={\n",
    "    \"무료 체험 시작 후 첫 결제까지 소요 시간\": \"Days to First Payment\",\n",
    "    \"TYPE A 30일 이내 첫 결제 유저 수\": \"TYPE A Conversions\",\n",
    "    \"TYPE B 30일 이내 첫 결제 유저 수\": \"TYPE B Conversions\"\n",
    "}, inplace=True)\n",
    "\n",
    "# Convert DataFrame to long format for seaborn\n",
    "conversion_melted_df = conversion_df.melt(id_vars=[\"Days to First Payment\"],\n",
    "                                          var_name=\"User Type\", value_name=\"Number of Users\")\n",
    "\n",
    "# 시각화\n",
    "\n",
    "new_labels = [\"1-7 days\", \"8-15 days\", \"16-30 days\", \"31-60 days\", \"61-90 days\", \"91+ days\"]\n",
    "\n",
    "plt.figure(figsize=(12, 6))\n",
    "ax = sns.barplot(data=conversion_melted_df, x=\"Days to First Payment\",\n",
    "            y=\"Number of Users\", hue=\"User Type\", palette=\"Blues\")\n",
    "\n",
    "for container in ax.containers:\n",
    "    ax.bar_label(container, fmt=\"%d\", label_type=\"edge\", fontsize=10, padding=2)\n",
    "\n",
    "\n",
    "plt.xlabel(\"Days to First Payment After Free Trial\")\n",
    "plt.ylabel(\"Number of Users\")\n",
    "plt.title(\"Number of Users by Time to First Payment (TYPE A vs. TYPE B)\")\n",
    "plt.xticks(ticks=range(len(new_labels)), labels=new_labels, rotation=45)\n",
    "plt.legend(title=\"User Type\")\n",
    "plt.grid(axis='y', linestyle='--', alpha=0.7)\n",
    "\n",
    "plt.show()\n"
   ]
  },
  {
   "cell_type": "markdown",
   "metadata": {},
   "source": [
    "- TYPE A"
   ]
  },
  {
   "cell_type": "code",
   "execution_count": 30,
   "metadata": {},
   "outputs": [
    {
     "name": "stdout",
     "output_type": "stream",
     "text": [
      "Type A - 60일 이내 유저 수: 1965명\n",
      "Type A - 60일 이후 유저 수: 209명\n"
     ]
    }
   ],
   "source": [
    "# TYPE A를 이용한 유저\n",
    "\n",
    "# 60일 기준으로 결제 소요 시간 필터링 (Type A만)\n",
    "threshold_A = 60\n",
    "\n",
    "# Type A에서 60일 이하 유저 데이터 (빠르게 결제한 유저)\n",
    "free_complete_yes_60_A = free_complete_yes[\n",
    "    (free_complete_yes[\"start_free_trial_type\"] == \"A\") & \n",
    "    (free_complete_yes[\"day_to_conversion\"] <= threshold_A)\n",
    "]\n",
    "\n",
    "# Type A에서 60일 초과 유저 데이터 (늦게 결제한 유저)\n",
    "free_complete_yes_above_60_A = free_complete_yes[\n",
    "    (free_complete_yes[\"start_free_trial_type\"] == \"A\") & \n",
    "    (free_complete_yes[\"day_to_conversion\"] > threshold_A)\n",
    "]\n",
    "\n",
    "# 유저 수 계산\n",
    "num_conversion_users_60_A = free_complete_yes_60_A[\"user_id\"].nunique()\n",
    "num_conversion_users_above_60_A = free_complete_yes_above_60_A[\"user_id\"].nunique()\n",
    "\n",
    "# 결과 출력\n",
    "print(f\"Type A - 60일 이내 유저 수: {num_conversion_users_60_A}명\")\n",
    "print(f\"Type A - 60일 이후 유저 수: {num_conversion_users_above_60_A}명\")"
   ]
  },
  {
   "cell_type": "code",
   "execution_count": 31,
   "metadata": {},
   "outputs": [
    {
     "name": "stdout",
     "output_type": "stream",
     "text": [
      "TYPE A 결제까지 60일 이내 결제 시간 기초 통계\n",
      "count    1965.000000\n",
      "mean        6.278166\n",
      "std         9.539283\n",
      "min         0.000621\n",
      "25%         0.083870\n",
      "50%         3.477258\n",
      "75%         7.008394\n",
      "max        59.873704\n",
      "Name: day_to_conversion, dtype: float64\n",
      "------------------------------------------------------------\n",
      "TYPE A 결제까지 60일 이후 결제 시간 기초 통계\n",
      "count    209.000000\n",
      "mean     236.559651\n",
      "std      150.625363\n",
      "min       60.109954\n",
      "25%      108.193962\n",
      "50%      192.876575\n",
      "75%      327.778624\n",
      "max      711.135931\n",
      "Name: day_to_conversion, dtype: float64\n"
     ]
    }
   ],
   "source": [
    "# TYPE A의 60일 이내 유저 결제 시간 기초 통계량(무료 체험 후 60일 이내 첫 결제)\n",
    "print('TYPE A 결제까지 60일 이내 결제 시간 기초 통계')\n",
    "print(free_complete_yes_60_A[\"day_to_conversion\"].describe())\n",
    "print('-' * 60)\n",
    "# TYPE A의 60일 이후 유저 결제 시간 기초 통계량(무료 체험 후 60일 초과 첫 결제)\n",
    "print('TYPE A 결제까지 60일 이후 결제 시간 기초 통계')\n",
    "print(free_complete_yes_above_60_A[\"day_to_conversion\"].describe())"
   ]
  },
  {
   "cell_type": "code",
   "execution_count": 32,
   "metadata": {},
   "outputs": [
    {
     "data": {
      "image/png": "[encoded data removed]",
      "text/plain": [
       "<Figure size 1000x600 with 1 Axes>"
      ]
     },
     "metadata": {},
     "output_type": "display_data"
    }
   ],
   "source": [
    "# 60일 이내 첫 결제 소요 시간 데이터 추출\n",
    "type_A_conversion_days_60 = free_complete_yes_60_A[\"day_to_conversion\"]\n",
    "\n",
    "# 히스토그램 & KDE 시각화\n",
    "plt.figure(figsize=(10, 6))\n",
    "sns.histplot(type_A_conversion_days_60, bins=50, kde=True, color=palette[5], stat=\"density\", label=\"TYPE A user\") # a타입\n",
    "\n",
    "# 정규 분포 곡선 추가\n",
    "mu_90, std_90 = np.mean(type_A_conversion_days_60), np.std(type_A_conversion_days_60)\n",
    "xmin, xmax = plt.xlim()  # x축 범위 설정\n",
    "x = np.linspace(xmin, xmax, 100)\n",
    "p = stats.norm.pdf(x, mu_90, std_90)\n",
    "plt.plot(x, p, 'r', linewidth=2, label=\"Normal Distribution Curve\") # label = \"정규분포곡선\"\n",
    "\n",
    "# 그래프 설정\n",
    "plt.xlabel(\"Days to Conversion\")\n",
    "plt.ylabel(\"Density\")\n",
    "plt.title(\"Distribution of Days to Conversion (Type A, TYPE A user\")\n",
    "plt.legend()\n",
    "plt.grid()\n",
    "\n",
    "# 그래프 출력\n",
    "plt.show()"
   ]
  },
  {
   "cell_type": "markdown",
   "metadata": {},
   "source": [
    "< 60일 이내 결제 시간 유저들>\n",
    "- 무료 체험 후 60일 이내 유저가 실제 영향을 받은 그룹\n",
    "- 평균 6일만에 결제 -> 무료 체험이 유저들에게 첫 결제로 이어지게 하는데 효과가 있었다.\n",
    "- 표준 편차(약9일) 유저가 평균(6.04일)을 기준으로 ± 9일 범위 안에 많은 유저가 존재한다는 것 -> 전환율 분석 가능\n",
    "- 즉 무료 체험 후 대부분이 유저가 6 ± 9일(즉, 0일~15일 사이)에 결제한 것을 알 수 있음\n",
    "- 표준편차가 상대적으로 크지 않으며, 분포 또한 급격히 퍼져 있지 않음\n",
    "- Q3가 7.00일로 유저가 7일 이내 결제했다는 것 -> 표준편차와 잘 맞아 떨어짐"
   ]
  },
  {
   "cell_type": "markdown",
   "metadata": {},
   "source": [
    "-------------------------------------------------------------------------------------------------------------------------\n",
    "- TYPE B"
   ]
  },
  {
   "cell_type": "code",
   "execution_count": 33,
   "metadata": {},
   "outputs": [
    {
     "name": "stdout",
     "output_type": "stream",
     "text": [
      "Type B - 60일 이내 결제 유저 수: 833명\n",
      "Type B - 60일 이후 결제 유저 수: 35명\n"
     ]
    }
   ],
   "source": [
    "# TYPE B를 이용한 유저\n",
    "\n",
    "# 60일 기준으로 결제 소요 시간 필터링 (Type B만)\n",
    "threshold_B = 60\n",
    "\n",
    "# Type A에서 60일 이내 유저 데이터 (빠르게 결제한 유저)\n",
    "free_complete_yes_60_B = free_complete_yes[\n",
    "    (free_complete_yes[\"start_free_trial_type\"] == \"B\") & \n",
    "    (free_complete_yes[\"day_to_conversion\"] <= threshold_B)\n",
    "]\n",
    "\n",
    "# Type A에서 60일 이후 유저 데이터 (늦게 결제한 유저)\n",
    "free_complete_yes_above_60_B = free_complete_yes[\n",
    "    (free_complete_yes[\"start_free_trial_type\"] == \"B\") & \n",
    "    (free_complete_yes[\"day_to_conversion\"] > threshold_B)\n",
    "]\n",
    "\n",
    "# 유저 수 계산\n",
    "num_conversion_users_30_B = free_complete_yes_60_B[\"user_id\"].nunique()\n",
    "num_conversion_users_above_30_B = free_complete_yes_above_60_B[\"user_id\"].nunique()\n",
    "\n",
    "# 결과 출력\n",
    "print(f\"Type B - 60일 이내 결제 유저 수: {num_conversion_users_30_B}명\")\n",
    "print(f\"Type B - 60일 이후 결제 유저 수: {num_conversion_users_above_30_B}명\")"
   ]
  },
  {
   "cell_type": "code",
   "execution_count": 34,
   "metadata": {},
   "outputs": [
    {
     "name": "stdout",
     "output_type": "stream",
     "text": [
      "TYPE B 결제까지 60일 이내 결제 시간 기초 통계\n",
      "count    833.000000\n",
      "mean       8.437338\n",
      "std        6.075141\n",
      "min        0.003013\n",
      "25%        7.001066\n",
      "50%        7.002097\n",
      "75%        7.003108\n",
      "max       59.450705\n",
      "Name: day_to_conversion, dtype: float64\n",
      "------------------------------------------------------------\n",
      "TYPE B 결제까지 60일 이후 결제 시간 기초 통계\n",
      "count     35.000000\n",
      "mean     151.531001\n",
      "std       64.871076\n",
      "min       62.337262\n",
      "25%       88.885866\n",
      "50%      141.091300\n",
      "75%      193.643672\n",
      "max      296.702592\n",
      "Name: day_to_conversion, dtype: float64\n"
     ]
    }
   ],
   "source": [
    "# TYPE B의 60일 이내 결제 유저 시간 기초 통계량(무료 체험 후 60일 이내 첫 결제)\n",
    "print('TYPE B 결제까지 60일 이내 결제 시간 기초 통계')\n",
    "print(free_complete_yes_60_B[\"day_to_conversion\"].describe())\n",
    "print('-' * 60)\n",
    "# TYPE B의 30일 이내 결제 유저 시간 기초 통계량(무료 체험 후 60일 초과 첫 결제)\n",
    "print('TYPE B 결제까지 60일 이후 결제 시간 기초 통계')\n",
    "print(free_complete_yes_above_60_B[\"day_to_conversion\"].describe())"
   ]
  },
  {
   "cell_type": "code",
   "execution_count": 35,
   "metadata": {},
   "outputs": [
    {
     "data": {
      "image/png": "[encoded data removed]",
      "text/plain": [
       "<Figure size 1000x600 with 1 Axes>"
      ]
     },
     "metadata": {},
     "output_type": "display_data"
    }
   ],
   "source": [
    "# 60일 기준으로 결제 소요 시간 데이터 추출\n",
    "type_B_conversion_days_60 = free_complete_yes_60_B[\"day_to_conversion\"]\n",
    "\n",
    "# 히스토그램 & KDE 시각화\n",
    "plt.figure(figsize=(10, 6))\n",
    "sns.histplot(type_B_conversion_days_60, bins=50, kde=True, color=palette[5], stat=\"density\", label=\"TYPE B user\") # B 타입\n",
    "\n",
    "# 정규 분포 곡선 추가\n",
    "mu_90, std_90 = np.mean(type_B_conversion_days_60), np.std(type_B_conversion_days_60)\n",
    "xmin, xmax = plt.xlim()  # x축 범위 설정\n",
    "x = np.linspace(xmin, xmax, 100)\n",
    "p = stats.norm.pdf(x, mu_90, std_90)\n",
    "plt.plot(x, p, 'r', linewidth=2, label=\"Normal Distribution Curve\") # label = \"정규분포곡선\"\n",
    "\n",
    "# 그래프 설정\n",
    "plt.xlabel(\"Days to Conversion\")\n",
    "plt.ylabel(\"Density\")\n",
    "plt.title(\"Distribution of Days to Conversion (Type B, TYPE B user)\")\n",
    "plt.legend()\n",
    "plt.grid()\n",
    "\n",
    "# 그래프 출력\n",
    "plt.show()"
   ]
  },
  {
   "cell_type": "code",
   "execution_count": 36,
   "metadata": {},
   "outputs": [
    {
     "name": "stdout",
     "output_type": "stream",
     "text": [
      "TYPE A 기간 무료체험 전체 유저 수 : 11992\n",
      "TYPE A의 첫 결제 전환 유저 수 : 1965\n",
      "TYPE A의 첫 결제 전환율 : 16.39%\n",
      "------------------------------------------------------------\n",
      "TYPE B 기간 무료체험 전체 유저 수 : 2103\n",
      "TYPE B의 첫 결제 전환 유저 수 : 833\n",
      "TYPE B의 첫 결제 전환율 : 39.61%\n"
     ]
    }
   ],
   "source": [
    "# 4. TYPE별 무료체험에서 첫 결제 전환율 -> 분자 : 각 타입별 무료 체험 서비스 이용 후 첫 결제를 진행한 유저 수\n",
    "#                                        분모 : 각 타입별 기간 동안 무료 체험 서비스를 이용한 유저 수 \n",
    "\n",
    "# 4-1. 무료 체험 서비스 이용 후 TYPE A의 첫 결제 전환율\n",
    "\n",
    "# A 타입 무료 체험 후 첫 결제 완료 유저\n",
    "free_trial_complete_A = free_complete_yes_60_A[free_complete_yes_60_A['start_free_trial_type'] == 'A']\n",
    "\n",
    "A_users_count =  free_trial_complete_A['user_id'].nunique()\n",
    "\n",
    "A_conversation_rate = (A_users_count / total_trial_users_A) * 100\n",
    "\n",
    "\n",
    "\n",
    "# 4-2. 무료 체험 서비스 이용 후 TYPE B의 첫 결제 전환율 \n",
    "\n",
    "# B 타입 무료 체험 기간\n",
    "\n",
    "# B 타입 무료 체험 후 첫 결제 완료 유저\n",
    "free_trial_complete_B = free_complete_yes_60_B[free_complete_yes_60_B['start_free_trial_type'] == 'B']\n",
    "\n",
    "\n",
    "B_users_count =  free_trial_complete_B['user_id'].nunique()\n",
    "\n",
    "B_conversation_rate = (B_users_count /total_trial_users_B) * 100\n",
    "\n",
    "print(f'TYPE A 기간 무료체험 전체 유저 수 : {total_trial_users_A}')\n",
    "print(f'TYPE A의 첫 결제 전환 유저 수 : {A_users_count}')\n",
    "print(f'TYPE A의 첫 결제 전환율 : {A_conversation_rate:.2f}%')\n",
    "\n",
    "print('-' * 60)\n",
    "\n",
    "print(f'TYPE B 기간 무료체험 전체 유저 수 : {total_trial_users_B}')\n",
    "print(f'TYPE B의 첫 결제 전환 유저 수 : {B_users_count}')\n",
    "print(f'TYPE B의 첫 결제 전환율 : {B_conversation_rate:.2f}%')"
   ]
  },
  {
   "cell_type": "code",
   "execution_count": 37,
   "metadata": {},
   "outputs": [
    {
     "data": {
      "text/html": [
       "<div>\n",
       "<style scoped>\n",
       "    .dataframe tbody tr th:only-of-type {\n",
       "        vertical-align: middle;\n",
       "    }\n",
       "\n",
       "    .dataframe tbody tr th {\n",
       "        vertical-align: top;\n",
       "    }\n",
       "\n",
       "    .dataframe thead th {\n",
       "        text-align: right;\n",
       "    }\n",
       "</style>\n",
       "<table border=\"1\" class=\"dataframe\">\n",
       "  <thead>\n",
       "    <tr style=\"text-align: right;\">\n",
       "      <th></th>\n",
       "      <th>user_id</th>\n",
       "      <th>start_free_trial_type</th>\n",
       "      <th>conversion</th>\n",
       "    </tr>\n",
       "  </thead>\n",
       "  <tbody>\n",
       "    <tr>\n",
       "      <th>0</th>\n",
       "      <td>50d0dd8cc013bda776654d037afde6c2</td>\n",
       "      <td>A</td>\n",
       "      <td>1</td>\n",
       "    </tr>\n",
       "    <tr>\n",
       "      <th>1</th>\n",
       "      <td>710f80793fdab120ffc73be9a0e121e8</td>\n",
       "      <td>A</td>\n",
       "      <td>1</td>\n",
       "    </tr>\n",
       "    <tr>\n",
       "      <th>2</th>\n",
       "      <td>c2dc785a8aaf56432c00af901b800b93</td>\n",
       "      <td>A</td>\n",
       "      <td>1</td>\n",
       "    </tr>\n",
       "    <tr>\n",
       "      <th>3</th>\n",
       "      <td>4277fcc7c41b0a6061c0b941c42c1386</td>\n",
       "      <td>A</td>\n",
       "      <td>1</td>\n",
       "    </tr>\n",
       "    <tr>\n",
       "      <th>4</th>\n",
       "      <td>98589c99426763c2801e9acb278cb5da</td>\n",
       "      <td>A</td>\n",
       "      <td>1</td>\n",
       "    </tr>\n",
       "    <tr>\n",
       "      <th>...</th>\n",
       "      <td>...</td>\n",
       "      <td>...</td>\n",
       "      <td>...</td>\n",
       "    </tr>\n",
       "    <tr>\n",
       "      <th>2793</th>\n",
       "      <td>b8c4a0b691c8c1d4e60c5b8dbcc63896</td>\n",
       "      <td>B</td>\n",
       "      <td>1</td>\n",
       "    </tr>\n",
       "    <tr>\n",
       "      <th>2794</th>\n",
       "      <td>380c802d65358647590d3eb726c0ba35</td>\n",
       "      <td>B</td>\n",
       "      <td>1</td>\n",
       "    </tr>\n",
       "    <tr>\n",
       "      <th>2795</th>\n",
       "      <td>31a3ef22ef5bb71492530b6790c296da</td>\n",
       "      <td>B</td>\n",
       "      <td>1</td>\n",
       "    </tr>\n",
       "    <tr>\n",
       "      <th>2796</th>\n",
       "      <td>15db6de4ab4dd0c20f1c4dd377e6aaa3</td>\n",
       "      <td>B</td>\n",
       "      <td>1</td>\n",
       "    </tr>\n",
       "    <tr>\n",
       "      <th>2797</th>\n",
       "      <td>cea0d65cbcd9005a6a4e66b5f39aa5e7</td>\n",
       "      <td>B</td>\n",
       "      <td>1</td>\n",
       "    </tr>\n",
       "  </tbody>\n",
       "</table>\n",
       "<p>2798 rows × 3 columns</p>\n",
       "</div>"
      ],
      "text/plain": [
       "                               user_id start_free_trial_type  conversion\n",
       "0     50d0dd8cc013bda776654d037afde6c2                     A           1\n",
       "1     710f80793fdab120ffc73be9a0e121e8                     A           1\n",
       "2     c2dc785a8aaf56432c00af901b800b93                     A           1\n",
       "3     4277fcc7c41b0a6061c0b941c42c1386                     A           1\n",
       "4     98589c99426763c2801e9acb278cb5da                     A           1\n",
       "...                                ...                   ...         ...\n",
       "2793  b8c4a0b691c8c1d4e60c5b8dbcc63896                     B           1\n",
       "2794  380c802d65358647590d3eb726c0ba35                     B           1\n",
       "2795  31a3ef22ef5bb71492530b6790c296da                     B           1\n",
       "2796  15db6de4ab4dd0c20f1c4dd377e6aaa3                     B           1\n",
       "2797  cea0d65cbcd9005a6a4e66b5f39aa5e7                     B           1\n",
       "\n",
       "[2798 rows x 3 columns]"
      ]
     },
     "execution_count": 37,
     "metadata": {},
     "output_type": "execute_result"
    }
   ],
   "source": [
    "# 60일 이내 첫 결제한 전체 유저\n",
    "data_A = pd.DataFrame({\n",
    "    \"user_id\": free_complete_yes_60_A[\"user_id\"].unique(),\n",
    "    \"start_free_trial_type\": \"A\",\n",
    "    \"conversion\": [1 if user in free_trial_complete_A[\"user_id\"].values else 0 for user in free_complete_yes_60_A[\"user_id\"].unique()]\n",
    "})\n",
    "\n",
    "data_B = pd.DataFrame({\n",
    "    \"user_id\": free_complete_yes_60_B[\"user_id\"].unique(),\n",
    "    \"start_free_trial_type\": \"B\",\n",
    "    \"conversion\": [1 if user in free_trial_complete_B[\"user_id\"].values else 0 for user in free_complete_yes_60_B[\"user_id\"].unique()]\n",
    "})\n",
    "\n",
    "# ✅ 4. A & B 타입 데이터 합치기\n",
    "df_combined = pd.concat([data_A, data_B], ignore_index=True)\n",
    "df_combined\n",
    "# ✅ 5. CSV 파일로 저장\n",
    "# df_combined.to_csv(\"free_trial_conversion_data.csv\", index=False)\n"
   ]
  },
  {
   "cell_type": "code",
   "execution_count": 83,
   "metadata": {},
   "outputs": [
    {
     "name": "stdout",
     "output_type": "stream",
     "text": [
      "2798\n",
      "14095\n"
     ]
    },
    {
     "data": {
      "text/plain": [
       "19.85101099680738"
      ]
     },
     "execution_count": 83,
     "metadata": {},
     "output_type": "execute_result"
    }
   ],
   "source": [
    "df_60day_merged = df_combined.merge(free_trial_complete_yes, on=\"user_id\", how = 'left')\n",
    "\n",
    "df_60day_merged = df_60day_merged[[\n",
    "    \"user_id\", \n",
    "    \"client_event_time\", \n",
    "    \"start_free_trial_time\", \n",
    "    \"complete_sub_time\", \n",
    "    \"start_free_trial_type_y\"\n",
    "]]\n",
    "\n",
    "df_60day_merged = df_60day_merged.rename(columns={\"start_free_trial_type_y\": \"start_free_trial_type\"})\n",
    "df_60day_merged_users = df_60day_merged['user_id'].nunique()\n",
    "\n",
    "# 60일 이내로 첫 결제한 모든 유저 수\n",
    "print(df_60day_merged_users)\n",
    "\n",
    "# 무료 체험 서비스 기간 회원 가입 후 무료 체험 서비스 이용 전체 유저\n",
    "print(total_trial_users)\n",
    "# 60일 이내로 첫 결제한 모든 유저 수\n",
    "df_60day_merged_users_rate = (df_60day_merged_users/total_trial_users) * 100\n",
    "df_60day_merged_users_rate"
   ]
  },
  {
   "cell_type": "code",
   "execution_count": 39,
   "metadata": {},
   "outputs": [
    {
     "name": "stdout",
     "output_type": "stream",
     "text": [
      "무료 체험 후 첫 결제를 하지 않은 유저 수 : 11036\n",
      "무료 체험 후 첫 결제를 하지 않은 유저 비율 : 78.30%\n"
     ]
    }
   ],
   "source": [
    "# <루팡>\n",
    "# 3. 무료 체험 후 첫 결제를 하지 않은 유저 필터링 \n",
    "\n",
    "# 3-1. 무료 체험 후 첫 결제를 하지 않은 유저 필터링\n",
    "free_trial_complete_no = free_trial_complete[\n",
    "    free_trial_complete['start_free_trial_time'].notna() &  # 무료 체험을 한 유저\n",
    "    free_trial_complete['complete_sub_time'].isna()  # 첫 결제 기록이 없는 유저\n",
    "]\n",
    "\n",
    "# 3-3.무료 체험 후 첫 결제를 하지 않은 유저 수\n",
    "free_trial_complete_no_users = free_trial_complete_no['user_id'].nunique()\n",
    "\n",
    "# 3-4.무료 체험 후 첫 결제를 하지 않은 유저 비율 계산\n",
    "free_trial_complete_no_rate = (free_trial_complete_no_users / total_trial_users) * 100\n",
    "\n",
    "print(f'무료 체험 후 첫 결제를 하지 않은 유저 수 : {free_trial_complete_no_users}')\n",
    "print(f'무료 체험 후 첫 결제를 하지 않은 유저 비율 : {free_trial_complete_no_rate:.2f}%')\n"
   ]
  },
  {
   "cell_type": "code",
   "execution_count": 40,
   "metadata": {},
   "outputs": [
    {
     "name": "stdout",
     "output_type": "stream",
     "text": [
      "무료 체험 후 첫 결제까지 오래 걸린 유저 수 : 2798\n",
      "무료 체험 후 첫 결제까지 오래 걸린 유저 비율 : 19.85%\n"
     ]
    }
   ],
   "source": [
    "# 위에서 무료 체험 서비스 이용 후 첫 결제까지 30일 초과한 유저들\n",
    "\n",
    "# 4-1. free_complete_yes_10_B + free_complete_yes_10_A\n",
    "free_trial_complete_long = pd.concat([free_complete_yes_60_A, free_complete_yes_60_B]).drop_duplicates()\n",
    "\n",
    "# 4-2.무료 체험 후 첫 결제까지 오래 걸린 유저 수\n",
    "free_trial_complete_long_users = free_trial_complete_long['user_id'].nunique()\n",
    "\n",
    "# 4-3.무료 체험 후 첫 결제까지 오래 걸린 유저 비율 계산\n",
    "free_trial_complete_long_rate = (free_trial_complete_long_users / total_trial_users) * 100\n",
    "\n",
    "print(f'무료 체험 후 첫 결제까지 오래 걸린 유저 수 : {free_trial_complete_long_users}')\n",
    "print(f'무료 체험 후 첫 결제까지 오래 걸린 유저 비율 : {free_trial_complete_long_rate:.2f}%')"
   ]
  },
  {
   "cell_type": "code",
   "execution_count": 41,
   "metadata": {},
   "outputs": [
    {
     "name": "stdout",
     "output_type": "stream",
     "text": [
      "회원 가입 유저 중 첫 결제 후 무료 체험을 이용한 유저 수: 17명\n"
     ]
    },
    {
     "data": {
      "text/html": [
       "<div>\n",
       "<style scoped>\n",
       "    .dataframe tbody tr th:only-of-type {\n",
       "        vertical-align: middle;\n",
       "    }\n",
       "\n",
       "    .dataframe tbody tr th {\n",
       "        vertical-align: top;\n",
       "    }\n",
       "\n",
       "    .dataframe thead th {\n",
       "        text-align: right;\n",
       "    }\n",
       "</style>\n",
       "<table border=\"1\" class=\"dataframe\">\n",
       "  <thead>\n",
       "    <tr style=\"text-align: right;\">\n",
       "      <th></th>\n",
       "      <th>user_id</th>\n",
       "      <th>start_free_trial_time</th>\n",
       "      <th>start_free_trial_type</th>\n",
       "      <th>client_event_time</th>\n",
       "      <th>complete_sub_time</th>\n",
       "    </tr>\n",
       "  </thead>\n",
       "  <tbody>\n",
       "    <tr>\n",
       "      <th>2233</th>\n",
       "      <td>8d97d064ff5e2a109b2e6219fb722584</td>\n",
       "      <td>2022-02-10 19:43:21.802</td>\n",
       "      <td>A</td>\n",
       "      <td>2022-02-10 10:23:58.557</td>\n",
       "      <td>2022-02-10 19:28:13.399</td>\n",
       "    </tr>\n",
       "    <tr>\n",
       "      <th>3913</th>\n",
       "      <td>02805904483310fc050f7c05f33b6434</td>\n",
       "      <td>2022-03-16 15:21:24.650</td>\n",
       "      <td>A</td>\n",
       "      <td>2022-03-16 14:30:44.609</td>\n",
       "      <td>2022-03-16 15:19:38.570</td>\n",
       "    </tr>\n",
       "    <tr>\n",
       "      <th>4480</th>\n",
       "      <td>40079d8c25087ef25218fad3f18cab83</td>\n",
       "      <td>2022-03-26 12:40:10.331</td>\n",
       "      <td>A</td>\n",
       "      <td>2022-03-20 17:19:55.144</td>\n",
       "      <td>2022-03-26 12:34:32.020</td>\n",
       "    </tr>\n",
       "    <tr>\n",
       "      <th>5295</th>\n",
       "      <td>4b7ef7369a018e815b8c3649e25626b1</td>\n",
       "      <td>2022-04-07 21:59:09.234</td>\n",
       "      <td>A</td>\n",
       "      <td>2022-02-08 10:43:40.683</td>\n",
       "      <td>2022-04-07 21:55:04.606</td>\n",
       "    </tr>\n",
       "    <tr>\n",
       "      <th>5496</th>\n",
       "      <td>4ec9d9c0a325f161e56e766292f15670</td>\n",
       "      <td>2022-04-12 05:50:15.857</td>\n",
       "      <td>A</td>\n",
       "      <td>2022-04-12 03:21:34.578</td>\n",
       "      <td>2022-04-12 05:46:45.359</td>\n",
       "    </tr>\n",
       "  </tbody>\n",
       "</table>\n",
       "</div>"
      ],
      "text/plain": [
       "                               user_id   start_free_trial_time  \\\n",
       "2233  8d97d064ff5e2a109b2e6219fb722584 2022-02-10 19:43:21.802   \n",
       "3913  02805904483310fc050f7c05f33b6434 2022-03-16 15:21:24.650   \n",
       "4480  40079d8c25087ef25218fad3f18cab83 2022-03-26 12:40:10.331   \n",
       "5295  4b7ef7369a018e815b8c3649e25626b1 2022-04-07 21:59:09.234   \n",
       "5496  4ec9d9c0a325f161e56e766292f15670 2022-04-12 05:50:15.857   \n",
       "\n",
       "     start_free_trial_type       client_event_time       complete_sub_time  \n",
       "2233                     A 2022-02-10 10:23:58.557 2022-02-10 19:28:13.399  \n",
       "3913                     A 2022-03-16 14:30:44.609 2022-03-16 15:19:38.570  \n",
       "4480                     A 2022-03-20 17:19:55.144 2022-03-26 12:34:32.020  \n",
       "5295                     A 2022-02-08 10:43:40.683 2022-04-07 21:55:04.606  \n",
       "5496                     A 2022-04-12 03:21:34.578 2022-04-12 05:46:45.359  "
      ]
     },
     "execution_count": 41,
     "metadata": {},
     "output_type": "execute_result"
    }
   ],
   "source": [
    "# 5. 회원 가입 후 첫 결제가 무료 체험보다 먼저 발생한 유저\n",
    "\n",
    "# free_trial_complete(첫 결제제는 무료 체험 + 첫 결제 데이터를 단순히 merge 한 후 무료체험시작 시간과 첫 결제 완료 시간 순서를 고려하지 않은 merge\n",
    "# free_trial_yes는 free_trial_complete \n",
    "\n",
    "# 5-1. 무료 체험을 한 유저 중, 첫 결제 여부가 확인된 유저 (결제한 유저 + 결제하지 않은 유저)\n",
    "classified_users = pd.concat([free_trial_complete_yes[['user_id']], free_trial_complete_no[['user_id']]])\n",
    "\n",
    "# 5-2. 무료 체험을 한 전체 유저에서, 첫 결제 여부가 확인된 유저를 제외\n",
    "unclassified_users_df = free_trial_complete.merge(classified_users, on='user_id', how='left', indicator=True)\n",
    "\n",
    "# 5-3. 어디에도 속하지 않은 유저 찾기 (_merge 값이 'left_only'인 유저)\n",
    "unclassified_users_df = unclassified_users_df[unclassified_users_df['_merge'] == 'left_only'].drop(columns=['_merge'])\n",
    "unclassified_users_df1 = unclassified_users_df['user_id'].nunique()\n",
    "# 5-4. 결과 출력\n",
    "print(f'회원 가입 유저 중 첫 결제 후 무료 체험을 이용한 유저 수: {unclassified_users_df1}명')\n",
    "\n",
    "unclassified_users_df.head()"
   ]
  },
  {
   "cell_type": "code",
   "execution_count": 42,
   "metadata": {},
   "outputs": [
    {
     "name": "stderr",
     "output_type": "stream",
     "text": [
      "C:\\Users\\rmagm\\AppData\\Local\\Temp\\ipykernel_7984\\1259763548.py:14: UserWarning: The palette list has more values (11) than needed (2), which may not be intended.\n",
      "  sns.barplot(data=conversion_df, x=\"type\", y=\"conversion Rate(%)\", hue = 'type', palette= palette)\n"
     ]
    },
    {
     "data": {
      "image/png": "[encoded data removed]",
      "text/plain": [
       "<Figure size 700x600 with 1 Axes>"
      ]
     },
     "metadata": {},
     "output_type": "display_data"
    }
   ],
   "source": [
    "# TYPE A,B 전환율 시각화\n",
    "\n",
    "# A/B 타입의 전환율 데이터\n",
    "conversion_AB = {\n",
    "    \"type\": [\"A\", \"B\"],\n",
    "    \"conversion Rate(%)\": [A_conversation_rate, B_conversation_rate]  # 자동으로 가져오기\n",
    "}\n",
    "\n",
    "# 데이터프레임 생성\n",
    "conversion_df = pd.DataFrame(conversion_AB)\n",
    "\n",
    "# 시각화\n",
    "plt.figure(figsize=(7, 6))\n",
    "sns.barplot(data=conversion_df, x=\"type\", y=\"conversion Rate(%)\", hue = 'type', palette= palette)\n",
    "\n",
    "# 그래프 세부 설정\n",
    "plt.ylim(0, 55) \n",
    "plt.yticks(range(0, 55, 5))\n",
    "plt.ylabel(\"Conversion Rate (%)\")\n",
    "plt.xlabel(\"Trial Type\")\n",
    "plt.title(\"Comparison of First Payment Conversion Rates\")\n",
    "plt.grid(axis=\"y\", linestyle=\"--\", alpha=0.7)\n",
    "\n",
    "# 값 표시 (막대 중앙, 흰색, 굵게)\n",
    "for index, row in conversion_df.iterrows():\n",
    "    plt.text(index, row[\"conversion Rate(%)\"] / 2,  # 막대 중앙\n",
    "             f\"{row['conversion Rate(%)']:.2f}%\", \n",
    "             ha=\"center\", va=\"center\", fontsize=14, fontweight=\"bold\")\n",
    "plt.show()"
   ]
  },
  {
   "cell_type": "code",
   "execution_count": 43,
   "metadata": {},
   "outputs": [
    {
     "data": {
      "text/html": [
       "<div>\n",
       "<style scoped>\n",
       "    .dataframe tbody tr th:only-of-type {\n",
       "        vertical-align: middle;\n",
       "    }\n",
       "\n",
       "    .dataframe tbody tr th {\n",
       "        vertical-align: top;\n",
       "    }\n",
       "\n",
       "    .dataframe thead th {\n",
       "        text-align: right;\n",
       "    }\n",
       "</style>\n",
       "<table border=\"1\" class=\"dataframe\">\n",
       "  <thead>\n",
       "    <tr style=\"text-align: right;\">\n",
       "      <th></th>\n",
       "      <th>Month</th>\n",
       "      <th>start_free_trial_type</th>\n",
       "      <th>user_id</th>\n",
       "    </tr>\n",
       "  </thead>\n",
       "  <tbody>\n",
       "    <tr>\n",
       "      <th>0</th>\n",
       "      <td>2022-01</td>\n",
       "      <td>A</td>\n",
       "      <td>35</td>\n",
       "    </tr>\n",
       "    <tr>\n",
       "      <th>1</th>\n",
       "      <td>2022-02</td>\n",
       "      <td>A</td>\n",
       "      <td>199</td>\n",
       "    </tr>\n",
       "    <tr>\n",
       "      <th>2</th>\n",
       "      <td>2022-03</td>\n",
       "      <td>A</td>\n",
       "      <td>244</td>\n",
       "    </tr>\n",
       "    <tr>\n",
       "      <th>3</th>\n",
       "      <td>2022-04</td>\n",
       "      <td>A</td>\n",
       "      <td>264</td>\n",
       "    </tr>\n",
       "    <tr>\n",
       "      <th>4</th>\n",
       "      <td>2022-05</td>\n",
       "      <td>A</td>\n",
       "      <td>251</td>\n",
       "    </tr>\n",
       "    <tr>\n",
       "      <th>5</th>\n",
       "      <td>2022-06</td>\n",
       "      <td>A</td>\n",
       "      <td>269</td>\n",
       "    </tr>\n",
       "    <tr>\n",
       "      <th>6</th>\n",
       "      <td>2022-07</td>\n",
       "      <td>A</td>\n",
       "      <td>97</td>\n",
       "    </tr>\n",
       "    <tr>\n",
       "      <th>7</th>\n",
       "      <td>2022-08</td>\n",
       "      <td>A</td>\n",
       "      <td>160</td>\n",
       "    </tr>\n",
       "    <tr>\n",
       "      <th>8</th>\n",
       "      <td>2022-09</td>\n",
       "      <td>A</td>\n",
       "      <td>212</td>\n",
       "    </tr>\n",
       "    <tr>\n",
       "      <th>9</th>\n",
       "      <td>2022-10</td>\n",
       "      <td>A</td>\n",
       "      <td>166</td>\n",
       "    </tr>\n",
       "    <tr>\n",
       "      <th>10</th>\n",
       "      <td>2022-11</td>\n",
       "      <td>A</td>\n",
       "      <td>68</td>\n",
       "    </tr>\n",
       "    <tr>\n",
       "      <th>11</th>\n",
       "      <td>2023-02</td>\n",
       "      <td>B</td>\n",
       "      <td>185</td>\n",
       "    </tr>\n",
       "    <tr>\n",
       "      <th>12</th>\n",
       "      <td>2023-03</td>\n",
       "      <td>B</td>\n",
       "      <td>312</td>\n",
       "    </tr>\n",
       "    <tr>\n",
       "      <th>13</th>\n",
       "      <td>2023-04</td>\n",
       "      <td>B</td>\n",
       "      <td>336</td>\n",
       "    </tr>\n",
       "  </tbody>\n",
       "</table>\n",
       "</div>"
      ],
      "text/plain": [
       "      Month start_free_trial_type  user_id\n",
       "0   2022-01                     A       35\n",
       "1   2022-02                     A      199\n",
       "2   2022-03                     A      244\n",
       "3   2022-04                     A      264\n",
       "4   2022-05                     A      251\n",
       "5   2022-06                     A      269\n",
       "6   2022-07                     A       97\n",
       "7   2022-08                     A      160\n",
       "8   2022-09                     A      212\n",
       "9   2022-10                     A      166\n",
       "10  2022-11                     A       68\n",
       "11  2023-02                     B      185\n",
       "12  2023-03                     B      312\n",
       "13  2023-04                     B      336"
      ]
     },
     "metadata": {},
     "output_type": "display_data"
    }
   ],
   "source": [
    "#이 부분에서 astype(str)을 사용하는 이유는 start_free_trial_time이 Period 타입이기 때문\n",
    "#이를 문자열로 변환해야 Seaborn의 lineplot()이 제대로 작동\n",
    "\n",
    "# \n",
    "# A/B타입의 월별 무료 체험 후 첫 결제 완료 유저 수\n",
    "\n",
    "# A와 B 데이터를 하나의 데이터프레임으로 결합\n",
    "free_trial_complete_lineplot = pd.concat([free_trial_complete_A, free_trial_complete_B]).drop_duplicates()\n",
    "free_trial_complete_lineplot[\"Month\"] = free_trial_complete[\"start_free_trial_time\"].dt.to_period(\"M\").astype(str)\n",
    "\n",
    "# 타입별, 월별 첫 결제한 유저 수 집계\n",
    "monthly_free_trial_complete_counts = free_trial_complete_lineplot.groupby([\"Month\", \"start_free_trial_type\"])[\"user_id\"].nunique().reset_index()\n",
    "display(monthly_free_trial_complete_counts)"
   ]
  },
  {
   "cell_type": "code",
   "execution_count": 44,
   "metadata": {},
   "outputs": [
    {
     "name": "stderr",
     "output_type": "stream",
     "text": [
      "C:\\Users\\rmagm\\AppData\\Local\\Temp\\ipykernel_7984\\3696513049.py:3: UserWarning: The palette list has more values (11) than needed (2), which may not be intended.\n",
      "  ax = sns.lineplot(data=monthly_free_trial_complete_counts, x=\"Month\", y=\"user_id\",\n"
     ]
    },
    {
     "data": {
      "image/png": "[encoded data removed]",
      "text/plain": [
       "<Figure size 800x500 with 1 Axes>"
      ]
     },
     "metadata": {},
     "output_type": "display_data"
    }
   ],
   "source": [
    "# 시각화\n",
    "plt.figure(figsize=(8, 5))\n",
    "ax = sns.lineplot(data=monthly_free_trial_complete_counts, x=\"Month\", y=\"user_id\", \n",
    "                  hue=\"start_free_trial_type\", marker=\"o\", linewidth=2, palette=palette)\n",
    "\n",
    "# 값 표시 (각 포인트 위에 텍스트 추가)\n",
    "for line in ax.lines:  # 라인별로 처리\n",
    "    for x, y in zip(line.get_xdata(), line.get_ydata()):  # x, y 좌표 추출\n",
    "        plt.annotate(f\"{int(y)}\", (x, y), textcoords=\"offset points\", xytext=(0, 5), ha=\"center\", fontsize=10)\n",
    "\n",
    "# 그래프 설정\n",
    "plt.xticks(rotation=45)\n",
    "plt.xlabel(\"Month\")\n",
    "plt.ylabel(\"Number of Users Making First Payment After Free Trial\")\n",
    "plt.title(\"Changes in First Payment Users After Free Trial by Type & Month\")\n",
    "plt.legend(title=\"Type\")\n",
    "plt.grid(axis=\"y\", linestyle=\"--\", alpha=0.7)\n",
    "\n",
    "# Show plot\n",
    "plt.show()"
   ]
  },
  {
   "cell_type": "code",
   "execution_count": 45,
   "metadata": {},
   "outputs": [],
   "source": [
    "# 'Month' 컬럼 생성 (YYYY-MM 형식)\n",
    "\n",
    "signup_free_trial_A_plt = signup_free_trial_A.copy()\n",
    "signup_free_trial_B_plt = signup_free_trial_B.copy()\n",
    "\n",
    "signup_free_trial_A_plt[\"Month\"] = pd.to_datetime(signup_free_trial_A_plt[\"start_free_trial_time\"]).dt.to_period(\"M\").astype(str)\n",
    "signup_free_trial_B_plt[\"Month\"] = pd.to_datetime(signup_free_trial_B_plt[\"start_free_trial_time\"]).dt.to_period(\"M\").astype(str)\n",
    "\n",
    "\n",
    "# A/B 타입별 무료 체험한 유저 수 집계\n",
    "monthly_signup_free_trial_A = signup_free_trial_A_plt.groupby(\"Month\")[\"user_id\"].nunique().reset_index()\n",
    "monthly_signup_free_trial_B = signup_free_trial_B_plt.groupby(\"Month\")[\"user_id\"].nunique().reset_index()\n",
    "\n",
    "# 컬럼명 변경\n",
    "monthly_signup_free_trial_A.rename(columns={\"user_id\": \"complete_signup_trial_A\"}, inplace=True)\n",
    "monthly_signup_free_trial_B.rename(columns={\"user_id\": \"complete_signup_trial_B\"}, inplace=True)"
   ]
  },
  {
   "cell_type": "code",
   "execution_count": 46,
   "metadata": {},
   "outputs": [
    {
     "data": {
      "text/html": [
       "<div>\n",
       "<style scoped>\n",
       "    .dataframe tbody tr th:only-of-type {\n",
       "        vertical-align: middle;\n",
       "    }\n",
       "\n",
       "    .dataframe tbody tr th {\n",
       "        vertical-align: top;\n",
       "    }\n",
       "\n",
       "    .dataframe thead th {\n",
       "        text-align: right;\n",
       "    }\n",
       "</style>\n",
       "<table border=\"1\" class=\"dataframe\">\n",
       "  <thead>\n",
       "    <tr style=\"text-align: right;\">\n",
       "      <th></th>\n",
       "      <th>Month</th>\n",
       "      <th>start_free_trial_type</th>\n",
       "      <th>user_id</th>\n",
       "      <th>complete_signup_trial_A</th>\n",
       "      <th>complete_signup_trial_B</th>\n",
       "    </tr>\n",
       "  </thead>\n",
       "  <tbody>\n",
       "    <tr>\n",
       "      <th>0</th>\n",
       "      <td>2022-01</td>\n",
       "      <td>A</td>\n",
       "      <td>35</td>\n",
       "      <td>1833.0</td>\n",
       "      <td>0.0</td>\n",
       "    </tr>\n",
       "    <tr>\n",
       "      <th>1</th>\n",
       "      <td>2022-02</td>\n",
       "      <td>A</td>\n",
       "      <td>199</td>\n",
       "      <td>1263.0</td>\n",
       "      <td>0.0</td>\n",
       "    </tr>\n",
       "    <tr>\n",
       "      <th>2</th>\n",
       "      <td>2022-03</td>\n",
       "      <td>A</td>\n",
       "      <td>244</td>\n",
       "      <td>1755.0</td>\n",
       "      <td>0.0</td>\n",
       "    </tr>\n",
       "    <tr>\n",
       "      <th>3</th>\n",
       "      <td>2022-04</td>\n",
       "      <td>A</td>\n",
       "      <td>264</td>\n",
       "      <td>1676.0</td>\n",
       "      <td>0.0</td>\n",
       "    </tr>\n",
       "    <tr>\n",
       "      <th>4</th>\n",
       "      <td>2022-05</td>\n",
       "      <td>A</td>\n",
       "      <td>251</td>\n",
       "      <td>1878.0</td>\n",
       "      <td>0.0</td>\n",
       "    </tr>\n",
       "    <tr>\n",
       "      <th>5</th>\n",
       "      <td>2022-06</td>\n",
       "      <td>A</td>\n",
       "      <td>269</td>\n",
       "      <td>1958.0</td>\n",
       "      <td>0.0</td>\n",
       "    </tr>\n",
       "    <tr>\n",
       "      <th>6</th>\n",
       "      <td>2022-07</td>\n",
       "      <td>A</td>\n",
       "      <td>97</td>\n",
       "      <td>614.0</td>\n",
       "      <td>0.0</td>\n",
       "    </tr>\n",
       "    <tr>\n",
       "      <th>7</th>\n",
       "      <td>2022-08</td>\n",
       "      <td>A</td>\n",
       "      <td>160</td>\n",
       "      <td>265.0</td>\n",
       "      <td>0.0</td>\n",
       "    </tr>\n",
       "    <tr>\n",
       "      <th>8</th>\n",
       "      <td>2022-09</td>\n",
       "      <td>A</td>\n",
       "      <td>212</td>\n",
       "      <td>326.0</td>\n",
       "      <td>0.0</td>\n",
       "    </tr>\n",
       "    <tr>\n",
       "      <th>9</th>\n",
       "      <td>2022-10</td>\n",
       "      <td>A</td>\n",
       "      <td>166</td>\n",
       "      <td>293.0</td>\n",
       "      <td>0.0</td>\n",
       "    </tr>\n",
       "    <tr>\n",
       "      <th>10</th>\n",
       "      <td>2022-11</td>\n",
       "      <td>A</td>\n",
       "      <td>68</td>\n",
       "      <td>131.0</td>\n",
       "      <td>0.0</td>\n",
       "    </tr>\n",
       "    <tr>\n",
       "      <th>11</th>\n",
       "      <td>2023-02</td>\n",
       "      <td>B</td>\n",
       "      <td>185</td>\n",
       "      <td>0.0</td>\n",
       "      <td>782.0</td>\n",
       "    </tr>\n",
       "    <tr>\n",
       "      <th>12</th>\n",
       "      <td>2023-03</td>\n",
       "      <td>B</td>\n",
       "      <td>312</td>\n",
       "      <td>0.0</td>\n",
       "      <td>656.0</td>\n",
       "    </tr>\n",
       "    <tr>\n",
       "      <th>13</th>\n",
       "      <td>2023-04</td>\n",
       "      <td>B</td>\n",
       "      <td>336</td>\n",
       "      <td>0.0</td>\n",
       "      <td>665.0</td>\n",
       "    </tr>\n",
       "  </tbody>\n",
       "</table>\n",
       "</div>"
      ],
      "text/plain": [
       "      Month start_free_trial_type  user_id  complete_signup_trial_A  \\\n",
       "0   2022-01                     A       35                   1833.0   \n",
       "1   2022-02                     A      199                   1263.0   \n",
       "2   2022-03                     A      244                   1755.0   \n",
       "3   2022-04                     A      264                   1676.0   \n",
       "4   2022-05                     A      251                   1878.0   \n",
       "5   2022-06                     A      269                   1958.0   \n",
       "6   2022-07                     A       97                    614.0   \n",
       "7   2022-08                     A      160                    265.0   \n",
       "8   2022-09                     A      212                    326.0   \n",
       "9   2022-10                     A      166                    293.0   \n",
       "10  2022-11                     A       68                    131.0   \n",
       "11  2023-02                     B      185                      0.0   \n",
       "12  2023-03                     B      312                      0.0   \n",
       "13  2023-04                     B      336                      0.0   \n",
       "\n",
       "    complete_signup_trial_B  \n",
       "0                       0.0  \n",
       "1                       0.0  \n",
       "2                       0.0  \n",
       "3                       0.0  \n",
       "4                       0.0  \n",
       "5                       0.0  \n",
       "6                       0.0  \n",
       "7                       0.0  \n",
       "8                       0.0  \n",
       "9                       0.0  \n",
       "10                      0.0  \n",
       "11                    782.0  \n",
       "12                    656.0  \n",
       "13                    665.0  "
      ]
     },
     "execution_count": 46,
     "metadata": {},
     "output_type": "execute_result"
    }
   ],
   "source": [
    "# 기본 데이터 (월별 첫 결제 유저 수)\n",
    "merged_data = monthly_free_trial_complete_counts.copy()\n",
    "\n",
    "# 무료체험한 유저 수 (A/B) 추가\n",
    "merged_data = merged_data.merge(monthly_signup_free_trial_A, on=\"Month\", how=\"left\")\n",
    "merged_data = merged_data.merge(monthly_signup_free_trial_B, on=\"Month\", how=\"left\")\n",
    "\n",
    "# NaN 값은 0으로 대체\n",
    "merged_data.fillna(0, inplace=True)\n",
    "merged_data"
   ]
  },
  {
   "cell_type": "code",
   "execution_count": 47,
   "metadata": {},
   "outputs": [
    {
     "data": {
      "image/png": "[encoded data removed]",
      "text/plain": [
       "<Figure size 800x500 with 1 Axes>"
      ]
     },
     "metadata": {},
     "output_type": "display_data"
    }
   ],
   "source": [
    "plt.figure(figsize=(8, 5))\n",
    "\n",
    "# 막대그래프: A/B 타입별 무료 체험한 유저 수\n",
    "sns.barplot(data=merged_data, x=\"Month\", y=\"complete_signup_trial_A\", \n",
    "            color=\"lightblue\", alpha=0.6, label=\"Signup Free Trial - A\")\n",
    "\n",
    "sns.barplot(data=merged_data, x=\"Month\", y=\"complete_signup_trial_B\", \n",
    "            color=\"#9370db\", alpha=0.6, label=\"Signup Free Trial - B\")\n",
    "\n",
    "# 선 그래프: A/B 타입별 첫 결제한 유저 수\n",
    "ax = sns.lineplot(data=merged_data, x=\"Month\", y=\"user_id\", \n",
    "                  hue=\"start_free_trial_type\", marker=\"o\", linewidth=2, palette = { \"A\" : '#00008b', 'B' : \"#8b008b\" })\n",
    "\n",
    "# 값 표시 (각 포인트 위에 텍스트 추가)\n",
    "for line in ax.lines:  \n",
    "    for x, y in zip(line.get_xdata(), line.get_ydata()):\n",
    "        if not pd.isna(y):  # NaN 값 방지\n",
    "            plt.annotate(f\"{int(y)}\", (x, y), textcoords=\"offset points\", xytext=(0, 5), ha=\"center\", fontsize=10)\n",
    "\n",
    "# 그래프 설정\n",
    "plt.xticks(rotation=45)\n",
    "plt.xlabel(\"Month\")\n",
    "plt.ylabel(\"Number of Users\")\n",
    "plt.title(\"Comparison: Free Trial Users vs. First Payment Users\")\n",
    "plt.legend(title=\"Type\", loc=\"upper right\")\n",
    "plt.grid(axis=\"y\", linestyle=\"--\", alpha=0.7)\n",
    "\n",
    "# Show plot\n",
    "plt.show()\n"
   ]
  },
  {
   "cell_type": "code",
   "execution_count": 48,
   "metadata": {},
   "outputs": [
    {
     "data": {
      "image/png": "[encoded data removed]",
      "text/plain": [
       "<Figure size 1000x600 with 1 Axes>"
      ]
     },
     "metadata": {},
     "output_type": "display_data"
    }
   ],
   "source": [
    "import numpy as np\n",
    "import matplotlib.pyplot as plt\n",
    "import seaborn as sns\n",
    "import scipy.stats as stats\n",
    "\n",
    "# 60일 기준으로 결제 소요 시간 데이터 추출\n",
    "type_B_conversion_days_60 = free_complete_yes_60_B[\"day_to_conversion\"]\n",
    "type_A_conversion_days_60 = free_complete_yes_60_A[\"day_to_conversion\"]\n",
    "\n",
    "# 그래프 크기 설정\n",
    "plt.figure(figsize=(10, 6))\n",
    "\n",
    "# TYPE B 사용자 KDE 그래프\n",
    "sns.histplot(type_B_conversion_days_60, bins=50, kde=True, color=\"blue\", stat=\"density\", label=\"TYPE B user\", alpha=0.5)\n",
    "\n",
    "# TYPE A 사용자 KDE 그래프\n",
    "sns.histplot(type_A_conversion_days_60, bins=50, kde=True, color=\"green\", stat=\"density\", label=\"TYPE A user\", alpha=0.5)\n",
    "\n",
    "# TYPE B 정규 분포 곡선 추가\n",
    "mu_B, std_B = np.mean(type_B_conversion_days_60), np.std(type_B_conversion_days_60)\n",
    "x_B = np.linspace(min(type_B_conversion_days_60), max(type_B_conversion_days_60), 100)\n",
    "p_B = stats.norm.pdf(x_B, mu_B, std_B)\n",
    "plt.plot(x_B, p_B, 'b', linestyle=\"dashed\", linewidth=2, label=\"Normal Distribution (TYPE B)\")\n",
    "\n",
    "# TYPE A 정규 분포 곡선 추가\n",
    "mu_A, std_A = np.mean(type_A_conversion_days_60), np.std(type_A_conversion_days_60)\n",
    "x_A = np.linspace(min(type_A_conversion_days_60), max(type_A_conversion_days_60), 100)\n",
    "p_A = stats.norm.pdf(x_A, mu_A, std_A)\n",
    "plt.plot(x_A, p_A, 'g', linestyle=\"dashed\", linewidth=2, label=\"Normal Distribution (TYPE A)\")\n",
    "\n",
    "# 그래프 설정\n",
    "plt.xlabel(\"Days to Conversion\")\n",
    "plt.ylabel(\"Density\")\n",
    "plt.title(\"Comparison of Days to Conversion Distribution (TYPE A vs. TYPE B)\")\n",
    "plt.legend()\n",
    "plt.grid()\n",
    "\n",
    "# 그래프 출력\n",
    "plt.show()"
   ]
  },
  {
   "cell_type": "markdown",
   "metadata": {},
   "source": [
    "### <무료 체험 서비스의 효과성 통계 검정>"
   ]
  },
  {
   "cell_type": "markdown",
   "metadata": {},
   "source": [
    "- TYPE A : 2022년 01월 01일 ~ 2022년 11월 13일(약 11개월)     \n",
    "\n",
    "- TYPE B : 2023년 02월 01일 ~ 2023년 04얼 30일(약 3개월)\n",
    "\n",
    "문제점     \n",
    "\n",
    "- 같은 시기 비교 불가능\n",
    "- 샘플 크기 차이\n",
    "\n",
    "무료 체험 서비스 구독 퍼널 분석 목적\n",
    "- 무료 체험 서비스를 제공하는 목적은 사용자가 무료 체험 후 유료 구독으로 전환하도록 유도하는 것이다.    \n",
    "\n",
    "- 따라서, 무료 체험 퍼널 분석을 위해 세울 수 있는 적절한 가설은 무료 체험이 실제로 유료 구독으로 이어지는지 검증할 수 있어야 함\n",
    "\n",
    "가설 -> 무료체험 서비스 제공 기간으로 제한해서 분석 실시함    \n",
    "\n",
    "1. 무료 체험 서비스가 유료 전환에 미치는 영향    \n",
    "\n",
    "    - 귀무가설 : 무료 체험 서비스는 유료 구독 전환(첫 결제)에 영향을 주지 않는다.    \n",
    "\n",
    "    - 대립가설 : 무료 체험 서비스는 유료 구독 전환(첫 결제)에 영향을 준다.\n",
    "\n",
    "2. TYPE A와 TYPE B의 무료 체험 효과 비교 검정      \n",
    "\n",
    "    - 귀무가설 : TYPE A 와 TYPE B의 유료 전환율 차이는 없다.    \n",
    "\n",
    "    - 대립가설 : TYPE A 와 TYPE B의 유료 전환율 차이가 있다."
   ]
  },
  {
   "cell_type": "code",
   "execution_count": 71,
   "metadata": {},
   "outputs": [
    {
     "name": "stdout",
     "output_type": "stream",
     "text": [
      "회원가입 후 무료 체험 서비스 기간동안 무료 체험을 이용하지 않은 유저 수: 53645\n",
      "회원가입 후 무료 체험 서비스 기간동안 무료 체험을 이용하지 않은 유저 비율(%): 79.19%\n"
     ]
    }
   ],
   "source": [
    "# 회원 가입 후 무료 체험 서비스 기간동안 무료 체험 서비스 이용이 없었던 유저\n",
    "\n",
    "#1-2. 회원 가입 후 무료 체험 학습 서비스 제공 기간에 무료 체험 서비스를 이용하지 않은 유저 \n",
    "\n",
    "signup_no_trial = complete_signup_df[~complete_signup_df['user_id'].isin(complete_signup_trial['user_id'])]\n",
    "\n",
    "signup_no_trial = signup_no_trial[\n",
    "    (\n",
    "        ((signup_no_trial[\"client_event_time\"] >= A_start) & (signup_no_trial[\"client_event_time\"] <= A_end)) | \n",
    "        ((signup_no_trial[\"client_event_time\"] >= B_start) & (signup_no_trial[\"client_event_time\"] <= B_end))\n",
    "    )\n",
    "]\n",
    "total_signup_no_trial = signup_no_trial['user_id'].nunique()\n",
    "\n",
    "#1-3. 회원 가입 후 무료 체험 서비스 이용 없는 유저 비율 계산\n",
    "signup_no_trial_rate = (total_signup_no_trial / total_signup) * 100\n",
    "\n",
    "print(\"회원가입 후 무료 체험 서비스 기간동안 무료 체험을 이용하지 않은 유저 수:\", total_signup_no_trial)\n",
    "print(f\"회원가입 후 무료 체험 서비스 기간동안 무료 체험을 이용하지 않은 유저 비율(%): {signup_no_trial_rate:.2f}%\")"
   ]
  },
  {
   "cell_type": "code",
   "execution_count": 74,
   "metadata": {},
   "outputs": [],
   "source": [
    "\n",
    "signup_no_trial = signup_no_trial[['user_id', 'client_event_time']]\n",
    "\n",
    "\n",
    "signup_no_trial.to_csv(\"signup_no_trial.csv\", index=False)"
   ]
  },
  {
   "cell_type": "code",
   "execution_count": 52,
   "metadata": {},
   "outputs": [
    {
     "name": "stdout",
     "output_type": "stream",
     "text": [
      "회원가입 후 무료 체험 서비스 없이 첫 결제 유저 수: 2498\n",
      "회원가입 후 무료 체험 서비스 없이 첫 결제 전환율(%): 4.66%\n"
     ]
    }
   ],
   "source": [
    "# 회원 가입 후 무료 체험 서비스를 이용하지 않은 유저들 중 첫 결제를 한 유저\n",
    "\n",
    "# 2-1. 중복 결제 내역 제거한 첫 결제 완료 데이터\n",
    "complete_subscription_final \n",
    "\n",
    "# 2-2. 무료 체험 하지 않은 유저와 첫 결제 완료 데이터 merge\n",
    "signup_no_trial_complete = signup_no_trial.merge(complete_subscription_final, on='user_id', how='inner')\n",
    "\n",
    "#2-3. 무료 체험 하지 않은 유저의 첫 결제 완료 전환율\n",
    "signup_no_trial_complete_count = signup_no_trial_complete['user_id'].nunique()\n",
    "signup_no_trial_complete_rate = (signup_no_trial_complete_count / total_signup_no_trial) * 100\n",
    "\n",
    "print(\"회원가입 후 무료 체험 서비스 없이 첫 결제 유저 수:\", signup_no_trial_complete_count)\n",
    "print(f\"회원가입 후 무료 체험 서비스 없이 첫 결제 전환율(%): {signup_no_trial_complete_rate:.2f}%\")"
   ]
  },
  {
   "cell_type": "code",
   "execution_count": null,
   "metadata": {},
   "outputs": [
    {
     "data": {
      "text/html": [
       "<div>\n",
       "<style scoped>\n",
       "    .dataframe tbody tr th:only-of-type {\n",
       "        vertical-align: middle;\n",
       "    }\n",
       "\n",
       "    .dataframe tbody tr th {\n",
       "        vertical-align: top;\n",
       "    }\n",
       "\n",
       "    .dataframe thead th {\n",
       "        text-align: right;\n",
       "    }\n",
       "</style>\n",
       "<table border=\"1\" class=\"dataframe\">\n",
       "  <thead>\n",
       "    <tr style=\"text-align: right;\">\n",
       "      <th></th>\n",
       "      <th>user_id</th>\n",
       "      <th>client_event_time</th>\n",
       "    </tr>\n",
       "  </thead>\n",
       "  <tbody>\n",
       "    <tr>\n",
       "      <th>0</th>\n",
       "      <td>0672f9bd971a7a5a9d6f12fb04032741</td>\n",
       "      <td>2023-04-12 20:01:27.933</td>\n",
       "    </tr>\n",
       "    <tr>\n",
       "      <th>1</th>\n",
       "      <td>b0237ee1c8fa0aaf7408a0d95729131b</td>\n",
       "      <td>2023-02-28 16:19:42.476</td>\n",
       "    </tr>\n",
       "    <tr>\n",
       "      <th>2</th>\n",
       "      <td>c3c8bea6c65f27406a59486a01f8aa8f</td>\n",
       "      <td>2023-04-01 18:11:49.111</td>\n",
       "    </tr>\n",
       "    <tr>\n",
       "      <th>3</th>\n",
       "      <td>5a1ea3299fa7937e0a42729634ae868d</td>\n",
       "      <td>2023-03-31 16:38:13.810</td>\n",
       "    </tr>\n",
       "    <tr>\n",
       "      <th>4</th>\n",
       "      <td>6a358e9bea934a6aa4ea7c65044dcc6d</td>\n",
       "      <td>2023-04-08 13:37:08.554</td>\n",
       "    </tr>\n",
       "    <tr>\n",
       "      <th>...</th>\n",
       "      <td>...</td>\n",
       "      <td>...</td>\n",
       "    </tr>\n",
       "    <tr>\n",
       "      <th>2493</th>\n",
       "      <td>495759f26aa5e12fa90cd6a4383c0d46</td>\n",
       "      <td>2022-07-03 14:36:09.117</td>\n",
       "    </tr>\n",
       "    <tr>\n",
       "      <th>2494</th>\n",
       "      <td>e22ccdca50131ef72ad8cacdc0777ab4</td>\n",
       "      <td>2022-03-17 21:04:33.469</td>\n",
       "    </tr>\n",
       "    <tr>\n",
       "      <th>2495</th>\n",
       "      <td>6e9d9ed563894d96df09de8280da8210</td>\n",
       "      <td>2022-06-15 04:42:40.156</td>\n",
       "    </tr>\n",
       "    <tr>\n",
       "      <th>2496</th>\n",
       "      <td>0064f793ccea4477452a751c3fe51ecf</td>\n",
       "      <td>2022-09-06 17:54:13.377</td>\n",
       "    </tr>\n",
       "    <tr>\n",
       "      <th>2497</th>\n",
       "      <td>e2ecaf752ad1367706b8e5f7f04d348b</td>\n",
       "      <td>2022-02-03 00:25:21.788</td>\n",
       "    </tr>\n",
       "  </tbody>\n",
       "</table>\n",
       "<p>2498 rows × 2 columns</p>\n",
       "</div>"
      ],
      "text/plain": [
       "                               user_id       client_event_time\n",
       "0     0672f9bd971a7a5a9d6f12fb04032741 2023-04-12 20:01:27.933\n",
       "1     b0237ee1c8fa0aaf7408a0d95729131b 2023-02-28 16:19:42.476\n",
       "2     c3c8bea6c65f27406a59486a01f8aa8f 2023-04-01 18:11:49.111\n",
       "3     5a1ea3299fa7937e0a42729634ae868d 2023-03-31 16:38:13.810\n",
       "4     6a358e9bea934a6aa4ea7c65044dcc6d 2023-04-08 13:37:08.554\n",
       "...                                ...                     ...\n",
       "2493  495759f26aa5e12fa90cd6a4383c0d46 2022-07-03 14:36:09.117\n",
       "2494  e22ccdca50131ef72ad8cacdc0777ab4 2022-03-17 21:04:33.469\n",
       "2495  6e9d9ed563894d96df09de8280da8210 2022-06-15 04:42:40.156\n",
       "2496  0064f793ccea4477452a751c3fe51ecf 2022-09-06 17:54:13.377\n",
       "2497  e2ecaf752ad1367706b8e5f7f04d348b 2022-02-03 00:25:21.788\n",
       "\n",
       "[2498 rows x 2 columns]"
      ]
     },
     "execution_count": 70,
     "metadata": {},
     "output_type": "execute_result"
    }
   ],
   "source": [
    "# 회원가입 후 무료 체험 서비스 없이 첫 결제 유저 수\n",
    "signup_no_trial_complete = signup_no_trial_complete[['user_id', 'client_event_time']]\n",
    "signup_no_trial_complete"
   ]
  },
  {
   "cell_type": "code",
   "execution_count": 53,
   "metadata": {},
   "outputs": [
    {
     "name": "stdout",
     "output_type": "stream",
     "text": [
      "회원가입 후 무료 체험 서비스 없이 첫 결제를 하지 않은 유저 수: 51147\n",
      "회원가입 후 무료 체험 서비스 없이 첫 결제를 하지 않은 유저 비율(%): 95.34%\n"
     ]
    }
   ],
   "source": [
    "# 회원 가입 후 무료 체험 서비스를 이용하지 않은 유저들 중 첫 결제를 하지 않은 유저\n",
    "3-1. \n",
    "signup_no_trial_no_complete = signup_no_trial[~signup_no_trial['user_id'].isin(signup_no_trial_complete['user_id'])]\n",
    "\n",
    "# 3-2. 유저 수\n",
    "signup_no_trial_no_complete_users = signup_no_trial_no_complete['user_id'].nunique()\n",
    "\n",
    "# 3-3. 비율 계산\n",
    "signup_no_trial_no_complete_rate = (signup_no_trial_no_complete_users / total_signup_no_trial) * 100\n",
    "\n",
    "print(\"회원가입 후 무료 체험 서비스 없이 첫 결제를 하지 않은 유저 수:\", signup_no_trial_no_complete_users)\n",
    "print(f\"회원가입 후 무료 체험 서비스 없이 첫 결제를 하지 않은 유저 비율(%): {signup_no_trial_no_complete_rate:.2f}%\")\n"
   ]
  },
  {
   "cell_type": "code",
   "execution_count": null,
   "metadata": {},
   "outputs": [
    {
     "data": {
      "text/html": [
       "<div>\n",
       "<style scoped>\n",
       "    .dataframe tbody tr th:only-of-type {\n",
       "        vertical-align: middle;\n",
       "    }\n",
       "\n",
       "    .dataframe tbody tr th {\n",
       "        vertical-align: top;\n",
       "    }\n",
       "\n",
       "    .dataframe thead th {\n",
       "        text-align: right;\n",
       "    }\n",
       "</style>\n",
       "<table border=\"1\" class=\"dataframe\">\n",
       "  <thead>\n",
       "    <tr style=\"text-align: right;\">\n",
       "      <th></th>\n",
       "      <th>user_id</th>\n",
       "      <th>client_event_time</th>\n",
       "    </tr>\n",
       "  </thead>\n",
       "  <tbody>\n",
       "    <tr>\n",
       "      <th>0</th>\n",
       "      <td>74d17c27a41656e7788b0c81d9f76cda</td>\n",
       "      <td>2023-04-06 06:33:26.068</td>\n",
       "    </tr>\n",
       "    <tr>\n",
       "      <th>2</th>\n",
       "      <td>e131c319972bd580146c5a2faba26613</td>\n",
       "      <td>2023-04-10 23:47:56.424</td>\n",
       "    </tr>\n",
       "    <tr>\n",
       "      <th>3</th>\n",
       "      <td>e3b8bfa80d866f296aad139e09023ef3</td>\n",
       "      <td>2023-04-10 23:25:45.920</td>\n",
       "    </tr>\n",
       "    <tr>\n",
       "      <th>4</th>\n",
       "      <td>5208a60918f18562ac9d668a35b20303</td>\n",
       "      <td>2023-04-10 23:09:50.698</td>\n",
       "    </tr>\n",
       "    <tr>\n",
       "      <th>5</th>\n",
       "      <td>b90215a242d2b564d8be13193e6aa09e</td>\n",
       "      <td>2023-04-10 23:17:20.457</td>\n",
       "    </tr>\n",
       "    <tr>\n",
       "      <th>...</th>\n",
       "      <td>...</td>\n",
       "      <td>...</td>\n",
       "    </tr>\n",
       "    <tr>\n",
       "      <th>100604</th>\n",
       "      <td>12934029ae3e8583b87f12c6d23f2cb2</td>\n",
       "      <td>2022-02-21 13:01:19.124</td>\n",
       "    </tr>\n",
       "    <tr>\n",
       "      <th>100605</th>\n",
       "      <td>35e43d2cb535da7dd12d387a73313463</td>\n",
       "      <td>2022-02-21 13:11:11.495</td>\n",
       "    </tr>\n",
       "    <tr>\n",
       "      <th>100607</th>\n",
       "      <td>be44c3a5f6dd287055ae5f861750b60c</td>\n",
       "      <td>2022-02-21 13:04:41.740</td>\n",
       "    </tr>\n",
       "    <tr>\n",
       "      <th>100608</th>\n",
       "      <td>0e692d82ce4db230594bd6cbdd876355</td>\n",
       "      <td>2022-02-21 13:28:33.871</td>\n",
       "    </tr>\n",
       "    <tr>\n",
       "      <th>100609</th>\n",
       "      <td>bd3f97ecf227fb1e87e40e698bfae307</td>\n",
       "      <td>2022-02-21 13:33:18.742</td>\n",
       "    </tr>\n",
       "  </tbody>\n",
       "</table>\n",
       "<p>51147 rows × 2 columns</p>\n",
       "</div>"
      ],
      "text/plain": [
       "                                 user_id       client_event_time\n",
       "0       74d17c27a41656e7788b0c81d9f76cda 2023-04-06 06:33:26.068\n",
       "2       e131c319972bd580146c5a2faba26613 2023-04-10 23:47:56.424\n",
       "3       e3b8bfa80d866f296aad139e09023ef3 2023-04-10 23:25:45.920\n",
       "4       5208a60918f18562ac9d668a35b20303 2023-04-10 23:09:50.698\n",
       "5       b90215a242d2b564d8be13193e6aa09e 2023-04-10 23:17:20.457\n",
       "...                                  ...                     ...\n",
       "100604  12934029ae3e8583b87f12c6d23f2cb2 2022-02-21 13:01:19.124\n",
       "100605  35e43d2cb535da7dd12d387a73313463 2022-02-21 13:11:11.495\n",
       "100607  be44c3a5f6dd287055ae5f861750b60c 2022-02-21 13:04:41.740\n",
       "100608  0e692d82ce4db230594bd6cbdd876355 2022-02-21 13:28:33.871\n",
       "100609  bd3f97ecf227fb1e87e40e698bfae307 2022-02-21 13:33:18.742\n",
       "\n",
       "[51147 rows x 2 columns]"
      ]
     },
     "execution_count": 66,
     "metadata": {},
     "output_type": "execute_result"
    }
   ],
   "source": [
    "# 회우가입 후 무료 체험 서비스 없이 첫 결제를 하지 않은 유저 수수\n",
    "signup_no_trial_no_complete = signup_no_trial_no_complete[['user_id', 'client_event_time']]\n",
    "signup_no_trial_no_complete"
   ]
  },
  {
   "cell_type": "markdown",
   "metadata": {},
   "source": [
    "### 1-1. 카이제곱 검정(chi-square test) -> 상관성 분석\n",
    "- 무료 체험을 한 그룹과 무료 체험을 하지 않은 그룹의 유의미한 차이를 알아보고자 함\n",
    "\n",
    "- 두 개의 그룹(무료 체험 유저 vs 무료 체험 미이용 유저)의 비율(첫 결제 전환율)을 비교\n",
    "\n",
    "    <무료 체험 서비스가 유료 전환에 미치는 영향>    \n",
    "\n",
    "    - 귀무가설 : 무료 체험 서비스는 유료 구독 전환(첫 결제)에 영향을 주지 않는다.    \n",
    "\n",
    "    - 대립가설 : 무료 체험 서비스는 유료 구독 전환(첫 결제)에 영향을 준다.\n",
    "\n",
    "\n",
    "- 표본 크기 \n",
    "    - 무료 체험O, 첫 결제O : 3147명, 전환율 : 22.05% / 무료 체험O, 첫결제X 유저 : 11110명, 비율 : 77.83%     \n",
    "\n",
    "    - 무료 체험 X, 첫 결제O : 5425명, 전환율 : 7.26%  / 무료 체험 X, 첫 결제X 유저 :69264, 비율 : 92.74% "
   ]
  },
  {
   "cell_type": "code",
   "execution_count": 79,
   "metadata": {},
   "outputs": [
    {
     "name": "stdout",
     "output_type": "stream",
     "text": [
      "<실제 관측값>\n",
      "[[2798, 11036], [2498, 51147]]\n",
      "----------------------------------------------------------------------\n",
      "<기대 빈도 테이블>\n",
      "무료 체험 O: 1085.74 (첫 결제 O), 12748.26 (첫 결제 X)\n",
      "무료 체험 X: 4210.26 (첫 결제 O), 49434.74 (첫 결제 X)\n",
      "----------------------------------------------------------------------\n",
      "Chi-Square Test 결과:\n",
      "카이제곱 통계량: 3683.7774\n",
      "p-value: 0.000000\n",
      "크래머의 V: 0.2336\n",
      "----------------------------------------------------------------------\n",
      "무료 체험 서비스가 유료 전환(첫 결제)에 유의미한 영향을 준다 (귀무가설 기각)\n",
      "----------------------------------------------------------------------\n",
      "무료 체험과 첫 결제 간 약한 연관성 있음\n"
     ]
    }
   ],
   "source": [
    "from scipy.stats import chi2_contingency\n",
    "\n",
    "# 카이제곱 검정 데이터 테이블 \n",
    "chi_conversion_table = [\n",
    "    [df_60day_merged_users, free_trial_complete_no_users],  # 무료 체험 이용_첫결제 / 무료 체험 이용_첫결제X\n",
    "    [signup_no_trial_complete_count, signup_no_trial_no_complete_users]  # 무료 체험 미이용_첫결제 / 무료 체험 미이용_첫결제X\n",
    "]\n",
    "#free_trial_complete_yes_users\n",
    "print(\"<실제 관측값>\")\n",
    "print(chi_conversion_table)\n",
    "print('-' * 70)\n",
    "\n",
    "# 카이제곱 검정(기대 빈도 자동 수행)\n",
    "chi2, p, dof, expected_freq_auto = chi2_contingency(chi_conversion_table)\n",
    "\n",
    "# 기대 빈도 결과\n",
    "print(\"<기대 빈도 테이블>\")\n",
    "for i, row in enumerate(expected_freq_auto):\n",
    "    group_name = \"무료 체험 O\" if i == 0 else \"무료 체험 X\"\n",
    "    print(f\"{group_name}: {row[0]:.2f} (첫 결제 O), {row[1]:.2f} (첫 결제 X)\")\n",
    "\n",
    "print('-' * 70)\n",
    "\n",
    "# 크래머의 V 계산\n",
    "n = np.sum(chi_conversion_table)  # 전체 샘플 수\n",
    "min_dim = min(len(chi_conversion_table), len(chi_conversion_table[0])) - 1  # 최소 행/열 차원 계산\n",
    "cramers_v = np.sqrt(chi2 / (n * min_dim))\n",
    "\n",
    "\n",
    "print(f\"Chi-Square Test 결과:\")\n",
    "print(f\"카이제곱 통계량: {chi2:.4f}\")\n",
    "print(f\"p-value: {p:.6f}\")\n",
    "print(f\"크래머의 V: {cramers_v:.4f}\")\n",
    "\n",
    "print('-' * 70)\n",
    "\n",
    "\n",
    "# 유의수준 0.05에서 귀무가설 기각 여부 판단\n",
    "if p < 0.05:\n",
    "    print(\"무료 체험 서비스가 유료 전환(첫 결제)에 유의미한 영향을 준다 (귀무가설 기각)\")\n",
    "else:\n",
    "    print(\"무료 체험 서비스가 유료 전환(첫 결제)에 유의미한 영향을 주지 않는다 (귀무가설 채택)\")\n",
    "\n",
    "print('-' * 70)\n",
    "\n",
    "\n",
    "# 크래머의 V 해석\n",
    "if cramers_v < 0.1:\n",
    "    print(\"무료 체험과 첫 결제의 연관성이 매우 약함 (실제 차이가 거의 없을 가능성 있음)\")\n",
    "elif 0.1 <= cramers_v < 0.3:\n",
    "    print(\"무료 체험과 첫 결제 간 약한 연관성 있음\")\n",
    "elif 0.3 <= cramers_v < 0.5:\n",
    "    print(\"무료 체험과 첫 결제 간 중간 정도 연관성 있음\")\n",
    "else:\n",
    "    print(\"무료 체험과 첫 결제 간 강한 연관성 있음\")\n"
   ]
  },
  {
   "cell_type": "markdown",
   "metadata": {},
   "source": [
    "- 기대 빈도 해석\n",
    "    - 무료 체험 O 그룹\n",
    "        - 기대값(첫 결제 O): 1374.80 → 실제 결제한 유저: 3147명\n",
    "        - 기대값(첫 결제 X): 12882.20 → 실제 결제하지 않은 유저: 11110명    \n",
    "\n",
    "        예상보다 첫 결제 전환율이 높음 → 무료 체험이 첫 결제에 긍정적인 영향 가능성!   \n",
    "\n",
    "    - 무료 체험 X 그룹    \n",
    "        - 기대값(첫 결제 O): 7197.20 → 실제 결제한 유저: 5425명\n",
    "        - 기대값(첫 결제 X): 67591.80 → 실제 결제하지 않은 유저: 69264명     \n",
    "\n",
    "        예상보다 첫 결제 전환율이 낮음 → 무료 체험을 하지 않은 그룹에서 첫 결제율이 낮은 경향.\n",
    "\n",
    "\n",
    "- 크래머 v : 카이제곱 검정에서 그룹 간 관계 강도 측정(0 ~ 1 사이 값)    \n",
    "    - 0.1 ~ 0.3은 약한 연관성\n",
    "    - 무료 체험과 첫 결제 전환 간의 관계는 있지만, 강한 관계는 아님\n",
    "        - 무료 체험을 경험한 유저 중 77.83%가 첫 결제로 이어지지 않음\n",
    "        - 무료 체험을 하지 않은 유저 중에서도 일정 비율이 첫 결제를 진행함    \n",
    "        - 즉, 무료 체험이 첫 결제에 영향을 미치지만 결정적인 요소는 아닐 수도 있음   \n",
    "\n",
    "결론 : 추가 분석을 통해(ex. 어떤 요인으로 결제했는지 등등등) -> but 이젠 시간 없음 -> 여기까지만 하겠음\n"
   ]
  },
  {
   "cell_type": "code",
   "execution_count": 80,
   "metadata": {},
   "outputs": [
    {
     "data": {
      "image/png": "[encoded data removed]",
      "text/plain": [
       "<Figure size 600x500 with 2 Axes>"
      ]
     },
     "metadata": {},
     "output_type": "display_data"
    }
   ],
   "source": [
    "# 크래머의 V 행렬 생성\n",
    "cramers_v_matrix = np.array([[1, cramers_v], [cramers_v, 1]])  # 자기 자신과의 연관성은 1\n",
    "\n",
    "# 히트맵 생성\n",
    "plt.figure(figsize=(6, 5))\n",
    "sns.heatmap(cramers_v_matrix, annot=True, fmt=\".2f\", cmap= palette, xticklabels=[\"Trial\", \"First Payment\"], yticklabels=[\"Trial\", \"First Payment\"])\n",
    "plt.title(\"Cramér's V Heatmap: Free Trial & First Payment\")\n",
    "plt.show()"
   ]
  },
  {
   "cell_type": "markdown",
   "metadata": {},
   "source": [
    "### 1-2. Z-검정(비율 비교 검정) \n",
    "    -> 무료 체험과 첫 결제 간 상관성이 있다 그렇다면 전환율 차이가 통계적으로 유의한가?\n",
    "\n",
    "<무료 체험 서비스가 유료 전환에 미치는 영향>\n",
    "- 귀무가설 : 무료 체험 그룹과 비무료 체험 그룹의 전환율 차이는 없다.\n",
    "\n",
    "- 대립가설 : 무료 체험 그룹과 비무료 체험 그룹의 전환율 차이는 없다."
   ]
  },
  {
   "cell_type": "code",
   "execution_count": 86,
   "metadata": {},
   "outputs": [
    {
     "name": "stdout",
     "output_type": "stream",
     "text": [
      "=== Z-검정 결과 ===\n",
      "Z-통계량: 65.2549\n",
      "P-value: 0.000000\n",
      "무료 체험 그룹과 비무료 체험 그룹의 첫 결제 전환율 차이가 통계적으로 유의하다 (귀무가설 기각)\n"
     ]
    }
   ],
   "source": [
    "from statsmodels.stats.proportion import proportions_ztest\n",
    "\n",
    "#  미리 계산된 전환율 & 표본 크기\n",
    "p1 = df_60day_merged_users_rate / 100  # 무료 체험 그룹 전환율 (퍼센트를 소수점으로 변환)\n",
    "n1 = total_trial_users  # 무료 체험 유저 수\n",
    "\n",
    "p2 = signup_no_trial_complete_rate / 100  # 비무료 체험 그룹 전환율 (퍼센트를 소수점으로 변환)\n",
    "n2 = total_signup_no_trial  # 무료 체험 미이용 유저 수\n",
    "\n",
    "# 두 그룹의 성공 횟수 (첫 결제 유저 수) 설정\n",
    "success_counts = [free_trial_complete_yes_users, signup_no_trial_complete_count]\n",
    "sample_sizes = [n1, n2]\n",
    "\n",
    "# Z-검정 수행\n",
    "z_stat, p_value = proportions_ztest(success_counts, sample_sizes)\n",
    "\n",
    "#  Z-검정 결과 출력\n",
    "print(\"=== Z-검정 결과 ===\")\n",
    "print(f\"Z-통계량: {z_stat:.4f}\")\n",
    "print(f\"P-value: {p_value:.6f}\")\n",
    "\n",
    "# 유의수준 0.05에서 검정 결과 해석\n",
    "if p_value < 0.05:\n",
    "    print(\"무료 체험 그룹과 비무료 체험 그룹의 첫 결제 전환율 차이가 통계적으로 유의하다 (귀무가설 기각)\")\n",
    "else:\n",
    "    print(\"무료 체험 그룹과 비무료 체험 그룹의 첫 결제 전환율 차이가 통계적으로 유의하지 않다 (귀무가설 채택)\")\n"
   ]
  },
  {
   "cell_type": "code",
   "execution_count": 89,
   "metadata": {},
   "outputs": [
    {
     "name": "stdout",
     "output_type": "stream",
     "text": [
      "=== Z-검정 결과 ===\n",
      "Z-통계량: 65.2549\n",
      "P-value: 0.000000\n",
      "무료 체험 그룹과 비무료 체험 그룹의 첫 결제 전환율 차이가 통계적으로 유의하다 (귀무가설 기각)\n",
      "\n",
      "=== 효과 크기 (Cohen’s h) ===\n",
      "Cohen’s h 값: 0.4886\n",
      "➡️ 효과 크기가 작음 (전환율 차이가 있지만 큰 차이는 아님)\n"
     ]
    }
   ],
   "source": [
    "import numpy as np\n",
    "from statsmodels.stats.proportion import proportions_ztest\n",
    "# 미리 계산된 전환율 & 표본 크기\n",
    "p1 = df_60day_merged_users_rate / 100  # 무료 체험 그룹 전환율\n",
    "n1 = total_trial_users  # 무료 체험 유저 수\n",
    "\n",
    "p2 = signup_no_trial_complete_rate / 100  # 비무료 체험 그룹 전환율\n",
    "n2 = total_signup_no_trial  # 무료 체험 미이용 유저 수\n",
    "\n",
    "# 두 그룹의 성공 횟수 (첫 결제 유저 수) 설정\n",
    "success_counts = [free_trial_complete_yes_users, signup_no_trial_complete_count]\n",
    "sample_sizes = [n1, n2]\n",
    "\n",
    "# Z-검정 수행\n",
    "z_stat, p_value = proportions_ztest(success_counts, sample_sizes)\n",
    "\n",
    "# 효과 크기 (Cohen’s h) 계산\n",
    "cohen_h = 2 * (np.arcsin(np.sqrt(p1)) - np.arcsin(np.sqrt(p2)))\n",
    "\n",
    "# 결과 출력\n",
    "print(\"=== Z-검정 결과 ===\")\n",
    "print(f\"Z-통계량: {z_stat:.4f}\")\n",
    "print(f\"P-value: {p_value:.6f}\")\n",
    "\n",
    "# Z-검정 결과 해석\n",
    "if p_value < 0.05:\n",
    "    print(\"무료 체험 그룹과 비무료 체험 그룹의 첫 결제 전환율 차이가 통계적으로 유의하다 (귀무가설 기각)\")\n",
    "else:\n",
    "    print(\"무료 체험 그룹과 비무료 체험 그룹의 첫 결제 전환율 차이가 통계적으로 유의하지 않다 (귀무가설 채택)\")\n",
    "\n",
    "# 효과 크기 결과 해석\n",
    "print(\"\\n=== 효과 크기 (Cohen’s h) ===\")\n",
    "print(f\"Cohen’s h 값: {cohen_h:.4f}\")\n",
    "\n",
    "# 효과 크기 해석 추가\n",
    "if cohen_h < 0.2:\n",
    "    print(\"➡️ 효과 크기가 매우 작음 (전환율 차이가 실질적으로 의미 있는 차이가 아닐 수 있음)\")\n",
    "elif cohen_h < 0.5:\n",
    "    print(\"➡️ 효과 크기가 작음 (전환율 차이가 있지만 큰 차이는 아님)\")\n",
    "elif cohen_h < 0.8:\n",
    "    print(\"➡️ 효과 크기가 중간 정도 (전환율 차이가 실제로도 의미 있음)\")\n",
    "else:\n",
    "    print(\"➡️ 효과 크기가 큼 (전환율 차이가 매우 크며 실질적으로도 큰 차이)\")\n",
    "\n"
   ]
  },
  {
   "cell_type": "markdown",
   "metadata": {},
   "source": [
    "<Z-검정 결과>    \n",
    "\n",
    "- 무료 체험을 경험한 유저 그룹과 무료 체험을 하지 않은 유저 그룹의 첫 결제 전환율 차이가 통계적으로 유의미하게 나타남\n",
    "- 무료 체험을 하면 첫 결제로 이어질 확률이 높아짐을 의미\n",
    "\n",
    "<최종 결론>    \n",
    "- 무료 체험 서비스는 유료 전환(첫 결제)에 긍정적인 영향을 미친다    \n",
    "\n",
    "- BUT 긍정적인 영향력이 강하지 않으며, 대다수의 유저는 첫 결제로 이어지지 않는다.    \n",
    "\n",
    "- 따라서, 무료 체험 후 첫 결제까지의 유저 여정을 최적화할 필요가 있으며,    \n",
    "\n",
    "- 이탈 유저에 대한 추가 분석이 필요함 -> 시간이 부족함....."
   ]
  },
  {
   "cell_type": "code",
   "execution_count": 87,
   "metadata": {},
   "outputs": [
    {
     "data": {
      "image/png": "[encoded data removed]",
      "text/plain": [
       "<Figure size 800x500 with 1 Axes>"
      ]
     },
     "metadata": {},
     "output_type": "display_data"
    }
   ],
   "source": [
    "import numpy as np\n",
    "import matplotlib.pyplot as plt\n",
    "import scipy.stats as stats\n",
    "\n",
    "# 전환율 계산\n",
    "conversion_rates = [p1, p2]  # 무료 체험 그룹과 비무료 체험 그룹의 전환율\n",
    "labels = [\"Free Trial\", \"No Free Trial\"]\n",
    "errors = [np.sqrt((p1 * (1 - p1)) / n1), np.sqrt((p2 * (1 - p2)) / n2)]  # 신뢰구간(표준오차 계산)\n",
    "\n",
    "# 막대 그래프 그리기\n",
    "plt.figure(figsize=(8, 5))\n",
    "plt.bar(labels, conversion_rates, yerr=errors, capsize=5, color= palette, alpha=0.7)\n",
    "plt.ylabel(\"Conversion Rate (First Payment)\")\n",
    "plt.title(\"Comparison of Conversion Rates: Free Trial vs. No Free Trial\")\n",
    "plt.ylim(0, max(conversion_rates) + 0.05)\n",
    "\n",
    "# 데이터 라벨 추가\n",
    "for i, rate in enumerate(conversion_rates):\n",
    "    plt.text(i, rate + 0.01, f\"{rate:.2%}\", ha='center', fontsize=12)\n",
    "\n",
    "plt.grid(axis=\"y\", linestyle=\"--\", alpha=0.7)\n",
    "plt.show()\n"
   ]
  },
  {
   "cell_type": "code",
   "execution_count": null,
   "metadata": {},
   "outputs": [],
   "source": []
  },
  {
   "cell_type": "code",
   "execution_count": 59,
   "metadata": {},
   "outputs": [
    {
     "data": {
      "image/png": "[encoded data removed]",
      "text/plain": [
       "<Figure size 800x500 with 1 Axes>"
      ]
     },
     "metadata": {},
     "output_type": "display_data"
    }
   ],
   "source": [
    "# Z-검정에서 사용한 정규 분포 및 Z-통계량 시각화\n",
    "x = np.linspace(-4, 4, 1000)\n",
    "y = stats.norm.pdf(x, 0, 1)  # 표준 정규 분포 (평균=0, 표준편차=1)\n",
    "\n",
    "plt.figure(figsize=(8, 5))\n",
    "plt.plot(x, y, color='black', label=\"Standard Normal Distribution\")\n",
    "plt.fill_between(x, y, where=(x < -1.96) | (x > 1.96), color='red', alpha=0.3, label=\"Rejection Region (α=0.05)\")\n",
    "plt.axvline(z_stat, color='blue', linestyle='dashed', linewidth=2, label=f\"Z-score: {z_stat:.2f}\")\n",
    "\n",
    "plt.title(\"Z-Test Visualization for Conversion Rate\")\n",
    "plt.xlabel(\"Z-Score\")\n",
    "plt.ylabel(\"Probability Density\")\n",
    "plt.legend()\n",
    "plt.grid()\n",
    "plt.show()"
   ]
  },
  {
   "cell_type": "markdown",
   "metadata": {},
   "source": [
    "### 2-1. TYPE A와 TYPE B -> Z-검정(비율 비교)\n",
    "- 귀무가설 : TYPE A 와 TYPE B의 유료 전환율 차이는 없다.  \n",
    "\n",
    "- 대립가설 : TYPE A 와 TYPE B의 유료 전환율 차이가 있다."
   ]
  },
  {
   "cell_type": "code",
   "execution_count": 60,
   "metadata": {},
   "outputs": [
    {
     "name": "stdout",
     "output_type": "stream",
     "text": [
      "------------------------------------------------------------\n",
      "TYPE A 전환율: 16.39%\n",
      "TYPE B 전환율: 39.61%\n",
      "------------------------------------------------------------\n",
      "=== Z-검정 결과 ===\n",
      "Z-통계량: -24.6282\n",
      "P-value: 0.000000\n",
      "TYPE A와 TYPE B의 첫 결제 전환율 차이가 통계적으로 유의하다 (귀무가설 기각)\n"
     ]
    }
   ],
   "source": [
    "#  TYPE A (무료 체험 후 첫 결제)\n",
    "type_A_converted = A_users_count  # TYPE A에서 첫 결제한 유저 수\n",
    "type_A_total = total_trial_users_A  # TYPE A 전체 무료 체험 유저 수\n",
    "type_A_conversion_rate = A_conversation_rate / 100  # 전환율\n",
    "\n",
    "#  TYPE B (무료 체험 후 첫 결제)\n",
    "type_B_converted = B_users_count  # TYPE B에서 첫 결제한 유저 수\n",
    "type_B_total = total_trial_users_B  # TYPE B 전체 무료 체험 유저 수\n",
    "type_B_conversion_rate = B_conversation_rate / 100  # 전환율\n",
    "\n",
    "#  Z-검정 수행 (두 비율 비교)\n",
    "count = np.array([type_A_converted, type_B_converted])  # 첫 결제한 유저 수\n",
    "nobs = np.array([type_A_total, type_B_total])  # 전체 무료 체험 유저 수\n",
    "z_stat, p_value = proportions_ztest(count, nobs)\n",
    "\n",
    "#  타입별 전환율\n",
    "print(\"-\" * 60)\n",
    "print(f\"TYPE A 전환율: {type_A_conversion_rate:.2%}\")\n",
    "print(f\"TYPE B 전환율: {type_B_conversion_rate:.2%}\")\n",
    "print(\"-\" * 60)\n",
    "\n",
    "#  결과 \n",
    "print(\"=== Z-검정 결과 ===\")\n",
    "print(f\"Z-통계량: {z_stat:.4f}\")\n",
    "print(f\"P-value: {p_value:.6f}\")\n",
    "\n",
    "#  유의 수준 0.05에서 결과 해석\n",
    "if p_value < 0.05:\n",
    "    print(\"TYPE A와 TYPE B의 첫 결제 전환율 차이가 통계적으로 유의하다 (귀무가설 기각)\")\n",
    "else:\n",
    "    print(\"TYPE A와 TYPE B의 첫 결제 전환율 차이가 통계적으로 유의하지 않다 (귀무가설 채택)\")\n",
    "\n"
   ]
  },
  {
   "cell_type": "markdown",
   "metadata": {},
   "source": [
    "#### <Z-검정 분석 결과>"
   ]
  },
  {
   "cell_type": "markdown",
   "metadata": {},
   "source": [
    "- 우려했던 표본 수 차이 극복\n",
    "    - TYPE A: 11,992명, TYPE B: 2,280명으로 TYPE A의 표본 크기가 훨씬 큼.    \n",
    "    \n",
    "    - 하지만 Z-검정은 표본 수가 크면 정규 근사(Normal Approximation)를 따르므로, 적절한 방법\n",
    "\n",
    "- Z-통계량: -24.2205 (음수는 TYPE A의 전환율이 TYPE B보다 낮음을 의미)      \n",
    "\n",
    "     -> 두 그룹간 차이가 크다(매우 큰 절대 값)    \n",
    "\n",
    "- TYPE A와 TYPE B의 첫 결제 전환율 차이는 통계적으로 유의미하다      \n",
    "\n",
    "- TYPE B가 첫 결제로의 전환에 있어 더 효과적인 무료 체험 모델일 가능성이 높음.    \n",
    "\n",
    "    (7일 무료 체험 후 자동으로 첫 결제로 넘어간다면 매우 가능성있는 결론 같음)"
   ]
  },
  {
   "cell_type": "markdown",
   "metadata": {},
   "source": [
    "### 2-2. TYPE A와 TYPE B 로지스틱 회귀 분석\n",
    "- Z-검정은 단순한 두 그룹 간 비율 차이를 비교    \n",
    "\n",
    "- 로지스틱 회귀분석은 A/B 타입이 첫 결제에 미치는 영향을 확률적으로 모델링하고, 오즈비(Odds Ratio)를 해석할 수 있음.    \n",
    "\n",
    "- TYPE별 효과를 조정된 모델에서 다시 평가하여 더 정확한 비교(맞지?)\n",
    "\n",
    "<가설>\n",
    "\n",
    "- 귀무가설 : TYPE A 와 TYPE B의 유료 전환율 차이는 없다.  \n",
    "\n",
    "- 대립가설 : TYPE A 와 TYPE B의 유료 전환율 차이가 있다.\n",
    "\n",
    "\n",
    "<모델 설명>  \n",
    "- 독립 변수(x) : A/B 타입(A = 0, B = 1)    \n",
    "\n",
    "- 종속 변수(y) : 첫 결제 여부 (0: 미결제, 1 : 결제)"
   ]
  },
  {
   "cell_type": "code",
   "execution_count": 61,
   "metadata": {},
   "outputs": [
    {
     "name": "stdout",
     "output_type": "stream",
     "text": [
      "Optimization terminated successfully.\n",
      "         Current function value: 0.479642\n",
      "         Iterations 6\n",
      "                           Logit Regression Results                           \n",
      "==============================================================================\n",
      "Dep. Variable:              converted   No. Observations:                14095\n",
      "Model:                          Logit   Df Residuals:                    14093\n",
      "Method:                           MLE   Df Model:                            1\n",
      "Date:                Thu, 13 Mar 2025   Pseudo R-squ.:                 0.03750\n",
      "Time:                        08:28:01   Log-Likelihood:                -6760.6\n",
      "converged:                       True   LL-Null:                       -7024.0\n",
      "Covariance Type:            nonrobust   LLR p-value:                1.395e-116\n",
      "==============================================================================\n",
      "                 coef    std err          z      P>|z|      [0.025      0.975]\n",
      "------------------------------------------------------------------------------\n",
      "const         -1.6298      0.025    -66.062      0.000      -1.678      -1.581\n",
      "trial_type     1.2081      0.051     23.708      0.000       1.108       1.308\n",
      "==============================================================================\n",
      "오즈비 (Odds Ratio): 3.3470\n",
      "TYPE A와 TYPE B의 첫 결제 전환율 차이가 통계적으로 유의하다 (귀무가설 기각)\n"
     ]
    }
   ],
   "source": [
    "import statsmodels.api as sm\n",
    "\n",
    "# 데이터프레임 생성\n",
    "AB_df = pd.DataFrame({\n",
    "    'user_id': list(range(total_trial_users_A + total_trial_users_B)),\n",
    "    'trial_type': ['A'] * total_trial_users_A + ['B'] * total_trial_users_B,  # A/B 타입\n",
    "    'converted': [1] * A_users_count + [0] * (total_trial_users_A - A_users_count) + \n",
    "                 [1] * B_users_count + [0] * (total_trial_users_B - B_users_count)  # 첫 결제 여부\n",
    "})\n",
    "\n",
    "# A/B 타입을 0과 1로 변환\n",
    "AB_df['trial_type'] = AB_df['trial_type'].map({'A': 0, 'B': 1})\n",
    "\n",
    "# 독립변수(타입), 종속변수(첫 결제 여부)\n",
    "X = sm.add_constant(AB_df['trial_type'])  # 상수 추가\n",
    "y = AB_df['converted']\n",
    "\n",
    "# 로지스틱 회귀 모델 적합\n",
    "logit_model = sm.Logit(y, X)\n",
    "result = logit_model.fit()\n",
    "\n",
    "# 결과 출력\n",
    "print(result.summary())\n",
    "\n",
    "# 해석\n",
    "odds_ratio = np.exp(result.params['trial_type'])  # 오즈비 계산\n",
    "print(f\"오즈비 (Odds Ratio): {odds_ratio:.4f}\")\n",
    "\n",
    "# 유의수준 판단\n",
    "if result.pvalues['trial_type'] < 0.05:\n",
    "    print(\"TYPE A와 TYPE B의 첫 결제 전환율 차이가 통계적으로 유의하다 (귀무가설 기각)\")\n",
    "else:\n",
    "    print(\"TYPE A와 TYPE B의 첫 결제 전환율 차이가 통계적으로 유의하지 않다 (귀무가설 채택)\")\n"
   ]
  },
  {
   "cell_type": "markdown",
   "metadata": {},
   "source": [
    "#### <로지스틱 회귀분석 분석 결과>"
   ]
  },
  {
   "cell_type": "markdown",
   "metadata": {},
   "source": [
    "회귀 계수는 로그 오즈의 변화를 나타냄 -> 계수가 클수록 해당 변수가 첫 결제에 더 큰 영향을 미침 \n",
    "\n",
    "- coef\n",
    "    - const(절편) : -1.6353\n",
    "        - 기준값(TYPE A일 때의 절편)  : TYPE A 유저의 첫 결제 확률(전환율) : 16.3%\n",
    "    - trial_type : 1.1617\n",
    "        - TYPE B 사용자는 TYPE A보다 첫 결제 로그 오즈가 1.1617 증가    \n",
    "\n",
    "    \n",
    "        (로그 오즈 확률로 변환 : 식으로 계산하면 TYPE B 사용자의 전환율 : 약 38.4%)  \n",
    "\n",
    "- 오즈비 : 3.2 => TYPE B의 유저가 TYPE A 유저보다 첫 결제를 할 확률이 약 3.2배 더 높음 \n",
    "\n",
    "    - 즉, TYPE B 유저가 TYPE A 유저에 비해 첫 결제할 확률이 증가함(유의미하게 높음)을 의미 -> 자동 결제면 강제 아닐까?\n",
    "    - TYPE B가 TYPE A보다 첫 결제를 유도하는데 더 효과적이다\n",
    "\n",
    "- 표준 오차(std err)\n",
    "    - const : 0.025 / trial_type : 0.050\n",
    "    - 표준 오차 작을수록 추정된 계수(coef)의 신뢰성이 높음\n",
    "    - trial_type의 표준오차 0.050이므로 계수 1.1617이 비교적 신뢰할 수 있는 값\n",
    "|\n",
    "- Z 값 : 계수가 0과 얼마나 차이나는지\n",
    "    - trial_type의 z값 23.396으로 매우 큼 -> type a/b의 전환율 차이 유의미\n",
    "\n",
    "결론 : type b가 type a보다 첫 결제를 유도하는데 효과적이다."
   ]
  },
  {
   "cell_type": "markdown",
   "metadata": {},
   "source": [
    "### 2-3. Bootstrapping Z-검정\n",
    "- A/B 타입의 표본 수가 다름 -> 작은 표본에 맞춰 리샘플링(bootstrapping)    \n",
    "\n",
    "- A/B 타입에서 각각 2000개씩 샘플링 -> 동일한 크기 데이터로 분석(편향 줄이기)    \n",
    "\n",
    "- Z-검정 : 두 타입의 유료 전환율 차이가 통계적으로 유의한지 평가"
   ]
  },
  {
   "cell_type": "code",
   "execution_count": 62,
   "metadata": {},
   "outputs": [
    {
     "name": "stdout",
     "output_type": "stream",
     "text": [
      "Bootstrapped Z-검정 결과: Z=-16.8758, P-value=0.000000\n"
     ]
    }
   ],
   "source": [
    "from sklearn.utils import resample\n",
    "\n",
    "# A/B 그룹에서 각각 2000개씩 샘플링 (작은 표본에 맞춤)\n",
    "sample_size = min(total_trial_users_A, total_trial_users_B)\n",
    "\n",
    "boot_A = resample(AB_df[AB_df['trial_type'] == 0], n_samples=sample_size, replace=True, random_state=42)\n",
    "boot_B = resample(AB_df[AB_df['trial_type'] == 1], n_samples=sample_size, replace=True, random_state=42)\n",
    "\n",
    "# 샘플링된 데이터로 Z-검정 수행\n",
    "count = np.array([boot_A['converted'].sum(), boot_B['converted'].sum()])\n",
    "nobs = np.array([len(boot_A), len(boot_B)])\n",
    "z_stat, p_value = proportions_ztest(count, nobs)\n",
    "\n",
    "# 결과 출력\n",
    "print(f\"Bootstrapped Z-검정 결과: Z={z_stat:.4f}, P-value={p_value:.6f}\")\n"
   ]
  },
  {
   "cell_type": "markdown",
   "metadata": {},
   "source": [
    "<결과 해석>\n",
    "- Z-값 -16.5753   \n",
    "    - Z-값이 매우 작음(음수) → TYPE A의 전환율이 TYPE B보다 유의하게 낮음을 의미    \n",
    "\n",
    "    - 일반적으로 |Z| > 1.96이면 유의하다고 판단하는데, -16.5753은 압도적으로 작음\n",
    "\n",
    "- P-value 0.000000\n",
    "    - P-value가 0에 가깝다 → 귀무가설 기각    \n",
    "    \n",
    "    - 즉, TYPE A와 TYPE B의 유료 전환율 차이는 유의미하다"
   ]
  },
  {
   "cell_type": "code",
   "execution_count": null,
   "metadata": {},
   "outputs": [],
   "source": []
  },
  {
   "cell_type": "code",
   "execution_count": null,
   "metadata": {},
   "outputs": [],
   "source": []
  },
  {
   "cell_type": "markdown",
   "metadata": {},
   "source": [
    "### 참고 :  TYPE A,B 베이지안 분석\n",
    "    - 신뢰 구간을 포함해 보다 확률적인 해석이 가능하다고 함"
   ]
  },
  {
   "cell_type": "code",
   "execution_count": 63,
   "metadata": {},
   "outputs": [
    {
     "data": {
      "image/png": "[encoded data removed]",
      "text/plain": [
       "<Figure size 1000x600 with 1 Axes>"
      ]
     },
     "metadata": {},
     "output_type": "display_data"
    },
    {
     "name": "stdout",
     "output_type": "stream",
     "text": [
      "TYPE A 평균 전환율 추정값: 0.1639\n",
      "TYPE B 평균 전환율 추정값: 0.3962\n",
      "TYPE B가 TYPE A보다 전환율이 높을 확률: 100.0000%\n"
     ]
    }
   ],
   "source": [
    "# A/B 테스트 데이터\n",
    "alpha_A = 1 + A_users_count  # 첫 결제 한 유저 수 + 베타 분포 초기값\n",
    "beta_A = 1 + (total_trial_users_A - A_users_count)  # 첫 결제X한 유저 수 + 베타 분포 초기값\n",
    "\n",
    "alpha_B = 1 + B_users_count\n",
    "beta_B = 1 + (total_trial_users_B - B_users_count)\n",
    "\n",
    "# 베타 분포에서 샘플링\n",
    "np.random.seed(42)\n",
    "samples_A = np.random.beta(alpha_A, beta_A, 100000)  # A 타입 전환율 샘플\n",
    "samples_B = np.random.beta(alpha_B, beta_B, 100000)  # B 타입 전환율 샘플\n",
    "\n",
    "# B가 A보다 높은 확률 계산 (P(B > A))\n",
    "prob_B_superior = np.mean(samples_B > samples_A)\n",
    "\n",
    "# 시각화\n",
    "plt.figure(figsize=(10, 6))\n",
    "plt.hist(samples_A, bins=100, alpha=0.5, label=\"TYPE A Conversion Rate\", color = palette[0], density=True)\n",
    "plt.hist(samples_B, bins=100, alpha=0.5, label=\"TYPE B Conversion Rate\", color= palette[1], density=True)\n",
    "plt.axvline(samples_A.mean(), color= palette[1], linestyle='dashed', linewidth=2)\n",
    "plt.axvline(samples_B.mean(), color= palette[3], linestyle='dashed', linewidth=2)\n",
    "plt.title(\"Comparison of Conversion Rates: TYPE A vs. TYPE B (Bayesian Approach)\") #TYPE A vs TYPE B 전환율 비교 (베이지안 접근)\n",
    "plt.xlabel(\"Conversion Rate\") # 전환율\n",
    "plt.ylabel(\"Density\") # 밀도\n",
    "plt.legend()\n",
    "plt.grid()\n",
    "plt.show()\n",
    "\n",
    "# 결과 출력\n",
    "print(f\"TYPE A 평균 전환율 추정값: {samples_A.mean():.4f}\")\n",
    "print(f\"TYPE B 평균 전환율 추정값: {samples_B.mean():.4f}\")\n",
    "print(f\"TYPE B가 TYPE A보다 전환율이 높을 확률: {prob_B_superior:.4%}\")\n"
   ]
  },
  {
   "cell_type": "code",
   "execution_count": 64,
   "metadata": {},
   "outputs": [
    {
     "name": "stdout",
     "output_type": "stream",
     "text": [
      "TYPE A 신뢰 구간: 0.1574 ~ 0.1706\n",
      "TYPE B 신뢰 구간: 0.3754 ~ 0.4171\n"
     ]
    }
   ],
   "source": [
    "ci_A = np.percentile(samples_A, [2.5, 97.5])  # TYPE A의 95% 신뢰 구간\n",
    "ci_B = np.percentile(samples_B, [2.5, 97.5])  # TYPE B의 95% 신뢰 구간\n",
    "\n",
    "print(f\"TYPE A 신뢰 구간: {ci_A[0]:.4f} ~ {ci_A[1]:.4f}\")\n",
    "print(f\"TYPE B 신뢰 구간: {ci_B[0]:.4f} ~ {ci_B[1]:.4f}\")"
   ]
  },
  {
   "cell_type": "markdown",
   "metadata": {},
   "source": [
    "- 신뢰구간 겹치지 않음 => TYPE B가 압도적으로 전환율이 높음"
   ]
  },
  {
   "cell_type": "markdown",
   "metadata": {},
   "source": [
    "#### <결과 해석>"
   ]
  },
  {
   "cell_type": "markdown",
   "metadata": {},
   "source": [
    "1. 베타 분포 정의\n",
    "    - alpha = 성공한 유저 수 + 1\n",
    "    - beta = 실패한 유저 수 + 1\n",
    "    - A/B의 전환율을 베타 분포를 이용해 모델링\n",
    "\n",
    "2. 100,000개 샘플링\n",
    "    - 베타 분포에서 np.random.beta(alpha, beta, 100000)을 통해 각각 샘플링하여 전환율 분포 추정.\n",
    "\n",
    "3. P(B >A) 계산\n",
    "    - B의 전환율 샘플 중 A보다 높은 비율을 계산하여 B가 A보다 유리할 확률을 추정\n",
    "\n",
    "4. 결과\n",
    " - TYPE A 평균 전환율 추정값: 16.32%    \n",
    "    - 베이지안 추론을 통해 도출된 TYPE A의 평균 전환율(결제 전환율)이 **16.32%**로 나타남.    \n",
    "\n",
    "    - 기존 분석(빈도주의 접근)에서 구한 **16.31%**과 일치하는 수준       \n",
    "\n",
    "    -  베이지안 방식으로도 유사한 추정 결과를 얻었음을 의미.\n",
    "\n",
    "- TYPE B 평균 전환율 추정값: 38.39%\n",
    "    - TYPE B의 평균 전환율은 **38.39%**로 추정됨    \n",
    "\n",
    "    - 기존 빈도주의 분석(38.38%)과 거의 일치하며, 베이지안 추론을 통해 TYPE B의 전환율이 확실히 더 높음을 확인.\n",
    "\n",
    "- TYPE B가 TYPE A보다 전환율이 높을 확률: 100.000%\n",
    "    - 베이지안 추론에서 **TYPE B가 TYPE A보다 전환율이 높을 확률이 100%**로 계산됨.    \n",
    "\n",
    "    - 이는 TYPE B의 전환율이 TYPE A보다 높다는 것이 사실상 확실하다는 의미.\n"
   ]
  },
  {
   "cell_type": "markdown",
   "metadata": {},
   "source": [
    "<베이지안 그래프 해석>\n",
    "- X축 (Conversion Rate, 전환율)\n",
    "    - 각 타입(A, B)의 전환율 분포를 나타냄    \n",
    "    \n",
    "    - TYPE A (파란색): 전환율이 0.15~0.17 사이에 집중되어 있음     \n",
    "\n",
    "    - TYPE B (보라색): 전환율이 0.35~0.40 사이에서 분포함\n",
    "\n",
    "- 히스토그램 (Density, 밀도)\n",
    "    - 각 히스토그램은 베이지안 추론을 통해 샘플링된 전환율 분포를 나타냄    \n",
    "\n",
    "    - TYPE B(보라색)의 전환율이 TYPE A(파란색)보다 훨씬 더 높은 값에 집중\n",
    "\n",
    "- 점선 (평균 전환율 위치)\n",
    "    - 파란 점선: TYPE A의 평균 전환율 (16.32%)    \n",
    "\n",
    "    - 보라 점선: TYPE B의 평균 전환율 (38.39%)    \n",
    "\n",
    "    - TYPE B의 평균 전환율이 TYPE A보다 훨씬 오른쪽에 위치, 즉 더 높은 전환율을 보임\n"
   ]
  },
  {
   "cell_type": "markdown",
   "metadata": {},
   "source": [
    "<추가적으로 하면 좋은 것들>\n",
    "1. 시간 효과 고려\n",
    "    - trial_period_length (11개월 vs 3개월) 조정하여 추가 분석 가능\n",
    "    - 선형 회귀 또는 혼합 모델 활용 가능\n",
    "\n",
    "2. 비용 분석 포함\n",
    "    - TYPE B가 전환율이 높더라도 **비용 대비 수익(Cost-Benefit Analysis)**을 고려해야 함.\n",
    "\n",
    "3. 추가 실험 설계\n",
    "    - TYPE A의 기간을 줄이거나 TYPE B의 기간을 늘려서 다시 실험."
   ]
  },
  {
   "cell_type": "code",
   "execution_count": null,
   "metadata": {},
   "outputs": [],
   "source": []
  },
  {
   "cell_type": "code",
   "execution_count": null,
   "metadata": {},
   "outputs": [],
   "source": []
  },
  {
   "cell_type": "code",
   "execution_count": null,
   "metadata": {},
   "outputs": [],
   "source": []
  },
  {
   "cell_type": "code",
   "execution_count": null,
   "metadata": {},
   "outputs": [],
   "source": []
  },
  {
   "cell_type": "code",
   "execution_count": null,
   "metadata": {},
   "outputs": [],
   "source": []
  },
  {
   "cell_type": "code",
   "execution_count": null,
   "metadata": {},
   "outputs": [],
   "source": []
  },
  {
   "cell_type": "code",
   "execution_count": null,
   "metadata": {},
   "outputs": [],
   "source": []
  },
  {
   "cell_type": "code",
   "execution_count": null,
   "metadata": {},
   "outputs": [],
   "source": []
  },
  {
   "cell_type": "code",
   "execution_count": null,
   "metadata": {},
   "outputs": [],
   "source": []
  },
  {
   "cell_type": "code",
   "execution_count": null,
   "metadata": {},
   "outputs": [],
   "source": []
  },
  {
   "cell_type": "code",
   "execution_count": null,
   "metadata": {},
   "outputs": [],
   "source": []
  },
  {
   "cell_type": "code",
   "execution_count": null,
   "metadata": {},
   "outputs": [],
   "source": []
  },
  {
   "cell_type": "code",
   "execution_count": null,
   "metadata": {},
   "outputs": [],
   "source": []
  },
  {
   "cell_type": "code",
   "execution_count": null,
   "metadata": {},
   "outputs": [],
   "source": []
  },
  {
   "cell_type": "code",
   "execution_count": null,
   "metadata": {},
   "outputs": [],
   "source": []
  },
  {
   "cell_type": "code",
   "execution_count": null,
   "metadata": {},
   "outputs": [],
   "source": []
  },
  {
   "cell_type": "code",
   "execution_count": null,
   "metadata": {},
   "outputs": [],
   "source": []
  },
  {
   "cell_type": "code",
   "execution_count": null,
   "metadata": {},
   "outputs": [],
   "source": []
  },
  {
   "cell_type": "code",
   "execution_count": null,
   "metadata": {},
   "outputs": [],
   "source": []
  },
  {
   "cell_type": "code",
   "execution_count": null,
   "metadata": {},
   "outputs": [],
   "source": []
  },
  {
   "cell_type": "code",
   "execution_count": null,
   "metadata": {},
   "outputs": [],
   "source": []
  },
  {
   "cell_type": "code",
   "execution_count": null,
   "metadata": {},
   "outputs": [],
   "source": []
  },
  {
   "cell_type": "code",
   "execution_count": null,
   "metadata": {},
   "outputs": [],
   "source": []
  },
  {
   "cell_type": "code",
   "execution_count": null,
   "metadata": {},
   "outputs": [],
   "source": []
  },
  {
   "cell_type": "code",
   "execution_count": null,
   "metadata": {},
   "outputs": [],
   "source": []
  },
  {
   "cell_type": "code",
   "execution_count": null,
   "metadata": {},
   "outputs": [],
   "source": []
  }
 ],
 "metadata": {
  "kernelspec": {
   "display_name": "Python 3",
   "language": "python",
   "name": "python3"
  },
  "language_info": {
   "codemirror_mode": {
    "name": "ipython",
    "version": 3
   },
   "file_extension": ".py",
   "mimetype": "text/x-python",
   "name": "python",
   "nbconvert_exporter": "python",
   "pygments_lexer": "ipython3",
   "version": "3.13.1"
  }
 },
 "nbformat": 4,
 "nbformat_minor": 2
}
